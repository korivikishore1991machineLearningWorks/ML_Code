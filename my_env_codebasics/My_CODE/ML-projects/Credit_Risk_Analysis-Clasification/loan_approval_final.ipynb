{
 "cells": [
  {
   "cell_type": "markdown",
   "id": "25a67c95",
   "metadata": {},
   "source": [
    "# Study of Probleam and Model decision  \n",
    "Estimation of loan approval based on persons personal attributes  \n",
    "Models Probleam is calssification  \n",
    "Performance Measures are AUC & ROC(False Negatives, False Positives, Precision, Recall, threshold, Confusion Matrix), Balance Accurancy  \n",
    "Useful Models include logistic Regression, Random Forest, SVM and KNN "
   ]
  },
  {
   "cell_type": "code",
   "execution_count": 116,
   "id": "329f90ac",
   "metadata": {},
   "outputs": [],
   "source": [
    "# Importing required framework libraries\n",
    "import pandas as pd\n",
    "import numpy as np\n",
    "import seaborn as sns\n",
    "import matplotlib.pyplot as plt\n",
    "%matplotlib inline\n",
    "\n",
    "# Import required DataPipeLine libraries\n",
    "from sklearn.compose import ColumnTransformer\n",
    "from sklearn.pipeline import Pipeline\n",
    "\n",
    "# Import processing and evaluation libraries\n",
    "import scipy.stats as stats #for qq plots\n",
    "from sklearn.model_selection import train_test_split, learning_curve, RandomizedSearchCV, GridSearchCV\n",
    "from sklearn.preprocessing import OneHotEncoder, OrdinalEncoder, StandardScaler, RobustScaler, MinMaxScaler\n",
    "from sklearn.experimental import enable_iterative_imputer\n",
    "from sklearn.impute import SimpleImputer, IterativeImputer, KNNImputer\n",
    "from sklearn.metrics import plot_confusion_matrix, plot_precision_recall_curve, confusion_matrix, classification_report\n",
    "\n",
    "# Import Model libraries\n",
    "from sklearn.linear_model import LogisticRegression, LinearRegression\n",
    "from sklearn.svm import SVC\n",
    "from sklearn.neighbors import KNeighborsClassifier, KNeighborsRegressor\n",
    "from sklearn.ensemble import RandomForestClassifier, RandomForestRegressor\n",
    "#from lightgbm import LGBMClassifier #Light Gradient Boosting Machine based on Decision Tree"
   ]
  },
  {
   "cell_type": "code",
   "execution_count": 82,
   "id": "aab3cdb8",
   "metadata": {},
   "outputs": [
    {
     "name": "stdout",
     "output_type": "stream",
     "text": [
      ">>Shape of Original Data:  (32581, 12)\n"
     ]
    },
    {
     "data": {
      "text/html": [
       "<div>\n",
       "<style scoped>\n",
       "    .dataframe tbody tr th:only-of-type {\n",
       "        vertical-align: middle;\n",
       "    }\n",
       "\n",
       "    .dataframe tbody tr th {\n",
       "        vertical-align: top;\n",
       "    }\n",
       "\n",
       "    .dataframe thead th {\n",
       "        text-align: right;\n",
       "    }\n",
       "</style>\n",
       "<table border=\"1\" class=\"dataframe\">\n",
       "  <thead>\n",
       "    <tr style=\"text-align: right;\">\n",
       "      <th></th>\n",
       "      <th>person_age</th>\n",
       "      <th>person_income</th>\n",
       "      <th>person_home_ownership</th>\n",
       "      <th>person_emp_length</th>\n",
       "      <th>loan_intent</th>\n",
       "      <th>loan_grade</th>\n",
       "      <th>loan_amnt</th>\n",
       "      <th>loan_int_rate</th>\n",
       "      <th>loan_status</th>\n",
       "      <th>loan_percent_income</th>\n",
       "      <th>cb_person_default_on_file</th>\n",
       "      <th>cb_person_cred_hist_length</th>\n",
       "    </tr>\n",
       "  </thead>\n",
       "  <tbody>\n",
       "    <tr>\n",
       "      <th>0</th>\n",
       "      <td>22</td>\n",
       "      <td>59000</td>\n",
       "      <td>RENT</td>\n",
       "      <td>123.0</td>\n",
       "      <td>PERSONAL</td>\n",
       "      <td>D</td>\n",
       "      <td>35000</td>\n",
       "      <td>16.02</td>\n",
       "      <td>1</td>\n",
       "      <td>0.59</td>\n",
       "      <td>Y</td>\n",
       "      <td>3</td>\n",
       "    </tr>\n",
       "    <tr>\n",
       "      <th>1</th>\n",
       "      <td>21</td>\n",
       "      <td>9600</td>\n",
       "      <td>OWN</td>\n",
       "      <td>5.0</td>\n",
       "      <td>EDUCATION</td>\n",
       "      <td>B</td>\n",
       "      <td>1000</td>\n",
       "      <td>11.14</td>\n",
       "      <td>0</td>\n",
       "      <td>0.10</td>\n",
       "      <td>N</td>\n",
       "      <td>2</td>\n",
       "    </tr>\n",
       "    <tr>\n",
       "      <th>2</th>\n",
       "      <td>25</td>\n",
       "      <td>9600</td>\n",
       "      <td>MORTGAGE</td>\n",
       "      <td>1.0</td>\n",
       "      <td>MEDICAL</td>\n",
       "      <td>C</td>\n",
       "      <td>5500</td>\n",
       "      <td>12.87</td>\n",
       "      <td>1</td>\n",
       "      <td>0.57</td>\n",
       "      <td>N</td>\n",
       "      <td>3</td>\n",
       "    </tr>\n",
       "    <tr>\n",
       "      <th>3</th>\n",
       "      <td>23</td>\n",
       "      <td>65500</td>\n",
       "      <td>RENT</td>\n",
       "      <td>4.0</td>\n",
       "      <td>MEDICAL</td>\n",
       "      <td>C</td>\n",
       "      <td>35000</td>\n",
       "      <td>15.23</td>\n",
       "      <td>1</td>\n",
       "      <td>0.53</td>\n",
       "      <td>N</td>\n",
       "      <td>2</td>\n",
       "    </tr>\n",
       "    <tr>\n",
       "      <th>4</th>\n",
       "      <td>24</td>\n",
       "      <td>54400</td>\n",
       "      <td>RENT</td>\n",
       "      <td>8.0</td>\n",
       "      <td>MEDICAL</td>\n",
       "      <td>C</td>\n",
       "      <td>35000</td>\n",
       "      <td>14.27</td>\n",
       "      <td>1</td>\n",
       "      <td>0.55</td>\n",
       "      <td>Y</td>\n",
       "      <td>4</td>\n",
       "    </tr>\n",
       "  </tbody>\n",
       "</table>\n",
       "</div>"
      ],
      "text/plain": [
       "   person_age  person_income person_home_ownership  person_emp_length  \\\n",
       "0          22          59000                  RENT              123.0   \n",
       "1          21           9600                   OWN                5.0   \n",
       "2          25           9600              MORTGAGE                1.0   \n",
       "3          23          65500                  RENT                4.0   \n",
       "4          24          54400                  RENT                8.0   \n",
       "\n",
       "  loan_intent loan_grade  loan_amnt  loan_int_rate  loan_status  \\\n",
       "0    PERSONAL          D      35000          16.02            1   \n",
       "1   EDUCATION          B       1000          11.14            0   \n",
       "2     MEDICAL          C       5500          12.87            1   \n",
       "3     MEDICAL          C      35000          15.23            1   \n",
       "4     MEDICAL          C      35000          14.27            1   \n",
       "\n",
       "   loan_percent_income cb_person_default_on_file  cb_person_cred_hist_length  \n",
       "0                 0.59                         Y                           3  \n",
       "1                 0.10                         N                           2  \n",
       "2                 0.57                         N                           3  \n",
       "3                 0.53                         N                           2  \n",
       "4                 0.55                         Y                           4  "
      ]
     },
     "execution_count": 82,
     "metadata": {},
     "output_type": "execute_result"
    }
   ],
   "source": [
    "# Read the Data\n",
    "df = pd.read_csv('credit_risk_dataset.csv')\n",
    "print(\">>Shape of Original Data: \",df.shape)\n",
    "df.head(5)"
   ]
  },
  {
   "cell_type": "code",
   "execution_count": 83,
   "id": "72e4cd5b",
   "metadata": {},
   "outputs": [
    {
     "name": "stdout",
     "output_type": "stream",
     "text": [
      "Raw DataSet Stats are:\n"
     ]
    },
    {
     "data": {
      "text/html": [
       "<div>\n",
       "<style scoped>\n",
       "    .dataframe tbody tr th:only-of-type {\n",
       "        vertical-align: middle;\n",
       "    }\n",
       "\n",
       "    .dataframe tbody tr th {\n",
       "        vertical-align: top;\n",
       "    }\n",
       "\n",
       "    .dataframe thead th {\n",
       "        text-align: right;\n",
       "    }\n",
       "</style>\n",
       "<table border=\"1\" class=\"dataframe\">\n",
       "  <thead>\n",
       "    <tr style=\"text-align: right;\">\n",
       "      <th></th>\n",
       "      <th>person_age</th>\n",
       "      <th>person_income</th>\n",
       "      <th>person_emp_length</th>\n",
       "      <th>loan_amnt</th>\n",
       "      <th>loan_int_rate</th>\n",
       "      <th>loan_status</th>\n",
       "      <th>loan_percent_income</th>\n",
       "      <th>cb_person_cred_hist_length</th>\n",
       "    </tr>\n",
       "  </thead>\n",
       "  <tbody>\n",
       "    <tr>\n",
       "      <th>count</th>\n",
       "      <td>32581.000000</td>\n",
       "      <td>3.258100e+04</td>\n",
       "      <td>31686.000000</td>\n",
       "      <td>32581.000000</td>\n",
       "      <td>29465.000000</td>\n",
       "      <td>32581.000000</td>\n",
       "      <td>32581.000000</td>\n",
       "      <td>32581.000000</td>\n",
       "    </tr>\n",
       "    <tr>\n",
       "      <th>mean</th>\n",
       "      <td>27.734600</td>\n",
       "      <td>6.607485e+04</td>\n",
       "      <td>4.789686</td>\n",
       "      <td>9589.371106</td>\n",
       "      <td>11.011695</td>\n",
       "      <td>0.218164</td>\n",
       "      <td>0.170203</td>\n",
       "      <td>5.804211</td>\n",
       "    </tr>\n",
       "    <tr>\n",
       "      <th>std</th>\n",
       "      <td>6.348078</td>\n",
       "      <td>6.198312e+04</td>\n",
       "      <td>4.142630</td>\n",
       "      <td>6322.086646</td>\n",
       "      <td>3.240459</td>\n",
       "      <td>0.413006</td>\n",
       "      <td>0.106782</td>\n",
       "      <td>4.055001</td>\n",
       "    </tr>\n",
       "    <tr>\n",
       "      <th>min</th>\n",
       "      <td>20.000000</td>\n",
       "      <td>4.000000e+03</td>\n",
       "      <td>0.000000</td>\n",
       "      <td>500.000000</td>\n",
       "      <td>5.420000</td>\n",
       "      <td>0.000000</td>\n",
       "      <td>0.000000</td>\n",
       "      <td>2.000000</td>\n",
       "    </tr>\n",
       "    <tr>\n",
       "      <th>25%</th>\n",
       "      <td>23.000000</td>\n",
       "      <td>3.850000e+04</td>\n",
       "      <td>2.000000</td>\n",
       "      <td>5000.000000</td>\n",
       "      <td>7.900000</td>\n",
       "      <td>0.000000</td>\n",
       "      <td>0.090000</td>\n",
       "      <td>3.000000</td>\n",
       "    </tr>\n",
       "    <tr>\n",
       "      <th>50%</th>\n",
       "      <td>26.000000</td>\n",
       "      <td>5.500000e+04</td>\n",
       "      <td>4.000000</td>\n",
       "      <td>8000.000000</td>\n",
       "      <td>10.990000</td>\n",
       "      <td>0.000000</td>\n",
       "      <td>0.150000</td>\n",
       "      <td>4.000000</td>\n",
       "    </tr>\n",
       "    <tr>\n",
       "      <th>75%</th>\n",
       "      <td>30.000000</td>\n",
       "      <td>7.920000e+04</td>\n",
       "      <td>7.000000</td>\n",
       "      <td>12200.000000</td>\n",
       "      <td>13.470000</td>\n",
       "      <td>0.000000</td>\n",
       "      <td>0.230000</td>\n",
       "      <td>8.000000</td>\n",
       "    </tr>\n",
       "    <tr>\n",
       "      <th>max</th>\n",
       "      <td>144.000000</td>\n",
       "      <td>6.000000e+06</td>\n",
       "      <td>123.000000</td>\n",
       "      <td>35000.000000</td>\n",
       "      <td>23.220000</td>\n",
       "      <td>1.000000</td>\n",
       "      <td>0.830000</td>\n",
       "      <td>30.000000</td>\n",
       "    </tr>\n",
       "  </tbody>\n",
       "</table>\n",
       "</div>"
      ],
      "text/plain": [
       "         person_age  person_income  person_emp_length     loan_amnt  \\\n",
       "count  32581.000000   3.258100e+04       31686.000000  32581.000000   \n",
       "mean      27.734600   6.607485e+04           4.789686   9589.371106   \n",
       "std        6.348078   6.198312e+04           4.142630   6322.086646   \n",
       "min       20.000000   4.000000e+03           0.000000    500.000000   \n",
       "25%       23.000000   3.850000e+04           2.000000   5000.000000   \n",
       "50%       26.000000   5.500000e+04           4.000000   8000.000000   \n",
       "75%       30.000000   7.920000e+04           7.000000  12200.000000   \n",
       "max      144.000000   6.000000e+06         123.000000  35000.000000   \n",
       "\n",
       "       loan_int_rate   loan_status  loan_percent_income  \\\n",
       "count   29465.000000  32581.000000         32581.000000   \n",
       "mean       11.011695      0.218164             0.170203   \n",
       "std         3.240459      0.413006             0.106782   \n",
       "min         5.420000      0.000000             0.000000   \n",
       "25%         7.900000      0.000000             0.090000   \n",
       "50%        10.990000      0.000000             0.150000   \n",
       "75%        13.470000      0.000000             0.230000   \n",
       "max        23.220000      1.000000             0.830000   \n",
       "\n",
       "       cb_person_cred_hist_length  \n",
       "count                32581.000000  \n",
       "mean                     5.804211  \n",
       "std                      4.055001  \n",
       "min                      2.000000  \n",
       "25%                      3.000000  \n",
       "50%                      4.000000  \n",
       "75%                      8.000000  \n",
       "max                     30.000000  "
      ]
     },
     "metadata": {},
     "output_type": "display_data"
    },
    {
     "name": "stdout",
     "output_type": "stream",
     "text": [
      ">>Number of Duplicate entries in the dataset:  165 \n",
      "\n",
      ">>Unique values in a column  person_age ---> 58\n",
      "dtype of column  person_age ---> int64\n",
      "\n",
      ">>Unique values in a column  person_income ---> 4295\n",
      "dtype of column  person_income ---> int64\n",
      "\n",
      ">>Unique values in a column  person_home_ownership ---> 4\n",
      "dtype of column  person_home_ownership ---> object\n",
      "RENT        50.477272\n",
      "MORTGAGE    41.263313\n",
      "OWN          7.931003\n",
      "OTHER        0.328412\n",
      "Name: person_home_ownership, dtype: float64\n",
      "\n",
      ">>Unique values in a column  person_emp_length ---> 36\n",
      "dtype of column  person_emp_length ---> float64\n",
      "\n",
      ">>Unique values in a column  loan_intent ---> 6\n",
      "dtype of column  loan_intent ---> object\n",
      "EDUCATION            19.806022\n",
      "MEDICAL              18.633559\n",
      "VENTURE              17.553175\n",
      "PERSONAL             16.945459\n",
      "DEBTCONSOLIDATION    15.997053\n",
      "HOMEIMPROVEMENT      11.064731\n",
      "Name: loan_intent, dtype: float64\n",
      "\n",
      ">>Unique values in a column  loan_grade ---> 7\n",
      "dtype of column  loan_grade ---> object\n",
      "A    33.077561\n",
      "B    32.076977\n",
      "C    19.821368\n",
      "D    11.129186\n",
      "E     2.958780\n",
      "F     0.739695\n",
      "G     0.196434\n",
      "Name: loan_grade, dtype: float64\n",
      "\n",
      ">>Unique values in a column  loan_amnt ---> 753\n",
      "dtype of column  loan_amnt ---> int64\n",
      "\n",
      ">>Unique values in a column  loan_int_rate ---> 348\n",
      "dtype of column  loan_int_rate ---> float64\n",
      "\n",
      ">>Unique values in a column  loan_status ---> 2\n",
      "dtype of column  loan_status ---> int64\n",
      "0    78.183604\n",
      "1    21.816396\n",
      "Name: loan_status, dtype: float64\n",
      "\n",
      ">>Unique values in a column  loan_percent_income ---> 77\n",
      "dtype of column  loan_percent_income ---> float64\n",
      "\n",
      ">>Unique values in a column  cb_person_default_on_file ---> 2\n",
      "dtype of column  cb_person_default_on_file ---> object\n",
      "N    82.367024\n",
      "Y    17.632976\n",
      "Name: cb_person_default_on_file, dtype: float64\n",
      "\n",
      ">>Unique values in a column  cb_person_cred_hist_length ---> 29\n",
      "dtype of column  cb_person_cred_hist_length ---> int64\n",
      "\n"
     ]
    }
   ],
   "source": [
    "## Description of the DataSet\n",
    "print(\"Raw DataSet Stats are:\",)\n",
    "display(df.describe())\n",
    "\n",
    "## Check for any duplicate entries in the dataset\n",
    "print(\">>Number of Duplicate entries in the dataset: \",len(df[df.duplicated()]), \"\\n\")\n",
    "\n",
    "## Check for Sample and count of Unique values\n",
    "for col in df:\n",
    "    print(\">>Unique values in a column \",col, '--->', df[col].nunique())\n",
    "    print(\"dtype of column \",col, '--->', df[col].dtype)\n",
    "    if df[col].nunique()<20:\n",
    "        print(df[col].value_counts(normalize=True)*100)\n",
    "    print()"
   ]
  },
  {
   "cell_type": "markdown",
   "id": "cf3577a7",
   "metadata": {},
   "source": [
    "## Elimination of empty Target Data"
   ]
  },
  {
   "cell_type": "code",
   "execution_count": 84,
   "id": "ae76dbf1",
   "metadata": {},
   "outputs": [],
   "source": [
    "## Handeling missing values in Target via droping the null rows for loan_status column\n",
    "df = df[df['loan_status'].notnull()]"
   ]
  },
  {
   "cell_type": "markdown",
   "id": "cef47bf7",
   "metadata": {},
   "source": [
    "# "
   ]
  },
  {
   "cell_type": "markdown",
   "id": "0b67b568",
   "metadata": {},
   "source": [
    "# Train Test split  \n",
    "use stratify and shuffel for preserving and proper distribution of data  "
   ]
  },
  {
   "cell_type": "code",
   "execution_count": 85,
   "id": "e0aab384",
   "metadata": {},
   "outputs": [],
   "source": [
    "# Train Test split of Data for generalised error with stratify and shuffel to maintain the distribution quality\n",
    "X, X_test, y, y_test = train_test_split(df.drop('loan_status', axis=1), df['loan_status'],\n",
    "                                        random_state=0,  test_size=0.2, stratify=df['loan_status'],\n",
    "                                        shuffle=True)"
   ]
  },
  {
   "cell_type": "code",
   "execution_count": 86,
   "id": "bd77a838",
   "metadata": {},
   "outputs": [
    {
     "name": "stdout",
     "output_type": "stream",
     "text": [
      "Normalized df data: \n",
      " 0    0.781836\n",
      "1    0.218164\n",
      "Name: loan_status, dtype: float64\n",
      "Normalized Train Split: \n",
      " 0    0.781845\n",
      "1    0.218155\n",
      "Name: loan_status, dtype: float64\n",
      "Normalized Train Split: \n",
      " 0    0.781801\n",
      "1    0.218199\n",
      "Name: loan_status, dtype: float64\n"
     ]
    }
   ],
   "source": [
    "# Check Splits for Distributions in the Train and Test Data with Respect to Original data\n",
    "print(\"Normalized df data: \\n\",df['loan_status'].value_counts(normalize=True))\n",
    "print(\"Normalized Train Split: \\n\",y.value_counts(normalize=True))\n",
    "print(\"Normalized Train Split: \\n\",y_test.value_counts(normalize=True))"
   ]
  },
  {
   "cell_type": "markdown",
   "id": "881ee4f3",
   "metadata": {},
   "source": [
    "## Use lable encdoing to encode values in the target if neccessary"
   ]
  },
  {
   "cell_type": "markdown",
   "id": "a80a5147",
   "metadata": {},
   "source": [
    "# Data Prerpocessing  \n",
    "Drop any duplicates in the dataset to avoid overfitting  \n",
    "Fill any missing values in the catogorical varibales. #Not Done  \n",
    "Do encoding if needed for catogorical variables. #Not Done  \n",
    "Data Preprocessing for eliminating obiviously false data  \n",
    "Missing Data handling using best guess and KNN(or alternativly Iterative imputer). #Not Done      \n",
    "Outlier handeling using IQR     \n",
    "Feature Selection using Variance threshold and Correlation matrix. #Not Done  \n",
    "Convertion of Catogorical to numerical using One-Hot and Ordinal encodings  \n",
    "Develop the pre-processing model to fit and transform the test data also based on estimates from the training data  \n",
    "No Additional steps for Random Forest  \n",
    "Future transformation using log and scaling using Standarzation for logistic and SVM   \n",
    "Scale the data using Min_Max for KNN "
   ]
  },
  {
   "cell_type": "markdown",
   "id": "3e8d4fdb",
   "metadata": {},
   "source": [
    "## Feature Selection via Business knoledge"
   ]
  },
  {
   "cell_type": "code",
   "execution_count": 87,
   "id": "72a6f882",
   "metadata": {},
   "outputs": [],
   "source": [
    "## from the business it was identified that loan_percent_income was based on person_income and loan_amnt, making loan_percent_income a dependent variable which should be removed\n",
    "X.drop('loan_percent_income', axis=1, inplace=True)\n",
    "#display(X)\n",
    "\n",
    "# Update y matrix based X\n",
    "## since we've removed some data from X, we need to pass on these updations to y as well, as y doesn't know some of its corresponding X's have been deleted.\n",
    "y = y[X.index]\n",
    "\n",
    "\n",
    "###########################Repeat the same for Test Data########################################################################\n",
    "X_test.drop('loan_percent_income', axis=1, inplace=True)\n",
    "#display(X_test)\n",
    "y_test = y_test[X_test.index]"
   ]
  },
  {
   "cell_type": "markdown",
   "id": "e25905e0",
   "metadata": {},
   "source": [
    "## Elimination of Duplicate Data"
   ]
  },
  {
   "cell_type": "code",
   "execution_count": 88,
   "id": "6af65c4f",
   "metadata": {},
   "outputs": [],
   "source": [
    "# Elimination of Duplicate Data in Training data\n",
    "X.drop_duplicates(inplace=True)\n",
    "#display(X)\n",
    "\n",
    "# Update y matrix based X\n",
    "## since we've removed some data from X, we need to pass on these updations to y as well, as y doesn't know some of its corresponding X's have been deleted.\n",
    "y = y[X.index]\n",
    "\n",
    "\n",
    "###########################Repeat the same for Test Data########################################################################\n",
    "X_test.drop_duplicates(inplace=True)\n",
    "#display(X_test)\n",
    "y_test = y_test[X_test.index]"
   ]
  },
  {
   "cell_type": "markdown",
   "id": "99b3b772",
   "metadata": {},
   "source": [
    "## Elimination of Null valued Rows for certain columns via Business Knowledge"
   ]
  },
  {
   "cell_type": "code",
   "execution_count": 89,
   "id": "658aa1ed",
   "metadata": {},
   "outputs": [],
   "source": [
    "## Handeling missing value via droping the null rows for cb_person_default_on_file column\n",
    "X = X[X['cb_person_default_on_file'].notnull()]\n",
    "# Update y matrix based X\n",
    "## since we've removed some data from X, we need to pass on these updations to y as well, as y doesn't know some of its corresponding X's have been deleted.\n",
    "y = y[X.index]\n",
    "\n",
    "\n",
    "###########################Repeat the same for Test Data########################################################################\n",
    "X_test=X_test[X_test['cb_person_default_on_file'].notnull()]\n",
    "#display(X_test)\n",
    "y_test = y_test[X_test.index]"
   ]
  },
  {
   "cell_type": "markdown",
   "id": "6e679cd9",
   "metadata": {},
   "source": [
    "## Outlier Elimination based on Business Knowledge"
   ]
  },
  {
   "cell_type": "code",
   "execution_count": 90,
   "id": "78e7c8cd",
   "metadata": {},
   "outputs": [],
   "source": [
    "# Elimination of Outlier Based on Domain knowledge\n",
    "X = X[X['person_age']<80]\n",
    "X = X[(X['person_emp_length']<66) | (X['person_emp_length'].isna())]\n",
    "y = y[X.index]\n",
    "\n",
    "\n",
    "\n",
    "###########################Repeat the same for Test Data########################################################################\n",
    "X_test = X_test[X_test['person_age']<80]\n",
    "X_test = X_test[(X_test['person_emp_length']<66) | (X_test['person_emp_length'].isna())]\n",
    "y_test = y_test[X_test.index]"
   ]
  },
  {
   "cell_type": "markdown",
   "id": "11724cef",
   "metadata": {},
   "source": [
    "## Outlier Elimination based on IQR"
   ]
  },
  {
   "cell_type": "code",
   "execution_count": 91,
   "id": "6405fe6a",
   "metadata": {},
   "outputs": [
    {
     "name": "stdout",
     "output_type": "stream",
     "text": [
      ">>Numerical Columns in the Data: \n",
      " ['person_age', 'person_income', 'person_emp_length', 'loan_amnt', 'loan_int_rate', 'cb_person_cred_hist_length']\n",
      ">>Catogorical Columns are: \n",
      " ['person_home_ownership', 'loan_intent', 'loan_grade', 'cb_person_default_on_file']\n"
     ]
    }
   ],
   "source": [
    "num_cols = [col for col in X.columns if X[col].dtypes!='O']\n",
    "print(\">>Numerical Columns in the Data: \\n\",num_cols)\n",
    "cat_cols = [col for col in X if X[col].dtypes == 'O']\n",
    "print(\">>Catogorical Columns are: \\n\",cat_cols)"
   ]
  },
  {
   "cell_type": "code",
   "execution_count": 92,
   "id": "a3f71118",
   "metadata": {},
   "outputs": [
    {
     "name": "stdout",
     "output_type": "stream",
     "text": [
      ">>numerical columns in analysis:  ['person_age', 'person_income', 'person_emp_length', 'loan_amnt', 'loan_int_rate', 'cb_person_cred_hist_length']\n"
     ]
    }
   ],
   "source": [
    "print(\">>numerical columns in analysis: \", num_cols)\n",
    "outlier_Dict = dict()\n",
    "for col in num_cols:\n",
    "    X_min = X[col].min()\n",
    "    X_max = X[col].max()\n",
    "    median = X[col].median()\n",
    "    q1 = X[col].quantile(0.25)\n",
    "    q3 = X[col].quantile(0.75)\n",
    "    iqr = q3 - q1\n",
    "    upper_limit = q3 + 1.5 * iqr\n",
    "    lower_limit = q1 - 1.5 * iqr\n",
    "    outlier_Dict[col] = {'25quantile':q1, '75quantile':q3, \n",
    "                         'iqr':iqr, 'min': X_min, 'max':X_max, 'median':median, \n",
    "                         'lower_limit':lower_limit, 'upper_limit':upper_limit}\n",
    "    \n",
    "#import json\n",
    "#print(\">>Outlier IQR results:\\n\",json.dumps(outlier_Dict,sort_keys=False, indent=4, default=str))"
   ]
  },
  {
   "cell_type": "code",
   "execution_count": 93,
   "id": "59690282",
   "metadata": {},
   "outputs": [],
   "source": [
    "## Removal of Outliers based on IQR outliers for both Train and Test Data\n",
    "for column in outlier_Dict:\n",
    "    lower_limit =outlier_Dict[column]['lower_limit']\n",
    "    upper_limit =outlier_Dict[column]['upper_limit']\n",
    "    X = X[((X[column]>lower_limit)&(X[column]<upper_limit))| (X[column].isna())]\n",
    "    X_test = X_test[((X_test[column]>lower_limit)&(X_test[column]<upper_limit))| (X_test[column].isna())]\n",
    "    \n",
    "\n",
    "# Updating the Targets using the index from feature matrix\n",
    "y = y[X.index]\n",
    "y_test = y_test[X_test.index]"
   ]
  },
  {
   "cell_type": "markdown",
   "id": "5660b072",
   "metadata": {},
   "source": [
    "## Encoding via Column Transformer and Pipeline"
   ]
  },
  {
   "cell_type": "code",
   "execution_count": 94,
   "id": "064d5012",
   "metadata": {},
   "outputs": [
    {
     "name": "stdout",
     "output_type": "stream",
     "text": [
      "(21900, 10)\n",
      "(21900,)\n",
      "(5515, 10)\n",
      "(5515,)\n"
     ]
    }
   ],
   "source": [
    "#Check for DataSets Shape\n",
    "print(X.shape)\n",
    "print(y.shape)\n",
    "print(X_test.shape)\n",
    "print(y_test.shape)"
   ]
  },
  {
   "cell_type": "code",
   "execution_count": 95,
   "id": "1687583a",
   "metadata": {},
   "outputs": [
    {
     "name": "stdout",
     "output_type": "stream",
     "text": [
      "Null values in the Training feature: \n"
     ]
    },
    {
     "data": {
      "text/plain": [
       "person_age                       0\n",
       "person_income                    0\n",
       "person_home_ownership            0\n",
       "person_emp_length              669\n",
       "loan_intent                      0\n",
       "loan_grade                       0\n",
       "loan_amnt                        0\n",
       "loan_int_rate                 2074\n",
       "cb_person_default_on_file        0\n",
       "cb_person_cred_hist_length       0\n",
       "dtype: int64"
      ]
     },
     "metadata": {},
     "output_type": "display_data"
    },
    {
     "name": "stdout",
     "output_type": "stream",
     "text": [
      "Null values in the Test feature: \n"
     ]
    },
    {
     "data": {
      "text/plain": [
       "person_age                      0\n",
       "person_income                   0\n",
       "person_home_ownership           0\n",
       "person_emp_length             151\n",
       "loan_intent                     0\n",
       "loan_grade                      0\n",
       "loan_amnt                       0\n",
       "loan_int_rate                 525\n",
       "cb_person_default_on_file       0\n",
       "cb_person_cred_hist_length      0\n",
       "dtype: int64"
      ]
     },
     "metadata": {},
     "output_type": "display_data"
    },
    {
     "name": "stdout",
     "output_type": "stream",
     "text": [
      "Null values in the Training feature: \n"
     ]
    },
    {
     "data": {
      "text/plain": [
       "0"
      ]
     },
     "metadata": {},
     "output_type": "display_data"
    },
    {
     "name": "stdout",
     "output_type": "stream",
     "text": [
      "Null values in the Test feature: \n"
     ]
    },
    {
     "data": {
      "text/plain": [
       "0"
      ]
     },
     "metadata": {},
     "output_type": "display_data"
    }
   ],
   "source": [
    "#Check for null values in the Train and Test Data\n",
    "print(\"Null values in the Training feature: \")\n",
    "display(X.isnull().sum())\n",
    "print(\"Null values in the Test feature: \")\n",
    "display(X_test.isnull().sum())\n",
    "\n",
    "#Check for null values in the Target\n",
    "print(\"Null values in the Training feature: \")\n",
    "display(y.isnull().sum())\n",
    "print(\"Null values in the Test feature: \")\n",
    "display(y_test.isnull().sum())"
   ]
  },
  {
   "cell_type": "code",
   "execution_count": 96,
   "id": "e435f97f",
   "metadata": {},
   "outputs": [],
   "source": [
    "# Specification of Pipelines for DataPreProcessing\n",
    "\n",
    "\n",
    "# Ordinal Encoding for person_home_ownership and cb_person_default_on_file for Catogorical Ordinal Variables (lable encoder is for Target)\n",
    "## cols_to_be_OE\n",
    "col_catO = ['person_home_ownership', 'cb_person_default_on_file']\n",
    "## Ordinal Encoder for person_home_ownership\n",
    "person_home_ownership_unique =['OTHER','RENT','MORTGAGE','OWN'] #In ascending order\n",
    "## Ordinal Encoder for cb_person_default_on_file\n",
    "cb_person_default_on_file_unique =['Y','N'] #In ascending order\n",
    "## Handeling missing values with best guesses for person_home_ownership\n",
    "pp_catO = Pipeline([\n",
    "    ('col_catO', SimpleImputer(strategy='constant', add_indicator=True, fill_value='OTHER')),\n",
    "    ('catO', OrdinalEncoder(categories=[person_home_ownership_unique, cb_person_default_on_file_unique]))\n",
    "])\n",
    "\n",
    "\n",
    "\n",
    "# One hot Encoding for loan_intent and loan_grade for Catogorical Nominal Variables\n",
    "## cols_to_be_OE\n",
    "col_catN = ['loan_intent', 'loan_grade']\n",
    "pp_catN = Pipeline([\n",
    "    ('col_catN', SimpleImputer(strategy='constant', add_indicator=False, fill_value='missing')),\n",
    "    ('catN', OneHotEncoder(sparse=False, handle_unknown='ignore'))\n",
    "])"
   ]
  },
  {
   "cell_type": "code",
   "execution_count": 97,
   "id": "56eb0289",
   "metadata": {},
   "outputs": [],
   "source": [
    "# Specification of Column Transformer for DataPreProcessing\n",
    "\n",
    "ct_encoder = ColumnTransformer([\n",
    "    ('pp_catO', pp_catO, col_catO),\n",
    "    ('pp_catN', pp_catN, col_catN)\n",
    "], remainder='drop')"
   ]
  },
  {
   "cell_type": "code",
   "execution_count": 98,
   "id": "2f57cd9a",
   "metadata": {},
   "outputs": [],
   "source": [
    "encoder = ct_encoder.fit(X)\n",
    "X_encoded = encoder.transform(X)\n",
    "X_test_encoded = encoder.transform(X_test)"
   ]
  },
  {
   "cell_type": "code",
   "execution_count": 99,
   "id": "fb688906",
   "metadata": {},
   "outputs": [],
   "source": [
    "# Check the encoded column transformer values \n",
    "#for col in pd.DataFrame(X_encoded):\n",
    "#    print(\">>Unique values in a column \",col, '--->', pd.DataFrame(X_encoded)[col].nunique())\n",
    "#    print(\"dtype of column \",col, '--->', pd.DataFrame(X_encoded)[col].dtype)\n",
    "#    if pd.DataFrame(X_encoded)[col].nunique()<20:\n",
    "#        print(pd.DataFrame(X_encoded)[col].value_counts(normalize=True)*100)\n",
    "#    print()"
   ]
  },
  {
   "cell_type": "code",
   "execution_count": 100,
   "id": "64524ae8",
   "metadata": {},
   "outputs": [],
   "source": [
    "#print(\">>Encoded One hot Encoder Column name: \",ct_encoder.named_transformers_['pp_catN'].named_steps['catN'].get_feature_names())\n",
    "import copy\n",
    "encoded_columns=copy.deepcopy(col_catO)\n",
    "encoded_columns.extend(ct_encoder.named_transformers_['pp_catN'].named_steps['catN'].get_feature_names())\n",
    "#print(\">>Total encoded Ordinal and Nominal Columns\",encoded_columns) # columns to be used for the encoded Array results\n",
    "#pd.DataFrame(X_encoded, columns=encoded_columns)"
   ]
  },
  {
   "cell_type": "code",
   "execution_count": 101,
   "id": "b97a84fd",
   "metadata": {},
   "outputs": [],
   "source": [
    "## Total number of encoded columns\n",
    "#col_catO+col_catN\n",
    "\n",
    "## Drop the original encoded columns from the Tarining and Testing data\n",
    "X.drop(col_catO+col_catN, axis=1, inplace=True)\n",
    "X_test.drop(col_catO+col_catN, axis=1, inplace=True)"
   ]
  },
  {
   "cell_type": "code",
   "execution_count": 102,
   "id": "13ff2042",
   "metadata": {},
   "outputs": [],
   "source": [
    "## append the encoded columns to the training Data\n",
    "X[encoded_columns]=X_encoded\n",
    "X_test[encoded_columns]=X_test_encoded"
   ]
  },
  {
   "cell_type": "markdown",
   "id": "32419fba",
   "metadata": {},
   "source": [
    "## Scaling and Imputing via Column Transformer and Pipeline"
   ]
  },
  {
   "cell_type": "code",
   "execution_count": 103,
   "id": "e4285448",
   "metadata": {},
   "outputs": [
    {
     "name": "stdout",
     "output_type": "stream",
     "text": [
      "(21900, 21)\n",
      "(21900,)\n",
      "(5515, 21)\n",
      "(5515,)\n"
     ]
    }
   ],
   "source": [
    "## New shape of DataSets ==>10-4+15(Total_Columns-Encoded_columns+New_Encoded_Column_Name)\n",
    "print(X.shape)\n",
    "print(y.shape)\n",
    "print(X_test.shape)\n",
    "print(y_test.shape)\n"
   ]
  },
  {
   "cell_type": "code",
   "execution_count": 104,
   "id": "8b000252",
   "metadata": {},
   "outputs": [
    {
     "name": "stdout",
     "output_type": "stream",
     "text": [
      "Null values in the Training feature: \n"
     ]
    },
    {
     "data": {
      "text/plain": [
       "person_age                       0\n",
       "person_income                    0\n",
       "person_emp_length              669\n",
       "loan_amnt                        0\n",
       "loan_int_rate                 2074\n",
       "cb_person_cred_hist_length       0\n",
       "person_home_ownership            0\n",
       "cb_person_default_on_file        0\n",
       "x0_DEBTCONSOLIDATION             0\n",
       "x0_EDUCATION                     0\n",
       "x0_HOMEIMPROVEMENT               0\n",
       "x0_MEDICAL                       0\n",
       "x0_PERSONAL                      0\n",
       "x0_VENTURE                       0\n",
       "x1_A                             0\n",
       "x1_B                             0\n",
       "x1_C                             0\n",
       "x1_D                             0\n",
       "x1_E                             0\n",
       "x1_F                             0\n",
       "x1_G                             0\n",
       "dtype: int64"
      ]
     },
     "metadata": {},
     "output_type": "display_data"
    },
    {
     "name": "stdout",
     "output_type": "stream",
     "text": [
      "Null values in the Test feature: \n"
     ]
    },
    {
     "data": {
      "text/plain": [
       "person_age                      0\n",
       "person_income                   0\n",
       "person_emp_length             151\n",
       "loan_amnt                       0\n",
       "loan_int_rate                 525\n",
       "cb_person_cred_hist_length      0\n",
       "person_home_ownership           0\n",
       "cb_person_default_on_file       0\n",
       "x0_DEBTCONSOLIDATION            0\n",
       "x0_EDUCATION                    0\n",
       "x0_HOMEIMPROVEMENT              0\n",
       "x0_MEDICAL                      0\n",
       "x0_PERSONAL                     0\n",
       "x0_VENTURE                      0\n",
       "x1_A                            0\n",
       "x1_B                            0\n",
       "x1_C                            0\n",
       "x1_D                            0\n",
       "x1_E                            0\n",
       "x1_F                            0\n",
       "x1_G                            0\n",
       "dtype: int64"
      ]
     },
     "metadata": {},
     "output_type": "display_data"
    }
   ],
   "source": [
    "#Check for null values in the Train and Test Data\n",
    "print(\"Null values in the Training feature: \")\n",
    "display(X.isnull().sum())\n",
    "print(\"Null values in the Test feature: \")\n",
    "display(X_test.isnull().sum())"
   ]
  },
  {
   "cell_type": "code",
   "execution_count": 105,
   "id": "935566e8",
   "metadata": {},
   "outputs": [],
   "source": [
    "# Specify chained transformations using Pipeline\n",
    "## multiple estimators can be used in the imputer like impute__estimator': [LinearRegression(), RandomForestRegressor(random_state=0), KNeighborsRegressor()] by default its BayesianRidge\n",
    "pp_impu_sca = Pipeline([\n",
    "    ('scaler', MinMaxScaler((0,1))),\n",
    "    ('num_imp', IterativeImputer())\n",
    "])"
   ]
  },
  {
   "cell_type": "code",
   "execution_count": 106,
   "id": "da61c8df",
   "metadata": {},
   "outputs": [],
   "source": [
    "# Specification of Column Transformer for Imputing and Scaling\n",
    "ct_impu_sca = ColumnTransformer([\n",
    "    ('pp_impu_sca', pp_impu_sca, X.columns)\n",
    "], remainder='drop')\n",
    "\n",
    "# Transformation of Train and Test DataSet\n",
    "encoder_impu_sca = ct_impu_sca.fit(X)\n",
    "X = pd.DataFrame(encoder_impu_sca.transform(X), columns=X.columns)\n",
    "X_test = pd.DataFrame(encoder_impu_sca.transform(X_test), columns=X.columns)\n",
    "\n",
    "#Alternatively can use a new pipeline with columnTransformer and model like below\n",
    "#grid = {\n",
    "#    RandomForestClassifier(random_state=0, n_jobs=-1, class_weight='balanced'):\n",
    "#    {'model__n_estimators':[300,400,500],\n",
    "#     'coltf__num_pipe__impute__estimator': [LinearRegression(), RandomForestRegressor(random_state=0),\n",
    "#                                        KNeighborsRegressor()]}\n",
    "#} #specification of parameters for ColumnTransformer and Model\n",
    "#full_df = pd.DataFrame()\n",
    "#best_algos = {}\n",
    "#\n",
    "#for clf, param in grid.items():\n",
    "#    pipe = Pipeline([\n",
    "#    ('coltf', ct),\n",
    "#    ('model', clf)\n",
    "#]) #new pipeline with columnTransformer and Model to combine the operations\n",
    "#\n",
    "#    gs = RandomizedSearchCV(estimator=pipe, param_distributions=param, scoring='accuracy',\n",
    "#                            n_jobs=-1, verbose=3, n_iter=4, random_state=0)\n",
    "#    \n",
    "#    gs.fit(X, y)\n",
    "#    \n",
    "#    all_res = pd.DataFrame(gs.cv_results_)\n",
    "#\n",
    "#    temp = all_res.loc[:, ['params', 'mean_test_score']]\n",
    "#    algo_name = str(clf).split('(')[0]\n",
    "#    temp['algo'] = algo_name\n",
    "#    \n",
    "#    full_df = pd.concat([full_df, temp], ignore_index=True)\n",
    "#    best_algos[algo_name] = gs.best_estimator_"
   ]
  },
  {
   "cell_type": "markdown",
   "id": "e999f110",
   "metadata": {},
   "source": [
    "# Pre Modeling Data Checks"
   ]
  },
  {
   "cell_type": "code",
   "execution_count": 107,
   "id": "bf952dfa",
   "metadata": {},
   "outputs": [
    {
     "name": "stdout",
     "output_type": "stream",
     "text": [
      "(21900, 21)\n",
      "(21900,)\n",
      "(5515, 21)\n",
      "(5515,)\n"
     ]
    }
   ],
   "source": [
    "## New shape of DataSets ==>10-4+15(Total_Columns-Encoded_columns+New_Encoded_Column_Name)\n",
    "print(X.shape)\n",
    "print(y.shape)\n",
    "print(X_test.shape)\n",
    "print(y_test.shape)\n"
   ]
  },
  {
   "cell_type": "code",
   "execution_count": 108,
   "id": "4469b73b",
   "metadata": {},
   "outputs": [
    {
     "name": "stdout",
     "output_type": "stream",
     "text": [
      "Null values in the Training feature: \n"
     ]
    },
    {
     "data": {
      "text/plain": [
       "person_age                    0\n",
       "person_income                 0\n",
       "person_emp_length             0\n",
       "loan_amnt                     0\n",
       "loan_int_rate                 0\n",
       "cb_person_cred_hist_length    0\n",
       "person_home_ownership         0\n",
       "cb_person_default_on_file     0\n",
       "x0_DEBTCONSOLIDATION          0\n",
       "x0_EDUCATION                  0\n",
       "x0_HOMEIMPROVEMENT            0\n",
       "x0_MEDICAL                    0\n",
       "x0_PERSONAL                   0\n",
       "x0_VENTURE                    0\n",
       "x1_A                          0\n",
       "x1_B                          0\n",
       "x1_C                          0\n",
       "x1_D                          0\n",
       "x1_E                          0\n",
       "x1_F                          0\n",
       "x1_G                          0\n",
       "dtype: int64"
      ]
     },
     "metadata": {},
     "output_type": "display_data"
    },
    {
     "name": "stdout",
     "output_type": "stream",
     "text": [
      "Null values in the Test feature: \n"
     ]
    },
    {
     "data": {
      "text/plain": [
       "person_age                    0\n",
       "person_income                 0\n",
       "person_emp_length             0\n",
       "loan_amnt                     0\n",
       "loan_int_rate                 0\n",
       "cb_person_cred_hist_length    0\n",
       "person_home_ownership         0\n",
       "cb_person_default_on_file     0\n",
       "x0_DEBTCONSOLIDATION          0\n",
       "x0_EDUCATION                  0\n",
       "x0_HOMEIMPROVEMENT            0\n",
       "x0_MEDICAL                    0\n",
       "x0_PERSONAL                   0\n",
       "x0_VENTURE                    0\n",
       "x1_A                          0\n",
       "x1_B                          0\n",
       "x1_C                          0\n",
       "x1_D                          0\n",
       "x1_E                          0\n",
       "x1_F                          0\n",
       "x1_G                          0\n",
       "dtype: int64"
      ]
     },
     "metadata": {},
     "output_type": "display_data"
    },
    {
     "name": "stdout",
     "output_type": "stream",
     "text": [
      "Null values in the Training feature: \n"
     ]
    },
    {
     "data": {
      "text/plain": [
       "0"
      ]
     },
     "metadata": {},
     "output_type": "display_data"
    },
    {
     "name": "stdout",
     "output_type": "stream",
     "text": [
      "Null values in the Test feature: \n"
     ]
    },
    {
     "data": {
      "text/plain": [
       "0"
      ]
     },
     "metadata": {},
     "output_type": "display_data"
    }
   ],
   "source": [
    "#Check for null values in the Train and Test Data\n",
    "print(\"Null values in the Training feature: \")\n",
    "display(pd.DataFrame(X).isnull().sum())\n",
    "print(\"Null values in the Test feature: \")\n",
    "display(pd.DataFrame(X_test).isnull().sum())\n",
    "\n",
    "#Check for null values in the Target\n",
    "print(\"Null values in the Training feature: \")\n",
    "display(y.isnull().sum())\n",
    "print(\"Null values in the Test feature: \")\n",
    "display(y_test.isnull().sum())"
   ]
  },
  {
   "cell_type": "code",
   "execution_count": 109,
   "id": "f0cc5136",
   "metadata": {},
   "outputs": [
    {
     "data": {
      "text/html": [
       "<div>\n",
       "<style scoped>\n",
       "    .dataframe tbody tr th:only-of-type {\n",
       "        vertical-align: middle;\n",
       "    }\n",
       "\n",
       "    .dataframe tbody tr th {\n",
       "        vertical-align: top;\n",
       "    }\n",
       "\n",
       "    .dataframe thead th {\n",
       "        text-align: right;\n",
       "    }\n",
       "</style>\n",
       "<table border=\"1\" class=\"dataframe\">\n",
       "  <thead>\n",
       "    <tr style=\"text-align: right;\">\n",
       "      <th></th>\n",
       "      <th>person_age</th>\n",
       "      <th>person_income</th>\n",
       "      <th>person_emp_length</th>\n",
       "      <th>loan_amnt</th>\n",
       "      <th>loan_int_rate</th>\n",
       "      <th>cb_person_cred_hist_length</th>\n",
       "      <th>person_home_ownership</th>\n",
       "      <th>cb_person_default_on_file</th>\n",
       "      <th>x0_DEBTCONSOLIDATION</th>\n",
       "      <th>x0_EDUCATION</th>\n",
       "      <th>...</th>\n",
       "      <th>x0_MEDICAL</th>\n",
       "      <th>x0_PERSONAL</th>\n",
       "      <th>x0_VENTURE</th>\n",
       "      <th>x1_A</th>\n",
       "      <th>x1_B</th>\n",
       "      <th>x1_C</th>\n",
       "      <th>x1_D</th>\n",
       "      <th>x1_E</th>\n",
       "      <th>x1_F</th>\n",
       "      <th>x1_G</th>\n",
       "    </tr>\n",
       "  </thead>\n",
       "  <tbody>\n",
       "    <tr>\n",
       "      <th>0</th>\n",
       "      <td>0.75</td>\n",
       "      <td>0.247917</td>\n",
       "      <td>0.142857</td>\n",
       "      <td>0.625000</td>\n",
       "      <td>0.341299</td>\n",
       "      <td>0.230769</td>\n",
       "      <td>0.666667</td>\n",
       "      <td>1.0</td>\n",
       "      <td>0.0</td>\n",
       "      <td>0.0</td>\n",
       "      <td>...</td>\n",
       "      <td>1.0</td>\n",
       "      <td>0.0</td>\n",
       "      <td>0.0</td>\n",
       "      <td>0.0</td>\n",
       "      <td>1.0</td>\n",
       "      <td>0.0</td>\n",
       "      <td>0.0</td>\n",
       "      <td>0.0</td>\n",
       "      <td>0.0</td>\n",
       "      <td>0.0</td>\n",
       "    </tr>\n",
       "    <tr>\n",
       "      <th>1</th>\n",
       "      <td>0.45</td>\n",
       "      <td>0.518345</td>\n",
       "      <td>0.142857</td>\n",
       "      <td>0.280172</td>\n",
       "      <td>0.385417</td>\n",
       "      <td>0.538462</td>\n",
       "      <td>0.333333</td>\n",
       "      <td>1.0</td>\n",
       "      <td>0.0</td>\n",
       "      <td>0.0</td>\n",
       "      <td>...</td>\n",
       "      <td>0.0</td>\n",
       "      <td>0.0</td>\n",
       "      <td>0.0</td>\n",
       "      <td>0.0</td>\n",
       "      <td>1.0</td>\n",
       "      <td>0.0</td>\n",
       "      <td>0.0</td>\n",
       "      <td>0.0</td>\n",
       "      <td>0.0</td>\n",
       "      <td>0.0</td>\n",
       "    </tr>\n",
       "    <tr>\n",
       "      <th>2</th>\n",
       "      <td>0.30</td>\n",
       "      <td>0.744920</td>\n",
       "      <td>0.642857</td>\n",
       "      <td>0.409483</td>\n",
       "      <td>0.607230</td>\n",
       "      <td>0.076923</td>\n",
       "      <td>0.666667</td>\n",
       "      <td>0.0</td>\n",
       "      <td>0.0</td>\n",
       "      <td>1.0</td>\n",
       "      <td>...</td>\n",
       "      <td>0.0</td>\n",
       "      <td>0.0</td>\n",
       "      <td>0.0</td>\n",
       "      <td>0.0</td>\n",
       "      <td>0.0</td>\n",
       "      <td>0.0</td>\n",
       "      <td>1.0</td>\n",
       "      <td>0.0</td>\n",
       "      <td>0.0</td>\n",
       "      <td>0.0</td>\n",
       "    </tr>\n",
       "    <tr>\n",
       "      <th>3</th>\n",
       "      <td>0.10</td>\n",
       "      <td>0.123666</td>\n",
       "      <td>0.357143</td>\n",
       "      <td>0.185345</td>\n",
       "      <td>0.326593</td>\n",
       "      <td>0.076923</td>\n",
       "      <td>0.333333</td>\n",
       "      <td>1.0</td>\n",
       "      <td>0.0</td>\n",
       "      <td>0.0</td>\n",
       "      <td>...</td>\n",
       "      <td>1.0</td>\n",
       "      <td>0.0</td>\n",
       "      <td>0.0</td>\n",
       "      <td>0.0</td>\n",
       "      <td>1.0</td>\n",
       "      <td>0.0</td>\n",
       "      <td>0.0</td>\n",
       "      <td>0.0</td>\n",
       "      <td>0.0</td>\n",
       "      <td>0.0</td>\n",
       "    </tr>\n",
       "    <tr>\n",
       "      <th>4</th>\n",
       "      <td>0.35</td>\n",
       "      <td>0.295746</td>\n",
       "      <td>0.285714</td>\n",
       "      <td>0.686422</td>\n",
       "      <td>0.542279</td>\n",
       "      <td>0.230769</td>\n",
       "      <td>0.333333</td>\n",
       "      <td>0.0</td>\n",
       "      <td>0.0</td>\n",
       "      <td>0.0</td>\n",
       "      <td>...</td>\n",
       "      <td>1.0</td>\n",
       "      <td>0.0</td>\n",
       "      <td>0.0</td>\n",
       "      <td>0.0</td>\n",
       "      <td>0.0</td>\n",
       "      <td>1.0</td>\n",
       "      <td>0.0</td>\n",
       "      <td>0.0</td>\n",
       "      <td>0.0</td>\n",
       "      <td>0.0</td>\n",
       "    </tr>\n",
       "    <tr>\n",
       "      <th>...</th>\n",
       "      <td>...</td>\n",
       "      <td>...</td>\n",
       "      <td>...</td>\n",
       "      <td>...</td>\n",
       "      <td>...</td>\n",
       "      <td>...</td>\n",
       "      <td>...</td>\n",
       "      <td>...</td>\n",
       "      <td>...</td>\n",
       "      <td>...</td>\n",
       "      <td>...</td>\n",
       "      <td>...</td>\n",
       "      <td>...</td>\n",
       "      <td>...</td>\n",
       "      <td>...</td>\n",
       "      <td>...</td>\n",
       "      <td>...</td>\n",
       "      <td>...</td>\n",
       "      <td>...</td>\n",
       "      <td>...</td>\n",
       "      <td>...</td>\n",
       "    </tr>\n",
       "    <tr>\n",
       "      <th>21895</th>\n",
       "      <td>0.10</td>\n",
       "      <td>0.382400</td>\n",
       "      <td>0.142857</td>\n",
       "      <td>0.387931</td>\n",
       "      <td>0.213235</td>\n",
       "      <td>0.000000</td>\n",
       "      <td>0.333333</td>\n",
       "      <td>1.0</td>\n",
       "      <td>0.0</td>\n",
       "      <td>1.0</td>\n",
       "      <td>...</td>\n",
       "      <td>0.0</td>\n",
       "      <td>0.0</td>\n",
       "      <td>0.0</td>\n",
       "      <td>1.0</td>\n",
       "      <td>0.0</td>\n",
       "      <td>0.0</td>\n",
       "      <td>0.0</td>\n",
       "      <td>0.0</td>\n",
       "      <td>0.0</td>\n",
       "      <td>0.0</td>\n",
       "    </tr>\n",
       "    <tr>\n",
       "      <th>21896</th>\n",
       "      <td>0.15</td>\n",
       "      <td>0.189446</td>\n",
       "      <td>0.285714</td>\n",
       "      <td>0.185345</td>\n",
       "      <td>0.320466</td>\n",
       "      <td>0.076923</td>\n",
       "      <td>0.666667</td>\n",
       "      <td>1.0</td>\n",
       "      <td>1.0</td>\n",
       "      <td>0.0</td>\n",
       "      <td>...</td>\n",
       "      <td>0.0</td>\n",
       "      <td>0.0</td>\n",
       "      <td>0.0</td>\n",
       "      <td>0.0</td>\n",
       "      <td>1.0</td>\n",
       "      <td>0.0</td>\n",
       "      <td>0.0</td>\n",
       "      <td>0.0</td>\n",
       "      <td>0.0</td>\n",
       "      <td>0.0</td>\n",
       "    </tr>\n",
       "    <tr>\n",
       "      <th>21897</th>\n",
       "      <td>0.30</td>\n",
       "      <td>0.313697</td>\n",
       "      <td>0.000000</td>\n",
       "      <td>0.323276</td>\n",
       "      <td>0.280637</td>\n",
       "      <td>0.153846</td>\n",
       "      <td>0.333333</td>\n",
       "      <td>1.0</td>\n",
       "      <td>0.0</td>\n",
       "      <td>0.0</td>\n",
       "      <td>...</td>\n",
       "      <td>0.0</td>\n",
       "      <td>1.0</td>\n",
       "      <td>0.0</td>\n",
       "      <td>0.0</td>\n",
       "      <td>1.0</td>\n",
       "      <td>0.0</td>\n",
       "      <td>0.0</td>\n",
       "      <td>0.0</td>\n",
       "      <td>0.0</td>\n",
       "      <td>0.0</td>\n",
       "    </tr>\n",
       "    <tr>\n",
       "      <th>21898</th>\n",
       "      <td>0.35</td>\n",
       "      <td>0.189446</td>\n",
       "      <td>0.000000</td>\n",
       "      <td>0.219828</td>\n",
       "      <td>0.494485</td>\n",
       "      <td>0.615385</td>\n",
       "      <td>0.333333</td>\n",
       "      <td>1.0</td>\n",
       "      <td>0.0</td>\n",
       "      <td>0.0</td>\n",
       "      <td>...</td>\n",
       "      <td>1.0</td>\n",
       "      <td>0.0</td>\n",
       "      <td>0.0</td>\n",
       "      <td>0.0</td>\n",
       "      <td>0.0</td>\n",
       "      <td>1.0</td>\n",
       "      <td>0.0</td>\n",
       "      <td>0.0</td>\n",
       "      <td>0.0</td>\n",
       "      <td>0.0</td>\n",
       "    </tr>\n",
       "    <tr>\n",
       "      <th>21899</th>\n",
       "      <td>0.15</td>\n",
       "      <td>0.395673</td>\n",
       "      <td>0.357143</td>\n",
       "      <td>0.409483</td>\n",
       "      <td>0.126838</td>\n",
       "      <td>0.153846</td>\n",
       "      <td>0.333333</td>\n",
       "      <td>1.0</td>\n",
       "      <td>0.0</td>\n",
       "      <td>0.0</td>\n",
       "      <td>...</td>\n",
       "      <td>1.0</td>\n",
       "      <td>0.0</td>\n",
       "      <td>0.0</td>\n",
       "      <td>1.0</td>\n",
       "      <td>0.0</td>\n",
       "      <td>0.0</td>\n",
       "      <td>0.0</td>\n",
       "      <td>0.0</td>\n",
       "      <td>0.0</td>\n",
       "      <td>0.0</td>\n",
       "    </tr>\n",
       "  </tbody>\n",
       "</table>\n",
       "<p>21900 rows × 21 columns</p>\n",
       "</div>"
      ],
      "text/plain": [
       "       person_age  person_income  person_emp_length  loan_amnt  loan_int_rate  \\\n",
       "0            0.75       0.247917           0.142857   0.625000       0.341299   \n",
       "1            0.45       0.518345           0.142857   0.280172       0.385417   \n",
       "2            0.30       0.744920           0.642857   0.409483       0.607230   \n",
       "3            0.10       0.123666           0.357143   0.185345       0.326593   \n",
       "4            0.35       0.295746           0.285714   0.686422       0.542279   \n",
       "...           ...            ...                ...        ...            ...   \n",
       "21895        0.10       0.382400           0.142857   0.387931       0.213235   \n",
       "21896        0.15       0.189446           0.285714   0.185345       0.320466   \n",
       "21897        0.30       0.313697           0.000000   0.323276       0.280637   \n",
       "21898        0.35       0.189446           0.000000   0.219828       0.494485   \n",
       "21899        0.15       0.395673           0.357143   0.409483       0.126838   \n",
       "\n",
       "       cb_person_cred_hist_length  person_home_ownership  \\\n",
       "0                        0.230769               0.666667   \n",
       "1                        0.538462               0.333333   \n",
       "2                        0.076923               0.666667   \n",
       "3                        0.076923               0.333333   \n",
       "4                        0.230769               0.333333   \n",
       "...                           ...                    ...   \n",
       "21895                    0.000000               0.333333   \n",
       "21896                    0.076923               0.666667   \n",
       "21897                    0.153846               0.333333   \n",
       "21898                    0.615385               0.333333   \n",
       "21899                    0.153846               0.333333   \n",
       "\n",
       "       cb_person_default_on_file  x0_DEBTCONSOLIDATION  x0_EDUCATION  ...  \\\n",
       "0                            1.0                   0.0           0.0  ...   \n",
       "1                            1.0                   0.0           0.0  ...   \n",
       "2                            0.0                   0.0           1.0  ...   \n",
       "3                            1.0                   0.0           0.0  ...   \n",
       "4                            0.0                   0.0           0.0  ...   \n",
       "...                          ...                   ...           ...  ...   \n",
       "21895                        1.0                   0.0           1.0  ...   \n",
       "21896                        1.0                   1.0           0.0  ...   \n",
       "21897                        1.0                   0.0           0.0  ...   \n",
       "21898                        1.0                   0.0           0.0  ...   \n",
       "21899                        1.0                   0.0           0.0  ...   \n",
       "\n",
       "       x0_MEDICAL  x0_PERSONAL  x0_VENTURE  x1_A  x1_B  x1_C  x1_D  x1_E  \\\n",
       "0             1.0          0.0         0.0   0.0   1.0   0.0   0.0   0.0   \n",
       "1             0.0          0.0         0.0   0.0   1.0   0.0   0.0   0.0   \n",
       "2             0.0          0.0         0.0   0.0   0.0   0.0   1.0   0.0   \n",
       "3             1.0          0.0         0.0   0.0   1.0   0.0   0.0   0.0   \n",
       "4             1.0          0.0         0.0   0.0   0.0   1.0   0.0   0.0   \n",
       "...           ...          ...         ...   ...   ...   ...   ...   ...   \n",
       "21895         0.0          0.0         0.0   1.0   0.0   0.0   0.0   0.0   \n",
       "21896         0.0          0.0         0.0   0.0   1.0   0.0   0.0   0.0   \n",
       "21897         0.0          1.0         0.0   0.0   1.0   0.0   0.0   0.0   \n",
       "21898         1.0          0.0         0.0   0.0   0.0   1.0   0.0   0.0   \n",
       "21899         1.0          0.0         0.0   1.0   0.0   0.0   0.0   0.0   \n",
       "\n",
       "       x1_F  x1_G  \n",
       "0       0.0   0.0  \n",
       "1       0.0   0.0  \n",
       "2       0.0   0.0  \n",
       "3       0.0   0.0  \n",
       "4       0.0   0.0  \n",
       "...     ...   ...  \n",
       "21895   0.0   0.0  \n",
       "21896   0.0   0.0  \n",
       "21897   0.0   0.0  \n",
       "21898   0.0   0.0  \n",
       "21899   0.0   0.0  \n",
       "\n",
       "[21900 rows x 21 columns]"
      ]
     },
     "execution_count": 109,
     "metadata": {},
     "output_type": "execute_result"
    }
   ],
   "source": [
    "X"
   ]
  },
  {
   "cell_type": "code",
   "execution_count": 110,
   "id": "34d1bbb8",
   "metadata": {},
   "outputs": [
    {
     "data": {
      "text/html": [
       "<div>\n",
       "<style scoped>\n",
       "    .dataframe tbody tr th:only-of-type {\n",
       "        vertical-align: middle;\n",
       "    }\n",
       "\n",
       "    .dataframe tbody tr th {\n",
       "        vertical-align: top;\n",
       "    }\n",
       "\n",
       "    .dataframe thead th {\n",
       "        text-align: right;\n",
       "    }\n",
       "</style>\n",
       "<table border=\"1\" class=\"dataframe\">\n",
       "  <thead>\n",
       "    <tr style=\"text-align: right;\">\n",
       "      <th></th>\n",
       "      <th>person_age</th>\n",
       "      <th>person_income</th>\n",
       "      <th>person_emp_length</th>\n",
       "      <th>loan_amnt</th>\n",
       "      <th>loan_int_rate</th>\n",
       "      <th>cb_person_cred_hist_length</th>\n",
       "      <th>person_home_ownership</th>\n",
       "      <th>cb_person_default_on_file</th>\n",
       "      <th>x0_DEBTCONSOLIDATION</th>\n",
       "      <th>x0_EDUCATION</th>\n",
       "      <th>...</th>\n",
       "      <th>x0_MEDICAL</th>\n",
       "      <th>x0_PERSONAL</th>\n",
       "      <th>x0_VENTURE</th>\n",
       "      <th>x1_A</th>\n",
       "      <th>x1_B</th>\n",
       "      <th>x1_C</th>\n",
       "      <th>x1_D</th>\n",
       "      <th>x1_E</th>\n",
       "      <th>x1_F</th>\n",
       "      <th>x1_G</th>\n",
       "    </tr>\n",
       "  </thead>\n",
       "  <tbody>\n",
       "    <tr>\n",
       "      <th>0</th>\n",
       "      <td>0.15</td>\n",
       "      <td>0.228914</td>\n",
       "      <td>0.285714</td>\n",
       "      <td>0.392241</td>\n",
       "      <td>0.396446</td>\n",
       "      <td>0.000000</td>\n",
       "      <td>0.333333</td>\n",
       "      <td>1.0</td>\n",
       "      <td>1.0</td>\n",
       "      <td>0.0</td>\n",
       "      <td>...</td>\n",
       "      <td>0.0</td>\n",
       "      <td>0.0</td>\n",
       "      <td>0.0</td>\n",
       "      <td>0.0</td>\n",
       "      <td>1.0</td>\n",
       "      <td>0.0</td>\n",
       "      <td>0.0</td>\n",
       "      <td>0.0</td>\n",
       "      <td>0.0</td>\n",
       "      <td>0.0</td>\n",
       "    </tr>\n",
       "    <tr>\n",
       "      <th>1</th>\n",
       "      <td>0.25</td>\n",
       "      <td>0.481801</td>\n",
       "      <td>0.642857</td>\n",
       "      <td>0.150862</td>\n",
       "      <td>0.091912</td>\n",
       "      <td>0.000000</td>\n",
       "      <td>0.666667</td>\n",
       "      <td>1.0</td>\n",
       "      <td>1.0</td>\n",
       "      <td>0.0</td>\n",
       "      <td>...</td>\n",
       "      <td>0.0</td>\n",
       "      <td>0.0</td>\n",
       "      <td>0.0</td>\n",
       "      <td>1.0</td>\n",
       "      <td>0.0</td>\n",
       "      <td>0.0</td>\n",
       "      <td>0.0</td>\n",
       "      <td>0.0</td>\n",
       "      <td>0.0</td>\n",
       "      <td>0.0</td>\n",
       "    </tr>\n",
       "    <tr>\n",
       "      <th>2</th>\n",
       "      <td>0.30</td>\n",
       "      <td>0.489139</td>\n",
       "      <td>0.000000</td>\n",
       "      <td>0.840517</td>\n",
       "      <td>0.486520</td>\n",
       "      <td>0.000000</td>\n",
       "      <td>0.333333</td>\n",
       "      <td>0.0</td>\n",
       "      <td>0.0</td>\n",
       "      <td>0.0</td>\n",
       "      <td>...</td>\n",
       "      <td>0.0</td>\n",
       "      <td>0.0</td>\n",
       "      <td>0.0</td>\n",
       "      <td>0.0</td>\n",
       "      <td>0.0</td>\n",
       "      <td>0.0</td>\n",
       "      <td>1.0</td>\n",
       "      <td>0.0</td>\n",
       "      <td>0.0</td>\n",
       "      <td>0.0</td>\n",
       "    </tr>\n",
       "    <tr>\n",
       "      <th>3</th>\n",
       "      <td>0.20</td>\n",
       "      <td>0.671832</td>\n",
       "      <td>0.571429</td>\n",
       "      <td>0.452586</td>\n",
       "      <td>0.034926</td>\n",
       "      <td>0.000000</td>\n",
       "      <td>0.666667</td>\n",
       "      <td>1.0</td>\n",
       "      <td>0.0</td>\n",
       "      <td>0.0</td>\n",
       "      <td>...</td>\n",
       "      <td>0.0</td>\n",
       "      <td>0.0</td>\n",
       "      <td>0.0</td>\n",
       "      <td>1.0</td>\n",
       "      <td>0.0</td>\n",
       "      <td>0.0</td>\n",
       "      <td>0.0</td>\n",
       "      <td>0.0</td>\n",
       "      <td>0.0</td>\n",
       "      <td>0.0</td>\n",
       "    </tr>\n",
       "    <tr>\n",
       "      <th>4</th>\n",
       "      <td>0.20</td>\n",
       "      <td>0.182137</td>\n",
       "      <td>0.142857</td>\n",
       "      <td>0.086207</td>\n",
       "      <td>0.611648</td>\n",
       "      <td>0.153846</td>\n",
       "      <td>0.333333</td>\n",
       "      <td>1.0</td>\n",
       "      <td>0.0</td>\n",
       "      <td>0.0</td>\n",
       "      <td>...</td>\n",
       "      <td>1.0</td>\n",
       "      <td>0.0</td>\n",
       "      <td>0.0</td>\n",
       "      <td>0.0</td>\n",
       "      <td>0.0</td>\n",
       "      <td>0.0</td>\n",
       "      <td>1.0</td>\n",
       "      <td>0.0</td>\n",
       "      <td>0.0</td>\n",
       "      <td>0.0</td>\n",
       "    </tr>\n",
       "    <tr>\n",
       "      <th>...</th>\n",
       "      <td>...</td>\n",
       "      <td>...</td>\n",
       "      <td>...</td>\n",
       "      <td>...</td>\n",
       "      <td>...</td>\n",
       "      <td>...</td>\n",
       "      <td>...</td>\n",
       "      <td>...</td>\n",
       "      <td>...</td>\n",
       "      <td>...</td>\n",
       "      <td>...</td>\n",
       "      <td>...</td>\n",
       "      <td>...</td>\n",
       "      <td>...</td>\n",
       "      <td>...</td>\n",
       "      <td>...</td>\n",
       "      <td>...</td>\n",
       "      <td>...</td>\n",
       "      <td>...</td>\n",
       "      <td>...</td>\n",
       "      <td>...</td>\n",
       "    </tr>\n",
       "    <tr>\n",
       "      <th>5510</th>\n",
       "      <td>0.20</td>\n",
       "      <td>0.663331</td>\n",
       "      <td>0.571429</td>\n",
       "      <td>0.392241</td>\n",
       "      <td>0.402574</td>\n",
       "      <td>0.000000</td>\n",
       "      <td>0.333333</td>\n",
       "      <td>1.0</td>\n",
       "      <td>0.0</td>\n",
       "      <td>0.0</td>\n",
       "      <td>...</td>\n",
       "      <td>0.0</td>\n",
       "      <td>0.0</td>\n",
       "      <td>0.0</td>\n",
       "      <td>0.0</td>\n",
       "      <td>1.0</td>\n",
       "      <td>0.0</td>\n",
       "      <td>0.0</td>\n",
       "      <td>0.0</td>\n",
       "      <td>0.0</td>\n",
       "      <td>0.0</td>\n",
       "    </tr>\n",
       "    <tr>\n",
       "      <th>5511</th>\n",
       "      <td>0.55</td>\n",
       "      <td>0.518345</td>\n",
       "      <td>0.571429</td>\n",
       "      <td>0.689655</td>\n",
       "      <td>0.695466</td>\n",
       "      <td>0.461538</td>\n",
       "      <td>0.666667</td>\n",
       "      <td>0.0</td>\n",
       "      <td>0.0</td>\n",
       "      <td>1.0</td>\n",
       "      <td>...</td>\n",
       "      <td>0.0</td>\n",
       "      <td>0.0</td>\n",
       "      <td>0.0</td>\n",
       "      <td>0.0</td>\n",
       "      <td>0.0</td>\n",
       "      <td>0.0</td>\n",
       "      <td>1.0</td>\n",
       "      <td>0.0</td>\n",
       "      <td>0.0</td>\n",
       "      <td>0.0</td>\n",
       "    </tr>\n",
       "    <tr>\n",
       "      <th>5512</th>\n",
       "      <td>0.55</td>\n",
       "      <td>0.335623</td>\n",
       "      <td>0.500000</td>\n",
       "      <td>0.185345</td>\n",
       "      <td>0.037377</td>\n",
       "      <td>0.230769</td>\n",
       "      <td>0.666667</td>\n",
       "      <td>1.0</td>\n",
       "      <td>0.0</td>\n",
       "      <td>0.0</td>\n",
       "      <td>...</td>\n",
       "      <td>0.0</td>\n",
       "      <td>0.0</td>\n",
       "      <td>0.0</td>\n",
       "      <td>1.0</td>\n",
       "      <td>0.0</td>\n",
       "      <td>0.0</td>\n",
       "      <td>0.0</td>\n",
       "      <td>0.0</td>\n",
       "      <td>0.0</td>\n",
       "      <td>0.0</td>\n",
       "    </tr>\n",
       "    <tr>\n",
       "      <th>5513</th>\n",
       "      <td>0.35</td>\n",
       "      <td>0.299079</td>\n",
       "      <td>0.285714</td>\n",
       "      <td>0.258621</td>\n",
       "      <td>0.341299</td>\n",
       "      <td>0.461538</td>\n",
       "      <td>0.333333</td>\n",
       "      <td>1.0</td>\n",
       "      <td>0.0</td>\n",
       "      <td>0.0</td>\n",
       "      <td>...</td>\n",
       "      <td>0.0</td>\n",
       "      <td>1.0</td>\n",
       "      <td>0.0</td>\n",
       "      <td>0.0</td>\n",
       "      <td>1.0</td>\n",
       "      <td>0.0</td>\n",
       "      <td>0.0</td>\n",
       "      <td>0.0</td>\n",
       "      <td>0.0</td>\n",
       "      <td>0.0</td>\n",
       "    </tr>\n",
       "    <tr>\n",
       "      <th>5514</th>\n",
       "      <td>0.15</td>\n",
       "      <td>0.372197</td>\n",
       "      <td>0.285714</td>\n",
       "      <td>0.392241</td>\n",
       "      <td>0.571078</td>\n",
       "      <td>0.000000</td>\n",
       "      <td>0.666667</td>\n",
       "      <td>0.0</td>\n",
       "      <td>0.0</td>\n",
       "      <td>1.0</td>\n",
       "      <td>...</td>\n",
       "      <td>0.0</td>\n",
       "      <td>0.0</td>\n",
       "      <td>0.0</td>\n",
       "      <td>0.0</td>\n",
       "      <td>0.0</td>\n",
       "      <td>0.0</td>\n",
       "      <td>1.0</td>\n",
       "      <td>0.0</td>\n",
       "      <td>0.0</td>\n",
       "      <td>0.0</td>\n",
       "    </tr>\n",
       "  </tbody>\n",
       "</table>\n",
       "<p>5515 rows × 21 columns</p>\n",
       "</div>"
      ],
      "text/plain": [
       "      person_age  person_income  person_emp_length  loan_amnt  loan_int_rate  \\\n",
       "0           0.15       0.228914           0.285714   0.392241       0.396446   \n",
       "1           0.25       0.481801           0.642857   0.150862       0.091912   \n",
       "2           0.30       0.489139           0.000000   0.840517       0.486520   \n",
       "3           0.20       0.671832           0.571429   0.452586       0.034926   \n",
       "4           0.20       0.182137           0.142857   0.086207       0.611648   \n",
       "...          ...            ...                ...        ...            ...   \n",
       "5510        0.20       0.663331           0.571429   0.392241       0.402574   \n",
       "5511        0.55       0.518345           0.571429   0.689655       0.695466   \n",
       "5512        0.55       0.335623           0.500000   0.185345       0.037377   \n",
       "5513        0.35       0.299079           0.285714   0.258621       0.341299   \n",
       "5514        0.15       0.372197           0.285714   0.392241       0.571078   \n",
       "\n",
       "      cb_person_cred_hist_length  person_home_ownership  \\\n",
       "0                       0.000000               0.333333   \n",
       "1                       0.000000               0.666667   \n",
       "2                       0.000000               0.333333   \n",
       "3                       0.000000               0.666667   \n",
       "4                       0.153846               0.333333   \n",
       "...                          ...                    ...   \n",
       "5510                    0.000000               0.333333   \n",
       "5511                    0.461538               0.666667   \n",
       "5512                    0.230769               0.666667   \n",
       "5513                    0.461538               0.333333   \n",
       "5514                    0.000000               0.666667   \n",
       "\n",
       "      cb_person_default_on_file  x0_DEBTCONSOLIDATION  x0_EDUCATION  ...  \\\n",
       "0                           1.0                   1.0           0.0  ...   \n",
       "1                           1.0                   1.0           0.0  ...   \n",
       "2                           0.0                   0.0           0.0  ...   \n",
       "3                           1.0                   0.0           0.0  ...   \n",
       "4                           1.0                   0.0           0.0  ...   \n",
       "...                         ...                   ...           ...  ...   \n",
       "5510                        1.0                   0.0           0.0  ...   \n",
       "5511                        0.0                   0.0           1.0  ...   \n",
       "5512                        1.0                   0.0           0.0  ...   \n",
       "5513                        1.0                   0.0           0.0  ...   \n",
       "5514                        0.0                   0.0           1.0  ...   \n",
       "\n",
       "      x0_MEDICAL  x0_PERSONAL  x0_VENTURE  x1_A  x1_B  x1_C  x1_D  x1_E  x1_F  \\\n",
       "0            0.0          0.0         0.0   0.0   1.0   0.0   0.0   0.0   0.0   \n",
       "1            0.0          0.0         0.0   1.0   0.0   0.0   0.0   0.0   0.0   \n",
       "2            0.0          0.0         0.0   0.0   0.0   0.0   1.0   0.0   0.0   \n",
       "3            0.0          0.0         0.0   1.0   0.0   0.0   0.0   0.0   0.0   \n",
       "4            1.0          0.0         0.0   0.0   0.0   0.0   1.0   0.0   0.0   \n",
       "...          ...          ...         ...   ...   ...   ...   ...   ...   ...   \n",
       "5510         0.0          0.0         0.0   0.0   1.0   0.0   0.0   0.0   0.0   \n",
       "5511         0.0          0.0         0.0   0.0   0.0   0.0   1.0   0.0   0.0   \n",
       "5512         0.0          0.0         0.0   1.0   0.0   0.0   0.0   0.0   0.0   \n",
       "5513         0.0          1.0         0.0   0.0   1.0   0.0   0.0   0.0   0.0   \n",
       "5514         0.0          0.0         0.0   0.0   0.0   0.0   1.0   0.0   0.0   \n",
       "\n",
       "      x1_G  \n",
       "0      0.0  \n",
       "1      0.0  \n",
       "2      0.0  \n",
       "3      0.0  \n",
       "4      0.0  \n",
       "...    ...  \n",
       "5510   0.0  \n",
       "5511   0.0  \n",
       "5512   0.0  \n",
       "5513   0.0  \n",
       "5514   0.0  \n",
       "\n",
       "[5515 rows x 21 columns]"
      ]
     },
     "execution_count": 110,
     "metadata": {},
     "output_type": "execute_result"
    }
   ],
   "source": [
    "X_test"
   ]
  },
  {
   "cell_type": "code",
   "execution_count": 111,
   "id": "393b5df4",
   "metadata": {},
   "outputs": [
    {
     "name": "stdout",
     "output_type": "stream",
     "text": [
      ">>Unique values in a column  person_age ---> 21\n",
      "dtype of column  person_age ---> float64\n",
      "\n",
      ">>Unique values in a column  person_income ---> 3076\n",
      "dtype of column  person_income ---> float64\n",
      "\n",
      ">>Unique values in a column  person_emp_length ---> 684\n",
      "dtype of column  person_emp_length ---> float64\n",
      "\n",
      ">>Unique values in a column  loan_amnt ---> 642\n",
      "dtype of column  loan_amnt ---> float64\n",
      "\n",
      ">>Unique values in a column  loan_int_rate ---> 2399\n",
      "dtype of column  loan_int_rate ---> float64\n",
      "\n",
      ">>Unique values in a column  cb_person_cred_hist_length ---> 14\n",
      "dtype of column  cb_person_cred_hist_length ---> float64\n",
      "0.000000    20.383562\n",
      "0.076923    20.296804\n",
      "0.153846    19.977169\n",
      "0.384615     5.963470\n",
      "0.230769     5.881279\n",
      "0.461538     5.876712\n",
      "0.538462     5.831050\n",
      "0.307692     5.817352\n",
      "0.615385     5.799087\n",
      "0.923077     0.913242\n",
      "0.769231     0.840183\n",
      "0.692308     0.835616\n",
      "0.846154     0.799087\n",
      "1.000000     0.785388\n",
      "Name: cb_person_cred_hist_length, dtype: float64\n",
      "\n",
      ">>Unique values in a column  person_home_ownership ---> 4\n",
      "dtype of column  person_home_ownership ---> float64\n",
      "0.333333    52.817352\n",
      "0.666667    38.972603\n",
      "1.000000     7.913242\n",
      "0.000000     0.296804\n",
      "Name: person_home_ownership, dtype: float64\n",
      "\n",
      ">>Unique values in a column  cb_person_default_on_file ---> 2\n",
      "dtype of column  cb_person_default_on_file ---> float64\n",
      "1.0    82.817352\n",
      "0.0    17.182648\n",
      "Name: cb_person_default_on_file, dtype: float64\n",
      "\n",
      ">>Unique values in a column  x0_DEBTCONSOLIDATION ---> 2\n",
      "dtype of column  x0_DEBTCONSOLIDATION ---> float64\n",
      "0.0    84.063927\n",
      "1.0    15.936073\n",
      "Name: x0_DEBTCONSOLIDATION, dtype: float64\n",
      "\n",
      ">>Unique values in a column  x0_EDUCATION ---> 2\n",
      "dtype of column  x0_EDUCATION ---> float64\n",
      "0.0    79.584475\n",
      "1.0    20.415525\n",
      "Name: x0_EDUCATION, dtype: float64\n",
      "\n",
      ">>Unique values in a column  x0_HOMEIMPROVEMENT ---> 2\n",
      "dtype of column  x0_HOMEIMPROVEMENT ---> float64\n",
      "0.0    89.552511\n",
      "1.0    10.447489\n",
      "Name: x0_HOMEIMPROVEMENT, dtype: float64\n",
      "\n",
      ">>Unique values in a column  x0_MEDICAL ---> 2\n",
      "dtype of column  x0_MEDICAL ---> float64\n",
      "0.0    81.392694\n",
      "1.0    18.607306\n",
      "Name: x0_MEDICAL, dtype: float64\n",
      "\n",
      ">>Unique values in a column  x0_PERSONAL ---> 2\n",
      "dtype of column  x0_PERSONAL ---> float64\n",
      "0.0    83.26484\n",
      "1.0    16.73516\n",
      "Name: x0_PERSONAL, dtype: float64\n",
      "\n",
      ">>Unique values in a column  x0_VENTURE ---> 2\n",
      "dtype of column  x0_VENTURE ---> float64\n",
      "0.0    82.141553\n",
      "1.0    17.858447\n",
      "Name: x0_VENTURE, dtype: float64\n",
      "\n",
      ">>Unique values in a column  x1_A ---> 2\n",
      "dtype of column  x1_A ---> float64\n",
      "0.0    65.858447\n",
      "1.0    34.141553\n",
      "Name: x1_A, dtype: float64\n",
      "\n",
      ">>Unique values in a column  x1_B ---> 2\n",
      "dtype of column  x1_B ---> float64\n",
      "0.0    68.383562\n",
      "1.0    31.616438\n",
      "Name: x1_B, dtype: float64\n",
      "\n",
      ">>Unique values in a column  x1_C ---> 2\n",
      "dtype of column  x1_C ---> float64\n",
      "0.0    79.611872\n",
      "1.0    20.388128\n",
      "Name: x1_C, dtype: float64\n",
      "\n",
      ">>Unique values in a column  x1_D ---> 2\n",
      "dtype of column  x1_D ---> float64\n",
      "0.0    89.502283\n",
      "1.0    10.497717\n",
      "Name: x1_D, dtype: float64\n",
      "\n",
      ">>Unique values in a column  x1_E ---> 2\n",
      "dtype of column  x1_E ---> float64\n",
      "0.0    97.324201\n",
      "1.0     2.675799\n",
      "Name: x1_E, dtype: float64\n",
      "\n",
      ">>Unique values in a column  x1_F ---> 2\n",
      "dtype of column  x1_F ---> float64\n",
      "0.0    99.429224\n",
      "1.0     0.570776\n",
      "Name: x1_F, dtype: float64\n",
      "\n",
      ">>Unique values in a column  x1_G ---> 2\n",
      "dtype of column  x1_G ---> float64\n",
      "0.0    99.890411\n",
      "1.0     0.109589\n",
      "Name: x1_G, dtype: float64\n",
      "\n"
     ]
    }
   ],
   "source": [
    "# Check the Preprocessed column values in the training DataSet\n",
    "for col in X:\n",
    "    print(\">>Unique values in a column \",col, '--->', X[col].nunique())\n",
    "    print(\"dtype of column \",col, '--->', X[col].dtype)\n",
    "    if X[col].nunique()<20:\n",
    "        print(X[col].value_counts(normalize=True)*100)\n",
    "    print()"
   ]
  },
  {
   "cell_type": "code",
   "execution_count": 112,
   "id": "6161b3da",
   "metadata": {},
   "outputs": [
    {
     "name": "stdout",
     "output_type": "stream",
     "text": [
      ">>Unique values in a column  person_age ---> 21\n",
      "dtype of column  person_age ---> float64\n",
      "\n",
      ">>Unique values in a column  person_income ---> 1191\n",
      "dtype of column  person_income ---> float64\n",
      "\n",
      ">>Unique values in a column  person_emp_length ---> 166\n",
      "dtype of column  person_emp_length ---> float64\n",
      "\n",
      ">>Unique values in a column  loan_amnt ---> 388\n",
      "dtype of column  loan_amnt ---> float64\n",
      "\n",
      ">>Unique values in a column  loan_int_rate ---> 798\n",
      "dtype of column  loan_int_rate ---> float64\n",
      "\n",
      ">>Unique values in a column  cb_person_cred_hist_length ---> 14\n",
      "dtype of column  cb_person_cred_hist_length ---> float64\n",
      "0.153846    20.616500\n",
      "0.076923    19.528558\n",
      "0.000000    19.474161\n",
      "0.538462     6.310063\n",
      "0.230769     6.110607\n",
      "0.461538     6.110607\n",
      "0.384615     6.110607\n",
      "0.307692     5.802357\n",
      "0.615385     5.639166\n",
      "0.923077     1.087942\n",
      "1.000000     0.888486\n",
      "0.769231     0.815956\n",
      "0.846154     0.797824\n",
      "0.692308     0.707162\n",
      "Name: cb_person_cred_hist_length, dtype: float64\n",
      "\n",
      ">>Unique values in a column  person_home_ownership ---> 4\n",
      "dtype of column  person_home_ownership ---> float64\n",
      "0.333333    53.073436\n",
      "0.666667    38.513146\n",
      "1.000000     8.014506\n",
      "0.000000     0.398912\n",
      "Name: person_home_ownership, dtype: float64\n",
      "\n",
      ">>Unique values in a column  cb_person_default_on_file ---> 2\n",
      "dtype of column  cb_person_default_on_file ---> float64\n",
      "1.0    81.831369\n",
      "0.0    18.168631\n",
      "Name: cb_person_default_on_file, dtype: float64\n",
      "\n",
      ">>Unique values in a column  x0_DEBTCONSOLIDATION ---> 2\n",
      "dtype of column  x0_DEBTCONSOLIDATION ---> float64\n",
      "0.0    83.898459\n",
      "1.0    16.101541\n",
      "Name: x0_DEBTCONSOLIDATION, dtype: float64\n",
      "\n",
      ">>Unique values in a column  x0_EDUCATION ---> 2\n",
      "dtype of column  x0_EDUCATION ---> float64\n",
      "0.0    79.673617\n",
      "1.0    20.326383\n",
      "Name: x0_EDUCATION, dtype: float64\n",
      "\n",
      ">>Unique values in a column  x0_HOMEIMPROVEMENT ---> 2\n",
      "dtype of column  x0_HOMEIMPROVEMENT ---> float64\n",
      "0.0    88.81233\n",
      "1.0    11.18767\n",
      "Name: x0_HOMEIMPROVEMENT, dtype: float64\n",
      "\n",
      ">>Unique values in a column  x0_MEDICAL ---> 2\n",
      "dtype of column  x0_MEDICAL ---> float64\n",
      "0.0    80.68903\n",
      "1.0    19.31097\n",
      "Name: x0_MEDICAL, dtype: float64\n",
      "\n",
      ">>Unique values in a column  x0_PERSONAL ---> 2\n",
      "dtype of column  x0_PERSONAL ---> float64\n",
      "0.0    83.699003\n",
      "1.0    16.300997\n",
      "Name: x0_PERSONAL, dtype: float64\n",
      "\n",
      ">>Unique values in a column  x0_VENTURE ---> 2\n",
      "dtype of column  x0_VENTURE ---> float64\n",
      "0.0    83.227561\n",
      "1.0    16.772439\n",
      "Name: x0_VENTURE, dtype: float64\n",
      "\n",
      ">>Unique values in a column  x1_A ---> 2\n",
      "dtype of column  x1_A ---> float64\n",
      "0.0    66.74524\n",
      "1.0    33.25476\n",
      "Name: x1_A, dtype: float64\n",
      "\n",
      ">>Unique values in a column  x1_B ---> 2\n",
      "dtype of column  x1_B ---> float64\n",
      "0.0    68.159565\n",
      "1.0    31.840435\n",
      "Name: x1_B, dtype: float64\n",
      "\n",
      ">>Unique values in a column  x1_C ---> 2\n",
      "dtype of column  x1_C ---> float64\n",
      "0.0    79.456029\n",
      "1.0    20.543971\n",
      "Name: x1_C, dtype: float64\n",
      "\n",
      ">>Unique values in a column  x1_D ---> 2\n",
      "dtype of column  x1_D ---> float64\n",
      "0.0    89.283772\n",
      "1.0    10.716228\n",
      "Name: x1_D, dtype: float64\n",
      "\n",
      ">>Unique values in a column  x1_E ---> 2\n",
      "dtype of column  x1_E ---> float64\n",
      "0.0    97.044424\n",
      "1.0     2.955576\n",
      "Name: x1_E, dtype: float64\n",
      "\n",
      ">>Unique values in a column  x1_F ---> 2\n",
      "dtype of column  x1_F ---> float64\n",
      "0.0    99.437897\n",
      "1.0     0.562103\n",
      "Name: x1_F, dtype: float64\n",
      "\n",
      ">>Unique values in a column  x1_G ---> 2\n",
      "dtype of column  x1_G ---> float64\n",
      "0.0    99.873073\n",
      "1.0     0.126927\n",
      "Name: x1_G, dtype: float64\n",
      "\n"
     ]
    }
   ],
   "source": [
    "# Check the Preprocessed column values in the Testing DataSet\n",
    "for col in X_test:\n",
    "    print(\">>Unique values in a column \",col, '--->', X_test[col].nunique())\n",
    "    print(\"dtype of column \",col, '--->', X_test[col].dtype)\n",
    "    if X_test[col].nunique()<20:\n",
    "        print(X_test[col].value_counts(normalize=True)*100)\n",
    "    print()"
   ]
  },
  {
   "cell_type": "code",
   "execution_count": 113,
   "id": "80ad4803",
   "metadata": {},
   "outputs": [
    {
     "name": "stdout",
     "output_type": "stream",
     "text": [
      ">>Number of Unique values in the Training feature Data:  2\n",
      "Unique values in the Training feature Data:  [0 1]\n",
      ">>Number of Unique values in the Testing feature Data:  2\n",
      "Unique values in the Testing feature Data:  [0 1]\n"
     ]
    }
   ],
   "source": [
    "# Check the Preprocessed column values in the training and testing feature DataSet\n",
    "print(\">>Number of Unique values in the Training feature Data: \",y.nunique())\n",
    "print(\"Unique values in the Training feature Data: \",y.unique())\n",
    "print(\">>Number of Unique values in the Testing feature Data: \",y_test.nunique())\n",
    "print(\"Unique values in the Testing feature Data: \",y_test.unique())"
   ]
  },
  {
   "cell_type": "markdown",
   "id": "456c46a8",
   "metadata": {},
   "source": [
    "# Saving the model\n",
    "use joblib or Pickel"
   ]
  },
  {
   "cell_type": "code",
   "execution_count": 114,
   "id": "2f24c7fb",
   "metadata": {},
   "outputs": [],
   "source": [
    "import joblib\n",
    "import pickle"
   ]
  },
  {
   "cell_type": "markdown",
   "id": "d4f64791",
   "metadata": {},
   "source": [
    "# Model Tests via Cross Validation\n",
    "\n"
   ]
  },
  {
   "cell_type": "code",
   "execution_count": 35,
   "id": "84bf7332",
   "metadata": {},
   "outputs": [],
   "source": [
    "# Python Dictonary to store the models and their parameters\n",
    "grid ={\n",
    "    LogisticRegression(tol=0.0001, random_state=1):{\n",
    "        'penalty': ['l1', 'l2', 'elasticnet'],\n",
    "        'solver': ['newton-cg', 'lbfgs', 'liblinear', 'sag', 'saga'],\n",
    "        'max_iter': list(range(100,800,1500)),\n",
    "        'C': [0.001, 0.01, 0.1, 1, 10, 100, 1000]\n",
    "    },\n",
    "    SVC(tol=0.001, random_state=1):{\n",
    "        'gamma': ['scale', 'auto'],\n",
    "        'kernel': ['poly', 'rbf', 'sigmoid'],\n",
    "        'max_iter': list(range(100,800,1500)),\n",
    "        'C': [0.001, 0.01, 0.1, 1, 10, 100, 1000]\n",
    "    },\n",
    "    KNeighborsClassifier(algorithm='auto'):{\n",
    "        'n_neighbors': [1, 5, 7, 10, 15, 20],\n",
    "        'weights': ['uniform', 'distance'],\n",
    "        'metric': ['euclidean', 'manhattan', 'minkowski']\n",
    "    },\n",
    "    RandomForestClassifier(random_state=1):{\n",
    "        'n_estimators':[10, 100, 500, 1000],\n",
    "        'criterion':['gini', 'entropy'],\n",
    "        'max_depth':[10, 50, 100, 1000, None],\n",
    "        'max_features': ['sqrt', 'log2']\n",
    "    }\n",
    "}"
   ]
  },
  {
   "cell_type": "code",
   "execution_count": 163,
   "id": "7fe5430b",
   "metadata": {},
   "outputs": [
    {
     "name": "stdout",
     "output_type": "stream",
     "text": [
      ">>Model:  LogisticRegression(random_state=1)\n",
      "parameters:  {'penalty': ['l1', 'l2', 'elasticnet'], 'solver': ['newton-cg', 'lbfgs', 'liblinear', 'sag', 'saga'], 'max_iter': [100], 'C': [0.001, 0.01, 0.1, 1, 10, 100, 1000]}\n",
      "\n",
      "\n"
     ]
    },
    {
     "name": "stderr",
     "output_type": "stream",
     "text": [
      "c:\\users\\koriv\\appdata\\local\\programs\\python\\python39\\lib\\site-packages\\sklearn\\model_selection\\_search.py:922: UserWarning: One or more of the test scores are non-finite: [       nan        nan 0.783379          nan 0.783379   0.783379\n",
      " 0.783379   0.78671233 0.783379   0.783379          nan        nan\n",
      "        nan        nan        nan        nan        nan 0.82333333\n",
      "        nan 0.82333333 0.83159817 0.83159817 0.83150685 0.83159817\n",
      " 0.83159817        nan        nan        nan        nan        nan\n",
      "        nan        nan 0.84940639        nan 0.85013699 0.84438356\n",
      " 0.84438356 0.84420091 0.84442922 0.84438356        nan        nan\n",
      "        nan        nan        nan        nan        nan 0.85360731\n",
      "        nan 0.85388128 0.8526484  0.8526484  0.85269406 0.8526484\n",
      " 0.8526484         nan        nan        nan        nan        nan\n",
      "        nan        nan 0.85420091        nan 0.85424658 0.85420091\n",
      " 0.85406393 0.85420091 0.85420091 0.85420091        nan        nan\n",
      "        nan        nan        nan        nan        nan 0.85429224\n",
      "        nan 0.85424658 0.85429224 0.85424658 0.85424658 0.85429224\n",
      " 0.85429224        nan        nan        nan        nan        nan\n",
      "        nan        nan 0.85429224        nan 0.85424658 0.85429224\n",
      " 0.85429224 0.85429224 0.85429224 0.85424658        nan        nan\n",
      "        nan        nan        nan]\n",
      "  warnings.warn(\n"
     ]
    },
    {
     "name": "stdout",
     "output_type": "stream",
     "text": [
      "--------------------------------------------------\n",
      ">>Model:  SVC(random_state=1)\n",
      "parameters:  {'gamma': ['scale', 'auto'], 'kernel': ['poly', 'rbf', 'sigmoid'], 'max_iter': [100], 'C': [0.001, 0.01, 0.1, 1, 10, 100, 1000]}\n",
      "\n",
      "\n"
     ]
    },
    {
     "name": "stderr",
     "output_type": "stream",
     "text": [
      "c:\\users\\koriv\\appdata\\local\\programs\\python\\python39\\lib\\site-packages\\sklearn\\svm\\_base.py:255: ConvergenceWarning: Solver terminated early (max_iter=100).  Consider pre-processing your data with StandardScaler or MinMaxScaler.\n",
      "  warnings.warn('Solver terminated early (max_iter=%i).'\n"
     ]
    },
    {
     "name": "stdout",
     "output_type": "stream",
     "text": [
      "--------------------------------------------------\n",
      ">>Model:  KNeighborsClassifier()\n",
      "parameters:  {'n_neighbors': [1, 5, 7, 10, 15, 20], 'weights': ['uniform', 'distance'], 'metric': ['euclidean', 'manhattan', 'minkowski']}\n",
      "\n",
      "\n",
      "--------------------------------------------------\n",
      ">>Model:  RandomForestClassifier(random_state=1)\n",
      "parameters:  {'n_estimators': [10, 100, 500, 1000], 'criterion': ['gini', 'entropy'], 'max_depth': [10, 50, 100, 1000, None], 'max_features': ['sqrt', 'log2']}\n",
      "\n",
      "\n",
      "--------------------------------------------------\n"
     ]
    }
   ],
   "source": [
    "#Empty DataFrame to store the results from the CrossValidation Matrix\n",
    "full_df = pd.DataFrame()\n",
    "best_algos = {}\n",
    "\n",
    "#Iterate and fit the above specified Model and parameter dictonary\n",
    "for curr_model, model_params in grid.items():\n",
    "    print(\">>Model: \",curr_model)\n",
    "    print(\"parameters: \",model_params)\n",
    "    print('\\n')\n",
    "    ##GridSearch K folds cross validation definition with current model and its parameters\n",
    "    cv_curr =  GridSearchCV(curr_model, model_params, cv=5, return_train_score=False, scoring='accuracy', verbose=0, n_jobs=-1)\n",
    "    #cv_curr =  RandomizedSearchCV(curr_model, model_params, cv=5, n_iter=100, return_train_score=False, scoring='accuracy', verbose=0, n_jobs=-1)\n",
    "    ##fit the data to the defined grid search\n",
    "    cv_curr.fit(X, y)\n",
    "    \n",
    "    ##Create a DataFrame out of the CrossValidation results\n",
    "    all_res = pd.DataFrame(cv_curr.cv_results_)\n",
    "    \n",
    "    ##Create a temp Datframe with only values of 'params', 'mean_test_score' from CrossValidation results\n",
    "    temp = all_res.loc[:, ['params', 'mean_test_score']]\n",
    "    \n",
    "    ##Get the name of the Model in use from the specified Model and parameter dictonary\n",
    "    algo_name = str(curr_model).split('(')[0]\n",
    "    temp['algo'] = algo_name\n",
    "    \n",
    "    ##Merge the temporary dataframes and results to final DataFrame and Dictonary\n",
    "    full_df = pd.concat([full_df, temp])\n",
    "    best_algos[algo_name]={}\n",
    "    best_algos[algo_name]['best_estimator'] = cv_curr.best_estimator_\n",
    "    best_algos[algo_name]['best_mean_test_score'] = cv_curr.best_score_\n",
    "    print('-'*50)"
   ]
  },
  {
   "cell_type": "code",
   "execution_count": 164,
   "id": "52e4cd65",
   "metadata": {},
   "outputs": [
    {
     "data": {
      "text/html": [
       "<div>\n",
       "<style scoped>\n",
       "    .dataframe tbody tr th:only-of-type {\n",
       "        vertical-align: middle;\n",
       "    }\n",
       "\n",
       "    .dataframe tbody tr th {\n",
       "        vertical-align: top;\n",
       "    }\n",
       "\n",
       "    .dataframe thead th {\n",
       "        text-align: right;\n",
       "    }\n",
       "</style>\n",
       "<table border=\"1\" class=\"dataframe\">\n",
       "  <thead>\n",
       "    <tr style=\"text-align: right;\">\n",
       "      <th></th>\n",
       "      <th>params</th>\n",
       "      <th>mean_test_score</th>\n",
       "      <th>algo</th>\n",
       "    </tr>\n",
       "  </thead>\n",
       "  <tbody>\n",
       "    <tr>\n",
       "      <th>79</th>\n",
       "      <td>{'criterion': 'entropy', 'max_depth': None, 'max_features': 'log2', 'n_estimators': 1000}</td>\n",
       "      <td>0.921187</td>\n",
       "      <td>RandomForestClassifier</td>\n",
       "    </tr>\n",
       "    <tr>\n",
       "      <th>63</th>\n",
       "      <td>{'criterion': 'entropy', 'max_depth': 100, 'max_features': 'log2', 'n_estimators': 1000}</td>\n",
       "      <td>0.921187</td>\n",
       "      <td>RandomForestClassifier</td>\n",
       "    </tr>\n",
       "    <tr>\n",
       "      <th>51</th>\n",
       "      <td>{'criterion': 'entropy', 'max_depth': 50, 'max_features': 'sqrt', 'n_estimators': 1000}</td>\n",
       "      <td>0.921187</td>\n",
       "      <td>RandomForestClassifier</td>\n",
       "    </tr>\n",
       "    <tr>\n",
       "      <th>75</th>\n",
       "      <td>{'criterion': 'entropy', 'max_depth': None, 'max_features': 'sqrt', 'n_estimators': 1000}</td>\n",
       "      <td>0.921187</td>\n",
       "      <td>RandomForestClassifier</td>\n",
       "    </tr>\n",
       "    <tr>\n",
       "      <th>55</th>\n",
       "      <td>{'criterion': 'entropy', 'max_depth': 50, 'max_features': 'log2', 'n_estimators': 1000}</td>\n",
       "      <td>0.921187</td>\n",
       "      <td>RandomForestClassifier</td>\n",
       "    </tr>\n",
       "    <tr>\n",
       "      <th>...</th>\n",
       "      <td>...</td>\n",
       "      <td>...</td>\n",
       "      <td>...</td>\n",
       "    </tr>\n",
       "    <tr>\n",
       "      <th>100</th>\n",
       "      <td>{'C': 1000, 'max_iter': 100, 'penalty': 'elasticnet', 'solver': 'newton-cg'}</td>\n",
       "      <td>NaN</td>\n",
       "      <td>LogisticRegression</td>\n",
       "    </tr>\n",
       "    <tr>\n",
       "      <th>101</th>\n",
       "      <td>{'C': 1000, 'max_iter': 100, 'penalty': 'elasticnet', 'solver': 'lbfgs'}</td>\n",
       "      <td>NaN</td>\n",
       "      <td>LogisticRegression</td>\n",
       "    </tr>\n",
       "    <tr>\n",
       "      <th>102</th>\n",
       "      <td>{'C': 1000, 'max_iter': 100, 'penalty': 'elasticnet', 'solver': 'liblinear'}</td>\n",
       "      <td>NaN</td>\n",
       "      <td>LogisticRegression</td>\n",
       "    </tr>\n",
       "    <tr>\n",
       "      <th>103</th>\n",
       "      <td>{'C': 1000, 'max_iter': 100, 'penalty': 'elasticnet', 'solver': 'sag'}</td>\n",
       "      <td>NaN</td>\n",
       "      <td>LogisticRegression</td>\n",
       "    </tr>\n",
       "    <tr>\n",
       "      <th>104</th>\n",
       "      <td>{'C': 1000, 'max_iter': 100, 'penalty': 'elasticnet', 'solver': 'saga'}</td>\n",
       "      <td>NaN</td>\n",
       "      <td>LogisticRegression</td>\n",
       "    </tr>\n",
       "  </tbody>\n",
       "</table>\n",
       "<p>263 rows × 3 columns</p>\n",
       "</div>"
      ],
      "text/plain": [
       "                                                                                        params  \\\n",
       "79   {'criterion': 'entropy', 'max_depth': None, 'max_features': 'log2', 'n_estimators': 1000}   \n",
       "63    {'criterion': 'entropy', 'max_depth': 100, 'max_features': 'log2', 'n_estimators': 1000}   \n",
       "51     {'criterion': 'entropy', 'max_depth': 50, 'max_features': 'sqrt', 'n_estimators': 1000}   \n",
       "75   {'criterion': 'entropy', 'max_depth': None, 'max_features': 'sqrt', 'n_estimators': 1000}   \n",
       "55     {'criterion': 'entropy', 'max_depth': 50, 'max_features': 'log2', 'n_estimators': 1000}   \n",
       "..                                                                                         ...   \n",
       "100               {'C': 1000, 'max_iter': 100, 'penalty': 'elasticnet', 'solver': 'newton-cg'}   \n",
       "101                   {'C': 1000, 'max_iter': 100, 'penalty': 'elasticnet', 'solver': 'lbfgs'}   \n",
       "102               {'C': 1000, 'max_iter': 100, 'penalty': 'elasticnet', 'solver': 'liblinear'}   \n",
       "103                     {'C': 1000, 'max_iter': 100, 'penalty': 'elasticnet', 'solver': 'sag'}   \n",
       "104                    {'C': 1000, 'max_iter': 100, 'penalty': 'elasticnet', 'solver': 'saga'}   \n",
       "\n",
       "     mean_test_score                    algo  \n",
       "79          0.921187  RandomForestClassifier  \n",
       "63          0.921187  RandomForestClassifier  \n",
       "51          0.921187  RandomForestClassifier  \n",
       "75          0.921187  RandomForestClassifier  \n",
       "55          0.921187  RandomForestClassifier  \n",
       "..               ...                     ...  \n",
       "100              NaN      LogisticRegression  \n",
       "101              NaN      LogisticRegression  \n",
       "102              NaN      LogisticRegression  \n",
       "103              NaN      LogisticRegression  \n",
       "104              NaN      LogisticRegression  \n",
       "\n",
       "[263 rows x 3 columns]"
      ]
     },
     "execution_count": 164,
     "metadata": {},
     "output_type": "execute_result"
    }
   ],
   "source": [
    "# Check for the best Classifier Model\n",
    "full_df.sort_values('mean_test_score', ascending=False)"
   ]
  },
  {
   "cell_type": "code",
   "execution_count": 165,
   "id": "04769ec0",
   "metadata": {},
   "outputs": [
    {
     "data": {
      "text/plain": [
       "{'LogisticRegression': {'best_params': LogisticRegression(C=100, penalty='l1', random_state=1, solver='liblinear'),\n",
       "  'best_mean_test_score': 0.8542922374429225},\n",
       " 'SVC': {'best_params': SVC(C=100, max_iter=100, random_state=1),\n",
       "  'best_mean_test_score': 0.7600913242009132},\n",
       " 'KNeighborsClassifier': {'best_params': KNeighborsClassifier(metric='euclidean', n_neighbors=10, weights='distance'),\n",
       "  'best_mean_test_score': 0.870821917808219},\n",
       " 'RandomForestClassifier': {'best_params': RandomForestClassifier(criterion='entropy', max_depth=50, max_features='sqrt',\n",
       "                         n_estimators=1000, random_state=1),\n",
       "  'best_mean_test_score': 0.9211872146118723}}"
      ]
     },
     "execution_count": 165,
     "metadata": {},
     "output_type": "execute_result"
    }
   ],
   "source": [
    "#View the best calssifier Models per each Algorithm and thier scores on the Training Data\n",
    "best_algos"
   ]
  },
  {
   "cell_type": "code",
   "execution_count": 168,
   "id": "9fa0f74f",
   "metadata": {},
   "outputs": [
    {
     "data": {
      "text/plain": [
       "RandomForestClassifier(criterion='entropy', max_depth=50, max_features='sqrt',\n",
       "                       n_estimators=1000, random_state=1)"
      ]
     },
     "execution_count": 168,
     "metadata": {},
     "output_type": "execute_result"
    }
   ],
   "source": [
    "# Get the object of the Best Classifier Algorithm with the best params\n",
    "be = best_algos['RandomForestClassifier']['best_estimator']\n",
    "be"
   ]
  },
  {
   "cell_type": "code",
   "execution_count": 169,
   "id": "32c93944",
   "metadata": {},
   "outputs": [
    {
     "data": {
      "text/plain": [
       "RandomForestClassifier(criterion='entropy', max_depth=50, max_features='sqrt',\n",
       "                       n_estimators=1000, random_state=1)"
      ]
     },
     "execution_count": 169,
     "metadata": {},
     "output_type": "execute_result"
    }
   ],
   "source": [
    "# Fit the best object and params to the training data\n",
    "be.fit(X, y)"
   ]
  },
  {
   "cell_type": "code",
   "execution_count": 36,
   "id": "211fc94d",
   "metadata": {},
   "outputs": [],
   "source": [
    "best_rf = RandomForestClassifier(criterion='entropy', max_depth=50, max_features='sqrt',\n",
    "                         n_estimators=1000, random_state=1)"
   ]
  },
  {
   "cell_type": "code",
   "execution_count": 42,
   "id": "06dbda5d",
   "metadata": {},
   "outputs": [
    {
     "name": "stdout",
     "output_type": "stream",
     "text": [
      ">>scoring of Training Data:  1.0\n",
      ">>scoring of Testing Data:  0.9236627379873074\n"
     ]
    }
   ],
   "source": [
    "#fit on Training Data and Score on Training and Testing Data\n",
    "best_rf.fit(X, y)\n",
    "print(\">>scoring of Training Data: \",best_rf.score(X, y))\n",
    "print(\">>scoring of Testing Data: \",best_rf.score(X_test, y_test))"
   ]
  },
  {
   "cell_type": "markdown",
   "id": "ed1caada",
   "metadata": {},
   "source": [
    "# Check the Confusion Matrix for the Choosen Best Model"
   ]
  },
  {
   "cell_type": "code",
   "execution_count": 44,
   "id": "8860ff26",
   "metadata": {},
   "outputs": [],
   "source": [
    "#Predictions for Test Data\n",
    "preds = best_rf.predict(X_test)"
   ]
  },
  {
   "cell_type": "code",
   "execution_count": 45,
   "id": "70cce762",
   "metadata": {},
   "outputs": [
    {
     "data": {
      "text/plain": [
       "array([[4253,   38],\n",
       "       [ 383,  841]], dtype=int64)"
      ]
     },
     "execution_count": 45,
     "metadata": {},
     "output_type": "execute_result"
    }
   ],
   "source": [
    "confusion_matrix(y_test, preds)"
   ]
  },
  {
   "cell_type": "code",
   "execution_count": 46,
   "id": "33964e1a",
   "metadata": {},
   "outputs": [
    {
     "data": {
      "text/plain": [
       "<sklearn.metrics._plot.confusion_matrix.ConfusionMatrixDisplay at 0x1b82eb88c10>"
      ]
     },
     "execution_count": 46,
     "metadata": {},
     "output_type": "execute_result"
    },
    {
     "data": {
      "image/png": "[encoded data removed]",
      "text/plain": [
       "<Figure size 432x288 with 2 Axes>"
      ]
     },
     "metadata": {
      "needs_background": "light"
     },
     "output_type": "display_data"
    }
   ],
   "source": [
    "plot_confusion_matrix(best_rf, X_test, y_test)"
   ]
  },
  {
   "cell_type": "code",
   "execution_count": 64,
   "id": "f00a5fbc",
   "metadata": {},
   "outputs": [
    {
     "name": "stdout",
     "output_type": "stream",
     "text": [
      ">>Predicted Value Counts: \n",
      "[4636  879] \n",
      "Predicted Normalised Value Counts: \n",
      "0    0.840617\n",
      "1    0.159383\n",
      "dtype: float64\n",
      ">>Original Value Counts: \n",
      "0    4291\n",
      "1    1224\n",
      "Name: loan_status, dtype: int64 \n",
      "Original Normalised Value Counts: \n",
      "0    0.77806\n",
      "1    0.22194\n",
      "Name: loan_status, dtype: float64\n"
     ]
    }
   ],
   "source": [
    "# Check the distributions in the original and predicted Test DataSet\n",
    "print(\">>Predicted Value Counts: \\n%s \\nPredicted Normalised Value Counts: \\n%s\"%(np.bincount(preds), pd.Index(preds).value_counts(normalize=True)))\n",
    "print(\">>Original Value Counts: \\n%s \\nOriginal Normalised Value Counts: \\n%s\"%(y_test.value_counts(), y_test.value_counts(normalize=True)))\n",
    "## seems like the algorithm is over predicting Positives and Under Predicting Negatives"
   ]
  },
  {
   "cell_type": "code",
   "execution_count": 66,
   "id": "dcdce2d2",
   "metadata": {},
   "outputs": [
    {
     "name": "stdout",
     "output_type": "stream",
     "text": [
      "              precision    recall  f1-score   support\n",
      "\n",
      "           0       0.92      0.99      0.95      4291\n",
      "           1       0.96      0.69      0.80      1224\n",
      "\n",
      "    accuracy                           0.92      5515\n",
      "   macro avg       0.94      0.84      0.88      5515\n",
      "weighted avg       0.93      0.92      0.92      5515\n",
      "\n"
     ]
    }
   ],
   "source": [
    "# Check the total generalised errors\n",
    "print(classification_report(y_test, preds))"
   ]
  },
  {
   "cell_type": "markdown",
   "id": "514dc767",
   "metadata": {},
   "source": [
    "# Threshold tuning Based on Generlised error"
   ]
  },
  {
   "cell_type": "markdown",
   "id": "6e06aead",
   "metadata": {},
   "source": [
    "## Precision_Recall_curve"
   ]
  },
  {
   "cell_type": "code",
   "execution_count": 72,
   "id": "f8ebdada",
   "metadata": {},
   "outputs": [
    {
     "data": {
      "text/plain": [
       "<matplotlib.legend.Legend at 0x1b82ed669a0>"
      ]
     },
     "execution_count": 72,
     "metadata": {},
     "output_type": "execute_result"
    },
    {
     "data": {
      "image/png": "[encoded data removed]",
      "text/plain": [
       "<Figure size 432x288 with 1 Axes>"
      ]
     },
     "metadata": {
      "needs_background": "light"
     },
     "output_type": "display_data"
    }
   ],
   "source": [
    "plot_precision_recall_curve(best_rf, X_test, y_test)\n",
    "baseline = y_test.sum() / len(y_test) #fraction of positive samples in the Test data\n",
    "plt.axhline(baseline, ls='--', color='r', label=f'Baseline model ({round(baseline,2)})')\n",
    "plt.legend(loc='best')\n",
    "#AP in the plot is trapezoidal area under the operating points.\n",
    "#baseline: if you've got k training samples for category C in your training set of size n, the baseline classifier would categorise an input to C with probability k/n. A basic model must do better then the baseline."
   ]
  },
  {
   "cell_type": "markdown",
   "id": "7c73668a",
   "metadata": {},
   "source": [
    "## learning Curve  \n",
    "plot of accuracy vs Training samples  \n",
    "used to understand the models tendency to overfit or Underfit.  \n",
    "shows how error metric value changes with respect to the traning set size during training and validation phase.  \n",
    "A proper model should have both validation and training curves converge has the training set size increases.  "
   ]
  },
  {
   "cell_type": "code",
   "execution_count": 73,
   "id": "44a0b2a7",
   "metadata": {},
   "outputs": [],
   "source": [
    "a, b, c = learning_curve(best_rf, X, y, n_jobs=-1, cv=5)"
   ]
  },
  {
   "cell_type": "code",
   "execution_count": 74,
   "id": "715c6f19",
   "metadata": {},
   "outputs": [
    {
     "data": {
      "text/plain": [
       "array([ 1752,  5694,  9636, 13578, 17520])"
      ]
     },
     "execution_count": 74,
     "metadata": {},
     "output_type": "execute_result"
    }
   ],
   "source": [
    "a"
   ]
  },
  {
   "cell_type": "code",
   "execution_count": 75,
   "id": "3d50438e",
   "metadata": {},
   "outputs": [
    {
     "data": {
      "text/plain": [
       "array([[1., 1., 1., 1., 1.],\n",
       "       [1., 1., 1., 1., 1.],\n",
       "       [1., 1., 1., 1., 1.],\n",
       "       [1., 1., 1., 1., 1.],\n",
       "       [1., 1., 1., 1., 1.]])"
      ]
     },
     "execution_count": 75,
     "metadata": {},
     "output_type": "execute_result"
    }
   ],
   "source": [
    "b"
   ]
  },
  {
   "cell_type": "code",
   "execution_count": 76,
   "id": "bbd3e414",
   "metadata": {},
   "outputs": [
    {
     "data": {
      "text/plain": [
       "array([[0.88287671, 0.88835616, 0.89018265, 0.89041096, 0.89703196],\n",
       "       [0.91369863, 0.91164384, 0.91050228, 0.91187215, 0.91187215],\n",
       "       [0.9173516 , 0.91506849, 0.9196347 , 0.91712329, 0.91621005],\n",
       "       [0.92009132, 0.91621005, 0.92305936, 0.92237443, 0.91803653],\n",
       "       [0.92305936, 0.91575342, 0.92328767, 0.92305936, 0.92077626]])"
      ]
     },
     "execution_count": 76,
     "metadata": {},
     "output_type": "execute_result"
    }
   ],
   "source": [
    "c"
   ]
  },
  {
   "cell_type": "code",
   "execution_count": 79,
   "id": "4f1a92aa",
   "metadata": {},
   "outputs": [
    {
     "data": {
      "text/plain": [
       "<matplotlib.legend.Legend at 0x1b82defdd00>"
      ]
     },
     "execution_count": 79,
     "metadata": {},
     "output_type": "execute_result"
    },
    {
     "data": {
      "image/png": "[encoded data removed]",
      "text/plain": [
       "<Figure size 432x288 with 1 Axes>"
      ]
     },
     "metadata": {
      "needs_background": "light"
     },
     "output_type": "display_data"
    }
   ],
   "source": [
    "plt.plot(a, b.mean(axis=1), label='training accuracy')\n",
    "plt.plot(a, c.mean(axis=1),  label='validation accuracy')\n",
    "plt.xlabel('training sample sizes')\n",
    "plt.ylabel('accuracy')\n",
    "plt.legend()\n",
    "# indicates overfiting and high variance\n",
    "# Ovefiting occurs when: High training accuracy, low validation accuracy, Gap/Non-convergent trends between the training and validation curves=> Learnt from the noise."
   ]
  },
  {
   "cell_type": "code",
   "execution_count": null,
   "id": "cb3df0ac",
   "metadata": {},
   "outputs": [],
   "source": []
  },
  {
   "cell_type": "code",
   "execution_count": null,
   "id": "51c383e6",
   "metadata": {},
   "outputs": [],
   "source": []
  },
  {
   "cell_type": "markdown",
   "id": "d908c02d",
   "metadata": {},
   "source": [
    "# Rectification of Overfiting/High Variance  \n",
    "    Add more training samples to allow the model to learn better. or Reduce the training size depending on the learning Curve  \n",
    "\tMake a simpler model/reduce complexity of model:  \n",
    "\t    try reducing number of features  \n",
    "\t    try increasing regularization(lambda)  \n",
    "\t    try pruning the decision tree.  "
   ]
  },
  {
   "cell_type": "code",
   "execution_count": 134,
   "id": "a0f634d7",
   "metadata": {},
   "outputs": [],
   "source": [
    "grid = {    \n",
    "    RandomForestClassifier(random_state=1, n_jobs=-1, class_weight='balanced'):\n",
    "    {'n_estimators':[100,200,300],\n",
    "     'max_depth':[5, 9, 13],\n",
    "     'min_samples_split':[4,6,8]\n",
    "     #'coltf__num_pipe__impute__estimator': [LinearRegression(), RandomForestRegressor(random_state=0),KNeighborsRegressor()] #use if you are using column transformer with Impute function in it.\n",
    "    }\n",
    "}"
   ]
  },
  {
   "cell_type": "code",
   "execution_count": 135,
   "id": "68e69848",
   "metadata": {},
   "outputs": [
    {
     "name": "stdout",
     "output_type": "stream",
     "text": [
      ">>Model:  RandomForestClassifier(class_weight='balanced', n_jobs=-1, random_state=1)\n",
      "parameters:  {'n_estimators': [100, 200, 300], 'max_depth': [5, 9, 13], 'min_samples_split': [4, 6, 8]}\n",
      "\n",
      "\n",
      "--------------------------------------------------\n"
     ]
    }
   ],
   "source": [
    "#Empty DataFrame to store the results from the CrossValidation Matrix\n",
    "full_df = pd.DataFrame()\n",
    "best_algos = {}\n",
    "\n",
    "#Iterate and fit the above specified Model and parameter dictonary\n",
    "for curr_model, model_params in grid.items():\n",
    "    print(\">>Model: \",curr_model)\n",
    "    print(\"parameters: \",model_params)\n",
    "    print('\\n')\n",
    "    ##GridSearch K folds cross validation definition with current model and its parameters\n",
    "    #cv_curr =  GridSearchCV(curr_model, model_params, cv=5, return_train_score=False, scoring='accuracy', verbose=0, n_jobs=-1)\n",
    "    cv_curr =  RandomizedSearchCV(curr_model, model_params, cv=5, n_iter=20, return_train_score=False, scoring='accuracy', verbose=0, n_jobs=-1)\n",
    "    ##fit the data to the defined grid search\n",
    "    cv_curr.fit(X, y)\n",
    "    \n",
    "    ##Create a DataFrame out of the CrossValidation results\n",
    "    all_res = pd.DataFrame(cv_curr.cv_results_)\n",
    "    \n",
    "    ##Create a temp Datframe with only values of 'params', 'mean_test_score' from CrossValidation results\n",
    "    temp = all_res.loc[:, ['params', 'mean_test_score']]\n",
    "    \n",
    "    ##Get the name of the Model in use from the specified Model and parameter dictonary\n",
    "    algo_name = str(curr_model).split('(')[0]\n",
    "    temp['algo'] = algo_name\n",
    "    \n",
    "    ##Merge the temporary dataframes and results to final DataFrame and Dictonary\n",
    "    full_df = pd.concat([full_df, temp])\n",
    "    best_algos[algo_name]={}\n",
    "    best_algos[algo_name]['best_estimator'] = cv_curr.best_estimator_\n",
    "    best_algos[algo_name]['best_mean_test_score'] = cv_curr.best_score_\n",
    "    print('-'*50)"
   ]
  },
  {
   "cell_type": "code",
   "execution_count": 136,
   "id": "0db14177",
   "metadata": {},
   "outputs": [
    {
     "data": {
      "text/html": [
       "<div>\n",
       "<style scoped>\n",
       "    .dataframe tbody tr th:only-of-type {\n",
       "        vertical-align: middle;\n",
       "    }\n",
       "\n",
       "    .dataframe tbody tr th {\n",
       "        vertical-align: top;\n",
       "    }\n",
       "\n",
       "    .dataframe thead th {\n",
       "        text-align: right;\n",
       "    }\n",
       "</style>\n",
       "<table border=\"1\" class=\"dataframe\">\n",
       "  <thead>\n",
       "    <tr style=\"text-align: right;\">\n",
       "      <th></th>\n",
       "      <th>params</th>\n",
       "      <th>mean_test_score</th>\n",
       "      <th>algo</th>\n",
       "    </tr>\n",
       "  </thead>\n",
       "  <tbody>\n",
       "    <tr>\n",
       "      <th>9</th>\n",
       "      <td>{'n_estimators': 100, 'min_samples_split': 4, ...</td>\n",
       "      <td>0.909224</td>\n",
       "      <td>RandomForestClassifier</td>\n",
       "    </tr>\n",
       "    <tr>\n",
       "      <th>17</th>\n",
       "      <td>{'n_estimators': 200, 'min_samples_split': 4, ...</td>\n",
       "      <td>0.909087</td>\n",
       "      <td>RandomForestClassifier</td>\n",
       "    </tr>\n",
       "    <tr>\n",
       "      <th>4</th>\n",
       "      <td>{'n_estimators': 300, 'min_samples_split': 4, ...</td>\n",
       "      <td>0.908767</td>\n",
       "      <td>RandomForestClassifier</td>\n",
       "    </tr>\n",
       "    <tr>\n",
       "      <th>13</th>\n",
       "      <td>{'n_estimators': 200, 'min_samples_split': 6, ...</td>\n",
       "      <td>0.907443</td>\n",
       "      <td>RandomForestClassifier</td>\n",
       "    </tr>\n",
       "    <tr>\n",
       "      <th>12</th>\n",
       "      <td>{'n_estimators': 100, 'min_samples_split': 6, ...</td>\n",
       "      <td>0.906484</td>\n",
       "      <td>RandomForestClassifier</td>\n",
       "    </tr>\n",
       "    <tr>\n",
       "      <th>7</th>\n",
       "      <td>{'n_estimators': 300, 'min_samples_split': 8, ...</td>\n",
       "      <td>0.905708</td>\n",
       "      <td>RandomForestClassifier</td>\n",
       "    </tr>\n",
       "    <tr>\n",
       "      <th>0</th>\n",
       "      <td>{'n_estimators': 100, 'min_samples_split': 4, ...</td>\n",
       "      <td>0.867032</td>\n",
       "      <td>RandomForestClassifier</td>\n",
       "    </tr>\n",
       "    <tr>\n",
       "      <th>5</th>\n",
       "      <td>{'n_estimators': 100, 'min_samples_split': 6, ...</td>\n",
       "      <td>0.866575</td>\n",
       "      <td>RandomForestClassifier</td>\n",
       "    </tr>\n",
       "    <tr>\n",
       "      <th>10</th>\n",
       "      <td>{'n_estimators': 300, 'min_samples_split': 6, ...</td>\n",
       "      <td>0.865205</td>\n",
       "      <td>RandomForestClassifier</td>\n",
       "    </tr>\n",
       "    <tr>\n",
       "      <th>14</th>\n",
       "      <td>{'n_estimators': 300, 'min_samples_split': 8, ...</td>\n",
       "      <td>0.864795</td>\n",
       "      <td>RandomForestClassifier</td>\n",
       "    </tr>\n",
       "    <tr>\n",
       "      <th>2</th>\n",
       "      <td>{'n_estimators': 200, 'min_samples_split': 6, ...</td>\n",
       "      <td>0.864795</td>\n",
       "      <td>RandomForestClassifier</td>\n",
       "    </tr>\n",
       "    <tr>\n",
       "      <th>15</th>\n",
       "      <td>{'n_estimators': 100, 'min_samples_split': 8, ...</td>\n",
       "      <td>0.864475</td>\n",
       "      <td>RandomForestClassifier</td>\n",
       "    </tr>\n",
       "    <tr>\n",
       "      <th>19</th>\n",
       "      <td>{'n_estimators': 200, 'min_samples_split': 4, ...</td>\n",
       "      <td>0.863699</td>\n",
       "      <td>RandomForestClassifier</td>\n",
       "    </tr>\n",
       "    <tr>\n",
       "      <th>11</th>\n",
       "      <td>{'n_estimators': 200, 'min_samples_split': 8, ...</td>\n",
       "      <td>0.862785</td>\n",
       "      <td>RandomForestClassifier</td>\n",
       "    </tr>\n",
       "    <tr>\n",
       "      <th>6</th>\n",
       "      <td>{'n_estimators': 300, 'min_samples_split': 4, ...</td>\n",
       "      <td>0.808630</td>\n",
       "      <td>RandomForestClassifier</td>\n",
       "    </tr>\n",
       "    <tr>\n",
       "      <th>16</th>\n",
       "      <td>{'n_estimators': 300, 'min_samples_split': 8, ...</td>\n",
       "      <td>0.808447</td>\n",
       "      <td>RandomForestClassifier</td>\n",
       "    </tr>\n",
       "    <tr>\n",
       "      <th>3</th>\n",
       "      <td>{'n_estimators': 200, 'min_samples_split': 8, ...</td>\n",
       "      <td>0.807169</td>\n",
       "      <td>RandomForestClassifier</td>\n",
       "    </tr>\n",
       "    <tr>\n",
       "      <th>18</th>\n",
       "      <td>{'n_estimators': 200, 'min_samples_split': 6, ...</td>\n",
       "      <td>0.807169</td>\n",
       "      <td>RandomForestClassifier</td>\n",
       "    </tr>\n",
       "    <tr>\n",
       "      <th>8</th>\n",
       "      <td>{'n_estimators': 100, 'min_samples_split': 4, ...</td>\n",
       "      <td>0.806621</td>\n",
       "      <td>RandomForestClassifier</td>\n",
       "    </tr>\n",
       "    <tr>\n",
       "      <th>1</th>\n",
       "      <td>{'n_estimators': 100, 'min_samples_split': 8, ...</td>\n",
       "      <td>0.806073</td>\n",
       "      <td>RandomForestClassifier</td>\n",
       "    </tr>\n",
       "  </tbody>\n",
       "</table>\n",
       "</div>"
      ],
      "text/plain": [
       "                                               params  mean_test_score  \\\n",
       "9   {'n_estimators': 100, 'min_samples_split': 4, ...         0.909224   \n",
       "17  {'n_estimators': 200, 'min_samples_split': 4, ...         0.909087   \n",
       "4   {'n_estimators': 300, 'min_samples_split': 4, ...         0.908767   \n",
       "13  {'n_estimators': 200, 'min_samples_split': 6, ...         0.907443   \n",
       "12  {'n_estimators': 100, 'min_samples_split': 6, ...         0.906484   \n",
       "7   {'n_estimators': 300, 'min_samples_split': 8, ...         0.905708   \n",
       "0   {'n_estimators': 100, 'min_samples_split': 4, ...         0.867032   \n",
       "5   {'n_estimators': 100, 'min_samples_split': 6, ...         0.866575   \n",
       "10  {'n_estimators': 300, 'min_samples_split': 6, ...         0.865205   \n",
       "14  {'n_estimators': 300, 'min_samples_split': 8, ...         0.864795   \n",
       "2   {'n_estimators': 200, 'min_samples_split': 6, ...         0.864795   \n",
       "15  {'n_estimators': 100, 'min_samples_split': 8, ...         0.864475   \n",
       "19  {'n_estimators': 200, 'min_samples_split': 4, ...         0.863699   \n",
       "11  {'n_estimators': 200, 'min_samples_split': 8, ...         0.862785   \n",
       "6   {'n_estimators': 300, 'min_samples_split': 4, ...         0.808630   \n",
       "16  {'n_estimators': 300, 'min_samples_split': 8, ...         0.808447   \n",
       "3   {'n_estimators': 200, 'min_samples_split': 8, ...         0.807169   \n",
       "18  {'n_estimators': 200, 'min_samples_split': 6, ...         0.807169   \n",
       "8   {'n_estimators': 100, 'min_samples_split': 4, ...         0.806621   \n",
       "1   {'n_estimators': 100, 'min_samples_split': 8, ...         0.806073   \n",
       "\n",
       "                      algo  \n",
       "9   RandomForestClassifier  \n",
       "17  RandomForestClassifier  \n",
       "4   RandomForestClassifier  \n",
       "13  RandomForestClassifier  \n",
       "12  RandomForestClassifier  \n",
       "7   RandomForestClassifier  \n",
       "0   RandomForestClassifier  \n",
       "5   RandomForestClassifier  \n",
       "10  RandomForestClassifier  \n",
       "14  RandomForestClassifier  \n",
       "2   RandomForestClassifier  \n",
       "15  RandomForestClassifier  \n",
       "19  RandomForestClassifier  \n",
       "11  RandomForestClassifier  \n",
       "6   RandomForestClassifier  \n",
       "16  RandomForestClassifier  \n",
       "3   RandomForestClassifier  \n",
       "18  RandomForestClassifier  \n",
       "8   RandomForestClassifier  \n",
       "1   RandomForestClassifier  "
      ]
     },
     "execution_count": 136,
     "metadata": {},
     "output_type": "execute_result"
    }
   ],
   "source": [
    "# Check for the best Classifier Model\n",
    "full_df.sort_values('mean_test_score', ascending=False)"
   ]
  },
  {
   "cell_type": "code",
   "execution_count": 137,
   "id": "0dc26e9f",
   "metadata": {},
   "outputs": [
    {
     "data": {
      "text/plain": [
       "RandomForestClassifier(class_weight='balanced', max_depth=13,\n",
       "                       min_samples_split=4, n_jobs=-1, random_state=1)"
      ]
     },
     "execution_count": 137,
     "metadata": {},
     "output_type": "execute_result"
    }
   ],
   "source": [
    "# Get the object of the Best Classifier Algorithm with the best params\n",
    "be = best_algos['RandomForestClassifier']['best_estimator']\n",
    "be"
   ]
  },
  {
   "cell_type": "code",
   "execution_count": 138,
   "id": "6c8ab22c",
   "metadata": {},
   "outputs": [
    {
     "data": {
      "text/plain": [
       "RandomForestClassifier(class_weight='balanced', max_depth=13,\n",
       "                       min_samples_split=4, n_jobs=-1, random_state=1)"
      ]
     },
     "execution_count": 138,
     "metadata": {},
     "output_type": "execute_result"
    }
   ],
   "source": [
    "# Fit the best object and params to the training data\n",
    "be.fit(X, y)"
   ]
  },
  {
   "cell_type": "code",
   "execution_count": 139,
   "id": "4f5b9fe0",
   "metadata": {},
   "outputs": [
    {
     "name": "stdout",
     "output_type": "stream",
     "text": [
      ">>scoring of Training Data:  0.9524200913242009\n",
      ">>scoring of Testing Data:  0.9097008159564823\n"
     ]
    }
   ],
   "source": [
    "#fit on Training Data and Score on Training and Testing Data\n",
    "be.fit(X, y)\n",
    "print(\">>scoring of Training Data: \",be.score(X, y))\n",
    "print(\">>scoring of Testing Data: \",be.score(X_test, y_test))"
   ]
  },
  {
   "cell_type": "markdown",
   "id": "dbfe11ca",
   "metadata": {},
   "source": [
    "# New learning Curve"
   ]
  },
  {
   "cell_type": "code",
   "execution_count": 140,
   "id": "fec2836c",
   "metadata": {},
   "outputs": [],
   "source": [
    "a, b, c = learning_curve(be, X, y, n_jobs=-1, cv=5)"
   ]
  },
  {
   "cell_type": "code",
   "execution_count": 141,
   "id": "183eb256",
   "metadata": {},
   "outputs": [
    {
     "data": {
      "text/plain": [
       "<matplotlib.legend.Legend at 0x1b82fd1c2e0>"
      ]
     },
     "execution_count": 141,
     "metadata": {},
     "output_type": "execute_result"
    },
    {
     "data": {
      "image/png": "[encoded data removed]",
      "text/plain": [
       "<Figure size 432x288 with 1 Axes>"
      ]
     },
     "metadata": {
      "needs_background": "light"
     },
     "output_type": "display_data"
    }
   ],
   "source": [
    "plt.plot(a, b.mean(axis=1), label='training accuracy')\n",
    "plt.plot(a, c.mean(axis=1),  label='validation accuracy')\n",
    "plt.xlabel('training sample sizes')\n",
    "plt.ylabel('accuracy')\n",
    "plt.legend()"
   ]
  },
  {
   "cell_type": "code",
   "execution_count": null,
   "id": "5d839397",
   "metadata": {},
   "outputs": [],
   "source": []
  }
 ],
 "metadata": {
  "kernelspec": {
   "display_name": "Python 3 (ipykernel)",
   "language": "python",
   "name": "python3"
  },
  "language_info": {
   "codemirror_mode": {
    "name": "ipython",
    "version": 3
   },
   "file_extension": ".py",
   "mimetype": "text/x-python",
   "name": "python",
   "nbconvert_exporter": "python",
   "pygments_lexer": "ipython3",
   "version": "3.9.6"
  }
 },
 "nbformat": 4,
 "nbformat_minor": 5
}
