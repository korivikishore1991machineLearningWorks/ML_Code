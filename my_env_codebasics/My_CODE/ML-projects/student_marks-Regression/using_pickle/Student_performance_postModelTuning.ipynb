{
 "cells": [
  {
   "cell_type": "code",
   "execution_count": 1,
   "id": "af65bc8e",
   "metadata": {},
   "outputs": [],
   "source": [
    "import pandas as pd\n",
    "import numpy as np\n",
    "import matplotlib.pyplot as plt\n",
    "%matplotlib inline\n",
    "import seaborn as sns\n",
    "import pickle\n",
    "from sklearn.model_selection import learning_curve"
   ]
  },
  {
   "cell_type": "markdown",
   "id": "bb6d9fea",
   "metadata": {},
   "source": [
    "# importing the Saved model"
   ]
  },
  {
   "cell_type": "code",
   "execution_count": 2,
   "id": "155f82f3",
   "metadata": {},
   "outputs": [],
   "source": [
    "import pathlib\n",
    "path_to_read_model=str(pathlib.Path.cwd()) #Path of current working Directory\n",
    "with open(path_to_read_model + '\\\\model.pkl', 'rb') as f:\n",
    "    model = pickle.load(f)"
   ]
  },
  {
   "cell_type": "code",
   "execution_count": 3,
   "id": "5f63a3e2",
   "metadata": {},
   "outputs": [
    {
     "data": {
      "text/plain": [
       "Pipeline(steps=[('col_trans',\n",
       "                 ColumnTransformer(remainder='passthrough',\n",
       "                                   transformers=[('pp_num',\n",
       "                                                  Pipeline(steps=[('scaler',\n",
       "                                                                   MinMaxScaler())]),\n",
       "                                                  ['reading score',\n",
       "                                                   'math score']),\n",
       "                                                 ('pp_catN',\n",
       "                                                  Pipeline(steps=[('col_catN',\n",
       "                                                                   SimpleImputer(fill_value='missing',\n",
       "                                                                                 strategy='constant')),\n",
       "                                                                  ('catN',\n",
       "                                                                   OneHotEncoder(handle_unknown='ignore',\n",
       "                                                                                 sparse=False))]),\n",
       "                                                  ['gender', 'race/ethnicity',\n",
       "                                                   'parental level of '\n",
       "                                                   'education',\n",
       "                                                   'lunch',\n",
       "                                                   'test preparation '\n",
       "                                                   'course'])])),\n",
       "                ('model',\n",
       "                 RandomForestRegressor(max_depth=9, min_samples_split=4,\n",
       "                                       n_estimators=300, random_state=0))])"
      ]
     },
     "execution_count": 3,
     "metadata": {},
     "output_type": "execute_result"
    }
   ],
   "source": [
    "model"
   ]
  },
  {
   "cell_type": "markdown",
   "id": "25980d2d",
   "metadata": {},
   "source": [
    "# Target-feature split"
   ]
  },
  {
   "cell_type": "code",
   "execution_count": 4,
   "id": "dd4e650a",
   "metadata": {},
   "outputs": [],
   "source": [
    "df = pd.read_csv('StudentsPerformance.csv')\n",
    "X, y = df.drop('writing score', axis=1), df['writing score']"
   ]
  },
  {
   "cell_type": "markdown",
   "id": "f6a13241",
   "metadata": {},
   "source": [
    "# Checking the learning curve"
   ]
  },
  {
   "cell_type": "code",
   "execution_count": 5,
   "id": "5619135b",
   "metadata": {},
   "outputs": [],
   "source": [
    "a, b, c = learning_curve(estimator = model, x=X, y=y, n_jobs=-1, cv=5, scoring = 'neg_root_mean_squared_error')"
   ]
  },
  {
   "cell_type": "code",
   "execution_count": 6,
   "id": "ada79136",
   "metadata": {},
   "outputs": [
    {
     "data": {
      "text/plain": [
       "<matplotlib.legend.Legend at 0x27dfacfa880>"
      ]
     },
     "execution_count": 6,
     "metadata": {},
     "output_type": "execute_result"
    },
    {
     "data": {
      "image/png": "[encoded data removed]",
      "text/plain": [
       "<Figure size 432x288 with 1 Axes>"
      ]
     },
     "metadata": {
      "needs_background": "light"
     },
     "output_type": "display_data"
    }
   ],
   "source": [
    "plt.plot(a, b.mean(axis=1), label='training MSE')\n",
    "plt.plot(a, c.mean(axis=1),  label='validation MSE')\n",
    "plt.xlabel('training sample sizes')\n",
    "plt.ylabel('neg_root_mean_squared_error')\n",
    "plt.legend()\n",
    "#Overfiting"
   ]
  },
  {
   "cell_type": "markdown",
   "id": "c6b91e1c",
   "metadata": {},
   "source": [
    "# New Predictions  \n",
    "Making predictions on a new data point NOT seen by the model"
   ]
  },
  {
   "cell_type": "code",
   "execution_count": 7,
   "id": "2aa6b788",
   "metadata": {},
   "outputs": [
    {
     "data": {
      "text/html": [
       "<div>\n",
       "<style scoped>\n",
       "    .dataframe tbody tr th:only-of-type {\n",
       "        vertical-align: middle;\n",
       "    }\n",
       "\n",
       "    .dataframe tbody tr th {\n",
       "        vertical-align: top;\n",
       "    }\n",
       "\n",
       "    .dataframe thead th {\n",
       "        text-align: right;\n",
       "    }\n",
       "</style>\n",
       "<table border=\"1\" class=\"dataframe\">\n",
       "  <thead>\n",
       "    <tr style=\"text-align: right;\">\n",
       "      <th></th>\n",
       "      <th>gender</th>\n",
       "      <th>race/ethnicity</th>\n",
       "      <th>parental level of education</th>\n",
       "      <th>lunch</th>\n",
       "      <th>test preparation course</th>\n",
       "      <th>math score</th>\n",
       "      <th>reading score</th>\n",
       "    </tr>\n",
       "  </thead>\n",
       "  <tbody>\n",
       "    <tr>\n",
       "      <th>0</th>\n",
       "      <td>female</td>\n",
       "      <td>group A</td>\n",
       "      <td>high school</td>\n",
       "      <td>standard</td>\n",
       "      <td>completed</td>\n",
       "      <td>50</td>\n",
       "      <td>87</td>\n",
       "    </tr>\n",
       "  </tbody>\n",
       "</table>\n",
       "</div>"
      ],
      "text/plain": [
       "   gender race/ethnicity parental level of education     lunch  \\\n",
       "0  female        group A                 high school  standard   \n",
       "\n",
       "  test preparation course  math score  reading score  \n",
       "0               completed          50             87  "
      ]
     },
     "execution_count": 7,
     "metadata": {},
     "output_type": "execute_result"
    }
   ],
   "source": [
    "# Input features\n",
    "q = pd.DataFrame([['female', 'group A', 'high school', 'standard', 'completed', 50,87]],\n",
    "             columns=X.columns)\n",
    "q"
   ]
  },
  {
   "cell_type": "code",
   "execution_count": 8,
   "id": "946b24f0",
   "metadata": {},
   "outputs": [
    {
     "data": {
      "text/plain": [
       "array([82.80601094])"
      ]
     },
     "execution_count": 8,
     "metadata": {},
     "output_type": "execute_result"
    }
   ],
   "source": [
    "# predicting the writing score\n",
    "model.predict(q)"
   ]
  },
  {
   "cell_type": "code",
   "execution_count": null,
   "id": "113d8267",
   "metadata": {},
   "outputs": [],
   "source": []
  }
 ],
 "metadata": {
  "kernelspec": {
   "display_name": "Python 3 (ipykernel)",
   "language": "python",
   "name": "python3"
  },
  "language_info": {
   "codemirror_mode": {
    "name": "ipython",
    "version": 3
   },
   "file_extension": ".py",
   "mimetype": "text/x-python",
   "name": "python",
   "nbconvert_exporter": "python",
   "pygments_lexer": "ipython3",
   "version": "3.9.6"
  }
 },
 "nbformat": 4,
 "nbformat_minor": 5
}
