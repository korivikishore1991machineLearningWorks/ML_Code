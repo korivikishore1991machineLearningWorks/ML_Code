{
 "cells": [
  {
   "cell_type": "code",
   "execution_count": 10,
   "id": "f093144b",
   "metadata": {},
   "outputs": [],
   "source": [
    "import pickle\n",
    "import pandas as pd\n",
    "import numpy as np\n",
    "from sklearn.pipeline import Pipeline\n",
    "from sklearn.ensemble import RandomForestRegressor\n",
    "from sklearn.model_selection import GridSearchCV"
   ]
  },
  {
   "cell_type": "code",
   "execution_count": 11,
   "id": "816156a8",
   "metadata": {},
   "outputs": [
    {
     "data": {
      "text/html": [
       "<div>\n",
       "<style scoped>\n",
       "    .dataframe tbody tr th:only-of-type {\n",
       "        vertical-align: middle;\n",
       "    }\n",
       "\n",
       "    .dataframe tbody tr th {\n",
       "        vertical-align: top;\n",
       "    }\n",
       "\n",
       "    .dataframe thead th {\n",
       "        text-align: right;\n",
       "    }\n",
       "</style>\n",
       "<table border=\"1\" class=\"dataframe\">\n",
       "  <thead>\n",
       "    <tr style=\"text-align: right;\">\n",
       "      <th></th>\n",
       "      <th>gender</th>\n",
       "      <th>race/ethnicity</th>\n",
       "      <th>parental level of education</th>\n",
       "      <th>lunch</th>\n",
       "      <th>test preparation course</th>\n",
       "      <th>math score</th>\n",
       "      <th>reading score</th>\n",
       "      <th>writing score</th>\n",
       "    </tr>\n",
       "  </thead>\n",
       "  <tbody>\n",
       "    <tr>\n",
       "      <th>0</th>\n",
       "      <td>female</td>\n",
       "      <td>group B</td>\n",
       "      <td>bachelor's degree</td>\n",
       "      <td>standard</td>\n",
       "      <td>none</td>\n",
       "      <td>72</td>\n",
       "      <td>72</td>\n",
       "      <td>74</td>\n",
       "    </tr>\n",
       "    <tr>\n",
       "      <th>1</th>\n",
       "      <td>female</td>\n",
       "      <td>group C</td>\n",
       "      <td>some college</td>\n",
       "      <td>standard</td>\n",
       "      <td>completed</td>\n",
       "      <td>69</td>\n",
       "      <td>90</td>\n",
       "      <td>88</td>\n",
       "    </tr>\n",
       "    <tr>\n",
       "      <th>2</th>\n",
       "      <td>female</td>\n",
       "      <td>group B</td>\n",
       "      <td>master's degree</td>\n",
       "      <td>standard</td>\n",
       "      <td>none</td>\n",
       "      <td>90</td>\n",
       "      <td>95</td>\n",
       "      <td>93</td>\n",
       "    </tr>\n",
       "    <tr>\n",
       "      <th>3</th>\n",
       "      <td>male</td>\n",
       "      <td>group A</td>\n",
       "      <td>associate's degree</td>\n",
       "      <td>free/reduced</td>\n",
       "      <td>none</td>\n",
       "      <td>47</td>\n",
       "      <td>57</td>\n",
       "      <td>44</td>\n",
       "    </tr>\n",
       "    <tr>\n",
       "      <th>4</th>\n",
       "      <td>male</td>\n",
       "      <td>group C</td>\n",
       "      <td>some college</td>\n",
       "      <td>standard</td>\n",
       "      <td>none</td>\n",
       "      <td>76</td>\n",
       "      <td>78</td>\n",
       "      <td>75</td>\n",
       "    </tr>\n",
       "  </tbody>\n",
       "</table>\n",
       "</div>"
      ],
      "text/plain": [
       "   gender race/ethnicity parental level of education         lunch  \\\n",
       "0  female        group B           bachelor's degree      standard   \n",
       "1  female        group C                some college      standard   \n",
       "2  female        group B             master's degree      standard   \n",
       "3    male        group A          associate's degree  free/reduced   \n",
       "4    male        group C                some college      standard   \n",
       "\n",
       "  test preparation course  math score  reading score  writing score  \n",
       "0                    none          72             72             74  \n",
       "1               completed          69             90             88  \n",
       "2                    none          90             95             93  \n",
       "3                    none          47             57             44  \n",
       "4                    none          76             78             75  "
      ]
     },
     "execution_count": 11,
     "metadata": {},
     "output_type": "execute_result"
    }
   ],
   "source": [
    "df = pd.read_csv('StudentsPerformance.csv')\n",
    "df.head()"
   ]
  },
  {
   "cell_type": "markdown",
   "id": "739c62a2",
   "metadata": {},
   "source": [
    "# Target-feature split"
   ]
  },
  {
   "cell_type": "code",
   "execution_count": 12,
   "id": "d4127a1e",
   "metadata": {},
   "outputs": [],
   "source": [
    "X, y = df.drop('writing score', axis=1), df['writing score']"
   ]
  },
  {
   "cell_type": "markdown",
   "id": "3ba50ec4",
   "metadata": {},
   "source": [
    "# Importing the PreProcessor CloumnTransformer model Using Pickle"
   ]
  },
  {
   "cell_type": "code",
   "execution_count": 13,
   "id": "bae6ba48",
   "metadata": {},
   "outputs": [],
   "source": [
    "import pathlib\n",
    "path_to_read_model=str(pathlib.Path.cwd())\n",
    "with open(path_to_read_model + '\\\\preprocessor.pkl', 'rb') as f:\n",
    "    ct = pickle.load(f)"
   ]
  },
  {
   "cell_type": "code",
   "execution_count": 14,
   "id": "786eced2",
   "metadata": {},
   "outputs": [
    {
     "data": {
      "text/plain": [
       "ColumnTransformer(remainder='passthrough',\n",
       "                  transformers=[('pp_num',\n",
       "                                 Pipeline(steps=[('scaler', MinMaxScaler())]),\n",
       "                                 ['reading score', 'math score']),\n",
       "                                ('pp_catN',\n",
       "                                 Pipeline(steps=[('col_catN',\n",
       "                                                  SimpleImputer(fill_value='missing',\n",
       "                                                                strategy='constant')),\n",
       "                                                 ('catN',\n",
       "                                                  OneHotEncoder(handle_unknown='ignore',\n",
       "                                                                sparse=False))]),\n",
       "                                 ['gender', 'race/ethnicity',\n",
       "                                  'parental level of education', 'lunch',\n",
       "                                  'test preparation course'])])"
      ]
     },
     "execution_count": 14,
     "metadata": {},
     "output_type": "execute_result"
    }
   ],
   "source": [
    "ct"
   ]
  },
  {
   "cell_type": "markdown",
   "id": "8786d06d",
   "metadata": {},
   "source": [
    "# Model tuning and fiting"
   ]
  },
  {
   "cell_type": "code",
   "execution_count": 15,
   "id": "6b8d193c",
   "metadata": {},
   "outputs": [],
   "source": [
    "# pipelne with the Data Transformations and model\n",
    "pipe = Pipeline([\n",
    "    ('col_trans', ct),\n",
    "    ('model', RandomForestRegressor(random_state = 0))\n",
    "])\n",
    "\n",
    "# parameters of the model\n",
    "params = {\n",
    "    'model__n_estimators':[100,200,300],\n",
    "    'model__max_depth':[5, 9, 13],\n",
    "    'model__min_samples_split':[2,4,6,8]\n",
    "}\n",
    "\n",
    "# CrossValidation\n",
    "gs = GridSearchCV(pipe, param_grid=params, cv=5, return_train_score=False, scoring='neg_root_mean_squared_error', verbose=1, n_jobs=-1)"
   ]
  },
  {
   "cell_type": "code",
   "execution_count": 16,
   "id": "f03df118",
   "metadata": {},
   "outputs": [
    {
     "name": "stdout",
     "output_type": "stream",
     "text": [
      "Fitting 5 folds for each of 36 candidates, totalling 180 fits\n"
     ]
    },
    {
     "data": {
      "text/plain": [
       "GridSearchCV(cv=5,\n",
       "             estimator=Pipeline(steps=[('col_trans',\n",
       "                                        ColumnTransformer(remainder='passthrough',\n",
       "                                                          transformers=[('pp_num',\n",
       "                                                                         Pipeline(steps=[('scaler',\n",
       "                                                                                          MinMaxScaler())]),\n",
       "                                                                         ['reading '\n",
       "                                                                          'score',\n",
       "                                                                          'math '\n",
       "                                                                          'score']),\n",
       "                                                                        ('pp_catN',\n",
       "                                                                         Pipeline(steps=[('col_catN',\n",
       "                                                                                          SimpleImputer(fill_value='missing',\n",
       "                                                                                                        strategy='constant')),\n",
       "                                                                                         ('catN',\n",
       "                                                                                          OneHotEncoder(handle_unknown='ignore',\n",
       "                                                                                                        sparse=False))]),\n",
       "                                                                         ['gender',\n",
       "                                                                          'race/ethnicity',\n",
       "                                                                          'parental '\n",
       "                                                                          'level '\n",
       "                                                                          'of '\n",
       "                                                                          'education',\n",
       "                                                                          'lunch',\n",
       "                                                                          'test '\n",
       "                                                                          'preparation '\n",
       "                                                                          'course'])])),\n",
       "                                       ('model',\n",
       "                                        RandomForestRegressor(random_state=0))]),\n",
       "             n_jobs=-1,\n",
       "             param_grid={'model__max_depth': [5, 9, 13],\n",
       "                         'model__min_samples_split': [2, 4, 6, 8],\n",
       "                         'model__n_estimators': [100, 200, 300]},\n",
       "             scoring='neg_root_mean_squared_error', verbose=1)"
      ]
     },
     "execution_count": 16,
     "metadata": {},
     "output_type": "execute_result"
    }
   ],
   "source": [
    "# fit the data\n",
    "gs.fit(X, y)"
   ]
  },
  {
   "cell_type": "code",
   "execution_count": 17,
   "id": "1a282f69",
   "metadata": {},
   "outputs": [
    {
     "name": "stdout",
     "output_type": "stream",
     "text": [
      ">> best estimator:  Pipeline(steps=[('col_trans',\n",
      "                 ColumnTransformer(remainder='passthrough',\n",
      "                                   transformers=[('pp_num',\n",
      "                                                  Pipeline(steps=[('scaler',\n",
      "                                                                   MinMaxScaler())]),\n",
      "                                                  ['reading score',\n",
      "                                                   'math score']),\n",
      "                                                 ('pp_catN',\n",
      "                                                  Pipeline(steps=[('col_catN',\n",
      "                                                                   SimpleImputer(fill_value='missing',\n",
      "                                                                                 strategy='constant')),\n",
      "                                                                  ('catN',\n",
      "                                                                   OneHotEncoder(handle_unknown='ignore',\n",
      "                                                                                 sparse=False))]),\n",
      "                                                  ['gender', 'race/ethnicity',\n",
      "                                                   'parental level of '\n",
      "                                                   'education',\n",
      "                                                   'lunch',\n",
      "                                                   'test preparation '\n",
      "                                                   'course'])])),\n",
      "                ('model',\n",
      "                 RandomForestRegressor(max_depth=9, min_samples_split=4,\n",
      "                                       n_estimators=300, random_state=0))])\n",
      ">> best_score:  -4.035603481405845\n"
     ]
    }
   ],
   "source": [
    "# Check for the best parameters and its score\n",
    "print(\">> best estimator: \",gs.best_estimator_)\n",
    "print(\">> best_score: \",gs.best_score_)"
   ]
  },
  {
   "cell_type": "markdown",
   "id": "a09d652e",
   "metadata": {},
   "source": [
    "# Saving the best estimator Model"
   ]
  },
  {
   "cell_type": "code",
   "execution_count": 18,
   "id": "37bb8248",
   "metadata": {},
   "outputs": [],
   "source": [
    "import pathlib\n",
    "path_to_write_output=str(pathlib.Path.cwd()) #Path of current working Directory\n",
    "with open(path_to_write_output + '\\\\model.pkl', 'wb') as handle:\n",
    " pickle.dump(gs.best_estimator_, handle)"
   ]
  },
  {
   "cell_type": "code",
   "execution_count": null,
   "id": "10c4aadc",
   "metadata": {},
   "outputs": [],
   "source": []
  }
 ],
 "metadata": {
  "kernelspec": {
   "display_name": "Python 3 (ipykernel)",
   "language": "python",
   "name": "python3"
  },
  "language_info": {
   "codemirror_mode": {
    "name": "ipython",
    "version": 3
   },
   "file_extension": ".py",
   "mimetype": "text/x-python",
   "name": "python",
   "nbconvert_exporter": "python",
   "pygments_lexer": "ipython3",
   "version": "3.9.6"
  }
 },
 "nbformat": 4,
 "nbformat_minor": 5
}
