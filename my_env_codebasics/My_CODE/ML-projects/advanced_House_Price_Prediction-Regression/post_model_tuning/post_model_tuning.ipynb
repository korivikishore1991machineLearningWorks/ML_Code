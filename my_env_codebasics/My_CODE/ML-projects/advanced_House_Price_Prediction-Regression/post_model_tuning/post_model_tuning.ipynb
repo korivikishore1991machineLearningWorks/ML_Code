{
 "cells": [
  {
   "cell_type": "code",
   "execution_count": 1,
   "id": "da6cdb32",
   "metadata": {},
   "outputs": [],
   "source": [
    "# ploting libraries\n",
    "import matplotlib.pyplot as plt\n",
    "%matplotlib inline\n",
    "\n",
    "# import PreProcessing functions\n",
    "import sys \n",
    "import os\n",
    "sys.path.append(os.path.abspath(\"C:\\\\Users\\\\koriv\\\\Desktop\\\\MachineLearning_DataScience\\\\Hands_On_Machine_Learning\\\\my_env_codebasics\\\\My_CODE\\\\ML-projects\\\\advanced_House_Price_Prediction-Regression\\\\preProcessingObjects_list\"))\n",
    "from advanced_House_Price_Prediction_PreProcessing import *\n",
    "\n",
    "\n",
    "# deplyment libraries\n",
    "import pickle\n",
    "\n",
    "# Importing required framework libraries\n",
    "import pandas as pd\n",
    "import numpy as np\n",
    "\n",
    "# Import required pipeline and transformation libraries\n",
    "from sklearn.compose import ColumnTransformer\n",
    "from sklearn.pipeline import Pipeline\n",
    "\n",
    "# Import processing and evaluation libraries\n",
    "from sklearn.preprocessing import OneHotEncoder, OrdinalEncoder, MinMaxScaler\n",
    "from sklearn.experimental import enable_iterative_imputer\n",
    "from sklearn.impute import SimpleImputer, IterativeImputer, KNNImputer\n",
    "from sklearn.model_selection import GridSearchCV\n",
    "\n",
    "# Regressors for Data\n",
    "from sklearn.linear_model import Lasso\n",
    "from sklearn.ensemble import RandomForestRegressor\n",
    "\n",
    "# Regressors for Imputer\n",
    "from sklearn.linear_model import BayesianRidge\n",
    "from sklearn.tree import DecisionTreeRegressor\n",
    "from sklearn.ensemble import ExtraTreesRegressor\n",
    "from sklearn.neighbors import KNeighborsRegressor\n",
    "\n",
    "## for feature slection\n",
    "from sklearn.feature_selection import SelectFromModel\n",
    "\n",
    "## for metrics\n",
    "from sklearn.metrics import explained_variance_score\n",
    "from sklearn.metrics import max_error\n",
    "from sklearn.metrics import mean_squared_error\n",
    "from sklearn.metrics import r2_score\n",
    "\n",
    "#fit evaluation\n",
    "from sklearn.model_selection import learning_curve\n",
    "\n",
    "# to visualise al the columns in the dataframe\n",
    "pd.pandas.set_option('display.max_columns', None)"
   ]
  },
  {
   "cell_type": "markdown",
   "id": "db4871f8",
   "metadata": {},
   "source": [
    "# Import UnProcessed features"
   ]
  },
  {
   "cell_type": "code",
   "execution_count": 7,
   "id": "77d63a26",
   "metadata": {},
   "outputs": [],
   "source": [
    "#Import training features\n",
    "import pathlib\n",
    "path_to_read_model = 'C:\\\\Users\\\\koriv\\\\Desktop\\\\MachineLearning_DataScience\\\\Hands_On_Machine_Learning\\\\my_env_codebasics\\\\My_CODE\\\\ML-projects\\\\advanced_House_Price_Prediction-Regression\\\\probleam_study' #Path of current working Directory\n",
    "with open(path_to_read_model + '\\\\trainFeatures_list.pkl', 'rb') as f:\n",
    "    X, y = pickle.load(f)"
   ]
  },
  {
   "cell_type": "markdown",
   "id": "71c10e7c",
   "metadata": {},
   "source": [
    "# Model Validation on Training Data"
   ]
  },
  {
   "cell_type": "markdown",
   "id": "6415cbe3",
   "metadata": {},
   "source": [
    "## Verify the match of the Processed Data column Names"
   ]
  },
  {
   "cell_type": "code",
   "execution_count": 3,
   "id": "122bc21e",
   "metadata": {},
   "outputs": [],
   "source": [
    "#Import testing features\n",
    "import pathlib\n",
    "path_to_read_model = 'C:\\\\Users\\\\koriv\\\\Desktop\\\\MachineLearning_DataScience\\\\Hands_On_Machine_Learning\\\\my_env_codebasics\\\\My_CODE\\\\ML-projects\\\\advanced_House_Price_Prediction-Regression\\\\encoding_scaling_imputation_modelling' #Path of current working Directory\n",
    "with open(path_to_read_model + '\\\\feature_ColumnNames.pkl', 'rb') as f:\n",
    "    feature_ColumnNames = pickle.load(f)"
   ]
  },
  {
   "cell_type": "code",
   "execution_count": 8,
   "id": "5608f8c3",
   "metadata": {},
   "outputs": [
    {
     "data": {
      "text/plain": [
       "array([ True,  True,  True,  True,  True,  True,  True,  True])"
      ]
     },
     "execution_count": 8,
     "metadata": {},
     "output_type": "execute_result"
    }
   ],
   "source": [
    "X.columns == feature_ColumnNames"
   ]
  },
  {
   "cell_type": "markdown",
   "id": "0908416b",
   "metadata": {},
   "source": [
    "## load Data PreProcessing"
   ]
  },
  {
   "cell_type": "code",
   "execution_count": 5,
   "id": "05906777",
   "metadata": {},
   "outputs": [
    {
     "name": "stdout",
     "output_type": "stream",
     "text": [
      "column: size, lower_limit: 0.5, upper_limit: 4.5\n",
      "column: total_sqft, lower_limit: 215.0, upper_limit: 2575.0\n",
      "column: bath, lower_limit: 0.5, upper_limit: 4.5\n",
      "column: balcony, lower_limit: -0.5, upper_limit: 3.5\n"
     ]
    }
   ],
   "source": [
    "# Define a function to apply the imported functions\n",
    "def preProcessing(featureDF, targetDF, function_list):\n",
    "    for function in function_list:\n",
    "        featureDF, targetDF = function(featureDF, targetDF)\n",
    "    return featureDF, targetDF\n",
    "\n",
    "X, y = preProcessing(X, y, [Transformations, outlierRemoval])"
   ]
  },
  {
   "cell_type": "markdown",
   "id": "4d7564cd",
   "metadata": {},
   "source": [
    "## Encoding and Modeling"
   ]
  },
  {
   "cell_type": "code",
   "execution_count": 6,
   "id": "de23b4a3",
   "metadata": {},
   "outputs": [],
   "source": [
    "#Import testing features\n",
    "import pathlib\n",
    "path_to_read_model = 'C:\\\\Users\\\\koriv\\\\Desktop\\\\MachineLearning_DataScience\\\\Hands_On_Machine_Learning\\\\my_env_codebasics\\\\My_CODE\\\\ML-projects\\\\advanced_House_Price_Prediction-Regression\\\\encoding_scaling_imputation_modelling' #Path of current working Directory\n",
    "with open(path_to_read_model + '\\\\estimators.pkl', 'rb') as f:\n",
    "    ct_O, best_algos = pickle.load(f)"
   ]
  },
  {
   "cell_type": "code",
   "execution_count": 7,
   "id": "768eba95",
   "metadata": {
    "scrolled": true
   },
   "outputs": [],
   "source": [
    "X[X.columns] = ct_O.transform(X)"
   ]
  },
  {
   "cell_type": "code",
   "execution_count": 8,
   "id": "36262dcf",
   "metadata": {},
   "outputs": [
    {
     "data": {
      "text/plain": [
       "{'RandomForestRegressor': {'best_estimator': Pipeline(steps=[('ct_ohe_sca',\n",
       "                   ColumnTransformer(transformers=[('pp_catN',\n",
       "                                                    Pipeline(steps=[('col_catN',\n",
       "                                                                     SimpleImputer(fill_value='missing',\n",
       "                                                                                   strategy='constant')),\n",
       "                                                                    ('catN',\n",
       "                                                                     OneHotEncoder(handle_unknown='ignore',\n",
       "                                                                                   sparse=False))]),\n",
       "                                                    ['availability', 'location']),\n",
       "                                                   ('pp_num',\n",
       "                                                    Pipeline(steps=[('scaler',\n",
       "                                                                     MinMaxScaler())]),\n",
       "                                                    ['size', 'total_sqft', 'bath',\n",
       "                                                     'balcony', 'area_type'])])),\n",
       "                  ('imputer', IterativeImputer(estimator=BayesianRidge())),\n",
       "                  ('model',\n",
       "                   RandomForestRegressor(max_depth=13, min_samples_split=8,\n",
       "                                         n_estimators=300, random_state=0))]),\n",
       "  'best_mean_test_score': -44.48010156813912},\n",
       " 'Lasso': {'best_estimator': Pipeline(steps=[('ct_ohe_sca',\n",
       "                   ColumnTransformer(transformers=[('pp_catN',\n",
       "                                                    Pipeline(steps=[('col_catN',\n",
       "                                                                     SimpleImputer(fill_value='missing',\n",
       "                                                                                   strategy='constant')),\n",
       "                                                                    ('catN',\n",
       "                                                                     OneHotEncoder(handle_unknown='ignore',\n",
       "                                                                                   sparse=False))]),\n",
       "                                                    ['availability', 'location']),\n",
       "                                                   ('pp_num',\n",
       "                                                    Pipeline(steps=[('scaler',\n",
       "                                                                     MinMaxScaler())]),\n",
       "                                                    ['size', 'total_sqft', 'bath',\n",
       "                                                     'balcony', 'area_type'])])),\n",
       "                  ('imputer', IterativeImputer(estimator=BayesianRidge())),\n",
       "                  ('model', Lasso(alpha=0.1, max_iter=100, random_state=0))]),\n",
       "  'best_mean_test_score': -48.0947463453915}}"
      ]
     },
     "execution_count": 8,
     "metadata": {},
     "output_type": "execute_result"
    }
   ],
   "source": [
    "best_algos"
   ]
  },
  {
   "cell_type": "markdown",
   "id": "40232d63",
   "metadata": {},
   "source": [
    "## Random Forest Regressor on Training Data"
   ]
  },
  {
   "cell_type": "code",
   "execution_count": 9,
   "id": "c923d7fe",
   "metadata": {},
   "outputs": [],
   "source": [
    "# Get the object of the Best RandomForestRegressor Algorithm with the best params\n",
    "be_RF = best_algos['RandomForestRegressor']['best_estimator']"
   ]
  },
  {
   "cell_type": "code",
   "execution_count": 10,
   "id": "bcdb742a",
   "metadata": {},
   "outputs": [],
   "source": [
    "# View the model coeeficients\n",
    "#be_RF.named_steps['model'].coef_ #coef_ and intercept_ represents the hyperplane. RandomForestRegressor uses instead identify a set of decisions based on the inputs."
   ]
  },
  {
   "cell_type": "code",
   "execution_count": 14,
   "id": "01883e86",
   "metadata": {},
   "outputs": [],
   "source": [
    "# View the model intercept\n",
    "#be_RF.named_steps['model'].intercept_ #No intercept has model is Desicion Tree based."
   ]
  },
  {
   "cell_type": "code",
   "execution_count": 20,
   "id": "d5068a1c",
   "metadata": {},
   "outputs": [
    {
     "data": {
      "text/plain": [
       "0.7758260290162082"
      ]
     },
     "execution_count": 20,
     "metadata": {},
     "output_type": "execute_result"
    }
   ],
   "source": [
    "be_RF.score(X, y) #Default is explained_variance_score"
   ]
  },
  {
   "cell_type": "markdown",
   "id": "0b8ce258",
   "metadata": {},
   "source": [
    "## Model evaluation metrics RandomForestRegressor"
   ]
  },
  {
   "cell_type": "code",
   "execution_count": 16,
   "id": "cd7eb943",
   "metadata": {},
   "outputs": [],
   "source": [
    "y_pred_RF = be_RF.predict(X)"
   ]
  },
  {
   "cell_type": "code",
   "execution_count": 26,
   "id": "e4058dd8",
   "metadata": {},
   "outputs": [
    {
     "name": "stdout",
     "output_type": "stream",
     "text": [
      "mean of Predicted values:  82.89575425491685\n",
      "mean of True values:  83.17977396449703\n"
     ]
    }
   ],
   "source": [
    "## Mean of Predicted and True Targets\n",
    "print(\"mean of Predicted values: \",np.mean(y_pred_RF, axis = None))\n",
    "print(\"mean of True values: \",np.mean(y, axis = None))"
   ]
  },
  {
   "cell_type": "markdown",
   "id": "b3fbacf5",
   "metadata": {},
   "source": [
    "### Using explained_variance_score \n",
    "Also called adjusted R2. Best value is 1, values close to 0 means less effcient model  \n",
    "If y_pred is the estimated target output, y the corresponding (correct) target output, and VAR is Variance, the square of the standard deviation, then the explained variance is estimated as 1-VAR(y-y_pred)/VAR(y)  "
   ]
  },
  {
   "cell_type": "code",
   "execution_count": 19,
   "id": "97a8e081",
   "metadata": {},
   "outputs": [
    {
     "data": {
      "text/plain": [
       "0.7758446661049048"
      ]
     },
     "execution_count": 19,
     "metadata": {},
     "output_type": "execute_result"
    }
   ],
   "source": [
    "explained_variance_score(y, y_pred_RF)"
   ]
  },
  {
   "cell_type": "markdown",
   "id": "d341a3e5",
   "metadata": {},
   "source": [
    "### Using max_error  \n",
    " max_error function computes the maximum residual error , a metric that captures the worst case error between the predicted value and the true value.  "
   ]
  },
  {
   "cell_type": "code",
   "execution_count": 9,
   "id": "e6a1bd33",
   "metadata": {},
   "outputs": [
    {
     "ename": "NameError",
     "evalue": "name 'y_pred_RF' is not defined",
     "output_type": "error",
     "traceback": [
      "\u001b[1;31m---------------------------------------------------------------------------\u001b[0m",
      "\u001b[1;31mNameError\u001b[0m                                 Traceback (most recent call last)",
      "\u001b[1;32m~\\AppData\\Local\\Temp/ipykernel_2220/3584715708.py\u001b[0m in \u001b[0;36m<module>\u001b[1;34m\u001b[0m\n\u001b[1;32m----> 1\u001b[1;33m \u001b[0mmax_error\u001b[0m\u001b[1;33m(\u001b[0m\u001b[0my\u001b[0m\u001b[1;33m,\u001b[0m \u001b[0my_pred_RF\u001b[0m\u001b[1;33m)\u001b[0m\u001b[1;33m\u001b[0m\u001b[1;33m\u001b[0m\u001b[0m\n\u001b[0m",
      "\u001b[1;31mNameError\u001b[0m: name 'y_pred_RF' is not defined"
     ]
    }
   ],
   "source": [
    "max_error(y, y_pred_RF)"
   ]
  },
  {
   "cell_type": "markdown",
   "id": "cb69b505",
   "metadata": {},
   "source": [
    "## Using neg_root_mean_squared_error  \n",
    "Sum of squareroot of Squared differences between the actual and predicted values divided by the number of samples  "
   ]
  },
  {
   "cell_type": "code",
   "execution_count": 29,
   "id": "f3c4bbcb",
   "metadata": {},
   "outputs": [
    {
     "data": {
      "text/plain": [
       "31.149568532811717"
      ]
     },
     "execution_count": 29,
     "metadata": {},
     "output_type": "execute_result"
    }
   ],
   "source": [
    "mean_squared_error(y, y_pred_RF, squared=False)"
   ]
  },
  {
   "cell_type": "markdown",
   "id": "93605b7d",
   "metadata": {},
   "source": [
    "### Using R2(r2_score)  \n",
    "Best value is 1, values close to 0 means less effcient model  \n",
    "If y_pred is the estimated target output, y the corresponding (correct) target output, and VAR is Variance, the square of the standard deviation, then the explained variance is estimated as 1-VAR(y-y_pred)/VAR(y-y_mean)  \n",
    "Take VAR(y-y_mean) as the base line. which means y_mean as a constant prediction for all values of the features  "
   ]
  },
  {
   "cell_type": "code",
   "execution_count": 32,
   "id": "8c69f0d4",
   "metadata": {},
   "outputs": [
    {
     "data": {
      "text/plain": [
       "0.7758260290162082"
      ]
     },
     "execution_count": 32,
     "metadata": {},
     "output_type": "execute_result"
    }
   ],
   "source": [
    "r2_score(y, y_pred_RF)"
   ]
  },
  {
   "cell_type": "markdown",
   "id": "93301bb1",
   "metadata": {},
   "source": [
    "## Fit evaluation using learning Curve"
   ]
  },
  {
   "cell_type": "markdown",
   "id": "cc302113",
   "metadata": {},
   "source": [
    "### learning curve for neg_mean_squared_error"
   ]
  },
  {
   "cell_type": "code",
   "execution_count": 33,
   "id": "1d2cd001",
   "metadata": {},
   "outputs": [
    {
     "data": {
      "text/plain": [
       "(4225, 7)"
      ]
     },
     "execution_count": 33,
     "metadata": {},
     "output_type": "execute_result"
    }
   ],
   "source": [
    "X.shape\n"
   ]
  },
  {
   "cell_type": "code",
   "execution_count": 35,
   "id": "010dfa35",
   "metadata": {},
   "outputs": [],
   "source": [
    "train_sizes, train_scores, validation_scores = learning_curve(\n",
    "estimator = be_RF,\n",
    "X = X,\n",
    "y = y, cv = 5,\n",
    "scoring = 'neg_mean_squared_error') #optionally can pass train_sizes = train_sizes for custom training sizes"
   ]
  },
  {
   "cell_type": "code",
   "execution_count": 42,
   "id": "fb0ee3ef",
   "metadata": {},
   "outputs": [
    {
     "data": {
      "text/plain": [
       "<matplotlib.legend.Legend at 0x255bc7d5970>"
      ]
     },
     "execution_count": 42,
     "metadata": {},
     "output_type": "execute_result"
    },
    {
     "data": {
      "image/png": "[encoded data removed]",
      "text/plain": [
       "<Figure size 432x288 with 1 Axes>"
      ]
     },
     "metadata": {
      "needs_background": "light"
     },
     "output_type": "display_data"
    }
   ],
   "source": [
    "plt.plot(train_sizes, train_scores.mean(axis=1), label='training neg_mean_squared_error')\n",
    "plt.plot(train_sizes, validation_scores.mean(axis=1),  label='validation neg_mean_squared_error')\n",
    "plt.xlabel('training sample sizes')\n",
    "plt.ylabel('neg_mean_squared_error')\n",
    "plt.legend()\n",
    "# indicates overfiting and high variance\n",
    "# Ovefiting occurs when: High training accuracy, low validation accuracy, Gap/Non-convergent trends between the training and validation curves=> Learnt from the noise."
   ]
  },
  {
   "cell_type": "markdown",
   "id": "ab677a75",
   "metadata": {},
   "source": [
    "### learning curve for explained_variance"
   ]
  },
  {
   "cell_type": "code",
   "execution_count": 43,
   "id": "5f189764",
   "metadata": {},
   "outputs": [],
   "source": [
    "train_sizes, train_scores, validation_scores = learning_curve(\n",
    "estimator = be_RF,\n",
    "X = X,\n",
    "y = y, cv = 5,\n",
    "scoring = 'explained_variance') #optionally can pass train_sizes = train_sizes for custom training sizes"
   ]
  },
  {
   "cell_type": "code",
   "execution_count": 44,
   "id": "3e95a4bf",
   "metadata": {},
   "outputs": [
    {
     "data": {
      "text/plain": [
       "<matplotlib.legend.Legend at 0x255bc855580>"
      ]
     },
     "execution_count": 44,
     "metadata": {},
     "output_type": "execute_result"
    },
    {
     "data": {
      "image/png": "[encoded data removed]",
      "text/plain": [
       "<Figure size 432x288 with 1 Axes>"
      ]
     },
     "metadata": {
      "needs_background": "light"
     },
     "output_type": "display_data"
    }
   ],
   "source": [
    "plt.plot(train_sizes, train_scores.mean(axis=1), label='training explained_variance')\n",
    "plt.plot(train_sizes, validation_scores.mean(axis=1),  label='validation explained_variance')\n",
    "plt.xlabel('training sample sizes')\n",
    "plt.ylabel('explained_variance')\n",
    "plt.legend()\n",
    "# indicates overfiting and high variance\n",
    "# Ovefiting occurs when: High training accuracy, low validation accuracy, Gap/Non-convergent trends between the training and validation curves=> Learnt from the noise."
   ]
  },
  {
   "cell_type": "markdown",
   "id": "55dc2d85",
   "metadata": {},
   "source": [
    "## Lasso Regressor on Training Data"
   ]
  },
  {
   "cell_type": "code",
   "execution_count": 45,
   "id": "787948b7",
   "metadata": {},
   "outputs": [],
   "source": [
    "# Get the object of the Best Lasso Algorithm with the best params\n",
    "be_Lasso = best_algos['Lasso']['best_estimator']"
   ]
  },
  {
   "cell_type": "code",
   "execution_count": 46,
   "id": "be4bfde2",
   "metadata": {},
   "outputs": [
    {
     "data": {
      "text/plain": [
       "array([-0.00000000e+00, -1.05038294e+00,  1.98027688e+00,  6.90292541e-01,\n",
       "        0.00000000e+00,  0.00000000e+00, -0.00000000e+00,  0.00000000e+00,\n",
       "        8.77835065e+00, -2.23535901e+00, -0.00000000e+00, -0.00000000e+00,\n",
       "       -0.00000000e+00,  3.09830665e+01, -0.00000000e+00,  0.00000000e+00,\n",
       "        0.00000000e+00,  0.00000000e+00, -0.00000000e+00, -0.00000000e+00,\n",
       "        0.00000000e+00, -0.00000000e+00, -0.00000000e+00, -0.00000000e+00,\n",
       "       -0.00000000e+00, -0.00000000e+00, -0.00000000e+00,  8.29313394e+00,\n",
       "        0.00000000e+00,  4.17657927e+00,  0.00000000e+00,  0.00000000e+00,\n",
       "       -1.69868812e+00,  2.06472550e+01, -0.00000000e+00, -0.00000000e+00,\n",
       "       -0.00000000e+00,  0.00000000e+00, -0.00000000e+00, -0.00000000e+00,\n",
       "       -0.00000000e+00,  0.00000000e+00,  0.00000000e+00,  0.00000000e+00,\n",
       "       -3.48057124e+00, -0.00000000e+00, -0.00000000e+00,  0.00000000e+00,\n",
       "       -0.00000000e+00, -1.76286642e+00, -1.34489433e+01, -0.00000000e+00,\n",
       "        2.01665773e+01, -0.00000000e+00,  0.00000000e+00, -0.00000000e+00,\n",
       "        0.00000000e+00,  0.00000000e+00,  3.02461673e+00,  1.36501458e+00,\n",
       "       -0.00000000e+00, -0.00000000e+00, -0.00000000e+00,  0.00000000e+00,\n",
       "       -0.00000000e+00, -0.00000000e+00,  0.00000000e+00,  0.00000000e+00,\n",
       "        0.00000000e+00,  0.00000000e+00,  0.00000000e+00,  5.80675940e+01,\n",
       "       -0.00000000e+00, -0.00000000e+00, -0.00000000e+00,  0.00000000e+00,\n",
       "       -0.00000000e+00, -0.00000000e+00, -4.26141931e+00,  0.00000000e+00,\n",
       "       -0.00000000e+00,  0.00000000e+00, -0.00000000e+00, -0.00000000e+00,\n",
       "        0.00000000e+00, -0.00000000e+00, -0.00000000e+00,  0.00000000e+00,\n",
       "        3.61969435e+01, -0.00000000e+00, -0.00000000e+00,  0.00000000e+00,\n",
       "       -0.00000000e+00, -0.00000000e+00,  0.00000000e+00,  0.00000000e+00,\n",
       "        0.00000000e+00,  6.05986888e+01,  0.00000000e+00,  0.00000000e+00,\n",
       "        4.46321386e+00,  0.00000000e+00,  0.00000000e+00,  0.00000000e+00,\n",
       "        0.00000000e+00,  0.00000000e+00, -0.00000000e+00,  1.04307661e+02,\n",
       "       -0.00000000e+00, -0.00000000e+00,  0.00000000e+00, -7.39276575e+00,\n",
       "        8.35487076e-03, -0.00000000e+00, -0.00000000e+00,  0.00000000e+00,\n",
       "       -1.86774232e+00, -0.00000000e+00, -0.00000000e+00,  0.00000000e+00,\n",
       "        0.00000000e+00, -0.00000000e+00, -0.00000000e+00, -0.00000000e+00,\n",
       "        0.00000000e+00, -0.00000000e+00, -0.00000000e+00, -0.00000000e+00,\n",
       "        0.00000000e+00,  0.00000000e+00,  9.88999607e+00,  0.00000000e+00,\n",
       "        1.88407359e+02,  3.37735595e+01, -4.23012231e+00, -6.45071462e+01])"
      ]
     },
     "execution_count": 46,
     "metadata": {},
     "output_type": "execute_result"
    }
   ],
   "source": [
    "# View the model coeeficients\n",
    "be_Lasso.named_steps['model'].coef_\n",
    "# Zero value in the coefficients indicates multicollnear columns, these columns can be eliminated in the future selection process."
   ]
  },
  {
   "cell_type": "code",
   "execution_count": 47,
   "id": "f6633a6f",
   "metadata": {},
   "outputs": [
    {
     "data": {
      "text/plain": [
       "11.615967376628333"
      ]
     },
     "execution_count": 47,
     "metadata": {},
     "output_type": "execute_result"
    }
   ],
   "source": [
    "# View the model intercept\n",
    "be_Lasso.named_steps['model'].intercept_"
   ]
  },
  {
   "cell_type": "code",
   "execution_count": 48,
   "id": "8614a6a7",
   "metadata": {},
   "outputs": [],
   "source": [
    "# Using SelectFromModel to select the features\n",
    "#feature_sel_model = SelectFromModel(be_Lasso)\n",
    "#feature_sel_model.fit(X, y)\n",
    "#feature_sel_model.get_support()"
   ]
  },
  {
   "cell_type": "markdown",
   "id": "a20fc91e",
   "metadata": {},
   "source": [
    "## Model evaluation metrics Lasso Regressor"
   ]
  },
  {
   "cell_type": "code",
   "execution_count": 49,
   "id": "34a6673f",
   "metadata": {},
   "outputs": [],
   "source": [
    "y_pred_Lasso = be_RF.predict(X)"
   ]
  },
  {
   "cell_type": "code",
   "execution_count": 50,
   "id": "c289c1a4",
   "metadata": {},
   "outputs": [
    {
     "name": "stdout",
     "output_type": "stream",
     "text": [
      "mean of Predicted values:  82.89575425491685\n",
      "mean of True values:  83.17977396449703\n"
     ]
    }
   ],
   "source": [
    "## Mean of Predicted and True Targets\n",
    "print(\"mean of Predicted values: \",np.mean(y_pred_Lasso, axis = None))\n",
    "print(\"mean of True values: \",np.mean(y, axis = None))"
   ]
  },
  {
   "cell_type": "markdown",
   "id": "265f2245",
   "metadata": {},
   "source": [
    "### Using explained_variance_score \n",
    "Also called adjusted R2. Best value is 1, values close to 0 means less effcient model  \n",
    "If y_pred is the estimated target output, y the corresponding (correct) target output, and VAR is Variance, the square of the standard deviation, then the explained variance is estimated as 1-VAR(y-y_pred)/VAR(y) "
   ]
  },
  {
   "cell_type": "code",
   "execution_count": 51,
   "id": "5b00e2f2",
   "metadata": {},
   "outputs": [
    {
     "data": {
      "text/plain": [
       "0.7758446661049048"
      ]
     },
     "execution_count": 51,
     "metadata": {},
     "output_type": "execute_result"
    }
   ],
   "source": [
    "explained_variance_score(y, y_pred_Lasso)"
   ]
  },
  {
   "cell_type": "markdown",
   "id": "b45cdbae",
   "metadata": {},
   "source": [
    "### Using max_error  \n",
    " max_error function computes the maximum residual error , a metric that captures the worst case error between the predicted value and the true value."
   ]
  },
  {
   "cell_type": "code",
   "execution_count": 52,
   "id": "37db06fb",
   "metadata": {},
   "outputs": [
    {
     "data": {
      "text/plain": [
       "635.6681694282008"
      ]
     },
     "execution_count": 52,
     "metadata": {},
     "output_type": "execute_result"
    }
   ],
   "source": [
    "max_error(y, y_pred_Lasso)"
   ]
  },
  {
   "cell_type": "markdown",
   "id": "b9b010ff",
   "metadata": {},
   "source": [
    "## Using neg_root_mean_squared_error  \n",
    "Sum of squareroot of Squared differences between the actual and predicted values divided by the number of samples  "
   ]
  },
  {
   "cell_type": "code",
   "execution_count": 56,
   "id": "3e327a5d",
   "metadata": {},
   "outputs": [
    {
     "data": {
      "text/plain": [
       "970.2956197803339"
      ]
     },
     "execution_count": 56,
     "metadata": {},
     "output_type": "execute_result"
    }
   ],
   "source": [
    "mean_squared_error(y, y_pred_Lasso, squared=True)"
   ]
  },
  {
   "cell_type": "markdown",
   "id": "d7468e47",
   "metadata": {},
   "source": [
    "### Using R2(r2_score)  \n",
    "Best value is 1, values close to 0 means less effcient model  \n",
    "If y_pred is the estimated target output, y the corresponding (correct) target output, and VAR is Variance, the square of the standard deviation, then the explained variance is estimated as 1-VAR(y-y_pred)/VAR(y-y_mean)  \n",
    "Take VAR(y-y_mean) as the base line. which means y_mean as a constant prediction for all values of the features  "
   ]
  },
  {
   "cell_type": "code",
   "execution_count": 55,
   "id": "9e90cc08",
   "metadata": {},
   "outputs": [
    {
     "data": {
      "text/plain": [
       "0.7758260290162082"
      ]
     },
     "execution_count": 55,
     "metadata": {},
     "output_type": "execute_result"
    }
   ],
   "source": [
    "r2_score(y, y_pred_Lasso)"
   ]
  },
  {
   "cell_type": "markdown",
   "id": "07665669",
   "metadata": {},
   "source": [
    "## Fit evaluation using learning Curve"
   ]
  },
  {
   "cell_type": "markdown",
   "id": "2d73d107",
   "metadata": {},
   "source": [
    "### learning curve for neg_mean_squared_error"
   ]
  },
  {
   "cell_type": "code",
   "execution_count": 57,
   "id": "a2cc33e0",
   "metadata": {},
   "outputs": [],
   "source": [
    "train_sizes, train_scores, validation_scores = learning_curve(\n",
    "estimator = be_Lasso,\n",
    "X = X,\n",
    "y = y, cv = 5,\n",
    "scoring = 'neg_mean_squared_error') #optionally can pass train_sizes = train_sizes for custom training sizes"
   ]
  },
  {
   "cell_type": "code",
   "execution_count": 58,
   "id": "b927103c",
   "metadata": {},
   "outputs": [
    {
     "data": {
      "text/plain": [
       "<matplotlib.legend.Legend at 0x255be8e8b20>"
      ]
     },
     "execution_count": 58,
     "metadata": {},
     "output_type": "execute_result"
    },
    {
     "data": {
      "image/png": "[encoded data removed]",
      "text/plain": [
       "<Figure size 432x288 with 1 Axes>"
      ]
     },
     "metadata": {
      "needs_background": "light"
     },
     "output_type": "display_data"
    }
   ],
   "source": [
    "plt.plot(train_sizes, train_scores.mean(axis=1), label='training neg_mean_squared_error')\n",
    "plt.plot(train_sizes, validation_scores.mean(axis=1),  label='validation neg_mean_squared_error')\n",
    "plt.xlabel('training sample sizes')\n",
    "plt.ylabel('neg_mean_squared_error')\n",
    "plt.legend()\n",
    "# indicates overfiting and high variance\n",
    "# Ovefiting occurs when: High training accuracy, low validation accuracy, Gap/Non-convergent trends between the training and validation curves=> Learnt from the noise."
   ]
  },
  {
   "cell_type": "markdown",
   "id": "937fee64",
   "metadata": {},
   "source": [
    "### learning curve for explained_variance"
   ]
  },
  {
   "cell_type": "code",
   "execution_count": 59,
   "id": "77ec1cb8",
   "metadata": {},
   "outputs": [],
   "source": [
    "train_sizes, train_scores, validation_scores = learning_curve(\n",
    "estimator = be_Lasso,\n",
    "X = X,\n",
    "y = y, cv = 5,\n",
    "scoring = 'explained_variance') #optionally can pass train_sizes = train_sizes for custom training sizes"
   ]
  },
  {
   "cell_type": "code",
   "execution_count": 60,
   "id": "668e313a",
   "metadata": {},
   "outputs": [
    {
     "data": {
      "text/plain": [
       "<matplotlib.legend.Legend at 0x255c59055b0>"
      ]
     },
     "execution_count": 60,
     "metadata": {},
     "output_type": "execute_result"
    },
    {
     "data": {
      "image/png": "[encoded data removed]",
      "text/plain": [
       "<Figure size 432x288 with 1 Axes>"
      ]
     },
     "metadata": {
      "needs_background": "light"
     },
     "output_type": "display_data"
    }
   ],
   "source": [
    "plt.plot(train_sizes, train_scores.mean(axis=1), label='training explained_variance')\n",
    "plt.plot(train_sizes, validation_scores.mean(axis=1),  label='validation explained_variance')\n",
    "plt.xlabel('training sample sizes')\n",
    "plt.ylabel('explained_variance')\n",
    "plt.legend()\n",
    "# indicates overfiting and high variance\n",
    "# Ovefiting occurs when: High training accuracy, low validation accuracy, Gap/Non-convergent trends between the training and validation curves=> Learnt from the noise."
   ]
  },
  {
   "cell_type": "raw",
   "id": "6f515bd1",
   "metadata": {},
   "source": [
    "############################################################################################################################"
   ]
  },
  {
   "cell_type": "raw",
   "id": "551fd90c",
   "metadata": {},
   "source": [
    "############################################################################################################################"
   ]
  },
  {
   "cell_type": "raw",
   "id": "a7ede0ea",
   "metadata": {},
   "source": [
    "############################################################################################################################"
   ]
  },
  {
   "cell_type": "markdown",
   "id": "d4fab48e",
   "metadata": {},
   "source": [
    "# Model Validation on Testing Data"
   ]
  },
  {
   "cell_type": "code",
   "execution_count": null,
   "id": "fbfe6b68",
   "metadata": {},
   "outputs": [],
   "source": []
  }
 ],
 "metadata": {
  "kernelspec": {
   "display_name": "Python 3 (ipykernel)",
   "language": "python",
   "name": "python3"
  },
  "language_info": {
   "codemirror_mode": {
    "name": "ipython",
    "version": 3
   },
   "file_extension": ".py",
   "mimetype": "text/x-python",
   "name": "python",
   "nbconvert_exporter": "python",
   "pygments_lexer": "ipython3",
   "version": "3.9.6"
  }
 },
 "nbformat": 4,
 "nbformat_minor": 5
}
