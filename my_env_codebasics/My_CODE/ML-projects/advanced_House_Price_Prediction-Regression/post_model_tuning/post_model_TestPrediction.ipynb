{
 "cells": [
  {
   "cell_type": "code",
   "execution_count": 1,
   "id": "6287b598",
   "metadata": {},
   "outputs": [],
   "source": [
    "# ploting libraries\n",
    "import matplotlib.pyplot as plt\n",
    "%matplotlib inline\n",
    "\n",
    "# import PreProcessing functions\n",
    "import sys \n",
    "import os\n",
    "sys.path.append(os.path.abspath(\"C:\\\\Users\\\\koriv\\\\Desktop\\\\MachineLearning_DataScience\\\\Hands_On_Machine_Learning\\\\my_env_codebasics\\\\My_CODE\\\\ML-projects\\\\advanced_House_Price_Prediction-Regression\\\\preProcessingObjects_list\"))\n",
    "from advanced_House_Price_Prediction_PreProcessing import *\n",
    "\n",
    "\n",
    "# deplyment libraries\n",
    "import pickle\n",
    "\n",
    "# Importing required framework libraries\n",
    "import pandas as pd\n",
    "import numpy as np\n",
    "\n",
    "# Import required pipeline and transformation libraries\n",
    "from sklearn.compose import ColumnTransformer\n",
    "from sklearn.pipeline import Pipeline\n",
    "\n",
    "# Import processing and evaluation libraries\n",
    "from sklearn.preprocessing import OneHotEncoder, OrdinalEncoder, MinMaxScaler\n",
    "from sklearn.experimental import enable_iterative_imputer\n",
    "from sklearn.impute import SimpleImputer, IterativeImputer, KNNImputer\n",
    "from sklearn.model_selection import GridSearchCV\n",
    "\n",
    "# Regressors for Data\n",
    "from sklearn.linear_model import Lasso\n",
    "from sklearn.ensemble import RandomForestRegressor\n",
    "\n",
    "# Regressors for Imputer\n",
    "from sklearn.linear_model import BayesianRidge\n",
    "from sklearn.tree import DecisionTreeRegressor\n",
    "from sklearn.ensemble import ExtraTreesRegressor\n",
    "from sklearn.neighbors import KNeighborsRegressor\n",
    "\n",
    "## for feature slection\n",
    "from sklearn.feature_selection import SelectFromModel\n",
    "\n",
    "## for metrics\n",
    "from sklearn.metrics import explained_variance_score\n",
    "from sklearn.metrics import max_error\n",
    "from sklearn.metrics import mean_squared_error\n",
    "from sklearn.metrics import r2_score\n",
    "\n",
    "# to visualise al the columns in the dataframe\n",
    "pd.pandas.set_option('display.max_columns', None)"
   ]
  },
  {
   "cell_type": "markdown",
   "id": "9b2a0a2a",
   "metadata": {},
   "source": [
    "# Import UnProcessed Test features"
   ]
  },
  {
   "cell_type": "code",
   "execution_count": 2,
   "id": "e7486f33",
   "metadata": {},
   "outputs": [],
   "source": [
    "#Import testing features\n",
    "import pathlib\n",
    "path_to_read_model = 'C:\\\\Users\\\\koriv\\\\Desktop\\\\MachineLearning_DataScience\\\\Hands_On_Machine_Learning\\\\my_env_codebasics\\\\My_CODE\\\\ML-projects\\\\advanced_House_Price_Prediction-Regression\\\\probleam_study' #Path of current working Directory\n",
    "with open(path_to_read_model + '\\\\testFeatures_list.pkl', 'rb') as f:\n",
    "    X_test, y_test = pickle.load(f)"
   ]
  },
  {
   "cell_type": "markdown",
   "id": "13d8e4c8",
   "metadata": {},
   "source": [
    "## Verify the match of the Processed Data column Names"
   ]
  },
  {
   "cell_type": "code",
   "execution_count": 4,
   "id": "d2ef927a",
   "metadata": {},
   "outputs": [],
   "source": [
    "#Import testing features\n",
    "import pathlib\n",
    "path_to_read_model = 'C:\\\\Users\\\\koriv\\\\Desktop\\\\MachineLearning_DataScience\\\\Hands_On_Machine_Learning\\\\my_env_codebasics\\\\My_CODE\\\\ML-projects\\\\advanced_House_Price_Prediction-Regression\\\\encoding_scaling_imputation_modelling' #Path of current working Directory\n",
    "with open(path_to_read_model + '\\\\feature_ColumnNames.pkl', 'rb') as f:\n",
    "    feature_ColumnNames = pickle.load(f)"
   ]
  },
  {
   "cell_type": "code",
   "execution_count": 5,
   "id": "7e6a777b",
   "metadata": {},
   "outputs": [
    {
     "data": {
      "text/plain": [
       "array([ True,  True,  True,  True,  True,  True,  True,  True])"
      ]
     },
     "execution_count": 5,
     "metadata": {},
     "output_type": "execute_result"
    }
   ],
   "source": [
    "X_test.columns == feature_ColumnNames"
   ]
  },
  {
   "cell_type": "markdown",
   "id": "abea7adc",
   "metadata": {},
   "source": [
    "# Data PreProcessing"
   ]
  },
  {
   "cell_type": "code",
   "execution_count": 6,
   "id": "4c674d70",
   "metadata": {},
   "outputs": [
    {
     "name": "stdout",
     "output_type": "stream",
     "text": [
      "column: size, lower_limit: 0.5, upper_limit: 4.5\n",
      "column: total_sqft, lower_limit: 215.0, upper_limit: 2575.0\n",
      "column: bath, lower_limit: 0.5, upper_limit: 4.5\n",
      "column: balcony, lower_limit: -0.5, upper_limit: 3.5\n"
     ]
    }
   ],
   "source": [
    "# Define a function to apply the imported functions\n",
    "def preProcessing(featureDF, targetDF, function_list):\n",
    "    for function in function_list:\n",
    "        featureDF, targetDF = function(featureDF, targetDF)\n",
    "    return featureDF, targetDF\n",
    "\n",
    "X_test, y_test = preProcessing(X_test, y_test, [Transformations, outlierRemoval])"
   ]
  },
  {
   "cell_type": "markdown",
   "id": "7062ab6a",
   "metadata": {},
   "source": [
    "## Encoding and Modeling"
   ]
  },
  {
   "cell_type": "code",
   "execution_count": 7,
   "id": "f136e153",
   "metadata": {},
   "outputs": [],
   "source": [
    "#Import testing features\n",
    "import pathlib\n",
    "path_to_read_model = 'C:\\\\Users\\\\koriv\\\\Desktop\\\\MachineLearning_DataScience\\\\Hands_On_Machine_Learning\\\\my_env_codebasics\\\\My_CODE\\\\ML-projects\\\\advanced_House_Price_Prediction-Regression\\\\encoding_scaling_imputation_modelling' #Path of current working Directory\n",
    "with open(path_to_read_model + '\\\\estimators.pkl', 'rb') as f:\n",
    "    ct_O, best_algos = pickle.load(f)"
   ]
  },
  {
   "cell_type": "code",
   "execution_count": 8,
   "id": "fc04e397",
   "metadata": {},
   "outputs": [],
   "source": [
    "X_test[X_test.columns] = ct_O.transform(X_test)"
   ]
  },
  {
   "cell_type": "code",
   "execution_count": 9,
   "id": "dc06f1cf",
   "metadata": {},
   "outputs": [
    {
     "data": {
      "text/plain": [
       "{'RandomForestRegressor': {'best_estimator': Pipeline(steps=[('ct_ohe_sca',\n",
       "                   ColumnTransformer(transformers=[('pp_catN',\n",
       "                                                    Pipeline(steps=[('col_catN',\n",
       "                                                                     SimpleImputer(fill_value='missing',\n",
       "                                                                                   strategy='constant')),\n",
       "                                                                    ('catN',\n",
       "                                                                     OneHotEncoder(handle_unknown='ignore',\n",
       "                                                                                   sparse=False))]),\n",
       "                                                    ['availability', 'location']),\n",
       "                                                   ('pp_num',\n",
       "                                                    Pipeline(steps=[('scaler',\n",
       "                                                                     MinMaxScaler())]),\n",
       "                                                    ['size', 'total_sqft', 'bath',\n",
       "                                                     'balcony', 'area_type'])])),\n",
       "                  ('imputer', IterativeImputer(estimator=BayesianRidge())),\n",
       "                  ('model',\n",
       "                   RandomForestRegressor(max_depth=13, min_samples_split=8,\n",
       "                                         n_estimators=300, random_state=0))]),\n",
       "  'best_mean_test_score': -44.48010156813912},\n",
       " 'Lasso': {'best_estimator': Pipeline(steps=[('ct_ohe_sca',\n",
       "                   ColumnTransformer(transformers=[('pp_catN',\n",
       "                                                    Pipeline(steps=[('col_catN',\n",
       "                                                                     SimpleImputer(fill_value='missing',\n",
       "                                                                                   strategy='constant')),\n",
       "                                                                    ('catN',\n",
       "                                                                     OneHotEncoder(handle_unknown='ignore',\n",
       "                                                                                   sparse=False))]),\n",
       "                                                    ['availability', 'location']),\n",
       "                                                   ('pp_num',\n",
       "                                                    Pipeline(steps=[('scaler',\n",
       "                                                                     MinMaxScaler())]),\n",
       "                                                    ['size', 'total_sqft', 'bath',\n",
       "                                                     'balcony', 'area_type'])])),\n",
       "                  ('imputer', IterativeImputer(estimator=BayesianRidge())),\n",
       "                  ('model', Lasso(alpha=0.1, max_iter=100, random_state=0))]),\n",
       "  'best_mean_test_score': -48.0947463453915}}"
      ]
     },
     "execution_count": 9,
     "metadata": {},
     "output_type": "execute_result"
    }
   ],
   "source": [
    "best_algos"
   ]
  },
  {
   "cell_type": "markdown",
   "id": "dcf1ce72",
   "metadata": {},
   "source": [
    "# Random Forest Regressor on Testing Data"
   ]
  },
  {
   "cell_type": "code",
   "execution_count": 10,
   "id": "591b19f1",
   "metadata": {},
   "outputs": [],
   "source": [
    "# Get the object of the Best RandomForestRegressor Algorithm with the best params\n",
    "be_RF = best_algos['RandomForestRegressor']['best_estimator']"
   ]
  },
  {
   "cell_type": "code",
   "execution_count": 11,
   "id": "5ce70717",
   "metadata": {},
   "outputs": [
    {
     "data": {
      "text/plain": [
       "0.5067082394263884"
      ]
     },
     "execution_count": 11,
     "metadata": {},
     "output_type": "execute_result"
    }
   ],
   "source": [
    "be_RF.score(X_test, y_test) #Default is explained_variance_score"
   ]
  },
  {
   "cell_type": "markdown",
   "id": "178ebeef",
   "metadata": {},
   "source": [
    "## Model evaluation metrics RandomForestRegressor"
   ]
  },
  {
   "cell_type": "code",
   "execution_count": 13,
   "id": "b6ee4597",
   "metadata": {},
   "outputs": [],
   "source": [
    "y_testpred_RF = be_RF.predict(X_test)"
   ]
  },
  {
   "cell_type": "code",
   "execution_count": 14,
   "id": "9f5d1e96",
   "metadata": {},
   "outputs": [
    {
     "name": "stdout",
     "output_type": "stream",
     "text": [
      "mean of Predicted values:  79.65768880641863\n",
      "mean of True values:  79.49576286764704\n"
     ]
    }
   ],
   "source": [
    "## Mean of Predicted and True Targets\n",
    "print(\"mean of Predicted values: \",np.mean(y_testpred_RF, axis = None))\n",
    "print(\"mean of True values: \",np.mean(y_test, axis = None))"
   ]
  },
  {
   "cell_type": "code",
   "execution_count": 18,
   "id": "02c0caf2",
   "metadata": {},
   "outputs": [
    {
     "data": {
      "text/plain": [
       "0.5067184883175453"
      ]
     },
     "execution_count": 18,
     "metadata": {},
     "output_type": "execute_result"
    }
   ],
   "source": [
    "## Using explained_variance_score \n",
    "explained_variance_score(y_test, y_testpred_RF)"
   ]
  },
  {
   "cell_type": "code",
   "execution_count": 20,
   "id": "712926a3",
   "metadata": {},
   "outputs": [
    {
     "data": {
      "text/plain": [
       "329.36994760305834"
      ]
     },
     "execution_count": 20,
     "metadata": {},
     "output_type": "execute_result"
    }
   ],
   "source": [
    "## Using max_error\n",
    "max_error(y_test, y_testpred_RF)"
   ]
  },
  {
   "cell_type": "code",
   "execution_count": 21,
   "id": "c4af53b2",
   "metadata": {},
   "outputs": [
    {
     "data": {
      "text/plain": [
       "35.52465867403716"
      ]
     },
     "execution_count": 21,
     "metadata": {},
     "output_type": "execute_result"
    }
   ],
   "source": [
    "## Using neg_root_mean_squared_error\n",
    "mean_squared_error(y_test, y_testpred_RF, squared=False)"
   ]
  },
  {
   "cell_type": "code",
   "execution_count": 22,
   "id": "81ff9939",
   "metadata": {},
   "outputs": [
    {
     "data": {
      "text/plain": [
       "0.5067082394263884"
      ]
     },
     "execution_count": 22,
     "metadata": {},
     "output_type": "execute_result"
    }
   ],
   "source": [
    "## Using R2(r2_score)\n",
    "r2_score(y_test, y_testpred_RF)"
   ]
  },
  {
   "cell_type": "markdown",
   "id": "d8076b2b",
   "metadata": {},
   "source": [
    "# Lasso Regressor on Training Data"
   ]
  },
  {
   "cell_type": "code",
   "execution_count": 23,
   "id": "ea1160bd",
   "metadata": {},
   "outputs": [],
   "source": [
    "# Get the object of the Best Lasso Algorithm with the best params\n",
    "be_Lasso = best_algos['Lasso']['best_estimator']"
   ]
  },
  {
   "cell_type": "code",
   "execution_count": 24,
   "id": "7970b6ff",
   "metadata": {},
   "outputs": [
    {
     "data": {
      "text/plain": [
       "array([-0.00000000e+00, -1.05038294e+00,  1.98027688e+00,  6.90292541e-01,\n",
       "        0.00000000e+00,  0.00000000e+00, -0.00000000e+00,  0.00000000e+00,\n",
       "        8.77835065e+00, -2.23535901e+00, -0.00000000e+00, -0.00000000e+00,\n",
       "       -0.00000000e+00,  3.09830665e+01, -0.00000000e+00,  0.00000000e+00,\n",
       "        0.00000000e+00,  0.00000000e+00, -0.00000000e+00, -0.00000000e+00,\n",
       "        0.00000000e+00, -0.00000000e+00, -0.00000000e+00, -0.00000000e+00,\n",
       "       -0.00000000e+00, -0.00000000e+00, -0.00000000e+00,  8.29313394e+00,\n",
       "        0.00000000e+00,  4.17657927e+00,  0.00000000e+00,  0.00000000e+00,\n",
       "       -1.69868812e+00,  2.06472550e+01, -0.00000000e+00, -0.00000000e+00,\n",
       "       -0.00000000e+00,  0.00000000e+00, -0.00000000e+00, -0.00000000e+00,\n",
       "       -0.00000000e+00,  0.00000000e+00,  0.00000000e+00,  0.00000000e+00,\n",
       "       -3.48057124e+00, -0.00000000e+00, -0.00000000e+00,  0.00000000e+00,\n",
       "       -0.00000000e+00, -1.76286642e+00, -1.34489433e+01, -0.00000000e+00,\n",
       "        2.01665773e+01, -0.00000000e+00,  0.00000000e+00, -0.00000000e+00,\n",
       "        0.00000000e+00,  0.00000000e+00,  3.02461673e+00,  1.36501458e+00,\n",
       "       -0.00000000e+00, -0.00000000e+00, -0.00000000e+00,  0.00000000e+00,\n",
       "       -0.00000000e+00, -0.00000000e+00,  0.00000000e+00,  0.00000000e+00,\n",
       "        0.00000000e+00,  0.00000000e+00,  0.00000000e+00,  5.80675940e+01,\n",
       "       -0.00000000e+00, -0.00000000e+00, -0.00000000e+00,  0.00000000e+00,\n",
       "       -0.00000000e+00, -0.00000000e+00, -4.26141931e+00,  0.00000000e+00,\n",
       "       -0.00000000e+00,  0.00000000e+00, -0.00000000e+00, -0.00000000e+00,\n",
       "        0.00000000e+00, -0.00000000e+00, -0.00000000e+00,  0.00000000e+00,\n",
       "        3.61969435e+01, -0.00000000e+00, -0.00000000e+00,  0.00000000e+00,\n",
       "       -0.00000000e+00, -0.00000000e+00,  0.00000000e+00,  0.00000000e+00,\n",
       "        0.00000000e+00,  6.05986888e+01,  0.00000000e+00,  0.00000000e+00,\n",
       "        4.46321386e+00,  0.00000000e+00,  0.00000000e+00,  0.00000000e+00,\n",
       "        0.00000000e+00,  0.00000000e+00, -0.00000000e+00,  1.04307661e+02,\n",
       "       -0.00000000e+00, -0.00000000e+00,  0.00000000e+00, -7.39276575e+00,\n",
       "        8.35487076e-03, -0.00000000e+00, -0.00000000e+00,  0.00000000e+00,\n",
       "       -1.86774232e+00, -0.00000000e+00, -0.00000000e+00,  0.00000000e+00,\n",
       "        0.00000000e+00, -0.00000000e+00, -0.00000000e+00, -0.00000000e+00,\n",
       "        0.00000000e+00, -0.00000000e+00, -0.00000000e+00, -0.00000000e+00,\n",
       "        0.00000000e+00,  0.00000000e+00,  9.88999607e+00,  0.00000000e+00,\n",
       "        1.88407359e+02,  3.37735595e+01, -4.23012231e+00, -6.45071462e+01])"
      ]
     },
     "execution_count": 24,
     "metadata": {},
     "output_type": "execute_result"
    }
   ],
   "source": [
    "# View the model coeeficients\n",
    "be_Lasso.named_steps['model'].coef_\n",
    "# Zero value in the coefficients indicates multicollnear columns, these columns can be eliminated in the future selection process."
   ]
  },
  {
   "cell_type": "code",
   "execution_count": 25,
   "id": "48290847",
   "metadata": {},
   "outputs": [
    {
     "data": {
      "text/plain": [
       "11.615967376628333"
      ]
     },
     "execution_count": 25,
     "metadata": {},
     "output_type": "execute_result"
    }
   ],
   "source": [
    "# View the model intercept\n",
    "be_Lasso.named_steps['model'].intercept_"
   ]
  },
  {
   "cell_type": "markdown",
   "id": "0398bbec",
   "metadata": {},
   "source": [
    "## Model evaluation metrics Lasso Regressor"
   ]
  },
  {
   "cell_type": "code",
   "execution_count": 27,
   "id": "52da08d5",
   "metadata": {},
   "outputs": [],
   "source": [
    "y_testpred_Lasso = be_RF.predict(X_test)"
   ]
  },
  {
   "cell_type": "code",
   "execution_count": 28,
   "id": "67c00a9f",
   "metadata": {},
   "outputs": [
    {
     "name": "stdout",
     "output_type": "stream",
     "text": [
      "mean of Predicted values:  79.65768880641863\n",
      "mean of True values:  79.49576286764704\n"
     ]
    }
   ],
   "source": [
    "## Mean of Predicted and True Targets\n",
    "print(\"mean of Predicted values: \",np.mean(y_testpred_Lasso, axis = None))\n",
    "print(\"mean of True values: \",np.mean(y_test, axis = None))"
   ]
  },
  {
   "cell_type": "code",
   "execution_count": 29,
   "id": "7c15a83c",
   "metadata": {},
   "outputs": [
    {
     "data": {
      "text/plain": [
       "0.5067184883175453"
      ]
     },
     "execution_count": 29,
     "metadata": {},
     "output_type": "execute_result"
    }
   ],
   "source": [
    "## Using explained_variance_score \n",
    "explained_variance_score(y_test, y_testpred_Lasso)"
   ]
  },
  {
   "cell_type": "code",
   "execution_count": 30,
   "id": "d9bd846b",
   "metadata": {},
   "outputs": [
    {
     "data": {
      "text/plain": [
       "329.36994760305834"
      ]
     },
     "execution_count": 30,
     "metadata": {},
     "output_type": "execute_result"
    }
   ],
   "source": [
    "## Using max_error\n",
    "max_error(y_test, y_testpred_Lasso)"
   ]
  },
  {
   "cell_type": "code",
   "execution_count": 31,
   "id": "92672571",
   "metadata": {},
   "outputs": [
    {
     "data": {
      "text/plain": [
       "35.52465867403716"
      ]
     },
     "execution_count": 31,
     "metadata": {},
     "output_type": "execute_result"
    }
   ],
   "source": [
    "## Using neg_root_mean_squared_error\n",
    "mean_squared_error(y_test, y_testpred_Lasso, squared=False)"
   ]
  },
  {
   "cell_type": "code",
   "execution_count": 32,
   "id": "6e455c41",
   "metadata": {},
   "outputs": [
    {
     "data": {
      "text/plain": [
       "0.5067082394263884"
      ]
     },
     "execution_count": 32,
     "metadata": {},
     "output_type": "execute_result"
    }
   ],
   "source": [
    "## Using R2(r2_score)\n",
    "r2_score(y_test, y_testpred_Lasso)"
   ]
  },
  {
   "cell_type": "code",
   "execution_count": null,
   "id": "0fc5138a",
   "metadata": {},
   "outputs": [],
   "source": []
  }
 ],
 "metadata": {
  "kernelspec": {
   "display_name": "Python 3 (ipykernel)",
   "language": "python",
   "name": "python3"
  },
  "language_info": {
   "codemirror_mode": {
    "name": "ipython",
    "version": 3
   },
   "file_extension": ".py",
   "mimetype": "text/x-python",
   "name": "python",
   "nbconvert_exporter": "python",
   "pygments_lexer": "ipython3",
   "version": "3.9.6"
  }
 },
 "nbformat": 4,
 "nbformat_minor": 5
}
