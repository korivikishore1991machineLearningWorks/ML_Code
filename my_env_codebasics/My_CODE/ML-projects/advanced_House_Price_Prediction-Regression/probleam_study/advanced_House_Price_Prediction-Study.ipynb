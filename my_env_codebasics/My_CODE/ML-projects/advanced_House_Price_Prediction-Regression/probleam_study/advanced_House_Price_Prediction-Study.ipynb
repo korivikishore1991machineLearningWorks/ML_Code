{
 "cells": [
  {
   "cell_type": "code",
   "execution_count": 1,
   "id": "14087ba1",
   "metadata": {},
   "outputs": [],
   "source": [
    "# Importing required framework libraries for ploting\n",
    "import pandas as pd\n",
    "import numpy as np\n",
    "import seaborn as sns\n",
    "import matplotlib.pyplot as plt\n",
    "%matplotlib inline\n",
    "import scipy.stats as stats #for qq plots\n",
    "\n",
    "# to visualise al the columns in the dataframe\n",
    "pd.pandas.set_option('display.max_columns', None)\n",
    "\n",
    "#Train-Test split\n",
    "from sklearn.model_selection import train_test_split\n",
    "\n",
    "#Pickel to save the features\n",
    "import pickle"
   ]
  },
  {
   "cell_type": "code",
   "execution_count": 2,
   "id": "aa1f33cc",
   "metadata": {},
   "outputs": [
    {
     "name": "stdout",
     "output_type": "stream",
     "text": [
      ">>Shape of Original Data:  (13320, 9)\n"
     ]
    },
    {
     "data": {
      "text/html": [
       "<div>\n",
       "<style scoped>\n",
       "    .dataframe tbody tr th:only-of-type {\n",
       "        vertical-align: middle;\n",
       "    }\n",
       "\n",
       "    .dataframe tbody tr th {\n",
       "        vertical-align: top;\n",
       "    }\n",
       "\n",
       "    .dataframe thead th {\n",
       "        text-align: right;\n",
       "    }\n",
       "</style>\n",
       "<table border=\"1\" class=\"dataframe\">\n",
       "  <thead>\n",
       "    <tr style=\"text-align: right;\">\n",
       "      <th></th>\n",
       "      <th>area_type</th>\n",
       "      <th>availability</th>\n",
       "      <th>location</th>\n",
       "      <th>size</th>\n",
       "      <th>society</th>\n",
       "      <th>total_sqft</th>\n",
       "      <th>bath</th>\n",
       "      <th>balcony</th>\n",
       "      <th>price</th>\n",
       "    </tr>\n",
       "  </thead>\n",
       "  <tbody>\n",
       "    <tr>\n",
       "      <th>0</th>\n",
       "      <td>Super built-up  Area</td>\n",
       "      <td>19-Dec</td>\n",
       "      <td>Electronic City Phase II</td>\n",
       "      <td>2 BHK</td>\n",
       "      <td>Coomee</td>\n",
       "      <td>1056</td>\n",
       "      <td>2.0</td>\n",
       "      <td>1.0</td>\n",
       "      <td>39.07</td>\n",
       "    </tr>\n",
       "    <tr>\n",
       "      <th>1</th>\n",
       "      <td>Plot  Area</td>\n",
       "      <td>Ready To Move</td>\n",
       "      <td>Chikka Tirupathi</td>\n",
       "      <td>4 Bedroom</td>\n",
       "      <td>Theanmp</td>\n",
       "      <td>2600</td>\n",
       "      <td>5.0</td>\n",
       "      <td>3.0</td>\n",
       "      <td>120.00</td>\n",
       "    </tr>\n",
       "    <tr>\n",
       "      <th>2</th>\n",
       "      <td>Built-up  Area</td>\n",
       "      <td>Ready To Move</td>\n",
       "      <td>Uttarahalli</td>\n",
       "      <td>3 BHK</td>\n",
       "      <td>NaN</td>\n",
       "      <td>1440</td>\n",
       "      <td>2.0</td>\n",
       "      <td>3.0</td>\n",
       "      <td>62.00</td>\n",
       "    </tr>\n",
       "    <tr>\n",
       "      <th>3</th>\n",
       "      <td>Super built-up  Area</td>\n",
       "      <td>Ready To Move</td>\n",
       "      <td>Lingadheeranahalli</td>\n",
       "      <td>3 BHK</td>\n",
       "      <td>Soiewre</td>\n",
       "      <td>1521</td>\n",
       "      <td>3.0</td>\n",
       "      <td>1.0</td>\n",
       "      <td>95.00</td>\n",
       "    </tr>\n",
       "    <tr>\n",
       "      <th>4</th>\n",
       "      <td>Super built-up  Area</td>\n",
       "      <td>Ready To Move</td>\n",
       "      <td>Kothanur</td>\n",
       "      <td>2 BHK</td>\n",
       "      <td>NaN</td>\n",
       "      <td>1200</td>\n",
       "      <td>2.0</td>\n",
       "      <td>1.0</td>\n",
       "      <td>51.00</td>\n",
       "    </tr>\n",
       "  </tbody>\n",
       "</table>\n",
       "</div>"
      ],
      "text/plain": [
       "              area_type   availability                  location       size  \\\n",
       "0  Super built-up  Area         19-Dec  Electronic City Phase II      2 BHK   \n",
       "1            Plot  Area  Ready To Move          Chikka Tirupathi  4 Bedroom   \n",
       "2        Built-up  Area  Ready To Move               Uttarahalli      3 BHK   \n",
       "3  Super built-up  Area  Ready To Move        Lingadheeranahalli      3 BHK   \n",
       "4  Super built-up  Area  Ready To Move                  Kothanur      2 BHK   \n",
       "\n",
       "   society total_sqft  bath  balcony   price  \n",
       "0  Coomee        1056   2.0      1.0   39.07  \n",
       "1  Theanmp       2600   5.0      3.0  120.00  \n",
       "2      NaN       1440   2.0      3.0   62.00  \n",
       "3  Soiewre       1521   3.0      1.0   95.00  \n",
       "4      NaN       1200   2.0      1.0   51.00  "
      ]
     },
     "execution_count": 2,
     "metadata": {},
     "output_type": "execute_result"
    }
   ],
   "source": [
    "# Read the Data\n",
    "df = pd.read_csv('house_prices.csv')\n",
    "print(\">>Shape of Original Data: \",df.shape)\n",
    "df.head(5)"
   ]
  },
  {
   "cell_type": "code",
   "execution_count": 3,
   "id": "00358a85",
   "metadata": {},
   "outputs": [
    {
     "data": {
      "text/plain": [
       "(13320, 9)"
      ]
     },
     "execution_count": 3,
     "metadata": {},
     "output_type": "execute_result"
    }
   ],
   "source": [
    "# to eliminate null labled values\n",
    "df = df[df['price'].notnull()]\n",
    "df.shape"
   ]
  },
  {
   "cell_type": "code",
   "execution_count": 4,
   "id": "3979eb83",
   "metadata": {},
   "outputs": [
    {
     "data": {
      "text/plain": [
       "(6660, 9)"
      ]
     },
     "execution_count": 4,
     "metadata": {},
     "output_type": "execute_result"
    }
   ],
   "source": [
    "# to reduce size and reduce computation power\n",
    "df = df.sample(frac=0.5,random_state=200)\n",
    "df.shape"
   ]
  },
  {
   "cell_type": "code",
   "execution_count": 5,
   "id": "196b8a6f",
   "metadata": {},
   "outputs": [
    {
     "data": {
      "text/plain": [
       "area_type          0\n",
       "availability       0\n",
       "location           0\n",
       "size               5\n",
       "society         2753\n",
       "total_sqft         0\n",
       "bath              35\n",
       "balcony          321\n",
       "price              0\n",
       "dtype: int64"
      ]
     },
     "execution_count": 5,
     "metadata": {},
     "output_type": "execute_result"
    }
   ],
   "source": [
    "df.isnull().sum()"
   ]
  },
  {
   "cell_type": "markdown",
   "id": "ce8ff807",
   "metadata": {},
   "source": [
    "# Train Test split  \n",
    "use stratify and shuffel for preserving and proper distribution of data"
   ]
  },
  {
   "cell_type": "code",
   "execution_count": 6,
   "id": "05a41502",
   "metadata": {},
   "outputs": [],
   "source": [
    "# Train Test split of Data for generalised error with stratify and shuffel to maintain the distribution quality\n",
    "X, X_test, y, y_test = train_test_split(df.drop('price', axis=1), df['price'],\n",
    "                                        random_state=0,  test_size=0.2,\n",
    "                                        shuffle=True)"
   ]
  },
  {
   "cell_type": "code",
   "execution_count": 7,
   "id": "0a4773f9",
   "metadata": {},
   "outputs": [
    {
     "name": "stdout",
     "output_type": "stream",
     "text": [
      "(5328, 8)\n",
      "(5328,)\n",
      "(1332, 8)\n",
      "(1332,)\n"
     ]
    }
   ],
   "source": [
    "# End of Session Datacheck\n",
    "print(X.shape)\n",
    "print(y.shape)\n",
    "print(X_test.shape)\n",
    "print(y_test.shape)"
   ]
  },
  {
   "cell_type": "code",
   "execution_count": 8,
   "id": "279c519e",
   "metadata": {},
   "outputs": [
    {
     "name": "stdout",
     "output_type": "stream",
     "text": [
      "Null values in the Training feature: \n"
     ]
    },
    {
     "data": {
      "text/plain": [
       "area_type          0\n",
       "availability       0\n",
       "location           0\n",
       "size               4\n",
       "society         2180\n",
       "total_sqft         0\n",
       "bath              25\n",
       "balcony          266\n",
       "dtype: int64"
      ]
     },
     "metadata": {},
     "output_type": "display_data"
    },
    {
     "name": "stdout",
     "output_type": "stream",
     "text": [
      "Null values in the Test feature: \n"
     ]
    },
    {
     "data": {
      "text/plain": [
       "area_type         0\n",
       "availability      0\n",
       "location          0\n",
       "size              1\n",
       "society         573\n",
       "total_sqft        0\n",
       "bath             10\n",
       "balcony          55\n",
       "dtype: int64"
      ]
     },
     "metadata": {},
     "output_type": "display_data"
    },
    {
     "name": "stdout",
     "output_type": "stream",
     "text": [
      "Null values in the Training feature: \n"
     ]
    },
    {
     "data": {
      "text/plain": [
       "0"
      ]
     },
     "metadata": {},
     "output_type": "display_data"
    },
    {
     "name": "stdout",
     "output_type": "stream",
     "text": [
      "Null values in the Test feature: \n"
     ]
    },
    {
     "data": {
      "text/plain": [
       "0"
      ]
     },
     "metadata": {},
     "output_type": "display_data"
    }
   ],
   "source": [
    "#Check for null values in the Train and Test Data\n",
    "print(\"Null values in the Training feature: \")\n",
    "display(pd.DataFrame(X).isnull().sum())\n",
    "print(\"Null values in the Test feature: \")\n",
    "display(pd.DataFrame(X_test).isnull().sum())\n",
    "\n",
    "#Check for null values in the Target\n",
    "print(\"Null values in the Training feature: \")\n",
    "display(y.isnull().sum())\n",
    "print(\"Null values in the Test feature: \")\n",
    "display(y_test.isnull().sum())"
   ]
  },
  {
   "cell_type": "code",
   "execution_count": 9,
   "id": "f2389ac4",
   "metadata": {},
   "outputs": [
    {
     "name": "stdout",
     "output_type": "stream",
     "text": [
      ">>Number of Unique values in the Training feature Data:  1104\n",
      ">>Number of Unique values in the Testing feature Data:  471\n"
     ]
    }
   ],
   "source": [
    "# Check the Preprocessed column values in the training and testing feature DataSet\n",
    "print(\">>Number of Unique values in the Training feature Data: \",y.nunique())\n",
    "#print(\"Unique values in the Training feature Data: \",y.unique())\n",
    "print(\">>Number of Unique values in the Testing feature Data: \",y_test.nunique())\n",
    "#print(\"Unique values in the Testing feature Data: \",y_test.unique())"
   ]
  },
  {
   "cell_type": "markdown",
   "id": "1ed21efe",
   "metadata": {},
   "source": [
    "# Study of columns"
   ]
  },
  {
   "cell_type": "code",
   "execution_count": 10,
   "id": "0cc69bf0",
   "metadata": {},
   "outputs": [
    {
     "name": "stdout",
     "output_type": "stream",
     "text": [
      "Raw DataSet Stats are:\n"
     ]
    },
    {
     "data": {
      "text/html": [
       "<div>\n",
       "<style scoped>\n",
       "    .dataframe tbody tr th:only-of-type {\n",
       "        vertical-align: middle;\n",
       "    }\n",
       "\n",
       "    .dataframe tbody tr th {\n",
       "        vertical-align: top;\n",
       "    }\n",
       "\n",
       "    .dataframe thead th {\n",
       "        text-align: right;\n",
       "    }\n",
       "</style>\n",
       "<table border=\"1\" class=\"dataframe\">\n",
       "  <thead>\n",
       "    <tr style=\"text-align: right;\">\n",
       "      <th></th>\n",
       "      <th>bath</th>\n",
       "      <th>balcony</th>\n",
       "    </tr>\n",
       "  </thead>\n",
       "  <tbody>\n",
       "    <tr>\n",
       "      <th>count</th>\n",
       "      <td>5303.000000</td>\n",
       "      <td>5062.000000</td>\n",
       "    </tr>\n",
       "    <tr>\n",
       "      <th>mean</th>\n",
       "      <td>2.702244</td>\n",
       "      <td>1.599565</td>\n",
       "    </tr>\n",
       "    <tr>\n",
       "      <th>std</th>\n",
       "      <td>1.357242</td>\n",
       "      <td>0.813505</td>\n",
       "    </tr>\n",
       "    <tr>\n",
       "      <th>min</th>\n",
       "      <td>1.000000</td>\n",
       "      <td>0.000000</td>\n",
       "    </tr>\n",
       "    <tr>\n",
       "      <th>25%</th>\n",
       "      <td>2.000000</td>\n",
       "      <td>1.000000</td>\n",
       "    </tr>\n",
       "    <tr>\n",
       "      <th>50%</th>\n",
       "      <td>2.000000</td>\n",
       "      <td>2.000000</td>\n",
       "    </tr>\n",
       "    <tr>\n",
       "      <th>75%</th>\n",
       "      <td>3.000000</td>\n",
       "      <td>2.000000</td>\n",
       "    </tr>\n",
       "    <tr>\n",
       "      <th>max</th>\n",
       "      <td>27.000000</td>\n",
       "      <td>3.000000</td>\n",
       "    </tr>\n",
       "  </tbody>\n",
       "</table>\n",
       "</div>"
      ],
      "text/plain": [
       "              bath      balcony\n",
       "count  5303.000000  5062.000000\n",
       "mean      2.702244     1.599565\n",
       "std       1.357242     0.813505\n",
       "min       1.000000     0.000000\n",
       "25%       2.000000     1.000000\n",
       "50%       2.000000     2.000000\n",
       "75%       3.000000     2.000000\n",
       "max      27.000000     3.000000"
      ]
     },
     "metadata": {},
     "output_type": "display_data"
    },
    {
     "name": "stdout",
     "output_type": "stream",
     "text": [
      ">>Number of Duplicate entries in the dataset:  349 \n",
      "\n",
      ">>Unique values in a column  area_type ---> 4\n",
      "dtype of column  area_type ---> object\n",
      "Super built-up  Area    66.741742\n",
      "Built-up  Area          17.454955\n",
      "Plot  Area              15.090090\n",
      "Carpet  Area             0.713213\n",
      "Name: area_type, dtype: float64\n",
      "\n",
      ">>Unique values in a column  availability ---> 69\n",
      "dtype of column  availability ---> object\n",
      "\n",
      ">>Unique values in a column  location ---> 908\n",
      "dtype of column  location ---> object\n",
      "\n",
      ">>Unique values in a column  size ---> 26\n",
      "dtype of column  size ---> object\n",
      "\n",
      ">>Unique values in a column  society ---> 1528\n",
      "dtype of column  society ---> object\n",
      "\n",
      ">>Unique values in a column  total_sqft ---> 1367\n",
      "dtype of column  total_sqft ---> object\n",
      "\n",
      ">>Unique values in a column  bath ---> 15\n",
      "dtype of column  bath ---> float64\n",
      "2.0     51.555723\n",
      "3.0     25.306430\n",
      "4.0      9.032623\n",
      "1.0      6.147464\n",
      "5.0      3.922308\n",
      "6.0      1.961154\n",
      "7.0      0.867434\n",
      "8.0      0.546860\n",
      "9.0      0.320573\n",
      "10.0     0.150858\n",
      "12.0     0.075429\n",
      "11.0     0.037715\n",
      "16.0     0.037715\n",
      "14.0     0.018857\n",
      "27.0     0.018857\n",
      "Name: bath, dtype: float64\n",
      "\n",
      ">>Unique values in a column  balcony ---> 4\n",
      "dtype of column  balcony ---> float64\n",
      "2.0    40.557092\n",
      "1.0    38.364283\n",
      "3.0    13.492691\n",
      "0.0     7.585934\n",
      "Name: balcony, dtype: float64\n",
      "\n"
     ]
    }
   ],
   "source": [
    "## Description of the DataSet\n",
    "print(\"Raw DataSet Stats are:\",)\n",
    "display(X.describe())\n",
    "\n",
    "## Check for any duplicate entries in the dataset\n",
    "print(\">>Number of Duplicate entries in the dataset: \",len(X[X.duplicated()]), \"\\n\")\n",
    "\n",
    "## Check for Sample and count of Unique values\n",
    "for col in X:\n",
    "    print(\">>Unique values in a column \",col, '--->', X[col].nunique())\n",
    "    print(\"dtype of column \",col, '--->', X[col].dtype)\n",
    "    if X[col].nunique()<20:\n",
    "        print(X[col].value_counts(normalize=True)*100)\n",
    "    print()"
   ]
  },
  {
   "cell_type": "code",
   "execution_count": 11,
   "id": "1040e5c4",
   "metadata": {},
   "outputs": [
    {
     "name": "stdout",
     "output_type": "stream",
     "text": [
      ">>Numerical Columns in the Data: \n",
      " ['bath', 'balcony']\n",
      ">>Catogorical Columns are: \n",
      " ['area_type', 'availability', 'location', 'size', 'society', 'total_sqft']\n"
     ]
    }
   ],
   "source": [
    "num_cols = [col for col in X.columns if X[col].dtypes!='O']\n",
    "print(\">>Numerical Columns in the Data: \\n\",num_cols)\n",
    "cat_cols = [col for col in X if X[col].dtypes == 'O']\n",
    "print(\">>Catogorical Columns are: \\n\",cat_cols)"
   ]
  },
  {
   "cell_type": "markdown",
   "id": "8d8af438",
   "metadata": {},
   "source": [
    "# Visulaize the Data"
   ]
  },
  {
   "cell_type": "markdown",
   "id": "f9347a23",
   "metadata": {},
   "source": [
    "## Study of Numeric Cloumns Distribution"
   ]
  },
  {
   "cell_type": "markdown",
   "id": "86e896b3",
   "metadata": {},
   "source": [
    "#### QQ plots and distribution"
   ]
  },
  {
   "cell_type": "code",
   "execution_count": 12,
   "id": "b696782b",
   "metadata": {},
   "outputs": [
    {
     "name": "stdout",
     "output_type": "stream",
     "text": [
      "Plots for bath cloumn with no transformation: \n"
     ]
    },
    {
     "name": "stderr",
     "output_type": "stream",
     "text": [
      "c:\\users\\koriv\\appdata\\local\\programs\\python\\python39\\lib\\site-packages\\seaborn\\distributions.py:2557: FutureWarning: `distplot` is a deprecated function and will be removed in a future version. Please adapt your code to use either `displot` (a figure-level function with similar flexibility) or `histplot` (an axes-level function for histograms).\n",
      "  warnings.warn(msg, FutureWarning)\n"
     ]
    },
    {
     "data": {
      "image/png": "[encoded data removed]",
      "text/plain": [
       "<Figure size 1008x576 with 3 Axes>"
      ]
     },
     "metadata": {
      "needs_background": "light"
     },
     "output_type": "display_data"
    },
    {
     "name": "stdout",
     "output_type": "stream",
     "text": [
      "Plots for balcony cloumn with no transformation: \n"
     ]
    },
    {
     "name": "stderr",
     "output_type": "stream",
     "text": [
      "c:\\users\\koriv\\appdata\\local\\programs\\python\\python39\\lib\\site-packages\\seaborn\\distributions.py:2557: FutureWarning: `distplot` is a deprecated function and will be removed in a future version. Please adapt your code to use either `displot` (a figure-level function with similar flexibility) or `histplot` (an axes-level function for histograms).\n",
      "  warnings.warn(msg, FutureWarning)\n"
     ]
    },
    {
     "data": {
      "image/png": "[encoded data removed]",
      "text/plain": [
       "<Figure size 1008x576 with 3 Axes>"
      ]
     },
     "metadata": {
      "needs_background": "light"
     },
     "output_type": "display_data"
    }
   ],
   "source": [
    "# Function to take in DataFrame and Variable to plot histogram and Q-Q plot\n",
    "def plotvariale(X, variable, transformation):\n",
    "    print(\"Plots for %s cloumn with %s transformation: \"%(variable, transformation))\n",
    "    plt.figure(figsize=(14,8))\n",
    "    plt.subplot(1,3,1) ## means 1 row , 2 columns and 1st plot\n",
    "    X[variable].hist(bins=50)\n",
    "    \n",
    "    ## QQ plot\n",
    "    plt.subplot(1,3,2)\n",
    "    stats.probplot(X[variable], dist=\"norm\", plot=plt)\n",
    "        \n",
    "    ## fiting Histogram using distplot\n",
    "    plt.subplot(1,3,3)\n",
    "    sns.distplot(X[variable])\n",
    "    \n",
    "    plt.show()\n",
    "    \n",
    "    \n",
    "#Check the plots for unTransformed column, Right skew indicates log transformation fits fine\n",
    "transformation = 'no'\n",
    "#numerics = ['int16', 'int32', 'int64', 'float16', 'float32', 'float64']\n",
    "#for column in dfx.select_dtypes(include=numerics):\n",
    "#    plotvariale(dfx, column, transformation)\n",
    "for column in num_cols:\n",
    "    if column == 'loan_status':\n",
    "        continue\n",
    "    plotvariale(X, column, transformation)"
   ]
  },
  {
   "cell_type": "markdown",
   "id": "2ce7eb80",
   "metadata": {},
   "source": [
    "#### histogram"
   ]
  },
  {
   "cell_type": "code",
   "execution_count": 13,
   "id": "d00c517b",
   "metadata": {},
   "outputs": [
    {
     "data": {
      "image/png": "[encoded data removed]",
      "text/plain": [
       "<Figure size 432x288 with 1 Axes>"
      ]
     },
     "metadata": {
      "needs_background": "light"
     },
     "output_type": "display_data"
    },
    {
     "data": {
      "image/png": "[encoded data removed]",
      "text/plain": [
       "<Figure size 432x288 with 1 Axes>"
      ]
     },
     "metadata": {
      "needs_background": "light"
     },
     "output_type": "display_data"
    }
   ],
   "source": [
    "for col in num_cols:\n",
    "    sns.histplot(X[col], element='bars', kde=True)\n",
    "    plt.text(x=20, y=90, s=f\"Skew: {round(X[col].skew(),2)}\\nKurtosis: {round(X[col].kurt(),2)}\")\n",
    "    plt.show()"
   ]
  },
  {
   "cell_type": "markdown",
   "id": "141c9178",
   "metadata": {},
   "source": [
    "#### pairplot"
   ]
  },
  {
   "cell_type": "code",
   "execution_count": 14,
   "id": "3727fef4",
   "metadata": {},
   "outputs": [
    {
     "data": {
      "text/plain": [
       "<seaborn.axisgrid.PairGrid at 0x2a78dff7730>"
      ]
     },
     "execution_count": 14,
     "metadata": {},
     "output_type": "execute_result"
    },
    {
     "data": {
      "image/png": "[encoded data removed]",
      "text/plain": [
       "<Figure size 360x360 with 6 Axes>"
      ]
     },
     "metadata": {
      "needs_background": "light"
     },
     "output_type": "display_data"
    }
   ],
   "source": [
    "sns.pairplot(data=X)"
   ]
  },
  {
   "cell_type": "markdown",
   "id": "ee60963d",
   "metadata": {},
   "source": [
    "## Boxed Plots for Grouping Visulaization"
   ]
  },
  {
   "cell_type": "code",
   "execution_count": 15,
   "id": "167d9217",
   "metadata": {},
   "outputs": [
    {
     "data": {
      "image/png": "[encoded data removed]",
      "text/plain": [
       "<Figure size 432x288 with 1 Axes>"
      ]
     },
     "metadata": {
      "needs_background": "light"
     },
     "output_type": "display_data"
    },
    {
     "data": {
      "image/png": "[encoded data removed]",
      "text/plain": [
       "<Figure size 432x288 with 1 Axes>"
      ]
     },
     "metadata": {
      "needs_background": "light"
     },
     "output_type": "display_data"
    }
   ],
   "source": [
    "for col in num_cols:\n",
    "    sns.boxplot(y=X[col], x=X['area_type'])\n",
    "    plt.show()"
   ]
  },
  {
   "cell_type": "code",
   "execution_count": 16,
   "id": "b75ca078",
   "metadata": {},
   "outputs": [
    {
     "data": {
      "image/png": "[encoded data removed]",
      "text/plain": [
       "<Figure size 432x288 with 1 Axes>"
      ]
     },
     "metadata": {
      "needs_background": "light"
     },
     "output_type": "display_data"
    },
    {
     "data": {
      "image/png": "[encoded data removed]",
      "text/plain": [
       "<Figure size 432x288 with 1 Axes>"
      ]
     },
     "metadata": {
      "needs_background": "light"
     },
     "output_type": "display_data"
    }
   ],
   "source": [
    "for col in num_cols:\n",
    "    sns.boxplot(y=X[col], x=X['availability'])\n",
    "    plt.show()"
   ]
  },
  {
   "cell_type": "code",
   "execution_count": 17,
   "id": "dd507f68",
   "metadata": {},
   "outputs": [
    {
     "data": {
      "image/png": "[encoded data removed]",
      "text/plain": [
       "<Figure size 432x288 with 1 Axes>"
      ]
     },
     "metadata": {
      "needs_background": "light"
     },
     "output_type": "display_data"
    },
    {
     "data": {
      "image/png": "[encoded data removed]",
      "text/plain": [
       "<Figure size 432x288 with 1 Axes>"
      ]
     },
     "metadata": {
      "needs_background": "light"
     },
     "output_type": "display_data"
    }
   ],
   "source": [
    "for col in num_cols:\n",
    "    sns.boxplot(y=X[col], x=X['location'])\n",
    "    plt.show()"
   ]
  },
  {
   "cell_type": "code",
   "execution_count": 18,
   "id": "c5296e71",
   "metadata": {},
   "outputs": [
    {
     "data": {
      "image/png": "[encoded data removed]",
      "text/plain": [
       "<Figure size 432x288 with 1 Axes>"
      ]
     },
     "metadata": {
      "needs_background": "light"
     },
     "output_type": "display_data"
    },
    {
     "data": {
      "image/png": "[encoded data removed]",
      "text/plain": [
       "<Figure size 432x288 with 1 Axes>"
      ]
     },
     "metadata": {
      "needs_background": "light"
     },
     "output_type": "display_data"
    }
   ],
   "source": [
    "for col in num_cols:\n",
    "    sns.boxplot(y=X[col], x=X['society'])\n",
    "    plt.show()"
   ]
  },
  {
   "cell_type": "code",
   "execution_count": 19,
   "id": "ca73f046",
   "metadata": {},
   "outputs": [
    {
     "data": {
      "image/png": "[encoded data removed]",
      "text/plain": [
       "<Figure size 432x288 with 1 Axes>"
      ]
     },
     "metadata": {
      "needs_background": "light"
     },
     "output_type": "display_data"
    },
    {
     "data": {
      "image/png": "[encoded data removed]",
      "text/plain": [
       "<Figure size 432x288 with 1 Axes>"
      ]
     },
     "metadata": {
      "needs_background": "light"
     },
     "output_type": "display_data"
    }
   ],
   "source": [
    "for col in num_cols:\n",
    "    sns.boxplot(y=X[col], x=X['size'])\n",
    "    plt.show()"
   ]
  },
  {
   "cell_type": "markdown",
   "id": "7e1d0600",
   "metadata": {},
   "source": [
    "## Study of Catogorical Columns"
   ]
  },
  {
   "cell_type": "code",
   "execution_count": 20,
   "id": "441ed816",
   "metadata": {},
   "outputs": [
    {
     "name": "stdout",
     "output_type": "stream",
     "text": [
      "Unique values in \"area_type\" column are ['Plot  Area' 'Super built-up  Area' 'Built-up  Area' 'Carpet  Area']\n",
      ">>Number of Unique values in the column are:  4\n",
      ">>Normalized counts for top 5 value are:\n",
      " Super built-up  Area    66.741742\n",
      "Built-up  Area          17.454955\n",
      "Plot  Area              15.090090\n",
      "Carpet  Area             0.713213\n",
      "Name: area_type, dtype: float64\n",
      "----------------------------------------------------------------------------------------------------------------------------\n",
      "Unique values in \"availability\" column are ['Ready To Move' '18-Oct' '18-Apr' '18-May' '18-Mar' '19-Dec' '20-Dec'\n",
      " '18-Dec' '19-Nov' '18-Aug' '17-Aug' '21-Jul' '18-Nov' '22-Jun' '18-Jun'\n",
      " '18-Jul' '19-Mar' '19-Jun' '17-Nov' '19-Apr' '20-Aug' '18-Feb' '17-Dec'\n",
      " '21-Aug' '18-Jan' '20-Oct' '20-Jan' '19-Jul' '21-Dec' '20-May' '15-Oct'\n",
      " '20-Apr' '22-Jan' '21-Sep' '19-Oct' '21-Jan' '21-Oct' '17-Oct' '16-Jan'\n",
      " '19-Jan' '20-Sep' '17-Sep' '18-Sep' '17-Apr' '21-Jun' '21-Mar' '22-Dec'\n",
      " '19-Aug' '19-May' '17-Jun' '17-May' '21-May' '22-May' '17-Mar'\n",
      " 'Immediate Possession' '15-Nov' '20-Jun' '19-Sep' '21-Nov' '17-Jul'\n",
      " '16-Mar' '16-Sep' '22-Nov' '20-Mar' '17-Feb' '21-Feb' '15-Aug' '14-Jul'\n",
      " '22-Mar']\n",
      ">>Number of Unique values in the column are:  69\n",
      ">>Normalized counts for top 5 value are:\n",
      " Ready To Move    79.617117\n",
      "18-Apr            2.364865\n",
      "18-May            2.252252\n",
      "18-Dec            2.027027\n",
      "18-Aug            1.576577\n",
      "Name: availability, dtype: float64\n",
      "----------------------------------------------------------------------------------------------------------------------------\n",
      "Unique values in \"location\" column are ['Chikkabanavar' 'Sompura' 'Nagaraja Garden' 'Byagadadhenahalli'\n",
      " 'Sarjapur  Road' 'Kalena Agrahara' 'Hagadur' 'Kudlu Gate' 'Kenchenahalli'\n",
      " 'Chennammana Kere' 'Whitefield' 'Kadugondanahalli' 'Babusapalaya'\n",
      " 'Vasantha Vallabha Nagar' 'Hoodi Layout' 'Hegde Nagar' 'Nagarbhavi'\n",
      " 'Kadugodi' 'TC Palaya' 'Navodaya Nagar' 'Cambridge Layout' 'Hosa Road'\n",
      " '1st Phase JP Nagar' 'Binny Pete' 'Bellandur' 'Murugeshpalya'\n",
      " 'Margondanahalli' 'Marsur' 'T.C PALYA' 'Binny Mills Employees Colony'\n",
      " 'Varthur' 'Ramamurthy Nagar' 'Brookefield' 'Padmanabhanagar'\n",
      " 'Uttarahalli' 'Harlur' 'ECC Road, Whitefield, ' 'Basavangudi'\n",
      " 'CV Raman Nagar' 'Sanne Amanikere' 'Jalahalli East' 'Attibele'\n",
      " 'Banashankari Stage III' 'Koramangala' '1 Ramamurthy Nagar'\n",
      " 'Doddakallasandra' 'Iblur Village' 'Attur Layout'\n",
      " 'Basaveshwara Nagar Yelahanka' 'Electronic City' 'Sahakara Nagar'\n",
      " 'Bannerghatta Road' 'Somasundara Palya' 'Budigere' '5th Phase JP Nagar'\n",
      " 'Hulimavu' 'Green Glen Layout' 'Thanisandra' 'Chikkalasandra'\n",
      " 'Kasavanhalli' 'Nagawara Junction' 'Hebbal Kempapura' 'Chamrajpet'\n",
      " '7th Phase JP Nagar' 'Banashankari' 'Hallehalli' 'Rajarajeshwari nagar'\n",
      " 'Arekere' 'Immadihalli' 'Electronics City Phase 1' 'Puttanahalli'\n",
      " 'Battarahalli' 'Marathahalli' 'Kaverappa Layout'\n",
      " 'Electronic City Phase II' 'Cox Town' 'Kodichikkanahalli' 'Kammasandra'\n",
      " 'Bellari Road' 'Konanakunte' 'Old Madras Road' 'Bhoganhalli'\n",
      " 'Janatha Colony' 'Bisuvanahalli' 'Chandapura' 'Hoodi' 'manyata park'\n",
      " 'Malleshwaram' 'Jnanabharathi Layout' 'Kamala Nagar' 'Pulkeshi Nagar'\n",
      " 'Kalyan nagar' 'Shanti Nagar' 'Achins Road' 'Vidyaranyapura'\n",
      " 'Kanakpura Road' 'Bagalur' ' Banaswadi' 'Hormavu' 'Gayathri Nagar'\n",
      " 'Vasanth nagar' 'Mysore Road' 'Ambedkar Nagar' 'Akshaya Nagar' 'Kengeri'\n",
      " 'Begur Road' 'Shampura' 'Shakthi Nagar' 'AMS Layout' 'Begur' 'Hosur Road'\n",
      " 'Yelachenahalli' 'Kanakapura' 'Billekahalli' 'Mathikere' 'Anjanapura'\n",
      " 'Hennur Bande' 'Nandini Layout' 'Tejaswini Nagar' 'Jalahalli' 'Ardendale'\n",
      " 'Kumara Park' 'Mangammanapalya' 'Kundalahalli' 'BDS Layout'\n",
      " 'Banashankari Stage II' 'Rajaji Nagar' 'Giri Nagar' 'Jalahalli West'\n",
      " 'Indira Nagar' 'Yelahanka' 'Basava Nagar' 'Kattigenahalli' 'Vittasandra'\n",
      " 'Doopanahalli' 'Seegehalli' 'Hennur' 'Hebbal' 'Kalkere'\n",
      " 'T K Reddy Layout' 'Ramagondanahalli' 'Panathur' 'KR Garden'\n",
      " 'Yelahanka New Town' 'Bommenahalli' 'Vijayanagar' 'Bannerghatta'\n",
      " 'Hennur Road' 'Jigani' 'Malleshpalya' 'Choodasandra' 'Dodda Nekkundi'\n",
      " 'Kaggadasapura' 'Basapura' 'Gollahalli' 'basaveshwarnagar' 'Anekal'\n",
      " 'Hadosiddapura' 'Vishwapriya Layout' 'Chikkakannalli' 'Nehru Nagar'\n",
      " 'Doctors Layout' 'Sarjapur' 'Domlur' 'Kathriguppe' 'Basaveshwara Nagar'\n",
      " '8th Phase JP Nagar' 'GD Layout' 'Neeladri Nagar' 'Ulsoor'\n",
      " 'Coffee Board Layout' 'Yelenahalli' 'Rajiv Nagar' 'Talaghattapura'\n",
      " 'Bommanahalli' 'Ananth Nagar' 'AECS LAYOUT A-BLOCK Singasandra'\n",
      " 'KUDLU MAIN ROAD' 'OMBR Layout' 'Yeshwanthpur' 'Ambalipura' 'Madavara'\n",
      " 'Channasandra' 'Thigalarapalya' 'Amruthnagar' 'Jinkethimmanahalli'\n",
      " 'Vibhutipura Extension' 'Akshayanagara East' 'Mallasandra'\n",
      " 'Horamavu Agara' 'Nobo Nagar' 'Devanahalli' 'Gowdanapalya'\n",
      " 'kadubisnahalli' 'BTM 2nd Stage' 'Kambipura' 'Banashankari Stage VI'\n",
      " 'Sector 6 HSR Layout' 'Thubarahalli' 'Cunningham Road' 'NRI Layout'\n",
      " 'Herohalli' 'Reliaable Tranquil Layout' 'Gottigere'\n",
      " 'Raja Rajeshwari Nagara' 'KR Puram' 'Haralur Road' 'Kanaka Nagar'\n",
      " 'MS Pallya' 'Ashok Nagar' 'Kurubarahalli' 'Raja Rajeshwari Nagar'\n",
      " 'Annapoorneshwari Layout, JP nagar 7th phase' 'Kothanur' 'Frazer Town'\n",
      " 'Amruthahalli' '3rd Block Jayanagar' 'Lakshminarayana Pura' 'Balagere'\n",
      " 'R.T. Nagar' 'Kumarapalli' 'Seetharampalya'\n",
      " 'near Ramanashree California resort' 'Pampa Extension' 'Ittamadu'\n",
      " 'HSR Layout' 'Kallumantapa' 'BEML Layout' 'Parappana Agrahara'\n",
      " 'Dhanalakshmi Layout' 'Kudlu' 'Sanjay nagar' 'Huskur' 'Hoskote'\n",
      " 'Kaikondrahalli' 'Vijinapura' '1st Block Jayanagar' 'Hoodi Circle, '\n",
      " 'Mahalakshmi Layout' 'Brooke Bond First Cross' 'Old Airport Road'\n",
      " 'Geddalahalli' 'Munnekollal' 'Sector 2 HSR Layout' 'Green Woods Layout'\n",
      " 'New Gurappana Palya' 'JP Nagar' 'BTM Layout' 'Lingadheeranahalli'\n",
      " 'Jayanagar' 'Narayana Nagar 1st Block' 'Viviani Road' 'Garudachar Palya'\n",
      " 'Chennappa Layout' 'Mahaganapathy Nagar' 'Vajarahalli' 'Kadubeesanahalli'\n",
      " 'Hongasandra' 'Addischetan Layout' 'Nelamangala' 'Tumkur Road' 'ITPL'\n",
      " 'Ramchandrapuram' 'Shree Ananth Nagar Layout' 'Gubbalala' 'Ashwath Nagar'\n",
      " 'Banaswadi' 'Ganga Nagar' 'Sadashiva Nagar' 'Jeevan bima nagar'\n",
      " 'Rachenahalli' '9th Phase JP Nagar' 'Subramanyapura'\n",
      " '5th Block Hbr Layout' 'Vikram Nagar' 'Mahadevpura' 'Chandra Layout'\n",
      " 'Akshayanagara West' 'Byrasandra' 'rr nagar' '4th Block Koramangala'\n",
      " 'Kogilu' 'Gollarapalya Hosahalli' 'Roopena Agrahara'\n",
      " '2nd Stage Nagarbhavi' 'RMV Extension Stage 2' 'Kavika Layout'\n",
      " 'Pattandur Agrahara' 'Banjara Layout' 'Nagappa Reddy Layout'\n",
      " 'Kodigehaali' 'Byatarayanapura' 'Jayanti Nagar' 'Divya Unnathi Layout'\n",
      " 'Carmelaram' 'Anandapura' 'Nallurhalli' 'Kammanahalli' 'Sonnenahalli'\n",
      " 'BEL Road' 'Anantapura' 'Kengeri Satellite Town' 'Austin Town'\n",
      " 'Sunder Ram Shetty Nagar' 'HRBR Layout' 'Subash Nagar' 'Devi Nagar'\n",
      " 'Singasandra' 'Maithri Layout' 'HBR Layout' 'Zuzuvadi' 'Gulimangala'\n",
      " 'Ashirvad Colony' 'Nagavarapalya' 'Brigade Road' 'Outer Ring Road East'\n",
      " 'Gunjur' 'Sarjapura - Attibele Road' 'Sindhi Colony'\n",
      " 'Daadys Gaarden Layout' 'Banagiri Nagar' 'Banashankari Stage V'\n",
      " 'A Narayanapura' '1st Block HBR Layout' 'Harappanahalli' 'Lingarajapuram'\n",
      " 'Benson Town' 'Bommasandra' 'AECS Layout' 'Nagavara' 'Lavelle Road'\n",
      " 'Victoria Layout' 'Virat Nagar' 'Basavanagara' ' Devarabeesana Halli'\n",
      " 'Kothannur' 'GM Palaya' 'BHEL Layout' 'Dinnur'\n",
      " '2nd Phase Judicial Layout' 'Sector 7 HSR Layout' 'Hiremath Layout'\n",
      " 'Anathanagar' 'AGS Layout' 'Narayanapura' 'Dr Shivarama Karantha Nagar'\n",
      " 'Karuna Nagar' 'Hosakerehalli' 'Dasanapura' 'Lal Bahadur Shastri Nagar'\n",
      " 'Dooravani Nagar' 'Tigalarpalya' 'Horamavu Banaswadi' 'Magadi Road'\n",
      " 'Chelekare' 'BTM 1st Stage' '6th Phase JP Nagar' 'Ambedkar Colony'\n",
      " 'T C Palya main Road' 'Kereguddadahalli' 'Vaderahalli' 'Laggere'\n",
      " 'Vishveshwarya Layout' 'Abbigere' 'Prashanth Nagar' '2nd Phase JP Nagar'\n",
      " 'Chikka Gowdanapalya.' 'Poorna Pragna Layout'\n",
      " 'bsk 6th stage 2ad block near sri conversation hall' 'Gunjur Palya'\n",
      " 'Yemlur' 'K N Extension' 'Doddanekundi' 'Cooke Town' 'Bhoopsandra'\n",
      " 'Harsha Layout' 'JP Nagar 8th Phase, ' 'Jagadish Nagar' 'Crimson Layout'\n",
      " 'Kanakapura Road' 'cooketown' 'Doddathoguru' 'Jakkur' 'Doddakannelli'\n",
      " 'Dodda Banaswadi' 'Hanumanth Nagar' 'Kacharakanahalli' 'Tata Nagar'\n",
      " '3rd Block Koramangala' 'Kaggalipura' 'PC Palaya' 'ITI Layout'\n",
      " 'Nagarbhavi Garden Villas Layout' 'BSM Extension' 'Sarvabhouma Nagar'\n",
      " 'Badavala Nagar' 'Hennagara' ' Devarachikkanahalli' 'Banagirinagar'\n",
      " 'Rajiv Gandhi Nagar' 'ISRO Layout' '1Hanuman Nagar' 'Versova Layout'\n",
      " 'Kengeri Hobli' 'Kumaraswami Layout' 'Hessarghatta' 'Kaval Byrasandra'\n",
      " 'HOSUR MAIN ROAD' 'Venkatadri Layout' 'Volagerekallahalli'\n",
      " 'Singapura Village' 'Chikkathoguru' 'Koppa' 'Maruthi Sevanagar'\n",
      " '1st Block HRBR Layout' 'Doddanakundi Industrial Area 2' 'Doddaballapur'\n",
      " 'Hosakerehalli Layout' 'Tilak Nagar' 'Shikaripalya' 'BTM 4th Stage'\n",
      " 'Vyalikaval' 'Poornapragna Housing Society Layout' 'Hosahalli Extension'\n",
      " 'Rajarajesheari nagar' 'Nayandanahalli' 'Prithvi Layout' 'Chikkasandra'\n",
      " 'Gollarahatti' 'Dodsworth Layout' 'LB Shastri Nagar' 'Srirampura'\n",
      " 'Medaralli' 'Prasanti Nagar' 'Makali' 't.c palya' 'Kuvempu Nagar'\n",
      " 'Naganathapura' 'Avalahalli' 'Kodigehalli' 'K R C kothanur'\n",
      " '6th Block Jayanagar' 'Kothnoor Dinne' 'SMV layout' 'D Souza Layout'\n",
      " 'Stage-4 Bommanahalli' 'Vibuthipura' 'Marathalli bridge'\n",
      " '8th block Koramangala' 'Shivaji Nagar' 'Green View Layout'\n",
      " 'Pragathi Nagar' 'Langford Town' 'Kasturi Nagar' '3rd Phase Iti Layout'\n",
      " 'Belathur' 'Raghavendra Nagar' 'Srirampuram' ' Electronic City'\n",
      " 'Moodalapalya' 'Dommasandra' 'Keshava Nagar' 'Vasanthapura'\n",
      " 'Wilson Garden' 'RWF West Colony' 'Venugopal Reddy Layout'\n",
      " 'New Thippasandra' '4th Block Jayanagar' 'Anand Nagar' 'Doddabanahalli'\n",
      " 'Friends Colony' 'Koramangala Industrial Layout' 'B Y Raveshwara Nagar'\n",
      " 'Akshya Nagar' 'Kada Agrahara' 'Cottonpet' 'B Channasandra' 'MRCR Layout'\n",
      " 'Peenya' 'Judicial Layout, Kanakapura Road, ' '2nd Block Koramangala'\n",
      " 'Gandhi Nagar' 'Pai Layout' 'West of Chord Road'\n",
      " 'Vishwanatha Nagenahalli' 'Hoysalanagar' 'Laxmi Sagar Layout'\n",
      " 'Air View Colony' 'D Group Employees Layout' 'Anugrah Layout'\n",
      " 'Panduranga Nagar' 'Whitefield ECC Road' 'MEI layout, Bagalgunte'\n",
      " 'Govindapura' 'Doddabommasandra' 'Defence Colony' 'Malur Hosur Road'\n",
      " 'Iggalur' 'Remco Bhel Layout' 'Brindavan Nagar' 'Tindlu' 'Somanna Garden'\n",
      " '8th Block Jayanagar' 'Infantry Road' 'OLd Gurappanapalya'\n",
      " 'Udayapur Village' 'Ankappa Layout' 'Dairy Circle' 'VGP Layout'\n",
      " 'Ashwathnagar' 'Manonarayanapalya' 'Huttanahalli' 'Vinayaka Nagar'\n",
      " 'HAL Layout' 'Tunganagara' 'Siddapura' 'Sunkadakatte' 'Venkatapura'\n",
      " 'Kundalahalli Colony' 'Guddadahalli' 'pavitra paradise' 'Sir M V Nagar'\n",
      " 'Doddanakunte' 'Havanur extension' 'Sector 4 HSR Layout'\n",
      " 'Sahyadri Layout' 'Marenahalli' 'Kenchanehalli R R Nagar' 'Bileshivale'\n",
      " 'Tasker Town' 'HAL 2nd Stage' 'Vinayak Nagar' 'Chikka Banaswadi'\n",
      " 'Shankarapuram' 'Dollars Layout' 'Raghuvanahalli' 'Bagalur Main Road'\n",
      " 'Sultan Palaya' 'Soundarya Layout' 'Chambenahalli' 'Lakkasandra'\n",
      " 'Rayasandra' 'Shettigere' 'Mico Layout' 'Basavanapura'\n",
      " '1st Block BEL Layout' 'Ring Road Nagarbhavi' 'Kodathi' 'Kammagondahalli'\n",
      " '1st Block Koramangala' 'Kannamangala' 'Vaishnavi Layout'\n",
      " 'Chikkadunnasandra' 'Rahat Bagh' 'Vignana Nagar' 'Akshaya Vana'\n",
      " 'KSRTC Layout' 'Kadabagere' 'VHBCS Layout' 'Manjunatha Layout'\n",
      " 'Duvasapalya' 'Nagondanahalli' 'Bhagyalakshmi Avenue' 'Jakkur Plantation'\n",
      " '2nd Block Hrbr Layout' 'Bhuvaneswari Nagar' 'CQAL Layout'\n",
      " 'Muthyala Nagar' 'Shanthala Nagar' 'Sampangirama Nagar' 'Judicial Layout'\n",
      " 'Suddaguntepalya' 'Chokkasandra' 'Chennammanakere Achukattu'\n",
      " 'Chokkahalli' 'KR Layout' 'Bank Of Baroda Colony' 'manyata tech park'\n",
      " 'Classic Paradise Layout' '4th T block Jayanagar' 'EPIP Zone' 'Ejipura'\n",
      " 'Omkar Nagar' 'Banashankari 2nd Stage' 'RBI Layout' 'Ramanashree Enclave'\n",
      " 'Kyalasanahalli' 'Abbaiah Reddy Layout' '5th Block Jayanagar'\n",
      " 'Sarjapur Road, ' 'Bettahalsoor' 'Popular Colony' 'Bull Temple Road'\n",
      " 'RMV' 'Alur' '2nd Block Bel Layout' 'Near International Airport'\n",
      " 'NGR Layout' 'Nagadevanahalli' 'Kashi Nagar' 'Ramanjaneyanagar'\n",
      " 'Wheelers Road' 'Mariyannapalya' 'Lake City' 'Electronic City Phase 1, '\n",
      " 'Thyagaraja Nagar' 'HAL 3rd Stage' 'Howthinarayanappa Garden'\n",
      " 'Byadarahalli' 'Bommasandra Industrial Area' 'Ullal Uppanagar'\n",
      " 'Anand nagar' 'MLA Layout' 'Balaji Gardens Layout' 'Pattanagere'\n",
      " 'Doddakammanahalli' 'RK Layout 2nd Stage' 'Meenakunte' 'Gopalapura'\n",
      " 'Jayamahal' 'Amco Colony' 'Lavakusha Nagar' 'Dasarahalli' 'Kathreguppe'\n",
      " '1 Immadihalli' 'Varsova Layout' 'Madiwala' 'Lakshmipura'\n",
      " 'Vijaya Bank Layout' 'Jakkasandra Extension' 'Anjappa Layout' 'Medahalli'\n",
      " 'KEB Colony' 'Vadarpalya' '1st Stage Indira Nagar' 'Varthur Road'\n",
      " 'Channasandra Layout' '9th Block Jayanagar' 'Dominic Layout'\n",
      " 'Manayata Tech Park' 'Rajasree Layout' 'Veerannapalya' 'Amrita Nagar'\n",
      " 'Kodihalli' 'Yemlur, Old Airport Road, ' 'Jayamahal Extension'\n",
      " 'Hegganahalli' 'Munivenkatppa Layout' 'Gaurava Nagar'\n",
      " 'Kachanayakanahalli' 'frazertown' 'Lakshmipura Vidyaanyapura'\n",
      " 'Shingapura' 'N R Layout' 'Gokaula Extension' 'poornaprajna layout'\n",
      " 'Gattahalli' 'Geleyara Balaga Layout' 'Basnashankari,6th stage,'\n",
      " 'Sector 1 HSR Layout' 'MCECHS  layout' 'Sarakki Nagar'\n",
      " '3rd Block Hrbr Layout' 'Dodda Nekkundi Extension' 'Bhuvaneshwari Nagar'\n",
      " 'Mallathahalli' 'Rajarajeshwari Nagara' 'Chinnapanahalli'\n",
      " 'Bendiganahalli' 'BEML Layout 5th Stage' 'Virudhu Nagar' 'B Narayanapura'\n",
      " 'Motappa Layout' 'Jnana Ganga Nagar' 'Konena Agrahara' 'Ashwini layout'\n",
      " 'Goraguntepalya' 'Phase 1 Kammasandra' 'whitefiled'\n",
      " '4 Bedroom Farm House in Bagalur' 'Nagashetty Halli'\n",
      " 'Jp nagar 8th Phase .' 'Gidada Konnenahalli' 'Shivanagar'\n",
      " 'Hennur Gardens' 'Vimanapura' 'Tippenahalli' '1A Block Koramangala'\n",
      " 'Raja Rajeshwari Nagar 5th Stage' 'BAGUR ROAD' 'Sidedahalli' 'LIC Colony'\n",
      " 'Off Sarjapur Road, ' 'Housing Board Layout Vijay Nagar' 'P&T Layout'\n",
      " 'Kaveri Nagar' 'Vasantapura main road' '7th Block Jayanagar'\n",
      " 'Palanahalli' 'Nanjappa Layout Vidyaranyapura' 'Alfa Garden Layout'\n",
      " 'Manjunath Nagar' 'Sai Gardens' 'Gokula Extension' 'Kamakshipalya'\n",
      " 'tc.palya' 'Kempegowda Nagar' 'NS Palya' 'Ramakrishnappa Layout'\n",
      " 'Old Mangammanapalya Road' 'Jakkuru Layout' 'Mathikere SBM colony'\n",
      " 'Balepet' 'Krishna Reddy Layout' 'Chuchangatta Colony'\n",
      " 'Mango Garden Layout' 'Indiranagar HAL 2nd Stage' 'Varthur Road, '\n",
      " 'Sri Sai Layout' 'Nanjappa Garden' 'Srinivas Colony' 'Thippasandra'\n",
      " 'Silk Board' 'Varanasi' 'Kothnur Narayanapura' 'Nyanappana Halli'\n",
      " 'Udaya Nagar' 'Jaraganahalli Jp Nagar Post' 'Vijayabank bank layout'\n",
      " 'Ilyas Nagar' 'Viswapriyanagar.begur Road.bommanahalli.'\n",
      " 'kanakapura main road' 'Jai Bheema Nagar' 'JCR Layout'\n",
      " 'BEML Layout 5th stage' 'Coconut Grove Layout' 'BEL Layout'\n",
      " 'Shantiniketan Layout' 'Kirloskar layout, Basaveshwarnagar'\n",
      " 'Byrathi Village' 'Richmond Town' 'Amam Enclave Layout' 'Church Street'\n",
      " '6th block Koramangala' 'Hennur Busstop' 'Gopalkrishna Nagar'\n",
      " 'Canara Bank Layout' '2nd Stage Arekere Mico Layout' 'J C Nagar'\n",
      " 'Bharathi Nagar' 'Amblipura' 'Bandepalya' 'Hunasamaranahalli'\n",
      " 'Basavanna Nagar' 'Banasawadi, ' 'Dasappa Layout' 'Postal Colony'\n",
      " 'Arehalli' 'Sanjeevini Nagar' ' Bhoganhalli' 'Race Course Road'\n",
      " 'Rajagopala Nagar' '5th Stage BEML Layout' 'singapura paradise'\n",
      " 'Uvce Layout' ' Thanisandra' 'Maheswari Nagar' 'Kanakapura  Rod'\n",
      " 'NTI Layout' 'Srinivasa Nagar' 'Govindpura' 'Devanahalli Int. Airport'\n",
      " 'RMV 2nd Stage' 'Sampangi Rama Nagar' 'Kenchenhalli' '3rd Phase JP Nagar'\n",
      " 'Kengeri Satellite Town KHB Apartment' 'T c palya' 'Palace Guttahalli'\n",
      " 'Mathikere Extension' 'HOSUR RMAIN ROAD' 'Patelappa Layout'\n",
      " 'Telecom Layout' 'RK Colony' 'Devara Jeevanahalli' 'Doddabele' 'Old Town'\n",
      " 'Nagasandra' '4th Block HBR Layout' 'J P Nagar 7th Phase Ramayya City'\n",
      " 'Teachers Colony' 'TR Mill Road, Chamarajpet' 'Gkvk Layout' 'Neelasandra'\n",
      " 'Jagajyothi layout' 'Kumbalgodu' 'Adityanagar' 'Chikka Tirupathi'\n",
      " 'Ganga Nagar Extension' 'Sathya Layout' 'Shettihalli' 'Shirdi Sai Nagar'\n",
      " 'Nirman Layout' 'Basaveswarnagar' 'Thirumenahalli' 'Anantapuram'\n",
      " '7th Block Koramangala' '6th Block Rajaji Nagar' 'Kannur' '1 Giri Nagar'\n",
      " 'Manorayana Palya' 'Kadarenahalli' 'Rustam Bagh Layout' 'Bettadasanapura'\n",
      " 'ravindra nagar, T.dasarahalli peenya' 'Williams Town' 'Bapuji Layout'\n",
      " ' Rachenahalli' 'Billamaranahalli' 'Prestige Sunrise' 'Shanthi Pura'\n",
      " 'Glass Factory Layout' 'Ngef Layout' 'Prakash Nagar' 'BCC Layout'\n",
      " 'Sneha Colony' 'Upadhyaya Layout' 'sapthagiri Layout'\n",
      " 'Green Domain Layout' 'Marasandra' 'Jaya Nagar East' 'Suragajakkanahalli'\n",
      " 'Kanakapura Road, ' 'Kengeri Satellite Town ( BDA SITE)' 'V.V Puram'\n",
      " 'Bikasipura' 'Kumbena Agrahara' 'Grihalakshmi Layout' 'Thurahalli'\n",
      " 'Kirloskar Layout' 'BTM Layout 2nd Stage 1st Phase' 'Junnasandra'\n",
      " 'Arekempanahalli' 'J.P.nagar 6th Phase.Sarakki Nagar' 'Hosahalli'\n",
      " 'Suraksha Nagar' 'Srinagar' 'Tavarekere' 'Nandi Durga Road'\n",
      " 'JP Nagar 7th Phase, ' 'Vishwapriya Nagar'\n",
      " 'Yeshwanthpur Industrial Suburb' 'Challaghatta' 'Chokkanahalli'\n",
      " 'Govindaraja Nagar Ward' 'Veerabhadra Nagar' 'Reliable Woods Layout'\n",
      " 'T Dasarahalli' 'Sarvobhogam Nagar' 'Weavers Colony' 'Ramamohanapuram'\n",
      " 'Bharath Housing Society Layout' 'Prakruthi Township' 'Millers Road'\n",
      " \"St. John's Road\" 'Langford Gardens' 'Bande Nallasandra'\n",
      " 'Sathya Sai Layout' 'Kullappa Colony' '2nd Block Jayanagar' 'IVC Road'\n",
      " 'Jyothi Nagar' 'Canara Bank Colony' 'HMT Layout' 'Silver Springs Layout'\n",
      " 'Veer Sandra' 'Vittal Mallya Road' 'Rajarajeshwarinagar'\n",
      " '2Electronic City Phase II' 'Mudalpalaya' 'Kithaganur' 'manyata'\n",
      " 'Subramanyanagar' 'Jaya Mahal layout'\n",
      " 'Lakshminarayanapura, Electronic City Phase 2' 'Ganganahalli'\n",
      " 'Ullal Road' 'Karnataka Shabarimala' ' ittamadu' 'Bilal Nagar'\n",
      " 'Indranagar  100ft road defence colony' 'Sadaramangala' 'Surabhi Layout'\n",
      " 'Geetanjali Layout' 'Tirumanahalli' 'Kamdhenu Nagar' 'Mahalakshmi Puram'\n",
      " 'Doddabidrakallu' 'Bethel Nagar' 'Upkar Layout' 'RMV Extension'\n",
      " 'Whitefield, ' 'Hosapalya' 'Ramesh Nagar' 'JakkurYelahanka'\n",
      " 'Nagarbhavi  BDA Complex' 'Banashankari3rd stage bigbazar'\n",
      " 'Anekal - Hosur Road']\n",
      ">>Number of Unique values in the column are:  908\n",
      ">>Normalized counts for top 5 value are:\n",
      " Whitefield         3.922673\n",
      "Sarjapur  Road     3.171922\n",
      "Electronic City    2.252252\n",
      "Kanakpura Road     2.120871\n",
      "Thanisandra        1.858108\n",
      "Name: location, dtype: float64\n",
      "----------------------------------------------------------------------------------------------------------------------------\n",
      "Unique values in \"size\" column are ['5 Bedroom' '2 BHK' '3 BHK' '1 BHK' '4 Bedroom' '3 Bedroom' '2 Bedroom'\n",
      " '11 Bedroom' '6 BHK' '5 BHK' '4 BHK' '7 Bedroom' '9 Bedroom' '1 RK'\n",
      " '6 Bedroom' '1 Bedroom' '8 Bedroom' '10 Bedroom' '7 BHK' '9 BHK' '19 BHK'\n",
      " '10 BHK' '16 BHK' '8 BHK' nan '11 BHK' '27 BHK']\n",
      ">>Number of Unique values in the column are:  26\n",
      ">>Normalized counts for top 5 value are:\n",
      " 2 BHK        38.288288\n",
      "3 BHK        33.483483\n",
      "4 Bedroom     6.569069\n",
      "1 BHK         4.241742\n",
      "4 BHK         4.185435\n",
      "Name: size, dtype: float64\n",
      "----------------------------------------------------------------------------------------------------------------------------\n",
      "Unique values in \"society\" column are [nan 'VBavaai' 'Shodsth' ... 'Ozdiaan' 'Srarkha' 'NiarkHy']\n",
      ">>Number of Unique values in the column are:  1528\n",
      ">>Normalized counts for top 5 value are:\n",
      " NaN        40.915916\n",
      "PrarePa     0.656907\n",
      "Sryalan     0.506757\n",
      "PrityTr     0.506757\n",
      "GrrvaGr     0.487988\n",
      "Name: society, dtype: float64\n",
      "----------------------------------------------------------------------------------------------------------------------------\n",
      "Unique values in \"total_sqft\" column are ['1200' '1090' '1430' ... '673' '2302' '1818']\n",
      ">>Number of Unique values in the column are:  1367\n",
      ">>Normalized counts for top 5 value are:\n",
      " 1200    6.606607\n",
      "1500    1.651652\n",
      "2400    1.651652\n",
      "1100    1.614114\n",
      "1000    1.351351\n",
      "Name: total_sqft, dtype: float64\n",
      "----------------------------------------------------------------------------------------------------------------------------\n"
     ]
    }
   ],
   "source": [
    "for col in cat_cols:\n",
    "    print(\"Unique values in \\\"%s\\\" column are %s\"%(col, X[col].unique()))\n",
    "    print(\">>Number of Unique values in the column are: \",X[col].nunique())\n",
    "    print(\">>Normalized counts for top 5 value are:\\n\",\n",
    "          X[col].value_counts(normalize=True, sort=True, ascending=False, bins=None, dropna=False).nlargest(5)*100)\n",
    "    print(\"-\"*124)\n",
    "    "
   ]
  },
  {
   "cell_type": "markdown",
   "id": "a58a9217",
   "metadata": {},
   "source": [
    "##### Other analysis"
   ]
  },
  {
   "cell_type": "code",
   "execution_count": 21,
   "id": "0731ccdf",
   "metadata": {},
   "outputs": [
    {
     "data": {
      "text/plain": [
       "array(['5 Bedroom', '2 BHK', '3 BHK', '1 BHK', '4 Bedroom', '3 Bedroom',\n",
       "       '2 Bedroom', '11 Bedroom', '6 BHK', '5 BHK', '4 BHK', '7 Bedroom',\n",
       "       '9 Bedroom', '1 RK', '6 Bedroom', '1 Bedroom', '8 Bedroom',\n",
       "       '10 Bedroom', '7 BHK', '9 BHK', '19 BHK', '10 BHK', '16 BHK',\n",
       "       '8 BHK', nan, '11 BHK', '27 BHK'], dtype=object)"
      ]
     },
     "execution_count": 21,
     "metadata": {},
     "output_type": "execute_result"
    }
   ],
   "source": [
    "#Unique values in a column\n",
    "X['size'].unique()"
   ]
  },
  {
   "cell_type": "code",
   "execution_count": 22,
   "id": "e37771cc",
   "metadata": {},
   "outputs": [
    {
     "data": {
      "text/plain": [
       "2086     5\n",
       "3585     2\n",
       "6411     3\n",
       "1950     3\n",
       "10979    3\n",
       "        ..\n",
       "5519     4\n",
       "4701     3\n",
       "4680     3\n",
       "3098     3\n",
       "429      3\n",
       "Name: size, Length: 5328, dtype: object"
      ]
     },
     "execution_count": 22,
     "metadata": {},
     "output_type": "execute_result"
    }
   ],
   "source": [
    "#Operating on a column\n",
    "X['size'].str.split(' ').str[0]"
   ]
  },
  {
   "cell_type": "code",
   "execution_count": 23,
   "id": "b1852253",
   "metadata": {},
   "outputs": [
    {
     "data": {
      "text/plain": [
       "8306    NaN\n",
       "8565    NaN\n",
       "6719    NaN\n",
       "1775    NaN\n",
       "Name: size, dtype: object"
      ]
     },
     "execution_count": 23,
     "metadata": {},
     "output_type": "execute_result"
    }
   ],
   "source": [
    "#Getting null rows in a specific column\n",
    "X['size'][X['size'].str.split(' ').str[0].isnull()]"
   ]
  },
  {
   "cell_type": "code",
   "execution_count": 24,
   "id": "ce9c7841",
   "metadata": {},
   "outputs": [
    {
     "data": {
      "text/plain": [
       "array(['5', '2', '3', '1', '4', '11', '6', '7', '9', '8', '10', '19',\n",
       "       '16', nan, '27'], dtype=object)"
      ]
     },
     "execution_count": 24,
     "metadata": {},
     "output_type": "execute_result"
    }
   ],
   "source": [
    "X['size'].str.split(' ').str[0].unique()"
   ]
  },
  {
   "cell_type": "code",
   "execution_count": 25,
   "id": "c6c1ea30",
   "metadata": {},
   "outputs": [
    {
     "data": {
      "text/plain": [
       "array(['Plot  Area', 'Super built-up  Area', 'Built-up  Area',\n",
       "       'Carpet  Area'], dtype=object)"
      ]
     },
     "execution_count": 25,
     "metadata": {},
     "output_type": "execute_result"
    }
   ],
   "source": [
    "X['area_type'].unique()"
   ]
  },
  {
   "cell_type": "code",
   "execution_count": 26,
   "id": "561fe222",
   "metadata": {},
   "outputs": [
    {
     "data": {
      "text/plain": [
       "array(['Ready To Move', '18-Oct', '18-Apr', '18-May', '18-Mar', '19-Dec',\n",
       "       '20-Dec', '18-Dec', '19-Nov', '18-Aug', '17-Aug', '21-Jul',\n",
       "       '18-Nov', '22-Jun', '18-Jun', '18-Jul', '19-Mar', '19-Jun',\n",
       "       '17-Nov', '19-Apr', '20-Aug', '18-Feb', '17-Dec', '21-Aug',\n",
       "       '18-Jan', '20-Oct', '20-Jan', '19-Jul', '21-Dec', '20-May',\n",
       "       '15-Oct', '20-Apr', '22-Jan', '21-Sep', '19-Oct', '21-Jan',\n",
       "       '21-Oct', '17-Oct', '16-Jan', '19-Jan', '20-Sep', '17-Sep',\n",
       "       '18-Sep', '17-Apr', '21-Jun', '21-Mar', '22-Dec', '19-Aug',\n",
       "       '19-May', '17-Jun', '17-May', '21-May', '22-May', '17-Mar',\n",
       "       'Immediate Possession', '15-Nov', '20-Jun', '19-Sep', '21-Nov',\n",
       "       '17-Jul', '16-Mar', '16-Sep', '22-Nov', '20-Mar', '17-Feb',\n",
       "       '21-Feb', '15-Aug', '14-Jul', '22-Mar'], dtype=object)"
      ]
     },
     "execution_count": 26,
     "metadata": {},
     "output_type": "execute_result"
    }
   ],
   "source": [
    "X['availability'].unique()"
   ]
  },
  {
   "cell_type": "code",
   "execution_count": 27,
   "id": "6265e359",
   "metadata": {},
   "outputs": [
    {
     "data": {
      "text/plain": [
       "Whitefield             0.039227\n",
       "Sarjapur  Road         0.031719\n",
       "Electronic City        0.022523\n",
       "Kanakpura Road         0.021209\n",
       "Thanisandra            0.018581\n",
       "                         ...   \n",
       "Manjunatha Layout      0.000188\n",
       "VHBCS Layout           0.000188\n",
       "Rahat Bagh             0.000188\n",
       "Chikkadunnasandra      0.000188\n",
       "Anekal - Hosur Road    0.000188\n",
       "Name: location, Length: 908, dtype: float64"
      ]
     },
     "execution_count": 27,
     "metadata": {},
     "output_type": "execute_result"
    }
   ],
   "source": [
    "#Count of occurance in a cloumns\n",
    "X['location'].value_counts(normalize=True, sort=True, ascending=False, bins=None, dropna=False)"
   ]
  },
  {
   "cell_type": "code",
   "execution_count": 28,
   "id": "e9fc1020",
   "metadata": {},
   "outputs": [
    {
     "data": {
      "text/plain": [
       "array(['Chikkabanavar', 'Sompura', 'Nagaraja Garden', 'Byagadadhenahalli',\n",
       "       'Sarjapur  Road', 'Kalena Agrahara', 'Hagadur', 'Kudlu Gate',\n",
       "       'Kenchenahalli', 'Chennammana Kere', 'Whitefield',\n",
       "       'Kadugondanahalli', 'Babusapalaya', 'Vasantha Vallabha Nagar',\n",
       "       'Hoodi Layout', 'Hegde Nagar', 'Nagarbhavi', 'Kadugodi',\n",
       "       'TC Palaya', 'Navodaya Nagar', 'Cambridge Layout', 'Hosa Road',\n",
       "       '1st Phase JP Nagar', 'Binny Pete', 'Bellandur', 'Murugeshpalya',\n",
       "       'Margondanahalli', 'Marsur', 'T.C PALYA',\n",
       "       'Binny Mills Employees Colony', 'Varthur', 'Ramamurthy Nagar',\n",
       "       'Brookefield', 'Padmanabhanagar', 'Uttarahalli', 'Harlur',\n",
       "       'ECC Road, Whitefield, ', 'Basavangudi', 'CV Raman Nagar',\n",
       "       'Sanne Amanikere', 'Jalahalli East', 'Attibele',\n",
       "       'Banashankari Stage III', 'Koramangala', '1 Ramamurthy Nagar',\n",
       "       'Doddakallasandra', 'Iblur Village', 'Attur Layout',\n",
       "       'Basaveshwara Nagar Yelahanka', 'Electronic City',\n",
       "       'Sahakara Nagar', 'Bannerghatta Road', 'Somasundara Palya',\n",
       "       'Budigere', '5th Phase JP Nagar', 'Hulimavu', 'Green Glen Layout',\n",
       "       'Thanisandra', 'Chikkalasandra', 'Kasavanhalli',\n",
       "       'Nagawara Junction', 'Hebbal Kempapura', 'Chamrajpet',\n",
       "       '7th Phase JP Nagar', 'Banashankari', 'Hallehalli',\n",
       "       'Rajarajeshwari nagar', 'Arekere', 'Immadihalli',\n",
       "       'Electronics City Phase 1', 'Puttanahalli', 'Battarahalli',\n",
       "       'Marathahalli', 'Kaverappa Layout', 'Electronic City Phase II',\n",
       "       'Cox Town', 'Kodichikkanahalli', 'Kammasandra', 'Bellari Road',\n",
       "       'Konanakunte', 'Old Madras Road', 'Bhoganhalli', 'Janatha Colony',\n",
       "       'Bisuvanahalli', 'Chandapura', 'Hoodi', 'manyata park',\n",
       "       'Malleshwaram', 'Jnanabharathi Layout', 'Kamala Nagar',\n",
       "       'Pulkeshi Nagar', 'Kalyan nagar', 'Shanti Nagar', 'Achins Road',\n",
       "       'Vidyaranyapura', 'Kanakpura Road', 'Bagalur', ' Banaswadi',\n",
       "       'Hormavu', 'Gayathri Nagar', 'Vasanth nagar', 'Mysore Road',\n",
       "       'Ambedkar Nagar', 'Akshaya Nagar', 'Kengeri', 'Begur Road',\n",
       "       'Shampura', 'Shakthi Nagar', 'AMS Layout', 'Begur', 'Hosur Road',\n",
       "       'Yelachenahalli', 'Kanakapura', 'Billekahalli', 'Mathikere',\n",
       "       'Anjanapura', 'Hennur Bande', 'Nandini Layout', 'Tejaswini Nagar',\n",
       "       'Jalahalli', 'Ardendale', 'Kumara Park', 'Mangammanapalya',\n",
       "       'Kundalahalli', 'BDS Layout', 'Banashankari Stage II',\n",
       "       'Rajaji Nagar', 'Giri Nagar', 'Jalahalli West', 'Indira Nagar',\n",
       "       'Yelahanka', 'Basava Nagar', 'Kattigenahalli', 'Vittasandra',\n",
       "       'Doopanahalli', 'Seegehalli', 'Hennur', 'Hebbal', 'Kalkere',\n",
       "       'T K Reddy Layout', 'Ramagondanahalli', 'Panathur', 'KR Garden',\n",
       "       'Yelahanka New Town', 'Bommenahalli', 'Vijayanagar',\n",
       "       'Bannerghatta', 'Hennur Road', 'Jigani', 'Malleshpalya',\n",
       "       'Choodasandra', 'Dodda Nekkundi', 'Kaggadasapura', 'Basapura',\n",
       "       'Gollahalli', 'basaveshwarnagar', 'Anekal', 'Hadosiddapura',\n",
       "       'Vishwapriya Layout', 'Chikkakannalli', 'Nehru Nagar',\n",
       "       'Doctors Layout', 'Sarjapur', 'Domlur', 'Kathriguppe',\n",
       "       'Basaveshwara Nagar', '8th Phase JP Nagar', 'GD Layout',\n",
       "       'Neeladri Nagar', 'Ulsoor', 'Coffee Board Layout', 'Yelenahalli',\n",
       "       'Rajiv Nagar', 'Talaghattapura', 'Bommanahalli', 'Ananth Nagar',\n",
       "       'AECS LAYOUT A-BLOCK Singasandra', 'KUDLU MAIN ROAD',\n",
       "       'OMBR Layout', 'Yeshwanthpur', 'Ambalipura', 'Madavara',\n",
       "       'Channasandra', 'Thigalarapalya', 'Amruthnagar',\n",
       "       'Jinkethimmanahalli', 'Vibhutipura Extension',\n",
       "       'Akshayanagara East', 'Mallasandra', 'Horamavu Agara',\n",
       "       'Nobo Nagar', 'Devanahalli', 'Gowdanapalya', 'kadubisnahalli',\n",
       "       'BTM 2nd Stage', 'Kambipura', 'Banashankari Stage VI',\n",
       "       'Sector 6 HSR Layout', 'Thubarahalli', 'Cunningham Road',\n",
       "       'NRI Layout', 'Herohalli', 'Reliaable Tranquil Layout',\n",
       "       'Gottigere', 'Raja Rajeshwari Nagara', 'KR Puram', 'Haralur Road',\n",
       "       'Kanaka Nagar', 'MS Pallya', 'Ashok Nagar', 'Kurubarahalli',\n",
       "       'Raja Rajeshwari Nagar',\n",
       "       'Annapoorneshwari Layout, JP nagar 7th phase', 'Kothanur',\n",
       "       'Frazer Town', 'Amruthahalli', '3rd Block Jayanagar',\n",
       "       'Lakshminarayana Pura', 'Balagere', 'R.T. Nagar', 'Kumarapalli',\n",
       "       'Seetharampalya', 'near Ramanashree California resort',\n",
       "       'Pampa Extension', 'Ittamadu', 'HSR Layout', 'Kallumantapa',\n",
       "       'BEML Layout', 'Parappana Agrahara', 'Dhanalakshmi Layout',\n",
       "       'Kudlu', 'Sanjay nagar', 'Huskur', 'Hoskote', 'Kaikondrahalli',\n",
       "       'Vijinapura', '1st Block Jayanagar', 'Hoodi Circle, ',\n",
       "       'Mahalakshmi Layout', 'Brooke Bond First Cross',\n",
       "       'Old Airport Road', 'Geddalahalli', 'Munnekollal',\n",
       "       'Sector 2 HSR Layout', 'Green Woods Layout', 'New Gurappana Palya',\n",
       "       'JP Nagar', 'BTM Layout', 'Lingadheeranahalli', 'Jayanagar',\n",
       "       'Narayana Nagar 1st Block', 'Viviani Road', 'Garudachar Palya',\n",
       "       'Chennappa Layout', 'Mahaganapathy Nagar', 'Vajarahalli',\n",
       "       'Kadubeesanahalli', 'Hongasandra', 'Addischetan Layout',\n",
       "       'Nelamangala', 'Tumkur Road', 'ITPL', 'Ramchandrapuram',\n",
       "       'Shree Ananth Nagar Layout', 'Gubbalala', 'Ashwath Nagar',\n",
       "       'Banaswadi', 'Ganga Nagar', 'Sadashiva Nagar', 'Jeevan bima nagar',\n",
       "       'Rachenahalli', '9th Phase JP Nagar', 'Subramanyapura',\n",
       "       '5th Block Hbr Layout', 'Vikram Nagar', 'Mahadevpura',\n",
       "       'Chandra Layout', 'Akshayanagara West', 'Byrasandra', 'rr nagar',\n",
       "       '4th Block Koramangala', 'Kogilu', 'Gollarapalya Hosahalli',\n",
       "       'Roopena Agrahara', '2nd Stage Nagarbhavi',\n",
       "       'RMV Extension Stage 2', 'Kavika Layout', 'Pattandur Agrahara',\n",
       "       'Banjara Layout', 'Nagappa Reddy Layout', 'Kodigehaali',\n",
       "       'Byatarayanapura', 'Jayanti Nagar', 'Divya Unnathi Layout',\n",
       "       'Carmelaram', 'Anandapura', 'Nallurhalli', 'Kammanahalli',\n",
       "       'Sonnenahalli', 'BEL Road', 'Anantapura', 'Kengeri Satellite Town',\n",
       "       'Austin Town', 'Sunder Ram Shetty Nagar', 'HRBR Layout',\n",
       "       'Subash Nagar', 'Devi Nagar', 'Singasandra', 'Maithri Layout',\n",
       "       'HBR Layout', 'Zuzuvadi', 'Gulimangala', 'Ashirvad Colony',\n",
       "       'Nagavarapalya', 'Brigade Road', 'Outer Ring Road East', 'Gunjur',\n",
       "       'Sarjapura - Attibele Road', 'Sindhi Colony',\n",
       "       'Daadys Gaarden Layout', 'Banagiri Nagar', 'Banashankari Stage V',\n",
       "       'A Narayanapura', '1st Block HBR Layout', 'Harappanahalli',\n",
       "       'Lingarajapuram', 'Benson Town', 'Bommasandra', 'AECS Layout',\n",
       "       'Nagavara', 'Lavelle Road', 'Victoria Layout', 'Virat Nagar',\n",
       "       'Basavanagara', ' Devarabeesana Halli', 'Kothannur', 'GM Palaya',\n",
       "       'BHEL Layout', 'Dinnur', '2nd Phase Judicial Layout',\n",
       "       'Sector 7 HSR Layout', 'Hiremath Layout', 'Anathanagar',\n",
       "       'AGS Layout', 'Narayanapura', 'Dr Shivarama Karantha Nagar',\n",
       "       'Karuna Nagar', 'Hosakerehalli', 'Dasanapura',\n",
       "       'Lal Bahadur Shastri Nagar', 'Dooravani Nagar', 'Tigalarpalya',\n",
       "       'Horamavu Banaswadi', 'Magadi Road', 'Chelekare', 'BTM 1st Stage',\n",
       "       '6th Phase JP Nagar', 'Ambedkar Colony', 'T C Palya main Road',\n",
       "       'Kereguddadahalli', 'Vaderahalli', 'Laggere',\n",
       "       'Vishveshwarya Layout', 'Abbigere', 'Prashanth Nagar',\n",
       "       '2nd Phase JP Nagar', 'Chikka Gowdanapalya.',\n",
       "       'Poorna Pragna Layout',\n",
       "       'bsk 6th stage 2ad block near sri conversation hall',\n",
       "       'Gunjur Palya', 'Yemlur', 'K N Extension', 'Doddanekundi',\n",
       "       'Cooke Town', 'Bhoopsandra', 'Harsha Layout',\n",
       "       'JP Nagar 8th Phase, ', 'Jagadish Nagar', 'Crimson Layout',\n",
       "       'Kanakapura Road', 'cooketown', 'Doddathoguru', 'Jakkur',\n",
       "       'Doddakannelli', 'Dodda Banaswadi', 'Hanumanth Nagar',\n",
       "       'Kacharakanahalli', 'Tata Nagar', '3rd Block Koramangala',\n",
       "       'Kaggalipura', 'PC Palaya', 'ITI Layout',\n",
       "       'Nagarbhavi Garden Villas Layout', 'BSM Extension',\n",
       "       'Sarvabhouma Nagar', 'Badavala Nagar', 'Hennagara',\n",
       "       ' Devarachikkanahalli', 'Banagirinagar', 'Rajiv Gandhi Nagar',\n",
       "       'ISRO Layout', '1Hanuman Nagar', 'Versova Layout', 'Kengeri Hobli',\n",
       "       'Kumaraswami Layout', 'Hessarghatta', 'Kaval Byrasandra',\n",
       "       'HOSUR MAIN ROAD', 'Venkatadri Layout', 'Volagerekallahalli',\n",
       "       'Singapura Village', 'Chikkathoguru', 'Koppa', 'Maruthi Sevanagar',\n",
       "       '1st Block HRBR Layout', 'Doddanakundi Industrial Area 2',\n",
       "       'Doddaballapur', 'Hosakerehalli Layout', 'Tilak Nagar',\n",
       "       'Shikaripalya', 'BTM 4th Stage', 'Vyalikaval',\n",
       "       'Poornapragna Housing Society Layout', 'Hosahalli Extension',\n",
       "       'Rajarajesheari nagar', 'Nayandanahalli', 'Prithvi Layout',\n",
       "       'Chikkasandra', 'Gollarahatti', 'Dodsworth Layout',\n",
       "       'LB Shastri Nagar', 'Srirampura', 'Medaralli', 'Prasanti Nagar',\n",
       "       'Makali', 't.c palya', 'Kuvempu Nagar', 'Naganathapura',\n",
       "       'Avalahalli', 'Kodigehalli', 'K R C kothanur',\n",
       "       '6th Block Jayanagar', 'Kothnoor Dinne', 'SMV layout',\n",
       "       'D Souza Layout', 'Stage-4 Bommanahalli', 'Vibuthipura',\n",
       "       'Marathalli bridge', '8th block Koramangala', 'Shivaji Nagar',\n",
       "       'Green View Layout', 'Pragathi Nagar', 'Langford Town',\n",
       "       'Kasturi Nagar', '3rd Phase Iti Layout', 'Belathur',\n",
       "       'Raghavendra Nagar', 'Srirampuram', ' Electronic City',\n",
       "       'Moodalapalya', 'Dommasandra', 'Keshava Nagar', 'Vasanthapura',\n",
       "       'Wilson Garden', 'RWF West Colony', 'Venugopal Reddy Layout',\n",
       "       'New Thippasandra', '4th Block Jayanagar', 'Anand Nagar',\n",
       "       'Doddabanahalli', 'Friends Colony',\n",
       "       'Koramangala Industrial Layout', 'B Y Raveshwara Nagar',\n",
       "       'Akshya Nagar', 'Kada Agrahara', 'Cottonpet', 'B Channasandra',\n",
       "       'MRCR Layout', 'Peenya', 'Judicial Layout, Kanakapura Road, ',\n",
       "       '2nd Block Koramangala', 'Gandhi Nagar', 'Pai Layout',\n",
       "       'West of Chord Road', 'Vishwanatha Nagenahalli', 'Hoysalanagar',\n",
       "       'Laxmi Sagar Layout', 'Air View Colony',\n",
       "       'D Group Employees Layout', 'Anugrah Layout', 'Panduranga Nagar',\n",
       "       'Whitefield ECC Road', 'MEI layout, Bagalgunte', 'Govindapura',\n",
       "       'Doddabommasandra', 'Defence Colony', 'Malur Hosur Road',\n",
       "       'Iggalur', 'Remco Bhel Layout', 'Brindavan Nagar', 'Tindlu',\n",
       "       'Somanna Garden', '8th Block Jayanagar', 'Infantry Road',\n",
       "       'OLd Gurappanapalya', 'Udayapur Village', 'Ankappa Layout',\n",
       "       'Dairy Circle', 'VGP Layout', 'Ashwathnagar', 'Manonarayanapalya',\n",
       "       'Huttanahalli', 'Vinayaka Nagar', 'HAL Layout', 'Tunganagara',\n",
       "       'Siddapura', 'Sunkadakatte', 'Venkatapura', 'Kundalahalli Colony',\n",
       "       'Guddadahalli', 'pavitra paradise', 'Sir M V Nagar',\n",
       "       'Doddanakunte', 'Havanur extension', 'Sector 4 HSR Layout',\n",
       "       'Sahyadri Layout', 'Marenahalli', 'Kenchanehalli R R Nagar',\n",
       "       'Bileshivale', 'Tasker Town', 'HAL 2nd Stage', 'Vinayak Nagar',\n",
       "       'Chikka Banaswadi', 'Shankarapuram', 'Dollars Layout',\n",
       "       'Raghuvanahalli', 'Bagalur Main Road', 'Sultan Palaya',\n",
       "       'Soundarya Layout', 'Chambenahalli', 'Lakkasandra', 'Rayasandra',\n",
       "       'Shettigere', 'Mico Layout', 'Basavanapura',\n",
       "       '1st Block BEL Layout', 'Ring Road Nagarbhavi', 'Kodathi',\n",
       "       'Kammagondahalli', '1st Block Koramangala', 'Kannamangala',\n",
       "       'Vaishnavi Layout', 'Chikkadunnasandra', 'Rahat Bagh',\n",
       "       'Vignana Nagar', 'Akshaya Vana', 'KSRTC Layout', 'Kadabagere',\n",
       "       'VHBCS Layout', 'Manjunatha Layout', 'Duvasapalya',\n",
       "       'Nagondanahalli', 'Bhagyalakshmi Avenue', 'Jakkur Plantation',\n",
       "       '2nd Block Hrbr Layout', 'Bhuvaneswari Nagar', 'CQAL Layout',\n",
       "       'Muthyala Nagar', 'Shanthala Nagar', 'Sampangirama Nagar',\n",
       "       'Judicial Layout', 'Suddaguntepalya', 'Chokkasandra',\n",
       "       'Chennammanakere Achukattu', 'Chokkahalli', 'KR Layout',\n",
       "       'Bank Of Baroda Colony', 'manyata tech park',\n",
       "       'Classic Paradise Layout', '4th T block Jayanagar', 'EPIP Zone',\n",
       "       'Ejipura', 'Omkar Nagar', 'Banashankari 2nd Stage', 'RBI Layout',\n",
       "       'Ramanashree Enclave', 'Kyalasanahalli', 'Abbaiah Reddy Layout',\n",
       "       '5th Block Jayanagar', 'Sarjapur Road, ', 'Bettahalsoor',\n",
       "       'Popular Colony', 'Bull Temple Road', 'RMV', 'Alur',\n",
       "       '2nd Block Bel Layout', 'Near International Airport', 'NGR Layout',\n",
       "       'Nagadevanahalli', 'Kashi Nagar', 'Ramanjaneyanagar',\n",
       "       'Wheelers Road', 'Mariyannapalya', 'Lake City',\n",
       "       'Electronic City Phase 1, ', 'Thyagaraja Nagar', 'HAL 3rd Stage',\n",
       "       'Howthinarayanappa Garden', 'Byadarahalli',\n",
       "       'Bommasandra Industrial Area', 'Ullal Uppanagar', 'Anand nagar',\n",
       "       'MLA Layout', 'Balaji Gardens Layout', 'Pattanagere',\n",
       "       'Doddakammanahalli', 'RK Layout 2nd Stage', 'Meenakunte',\n",
       "       'Gopalapura', 'Jayamahal', 'Amco Colony', 'Lavakusha Nagar',\n",
       "       'Dasarahalli', 'Kathreguppe', '1 Immadihalli', 'Varsova Layout',\n",
       "       'Madiwala', 'Lakshmipura', 'Vijaya Bank Layout',\n",
       "       'Jakkasandra Extension', 'Anjappa Layout', 'Medahalli',\n",
       "       'KEB Colony', 'Vadarpalya', '1st Stage Indira Nagar',\n",
       "       'Varthur Road', 'Channasandra Layout', '9th Block Jayanagar',\n",
       "       'Dominic Layout', 'Manayata Tech Park', 'Rajasree Layout',\n",
       "       'Veerannapalya', 'Amrita Nagar', 'Kodihalli',\n",
       "       'Yemlur, Old Airport Road, ', 'Jayamahal Extension',\n",
       "       'Hegganahalli', 'Munivenkatppa Layout', 'Gaurava Nagar',\n",
       "       'Kachanayakanahalli', 'frazertown', 'Lakshmipura Vidyaanyapura',\n",
       "       'Shingapura', 'N R Layout', 'Gokaula Extension',\n",
       "       'poornaprajna layout', 'Gattahalli', 'Geleyara Balaga Layout',\n",
       "       'Basnashankari,6th stage,', 'Sector 1 HSR Layout',\n",
       "       'MCECHS  layout', 'Sarakki Nagar', '3rd Block Hrbr Layout',\n",
       "       'Dodda Nekkundi Extension', 'Bhuvaneshwari Nagar', 'Mallathahalli',\n",
       "       'Rajarajeshwari Nagara', 'Chinnapanahalli', 'Bendiganahalli',\n",
       "       'BEML Layout 5th Stage', 'Virudhu Nagar', 'B Narayanapura',\n",
       "       'Motappa Layout', 'Jnana Ganga Nagar', 'Konena Agrahara',\n",
       "       'Ashwini layout', 'Goraguntepalya', 'Phase 1 Kammasandra',\n",
       "       'whitefiled', '4 Bedroom Farm House in Bagalur',\n",
       "       'Nagashetty Halli', 'Jp nagar 8th Phase .', 'Gidada Konnenahalli',\n",
       "       'Shivanagar', 'Hennur Gardens', 'Vimanapura', 'Tippenahalli',\n",
       "       '1A Block Koramangala', 'Raja Rajeshwari Nagar 5th Stage',\n",
       "       'BAGUR ROAD', 'Sidedahalli', 'LIC Colony', 'Off Sarjapur Road, ',\n",
       "       'Housing Board Layout Vijay Nagar', 'P&T Layout', 'Kaveri Nagar',\n",
       "       'Vasantapura main road', '7th Block Jayanagar', 'Palanahalli',\n",
       "       'Nanjappa Layout Vidyaranyapura', 'Alfa Garden Layout',\n",
       "       'Manjunath Nagar', 'Sai Gardens', 'Gokula Extension',\n",
       "       'Kamakshipalya', 'tc.palya', 'Kempegowda Nagar', 'NS Palya',\n",
       "       'Ramakrishnappa Layout', 'Old Mangammanapalya Road',\n",
       "       'Jakkuru Layout', 'Mathikere SBM colony', 'Balepet',\n",
       "       'Krishna Reddy Layout', 'Chuchangatta Colony',\n",
       "       'Mango Garden Layout', 'Indiranagar HAL 2nd Stage',\n",
       "       'Varthur Road, ', 'Sri Sai Layout', 'Nanjappa Garden',\n",
       "       'Srinivas Colony', 'Thippasandra', 'Silk Board', 'Varanasi',\n",
       "       'Kothnur Narayanapura', 'Nyanappana Halli', 'Udaya Nagar',\n",
       "       'Jaraganahalli Jp Nagar Post', 'Vijayabank bank layout',\n",
       "       'Ilyas Nagar', 'Viswapriyanagar.begur Road.bommanahalli.',\n",
       "       'kanakapura main road', 'Jai Bheema Nagar', 'JCR Layout',\n",
       "       'BEML Layout 5th stage', 'Coconut Grove Layout', 'BEL Layout',\n",
       "       'Shantiniketan Layout', 'Kirloskar layout, Basaveshwarnagar',\n",
       "       'Byrathi Village', 'Richmond Town', 'Amam Enclave Layout',\n",
       "       'Church Street', '6th block Koramangala', 'Hennur Busstop',\n",
       "       'Gopalkrishna Nagar', 'Canara Bank Layout',\n",
       "       '2nd Stage Arekere Mico Layout', 'J C Nagar', 'Bharathi Nagar',\n",
       "       'Amblipura', 'Bandepalya', 'Hunasamaranahalli', 'Basavanna Nagar',\n",
       "       'Banasawadi, ', 'Dasappa Layout', 'Postal Colony', 'Arehalli',\n",
       "       'Sanjeevini Nagar', ' Bhoganhalli', 'Race Course Road',\n",
       "       'Rajagopala Nagar', '5th Stage BEML Layout', 'singapura paradise',\n",
       "       'Uvce Layout', ' Thanisandra', 'Maheswari Nagar',\n",
       "       'Kanakapura  Rod', 'NTI Layout', 'Srinivasa Nagar', 'Govindpura',\n",
       "       'Devanahalli Int. Airport', 'RMV 2nd Stage', 'Sampangi Rama Nagar',\n",
       "       'Kenchenhalli', '3rd Phase JP Nagar',\n",
       "       'Kengeri Satellite Town KHB Apartment', 'T c palya',\n",
       "       'Palace Guttahalli', 'Mathikere Extension', 'HOSUR RMAIN ROAD',\n",
       "       'Patelappa Layout', 'Telecom Layout', 'RK Colony',\n",
       "       'Devara Jeevanahalli', 'Doddabele', 'Old Town', 'Nagasandra',\n",
       "       '4th Block HBR Layout', 'J P Nagar 7th Phase Ramayya City',\n",
       "       'Teachers Colony', 'TR Mill Road, Chamarajpet', 'Gkvk Layout',\n",
       "       'Neelasandra', 'Jagajyothi layout', 'Kumbalgodu', 'Adityanagar',\n",
       "       'Chikka Tirupathi', 'Ganga Nagar Extension', 'Sathya Layout',\n",
       "       'Shettihalli', 'Shirdi Sai Nagar', 'Nirman Layout',\n",
       "       'Basaveswarnagar', 'Thirumenahalli', 'Anantapuram',\n",
       "       '7th Block Koramangala', '6th Block Rajaji Nagar', 'Kannur',\n",
       "       '1 Giri Nagar', 'Manorayana Palya', 'Kadarenahalli',\n",
       "       'Rustam Bagh Layout', 'Bettadasanapura',\n",
       "       'ravindra nagar, T.dasarahalli peenya', 'Williams Town',\n",
       "       'Bapuji Layout', ' Rachenahalli', 'Billamaranahalli',\n",
       "       'Prestige Sunrise', 'Shanthi Pura', 'Glass Factory Layout',\n",
       "       'Ngef Layout', 'Prakash Nagar', 'BCC Layout', 'Sneha Colony',\n",
       "       'Upadhyaya Layout', 'sapthagiri Layout', 'Green Domain Layout',\n",
       "       'Marasandra', 'Jaya Nagar East', 'Suragajakkanahalli',\n",
       "       'Kanakapura Road, ', 'Kengeri Satellite Town ( BDA SITE)',\n",
       "       'V.V Puram', 'Bikasipura', 'Kumbena Agrahara',\n",
       "       'Grihalakshmi Layout', 'Thurahalli', 'Kirloskar Layout',\n",
       "       'BTM Layout 2nd Stage 1st Phase', 'Junnasandra', 'Arekempanahalli',\n",
       "       'J.P.nagar 6th Phase.Sarakki Nagar', 'Hosahalli', 'Suraksha Nagar',\n",
       "       'Srinagar', 'Tavarekere', 'Nandi Durga Road',\n",
       "       'JP Nagar 7th Phase, ', 'Vishwapriya Nagar',\n",
       "       'Yeshwanthpur Industrial Suburb', 'Challaghatta', 'Chokkanahalli',\n",
       "       'Govindaraja Nagar Ward', 'Veerabhadra Nagar',\n",
       "       'Reliable Woods Layout', 'T Dasarahalli', 'Sarvobhogam Nagar',\n",
       "       'Weavers Colony', 'Ramamohanapuram',\n",
       "       'Bharath Housing Society Layout', 'Prakruthi Township',\n",
       "       'Millers Road', \"St. John's Road\", 'Langford Gardens',\n",
       "       'Bande Nallasandra', 'Sathya Sai Layout', 'Kullappa Colony',\n",
       "       '2nd Block Jayanagar', 'IVC Road', 'Jyothi Nagar',\n",
       "       'Canara Bank Colony', 'HMT Layout', 'Silver Springs Layout',\n",
       "       'Veer Sandra', 'Vittal Mallya Road', 'Rajarajeshwarinagar',\n",
       "       '2Electronic City Phase II', 'Mudalpalaya', 'Kithaganur',\n",
       "       'manyata', 'Subramanyanagar', 'Jaya Mahal layout',\n",
       "       'Lakshminarayanapura, Electronic City Phase 2', 'Ganganahalli',\n",
       "       'Ullal Road', 'Karnataka Shabarimala', ' ittamadu', 'Bilal Nagar',\n",
       "       'Indranagar  100ft road defence colony', 'Sadaramangala',\n",
       "       'Surabhi Layout', 'Geetanjali Layout', 'Tirumanahalli',\n",
       "       'Kamdhenu Nagar', 'Mahalakshmi Puram', 'Doddabidrakallu',\n",
       "       'Bethel Nagar', 'Upkar Layout', 'RMV Extension', 'Whitefield, ',\n",
       "       'Hosapalya', 'Ramesh Nagar', 'JakkurYelahanka',\n",
       "       'Nagarbhavi  BDA Complex', 'Banashankari3rd stage bigbazar',\n",
       "       'Anekal - Hosur Road'], dtype=object)"
      ]
     },
     "execution_count": 28,
     "metadata": {},
     "output_type": "execute_result"
    }
   ],
   "source": [
    "X['location'].unique()"
   ]
  },
  {
   "cell_type": "code",
   "execution_count": 29,
   "id": "d02406c0",
   "metadata": {},
   "outputs": [
    {
     "data": {
      "text/plain": [
       "1529"
      ]
     },
     "execution_count": 29,
     "metadata": {},
     "output_type": "execute_result"
    }
   ],
   "source": [
    "len(X['society'].unique())"
   ]
  },
  {
   "cell_type": "code",
   "execution_count": 30,
   "id": "3a86c26c",
   "metadata": {},
   "outputs": [
    {
     "data": {
      "text/plain": [
       "PrarePa    0.011118\n",
       "Sryalan    0.008577\n",
       "PrityTr    0.008577\n",
       "GMown E    0.008259\n",
       "GrrvaGr    0.008259\n",
       "             ...   \n",
       "Vadidpl    0.000318\n",
       "SRanail    0.000318\n",
       "Vidil D    0.000318\n",
       "Shelash    0.000318\n",
       "NiarkHy    0.000318\n",
       "Name: society, Length: 1528, dtype: float64"
      ]
     },
     "execution_count": 30,
     "metadata": {},
     "output_type": "execute_result"
    }
   ],
   "source": [
    "X['society'].value_counts(normalize=True, sort=True)"
   ]
  },
  {
   "cell_type": "code",
   "execution_count": null,
   "id": "c8ca6e14",
   "metadata": {},
   "outputs": [],
   "source": []
  },
  {
   "cell_type": "code",
   "execution_count": null,
   "id": "1b5ec33b",
   "metadata": {},
   "outputs": [],
   "source": []
  },
  {
   "cell_type": "code",
   "execution_count": null,
   "id": "9bfce6a4",
   "metadata": {},
   "outputs": [],
   "source": []
  },
  {
   "cell_type": "markdown",
   "id": "24569aba",
   "metadata": {},
   "source": [
    "# Outcome of the above analysis"
   ]
  },
  {
   "cell_type": "raw",
   "id": "dfb643dd",
   "metadata": {},
   "source": [
    "Transformations:\n",
    "    duplicate elimination and index updation\n",
    "    convert cat-col of total_sqft to float with null values also\n",
    "    convert cat-col of size to number by the frist value with null value also\n",
    "    convert cat-col of availability to make both Immediate Possession and Ready To Move same and take only month, include null also.\n",
    "    Convert location to reduce the unique values in the column\n",
    "    drop the society column\n",
    "    \n",
    "Outlier Elimination:\n",
    "    eliminate outliers using IQR as features are not normally distributed based on numerical columns \n",
    "    total_sqft,bath and balcony.\n",
    "\n",
    "Ecoding:\n",
    "  area_type is ordinal encoded\n",
    "  while availability and location are one hot encoded\n",
    "  \n",
    "Scaling:\n",
    "    For numerical cloumns use mix-max scaler after eliminating outliers\n",
    "\n",
    "Imputation of missing Data:\n",
    "    Impute the missing values based on KNN with weight distance and uniform\n",
    "\n",
    "\n",
    "Missing values handeling:\n",
    "    area_type:0 missing\n",
    "    availability:0 missing\n",
    "    location:1 dropped\n",
    "    size:10 knn imputer\n",
    "    society:4395 dropped\n",
    "    total_sqft:0 imputer\n",
    "    bath:55 knn imputer\n",
    "    balcony:473 imputer"
   ]
  },
  {
   "cell_type": "code",
   "execution_count": null,
   "id": "01e2d3e7",
   "metadata": {},
   "outputs": [],
   "source": []
  },
  {
   "cell_type": "code",
   "execution_count": null,
   "id": "50b29765",
   "metadata": {},
   "outputs": [],
   "source": []
  },
  {
   "cell_type": "code",
   "execution_count": null,
   "id": "bcc9f66a",
   "metadata": {},
   "outputs": [],
   "source": []
  },
  {
   "cell_type": "markdown",
   "id": "4cf274db",
   "metadata": {},
   "source": [
    "# Saving the features Using Pickel"
   ]
  },
  {
   "cell_type": "code",
   "execution_count": 31,
   "id": "5a077688",
   "metadata": {},
   "outputs": [],
   "source": [
    "trainFeatures_list = [X, y]\n",
    "testFeatures_list = [X_test, y_test]\n",
    "\n",
    "import pathlib\n",
    "path_to_write_output=str(pathlib.Path.cwd()) #Path of current working Directory\n",
    "with open(path_to_write_output + '\\\\trainFeatures_list.pkl', 'wb') as handle:\n",
    "    pickle.dump(trainFeatures_list, handle)\n",
    "    \n",
    "with open(path_to_write_output + '\\\\testFeatures_list.pkl', 'wb') as handle:\n",
    "    pickle.dump(testFeatures_list, handle)"
   ]
  },
  {
   "cell_type": "code",
   "execution_count": null,
   "id": "cadc5c62",
   "metadata": {},
   "outputs": [],
   "source": []
  }
 ],
 "metadata": {
  "kernelspec": {
   "display_name": "Python 3 (ipykernel)",
   "language": "python",
   "name": "python3"
  },
  "language_info": {
   "codemirror_mode": {
    "name": "ipython",
    "version": 3
   },
   "file_extension": ".py",
   "mimetype": "text/x-python",
   "name": "python",
   "nbconvert_exporter": "python",
   "pygments_lexer": "ipython3",
   "version": "3.9.6"
  }
 },
 "nbformat": 4,
 "nbformat_minor": 5
}
