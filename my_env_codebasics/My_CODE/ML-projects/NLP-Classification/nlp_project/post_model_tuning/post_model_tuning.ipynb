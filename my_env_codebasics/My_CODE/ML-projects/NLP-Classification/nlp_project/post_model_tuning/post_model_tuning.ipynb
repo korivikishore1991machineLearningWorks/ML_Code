{
 "cells": [
  {
   "cell_type": "code",
   "execution_count": 3,
   "id": "b359ace0",
   "metadata": {},
   "outputs": [],
   "source": [
    "# ploting libraries\n",
    "import seaborn as sns\n",
    "import matplotlib.pyplot as plt\n",
    "%matplotlib inline\n",
    "\n",
    "# deplyment libraries\n",
    "import pickle\n",
    "# import PreProcessing functions\n",
    "import sys \n",
    "import os\n",
    "sys.path.append(os.path.abspath(\"C:\\\\Users\\\\koriv\\\\Desktop\\\\MachineLearning_DataScience\\\\Hands_On_Machine_Learning\\\\my_env_codebasics\\\\My_CODE\\\\ML-projects\\\\NLP-Classification\\\\nlp_project\\\\preProcessing\"))\n",
    "from fake_News_Classifier_preProcessing import Transformations\n",
    "\n",
    "# Importing required framework libraries\n",
    "import pandas as pd\n",
    "import numpy as np\n",
    "# to visualise al the columns in the dataframe\n",
    "pd.pandas.set_option('display.max_columns', None)\n",
    "pd.set_option('display.max_colwidth', None)\n",
    "\n",
    "# Import Model libraries\n",
    "from sklearn.naive_bayes import MultinomialNB, BernoulliNB\n",
    "# for scoring\n",
    "from sklearn.metrics import fbeta_score, make_scorer\n",
    "\n",
    "#Evaluation libraries\n",
    "from sklearn.metrics import plot_confusion_matrix, plot_precision_recall_curve, confusion_matrix, classification_report\n",
    "from sklearn.metrics import recall_score,precision_score,f1_score, accuracy_score, balanced_accuracy_score\n",
    "from sklearn.metrics import f1_score, fbeta_score, classification_report, make_scorer\n",
    "from sklearn.metrics import roc_curve, roc_auc_score\n",
    "from sklearn.model_selection import learning_curve"
   ]
  },
  {
   "cell_type": "markdown",
   "id": "080a3c86",
   "metadata": {},
   "source": [
    "# Import UnProcessed features"
   ]
  },
  {
   "cell_type": "code",
   "execution_count": 4,
   "id": "25225709",
   "metadata": {},
   "outputs": [],
   "source": [
    "#Import training features\n",
    "import pathlib\n",
    "path_to_read_model = '..\\\\probleam_study' #Path of current working Directory\n",
    "with open(path_to_read_model + '\\\\trainFeatures_list.pkl', 'rb') as f:\n",
    "    X, y = pickle.load(f)"
   ]
  },
  {
   "cell_type": "markdown",
   "id": "a9a50448",
   "metadata": {},
   "source": [
    "## Verify the match of the Processed Data column Names"
   ]
  },
  {
   "cell_type": "code",
   "execution_count": 5,
   "id": "048ab4ba",
   "metadata": {},
   "outputs": [],
   "source": [
    "#Import testing features\n",
    "import pathlib\n",
    "path_to_read_model = '..\\\\encoding_scaling_imputation_modelling' #Path of current working Directory\n",
    "with open(path_to_read_model + '\\\\feature_ColumnNames.pkl', 'rb') as f:\n",
    "    feature_ColumnNames = pickle.load(f)"
   ]
  },
  {
   "cell_type": "code",
   "execution_count": 6,
   "id": "502290de",
   "metadata": {},
   "outputs": [
    {
     "data": {
      "text/plain": [
       "array([ True,  True,  True,  True])"
      ]
     },
     "execution_count": 6,
     "metadata": {},
     "output_type": "execute_result"
    }
   ],
   "source": [
    "X.columns == feature_ColumnNames"
   ]
  },
  {
   "cell_type": "markdown",
   "id": "f66ea701",
   "metadata": {},
   "source": [
    "# load Data PreProcessing"
   ]
  },
  {
   "cell_type": "code",
   "execution_count": 7,
   "id": "78c88730",
   "metadata": {},
   "outputs": [
    {
     "name": "stdout",
     "output_type": "stream",
     "text": [
      ">>feature shape before cleaning:  (5824, 4)\n",
      ">>target shape before cleaning:  (5824,)\n",
      ">>feature shape after cleaning:  (5641, 1)\n",
      ">>target shape after cleaning:  (5641,)\n",
      ">>feature shape after preProcessing:  (5641, 1)\n",
      ">>target shape after preProcessing:  (5641,)\n"
     ]
    }
   ],
   "source": [
    "# Define a function to apply the imported functions\n",
    "def preProcessing(featureDF, targetDF, function_list):\n",
    "    for function in function_list:\n",
    "        featureDF, targetDF = function(featureDF, targetDF)\n",
    "    return featureDF, targetDF\n",
    "\n",
    "X, y = preProcessing(X, y, [Transformations])"
   ]
  },
  {
   "cell_type": "markdown",
   "id": "07ebb3e1",
   "metadata": {},
   "source": [
    "# Encoding and Modeling"
   ]
  },
  {
   "cell_type": "code",
   "execution_count": 8,
   "id": "3b7bba89",
   "metadata": {},
   "outputs": [],
   "source": [
    "#Import Modelled features\n",
    "import pathlib\n",
    "path_to_read_model = '..\\\\encoding_scaling_imputation_modelling' #Path of current working Directory\n",
    "with open(path_to_read_model + '\\\\estimators.pkl', 'rb') as f:\n",
    "    best_algos, = pickle.load(f)"
   ]
  },
  {
   "cell_type": "code",
   "execution_count": 9,
   "id": "e44aa530",
   "metadata": {},
   "outputs": [
    {
     "data": {
      "text/plain": [
       "{'BernoulliNB_CountVectorizer': {'best_estimator': Pipeline(steps=[('textVec', CountVectorizer(ngram_range=(1, 2))),\n",
       "                  ('scaler', None),\n",
       "                  ('model', BernoulliNB(alpha=2, fit_prior=False))]),\n",
       "  'best_mean_test_score': 0.9170658580863235},\n",
       " 'MultinomialNB_CountVectorizer': {'best_estimator': Pipeline(steps=[('textVec',\n",
       "                   CountVectorizer(max_features=15000, ngram_range=(1, 3))),\n",
       "                  ('scaler', None),\n",
       "                  ('model', MultinomialNB(alpha=1, fit_prior=False))]),\n",
       "  'best_mean_test_score': 0.8861378107583524},\n",
       " 'BernoulliNB_TfidfVectorizer': {'best_estimator': Pipeline(steps=[('textVec', TfidfVectorizer(ngram_range=(1, 2))),\n",
       "                  ('scaler', None),\n",
       "                  ('model', BernoulliNB(alpha=2, fit_prior=False))]),\n",
       "  'best_mean_test_score': 0.9170658580863235},\n",
       " 'MultinomialNB_TfidfVectorizer': {'best_estimator': Pipeline(steps=[('textVec',\n",
       "                   TfidfVectorizer(max_features=15000, ngram_range=(1, 3))),\n",
       "                  ('scaler', None),\n",
       "                  ('model', MultinomialNB(alpha=1, fit_prior=False))]),\n",
       "  'best_mean_test_score': 0.8663658328244648}}"
      ]
     },
     "execution_count": 9,
     "metadata": {},
     "output_type": "execute_result"
    }
   ],
   "source": [
    "best_algos"
   ]
  },
  {
   "cell_type": "markdown",
   "id": "143bd19f",
   "metadata": {},
   "source": [
    "## BernoulliNB_TfidfVectorizer"
   ]
  },
  {
   "cell_type": "code",
   "execution_count": 10,
   "id": "6e3d7a5e",
   "metadata": {},
   "outputs": [],
   "source": [
    "piep_BNP = best_algos['BernoulliNB_TfidfVectorizer']['best_estimator']"
   ]
  },
  {
   "cell_type": "code",
   "execution_count": 11,
   "id": "eb8b3de2",
   "metadata": {},
   "outputs": [],
   "source": [
    "#Predictions for Test Data\n",
    "y_pred = piep_BNP.predict(X.title)"
   ]
  },
  {
   "cell_type": "code",
   "execution_count": 12,
   "id": "3cc7573d",
   "metadata": {},
   "outputs": [
    {
     "data": {
      "text/plain": [
       "array([0, 0, 0, ..., 0, 1, 1], dtype=int64)"
      ]
     },
     "execution_count": 12,
     "metadata": {},
     "output_type": "execute_result"
    }
   ],
   "source": [
    "y_pred"
   ]
  },
  {
   "cell_type": "markdown",
   "id": "2cbd902c",
   "metadata": {},
   "source": [
    "## confusion Matrix"
   ]
  },
  {
   "cell_type": "code",
   "execution_count": 13,
   "id": "53a1867e",
   "metadata": {},
   "outputs": [
    {
     "data": {
      "text/plain": [
       "array([[2921,   56],\n",
       "       [  15, 2649]], dtype=int64)"
      ]
     },
     "execution_count": 13,
     "metadata": {},
     "output_type": "execute_result"
    }
   ],
   "source": [
    "confusion_matrix(y, y_pred)"
   ]
  },
  {
   "cell_type": "code",
   "execution_count": 14,
   "id": "ea027f1f",
   "metadata": {},
   "outputs": [
    {
     "data": {
      "text/plain": [
       "<sklearn.metrics._plot.confusion_matrix.ConfusionMatrixDisplay at 0x10fc542afd0>"
      ]
     },
     "execution_count": 14,
     "metadata": {},
     "output_type": "execute_result"
    },
    {
     "data": {
      "image/png": "[encoded data removed]",
      "text/plain": [
       "<Figure size 432x288 with 2 Axes>"
      ]
     },
     "metadata": {
      "needs_background": "light"
     },
     "output_type": "display_data"
    }
   ],
   "source": [
    "plot_confusion_matrix(piep_BNP, X.title, y)"
   ]
  },
  {
   "cell_type": "markdown",
   "id": "81816f19",
   "metadata": {},
   "source": [
    "## Precision score  \n",
    "high Precision implies low False positives  "
   ]
  },
  {
   "cell_type": "code",
   "execution_count": 15,
   "id": "f3e0b1ce",
   "metadata": {},
   "outputs": [
    {
     "name": "stdout",
     "output_type": "stream",
     "text": [
      "individual precision score:  [0.99489101 0.9792976 ]\n",
      "weighted average precision score:  0.9875269154150695\n",
      "normal/binary average precision score:  0.9870943026084504\n"
     ]
    }
   ],
   "source": [
    "print(\"individual precision score: \",precision_score(y,y_pred,average=None))\n",
    "print(\"weighted average precision score: \",precision_score(y,y_pred,average='weighted'))\n",
    "print(\"normal/binary average precision score: \",precision_score(y,y_pred,average='macro'))"
   ]
  },
  {
   "cell_type": "markdown",
   "id": "7ca9dfd4",
   "metadata": {},
   "source": [
    "## Recall score  \n",
    "high Precision implies low False negatives  "
   ]
  },
  {
   "cell_type": "code",
   "execution_count": 16,
   "id": "47bcb8f3",
   "metadata": {},
   "outputs": [
    {
     "name": "stdout",
     "output_type": "stream",
     "text": [
      "individual recall score:  [0.98118912 0.99436937]\n",
      "weighted average recall score:  0.9874135791526325\n",
      "normal/binary recall precision score:  0.9877792429648324\n"
     ]
    }
   ],
   "source": [
    "print(\"individual recall score: \",recall_score(y,y_pred,average=None))\n",
    "print(\"weighted average recall score: \",recall_score(y,y_pred,average='weighted'))\n",
    "print(\"normal/binary recall precision score: \",recall_score(y,y_pred,average='macro'))"
   ]
  },
  {
   "cell_type": "markdown",
   "id": "2537f159",
   "metadata": {},
   "source": [
    "## Accuracy and balanced Accuracy"
   ]
  },
  {
   "cell_type": "code",
   "execution_count": 17,
   "id": "abe709f4",
   "metadata": {},
   "outputs": [
    {
     "name": "stdout",
     "output_type": "stream",
     "text": [
      "accuracy:  0.9874135791526325\n",
      "Balanced accuracy:  0.9877792429648324\n"
     ]
    }
   ],
   "source": [
    "print(\"accuracy: \",accuracy_score(y,y_pred))\n",
    "print(\"Balanced accuracy: \",balanced_accuracy_score(y,y_pred))"
   ]
  },
  {
   "cell_type": "markdown",
   "id": "3f5975fe",
   "metadata": {},
   "source": [
    "## F1 score and F-Beta score"
   ]
  },
  {
   "cell_type": "code",
   "execution_count": 18,
   "id": "bda4fbd0",
   "metadata": {},
   "outputs": [
    {
     "name": "stdout",
     "output_type": "stream",
     "text": [
      "normal F1 score:  0.9873842473486464\n",
      "normal F-beta score at beta 0.75:  0.9872924876913527\n",
      "weighted F1 score:  0.9874180004907334\n",
      "weighted F-beta score at beta 0.75:  0.9874379722122364\n"
     ]
    }
   ],
   "source": [
    "print(\"normal F1 score: \",f1_score(y, y_pred, average='macro'))\n",
    "print(\"normal F-beta score at beta 0.75: \",fbeta_score(y,y_pred, beta=0.75, average='macro'))\n",
    "print(\"weighted F1 score: \",f1_score(y, y_pred, average='weighted'))\n",
    "print(\"weighted F-beta score at beta 0.75: \",fbeta_score(y,y_pred, beta=0.75, average='weighted'))"
   ]
  },
  {
   "cell_type": "markdown",
   "id": "61d4f297",
   "metadata": {},
   "source": [
    "## classification_report"
   ]
  },
  {
   "cell_type": "code",
   "execution_count": 19,
   "id": "dc4980bd",
   "metadata": {},
   "outputs": [
    {
     "name": "stdout",
     "output_type": "stream",
     "text": [
      "              precision    recall  f1-score   support\n",
      "\n",
      "        News       0.99      0.98      0.99      2977\n",
      "   Fake_news       0.98      0.99      0.99      2664\n",
      "\n",
      "    accuracy                           0.99      5641\n",
      "   macro avg       0.99      0.99      0.99      5641\n",
      "weighted avg       0.99      0.99      0.99      5641\n",
      "\n"
     ]
    }
   ],
   "source": [
    "print(classification_report(y, y_pred, target_names=['News', 'Fake_news'], digits=2, \n",
    "                      output_dict=False, zero_division='warn'))"
   ]
  },
  {
   "cell_type": "code",
   "execution_count": 20,
   "id": "8e5fe53d",
   "metadata": {},
   "outputs": [
    {
     "name": "stdout",
     "output_type": "stream",
     "text": [
      "              precision    recall  f1-score   support\n",
      "\n",
      "           0       0.99      0.98      0.99      2977\n",
      "           1       0.98      0.99      0.99      2664\n",
      "           2       0.00      0.00      0.00         0\n",
      "\n",
      "   micro avg       0.99      0.99      0.99      5641\n",
      "   macro avg       0.66      0.66      0.66      5641\n",
      "weighted avg       0.99      0.99      0.99      5641\n",
      "\n"
     ]
    },
    {
     "name": "stderr",
     "output_type": "stream",
     "text": [
      "C:\\Users\\koriv\\anaconda3\\lib\\site-packages\\sklearn\\metrics\\_classification.py:1245: UndefinedMetricWarning: Precision and F-score are ill-defined and being set to 0.0 in labels with no predicted samples. Use `zero_division` parameter to control this behavior.\n",
      "  _warn_prf(average, modifier, msg_start, len(result))\n",
      "C:\\Users\\koriv\\anaconda3\\lib\\site-packages\\sklearn\\metrics\\_classification.py:1245: UndefinedMetricWarning: Recall and F-score are ill-defined and being set to 0.0 in labels with no true samples. Use `zero_division` parameter to control this behavior.\n",
      "  _warn_prf(average, modifier, msg_start, len(result))\n",
      "C:\\Users\\koriv\\anaconda3\\lib\\site-packages\\sklearn\\metrics\\_classification.py:1245: UndefinedMetricWarning: Precision and F-score are ill-defined and being set to 0.0 in labels with no predicted samples. Use `zero_division` parameter to control this behavior.\n",
      "  _warn_prf(average, modifier, msg_start, len(result))\n",
      "C:\\Users\\koriv\\anaconda3\\lib\\site-packages\\sklearn\\metrics\\_classification.py:1245: UndefinedMetricWarning: Recall and F-score are ill-defined and being set to 0.0 in labels with no true samples. Use `zero_division` parameter to control this behavior.\n",
      "  _warn_prf(average, modifier, msg_start, len(result))\n",
      "C:\\Users\\koriv\\anaconda3\\lib\\site-packages\\sklearn\\metrics\\_classification.py:1245: UndefinedMetricWarning: Precision and F-score are ill-defined and being set to 0.0 in labels with no predicted samples. Use `zero_division` parameter to control this behavior.\n",
      "  _warn_prf(average, modifier, msg_start, len(result))\n",
      "C:\\Users\\koriv\\anaconda3\\lib\\site-packages\\sklearn\\metrics\\_classification.py:1245: UndefinedMetricWarning: Recall and F-score are ill-defined and being set to 0.0 in labels with no true samples. Use `zero_division` parameter to control this behavior.\n",
      "  _warn_prf(average, modifier, msg_start, len(result))\n"
     ]
    }
   ],
   "source": [
    "print(classification_report(y, y_pred, labels=[0,1,2], digits=2, \n",
    "                      output_dict=False, zero_division='warn'))"
   ]
  },
  {
   "cell_type": "markdown",
   "id": "7c14ed07",
   "metadata": {},
   "source": [
    "# Precision_Recall_curve  \n",
    "Precision  \n",
    "The precision of a model is defined as:  \n",
    "  \n",
    "$$\n",
    "\\textbf{Precision} = \\frac{\\textbf{True Positives}}{\\textbf{True Positives} + \\textbf{False Positives}} = \\frac{\\textbf{True Positives}}{\\textbf{Predicted True}}\n",
    "$$  \n",
    "and captures the accuracy of the model when it is positive. Higher precision models are often more likely to predict that true   things are negative (higher false negative rate).  \n",
    "  \n",
    "Recall  \n",
    "The recall of a model is defined as:  \n",
    "  \n",
    "$$\n",
    "\\textbf{Recall} = \\frac{\\textbf{True Positives}}{\\textbf{True Positives} + \\textbf{False Negatives}} = \\frac{\\textbf{True Positives}}{\\textbf{Actually True}}\n",
    "$$  \n",
    "and captures the ability of the model to predict true on all the true examples. Higher recall runs the risk of predicting true   on false examples.  "
   ]
  },
  {
   "cell_type": "code",
   "execution_count": 21,
   "id": "03c9c157",
   "metadata": {},
   "outputs": [
    {
     "data": {
      "text/plain": [
       "<matplotlib.legend.Legend at 0x10fca69c4c0>"
      ]
     },
     "execution_count": 21,
     "metadata": {},
     "output_type": "execute_result"
    },
    {
     "data": {
      "image/png": "[encoded data removed]",
      "text/plain": [
       "<Figure size 432x288 with 1 Axes>"
      ]
     },
     "metadata": {
      "needs_background": "light"
     },
     "output_type": "display_data"
    }
   ],
   "source": [
    "plot_precision_recall_curve(piep_BNP, X.title, y)\n",
    "baseline = y.sum() / len(y) #fraction of positive samples in the Test data\n",
    "plt.axhline(baseline, ls='--', color='r', label=f'Baseline model ({round(baseline,2)})')\n",
    "plt.legend(loc='best')\n",
    "#AP in the plot is trapezoidal area under the operating points.\n",
    "#baseline: if you've got k training samples for category C in your training set of size n, the baseline classifier would categorise an input to C with probability k/n. A basic model must do better then the baseline."
   ]
  },
  {
   "cell_type": "markdown",
   "id": "1f7757f3",
   "metadata": {},
   "source": [
    "# AUC and ROC  \n",
    "ROC is the receiver operating characteristic AUROC is the area under the ROC curve  \n",
    "The ROC curve summarizes the prediction performance of a classification model at all classification thresholds. Particularly, the ROC curve plots the False Positive Rate (FPR) on the X-axis and the True Positive Rate (TPR) on the Y-axis.  \n",
    "  \n",
    "$\\text{TPR (Sensitivity)} = \\frac{TP}{TP + FN}$  \n",
    "   \n",
    "$\\text{FPR (1 - Specificity)} = \\frac{FP}{TN + FP}$  "
   ]
  },
  {
   "cell_type": "code",
   "execution_count": 22,
   "id": "6d4ef7cd",
   "metadata": {},
   "outputs": [],
   "source": [
    "# AUC\n",
    "model_auc = roc_auc_score(y, y_pred) #area under the curve => AUC\n",
    "# Base line is 50:50 chance at random, hence it would be y=x => base_auc = 0.5\n",
    "base_pred = [0 for _ in range(len(y))] #predict all to be zero\n",
    "base_auc = roc_auc_score(y, base_pred)"
   ]
  },
  {
   "cell_type": "code",
   "execution_count": 23,
   "id": "d975d01b",
   "metadata": {},
   "outputs": [],
   "source": [
    "# Calculate ROC curve\n",
    "model_FPR, model_TPR, model_threshold = roc_curve(y, y_pred)\n",
    "base_FPR, base_TPR, base_threshold = roc_curve(y, base_pred)"
   ]
  },
  {
   "cell_type": "code",
   "execution_count": 24,
   "id": "cbf8204e",
   "metadata": {},
   "outputs": [
    {
     "data": {
      "image/png": "[encoded data removed]",
      "text/plain": [
       "<Figure size 432x288 with 1 Axes>"
      ]
     },
     "metadata": {
      "needs_background": "light"
     },
     "output_type": "display_data"
    }
   ],
   "source": [
    "# Plot ROC Curve\n",
    "plt.plot(model_FPR, model_TPR, marker='.', label='Naive Bayes (AUROC = %0.3f)' % model_auc)\n",
    "plt.plot(base_FPR, base_TPR, linestyle='--', label='Base Prediction (AUROC = %0.3f)' % base_auc)\n",
    "\n",
    "# Title\n",
    "plt.title('ROC Plot')\n",
    "# Axis labels\n",
    "plt.xlabel('False Positive Rate')\n",
    "plt.ylabel('True Positive Rate')\n",
    "# Show legend\n",
    "plt.legend() # \n",
    "# Show plot\n",
    "plt.show()"
   ]
  },
  {
   "cell_type": "markdown",
   "id": "5a719712",
   "metadata": {},
   "source": [
    "# learning Curve"
   ]
  },
  {
   "cell_type": "markdown",
   "id": "7b54075b",
   "metadata": {},
   "source": [
    "## learning curve for accuracy"
   ]
  },
  {
   "cell_type": "code",
   "execution_count": 25,
   "id": "d3ce08f3",
   "metadata": {},
   "outputs": [],
   "source": [
    "train_sizes, train_scores, validation_scores = learning_curve(\n",
    "estimator = piep_BNP,\n",
    "X = X.title,\n",
    "y = y, cv = 5,\n",
    "scoring = 'accuracy') #optionally can pass train_sizes = train_sizes for custom training sizes"
   ]
  },
  {
   "cell_type": "code",
   "execution_count": 26,
   "id": "c093933d",
   "metadata": {},
   "outputs": [
    {
     "data": {
      "text/plain": [
       "<matplotlib.legend.Legend at 0x10fcad88850>"
      ]
     },
     "execution_count": 26,
     "metadata": {},
     "output_type": "execute_result"
    },
    {
     "data": {
      "image/png": "[encoded data removed]",
      "text/plain": [
       "<Figure size 432x288 with 1 Axes>"
      ]
     },
     "metadata": {
      "needs_background": "light"
     },
     "output_type": "display_data"
    }
   ],
   "source": [
    "plt.plot(train_sizes, train_scores.mean(axis=1), label='training accuracy')\n",
    "plt.plot(train_sizes, validation_scores.mean(axis=1),  label='validation accuracy')\n",
    "plt.xlabel('training sample sizes')\n",
    "plt.ylabel('accuracy')\n",
    "plt.legend()"
   ]
  },
  {
   "cell_type": "markdown",
   "id": "6857152e",
   "metadata": {},
   "source": [
    "# learning curve for balanced accuracy"
   ]
  },
  {
   "cell_type": "code",
   "execution_count": 27,
   "id": "d801e101",
   "metadata": {},
   "outputs": [],
   "source": [
    "train_sizes, train_scores, validation_scores = learning_curve(\n",
    "estimator = piep_BNP,\n",
    "X = X.title,\n",
    "y = y, cv = 5,\n",
    "scoring = 'balanced_accuracy') #optionally can pass train_sizes = train_sizes for custom training sizes"
   ]
  },
  {
   "cell_type": "code",
   "execution_count": 28,
   "id": "4008058e",
   "metadata": {},
   "outputs": [
    {
     "data": {
      "text/plain": [
       "<matplotlib.legend.Legend at 0x10fcad4e370>"
      ]
     },
     "execution_count": 28,
     "metadata": {},
     "output_type": "execute_result"
    },
    {
     "data": {
      "image/png": "[encoded data removed]",
      "text/plain": [
       "<Figure size 432x288 with 1 Axes>"
      ]
     },
     "metadata": {
      "needs_background": "light"
     },
     "output_type": "display_data"
    }
   ],
   "source": [
    "plt.plot(train_sizes, train_scores.mean(axis=1), label='training balanced_accuracy')\n",
    "plt.plot(train_sizes, validation_scores.mean(axis=1),  label='validation balanced_accuracy')\n",
    "plt.xlabel('training sample sizes')\n",
    "plt.ylabel('balanced_accuracy')\n",
    "plt.legend()"
   ]
  },
  {
   "cell_type": "markdown",
   "id": "136179d6",
   "metadata": {},
   "source": [
    "## learning curve for f1_score"
   ]
  },
  {
   "cell_type": "code",
   "execution_count": 29,
   "id": "31965544",
   "metadata": {},
   "outputs": [],
   "source": [
    "train_sizes, train_scores, validation_scores = learning_curve(\n",
    "estimator = piep_BNP,\n",
    "X = X.title,\n",
    "y = y, cv = 5,\n",
    "scoring=make_scorer(f1_score, average='macro', greater_is_better=True)) #optionally can pass train_sizes = train_sizes for custom training sizes"
   ]
  },
  {
   "cell_type": "code",
   "execution_count": 30,
   "id": "cbd3c42c",
   "metadata": {},
   "outputs": [
    {
     "data": {
      "text/plain": [
       "<matplotlib.legend.Legend at 0x10fcab8c040>"
      ]
     },
     "execution_count": 30,
     "metadata": {},
     "output_type": "execute_result"
    },
    {
     "data": {
      "image/png": "[encoded data removed]",
      "text/plain": [
       "<Figure size 432x288 with 1 Axes>"
      ]
     },
     "metadata": {
      "needs_background": "light"
     },
     "output_type": "display_data"
    }
   ],
   "source": [
    "plt.plot(train_sizes, train_scores.mean(axis=1), label='training f1_score')\n",
    "plt.plot(train_sizes, validation_scores.mean(axis=1),  label='validation f1_score')\n",
    "plt.xlabel('training sample sizes')\n",
    "plt.ylabel('f1_score[macro]')\n",
    "plt.legend()"
   ]
  },
  {
   "cell_type": "markdown",
   "id": "28b5e901",
   "metadata": {},
   "source": [
    "# learning curve for fbeta_score"
   ]
  },
  {
   "cell_type": "code",
   "execution_count": 31,
   "id": "1ce2e3f7",
   "metadata": {},
   "outputs": [],
   "source": [
    "train_sizes, train_scores, validation_scores = learning_curve(\n",
    "estimator = piep_BNP,\n",
    "X = X.title,\n",
    "y = y, cv = 5,\n",
    "scoring=make_scorer(fbeta_score, beta=0.75, average='macro', greater_is_better=True)) #optionally can pass train_sizes = train_sizes for custom training sizes"
   ]
  },
  {
   "cell_type": "code",
   "execution_count": 32,
   "id": "524e1bb6",
   "metadata": {},
   "outputs": [
    {
     "data": {
      "text/plain": [
       "<matplotlib.legend.Legend at 0x10fcad9bdc0>"
      ]
     },
     "execution_count": 32,
     "metadata": {},
     "output_type": "execute_result"
    },
    {
     "data": {
      "image/png": "[encoded data removed]",
      "text/plain": [
       "<Figure size 432x288 with 1 Axes>"
      ]
     },
     "metadata": {
      "needs_background": "light"
     },
     "output_type": "display_data"
    }
   ],
   "source": [
    "plt.plot(train_sizes, train_scores.mean(axis=1), label='training fbeta_score')\n",
    "plt.plot(train_sizes, validation_scores.mean(axis=1),  label='validation fbeta_score')\n",
    "plt.xlabel('training sample sizes')\n",
    "plt.ylabel('fbeta_score[macro]')\n",
    "plt.legend()"
   ]
  }
 ],
 "metadata": {
  "kernelspec": {
   "display_name": "Python 3",
   "language": "python",
   "name": "python3"
  },
  "language_info": {
   "codemirror_mode": {
    "name": "ipython",
    "version": 3
   },
   "file_extension": ".py",
   "mimetype": "text/x-python",
   "name": "python",
   "nbconvert_exporter": "python",
   "pygments_lexer": "ipython3",
   "version": "3.8.8"
  }
 },
 "nbformat": 4,
 "nbformat_minor": 5
}
