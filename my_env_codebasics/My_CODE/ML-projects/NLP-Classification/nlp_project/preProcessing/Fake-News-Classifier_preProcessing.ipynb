{
 "cells": [
  {
   "cell_type": "code",
   "execution_count": 1,
   "id": "e5c195b2",
   "metadata": {},
   "outputs": [],
   "source": [
    "import pickle\n",
    "\n",
    "import pandas as pd\n",
    "import numpy as np\n",
    "# to visualise al the columns in the dataframe\n",
    "pd.pandas.set_option('display.max_columns', None)\n",
    "pd.set_option('display.max_colwidth', None)\n",
    "\n",
    "# for text processing\n",
    "import re\n",
    "import nltk\n",
    "from nltk.corpus import stopwords\n",
    "from nltk.stem.porter import PorterStemmer\n",
    "#from sklearn.feature_extraction.text import TfidfVectorizer #TF-IDF library"
   ]
  },
  {
   "cell_type": "markdown",
   "id": "f413ff34",
   "metadata": {},
   "source": [
    "# Import features"
   ]
  },
  {
   "cell_type": "code",
   "execution_count": 2,
   "id": "ce5488e5",
   "metadata": {},
   "outputs": [],
   "source": [
    "#Import training features\n",
    "import pathlib\n",
    "path_to_read_model = '..\\\\probleam_study' #Path of current working Directory\n",
    "with open(path_to_read_model + '\\\\trainFeatures_list.pkl', 'rb') as f:\n",
    "    X, y = pickle.load(f)"
   ]
  },
  {
   "cell_type": "markdown",
   "id": "ec8ea878",
   "metadata": {},
   "source": [
    "# PreProcessing Objects needed for Transformations"
   ]
  },
  {
   "cell_type": "code",
   "execution_count": 3,
   "id": "ac7952ba",
   "metadata": {},
   "outputs": [
    {
     "name": "stdout",
     "output_type": "stream",
     "text": [
      ">>shape before processing:  (5824, 4)\n",
      ">>shape after processing:  (5641, 1)\n"
     ]
    }
   ],
   "source": [
    "df = X.copy(deep=True)\n",
    "print(\">>shape before processing: \",df.shape)\n",
    "df = df.drop(['id', 'text', 'author'], axis = 1) # drop unwanted columns\n",
    "df = df[df['title'].notnull()] # eliminate null values in title column\n",
    "# Duplicate elimination\n",
    "df.drop_duplicates(inplace=True)\n",
    "print(\">>shape after processing: \",df.shape)"
   ]
  },
  {
   "cell_type": "code",
   "execution_count": 179,
   "id": "603f0cf4",
   "metadata": {},
   "outputs": [],
   "source": [
    "def text_transform(paragraph):\n",
    "    ps = PorterStemmer()\n",
    "    text = re.sub(r'\\[[0-9]*\\]',' ',paragraph).lower()\n",
    "    text = re.sub(r'\\d',' ',text)\n",
    "    text = re.sub('[^a-zA-Z]', ' ', text)\n",
    "    text = re.sub(r'\\s+',' ',text)\n",
    "    sentences = nltk.sent_tokenize(text)\n",
    "    corpus = []\n",
    "    for i in range(len(sentences)):\n",
    "        review = sentences[i].split() #converting to list of words\n",
    "        review = [ps.stem(word) for word in review if not word in set(stopwords.words('english'))]\n",
    "        review = ' '.join(review)\n",
    "        corpus.append(review)\n",
    "    return ' '.join(corpus)\n",
    "df['title'] = df['title'].map(lambda para: text_transform(para))"
   ]
  },
  {
   "cell_type": "code",
   "execution_count": 180,
   "id": "a5973eef",
   "metadata": {},
   "outputs": [
    {
     "data": {
      "text/html": [
       "<div>\n",
       "<style scoped>\n",
       "    .dataframe tbody tr th:only-of-type {\n",
       "        vertical-align: middle;\n",
       "    }\n",
       "\n",
       "    .dataframe tbody tr th {\n",
       "        vertical-align: top;\n",
       "    }\n",
       "\n",
       "    .dataframe thead th {\n",
       "        text-align: right;\n",
       "    }\n",
       "</style>\n",
       "<table border=\"1\" class=\"dataframe\">\n",
       "  <thead>\n",
       "    <tr style=\"text-align: right;\">\n",
       "      <th></th>\n",
       "      <th>title</th>\n",
       "    </tr>\n",
       "  </thead>\n",
       "  <tbody>\n",
       "    <tr>\n",
       "      <th>4995</th>\n",
       "      <td>hillari clinton berni sander meet battl end new york time</td>\n",
       "    </tr>\n",
       "    <tr>\n",
       "      <th>8280</th>\n",
       "      <td>donald trump hillari clinton edward snowden thursday even brief new york time</td>\n",
       "    </tr>\n",
       "    <tr>\n",
       "      <th>12778</th>\n",
       "      <td>liber get pass time media ignor leftist comment pedophilia breitbart</td>\n",
       "    </tr>\n",
       "    <tr>\n",
       "      <th>12612</th>\n",
       "      <td>trump support jail tri rig elect commit voter fraud</td>\n",
       "    </tr>\n",
       "    <tr>\n",
       "      <th>11342</th>\n",
       "      <td>air forc vet first american convict tri join islam state sentenc year</td>\n",
       "    </tr>\n",
       "    <tr>\n",
       "      <th>...</th>\n",
       "      <td>...</td>\n",
       "    </tr>\n",
       "    <tr>\n",
       "      <th>16569</th>\n",
       "      <td>clinton aid profit firm illeg rais million nonprofit clinton foundat</td>\n",
       "    </tr>\n",
       "    <tr>\n",
       "      <th>6777</th>\n",
       "      <td>trump ghostwrit explain beat debat new york time</td>\n",
       "    </tr>\n",
       "    <tr>\n",
       "      <th>2475</th>\n",
       "      <td>todd trump still asterisk breitbart</td>\n",
       "    </tr>\n",
       "    <tr>\n",
       "      <th>11061</th>\n",
       "      <td>gaiaport interweb gaia energet strengthen</td>\n",
       "    </tr>\n",
       "    <tr>\n",
       "      <th>3757</th>\n",
       "      <td>miss russia russia india report</td>\n",
       "    </tr>\n",
       "  </tbody>\n",
       "</table>\n",
       "<p>5641 rows × 1 columns</p>\n",
       "</div>"
      ],
      "text/plain": [
       "                                                                               title\n",
       "4995                       hillari clinton berni sander meet battl end new york time\n",
       "8280   donald trump hillari clinton edward snowden thursday even brief new york time\n",
       "12778           liber get pass time media ignor leftist comment pedophilia breitbart\n",
       "12612                            trump support jail tri rig elect commit voter fraud\n",
       "11342          air forc vet first american convict tri join islam state sentenc year\n",
       "...                                                                              ...\n",
       "16569           clinton aid profit firm illeg rais million nonprofit clinton foundat\n",
       "6777                                trump ghostwrit explain beat debat new york time\n",
       "2475                                             todd trump still asterisk breitbart\n",
       "11061                                      gaiaport interweb gaia energet strengthen\n",
       "3757                                                 miss russia russia india report\n",
       "\n",
       "[5641 rows x 1 columns]"
      ]
     },
     "execution_count": 180,
     "metadata": {},
     "output_type": "execute_result"
    }
   ],
   "source": [
    "df"
   ]
  },
  {
   "cell_type": "code",
   "execution_count": null,
   "id": "e9292956",
   "metadata": {},
   "outputs": [],
   "source": []
  },
  {
   "cell_type": "code",
   "execution_count": null,
   "id": "e56dd22b",
   "metadata": {},
   "outputs": [],
   "source": []
  },
  {
   "cell_type": "code",
   "execution_count": 170,
   "id": "9f211ca5",
   "metadata": {},
   "outputs": [],
   "source": [
    "cv = TfidfVectorizer()\n",
    "X = cv.fit_transform(df['title'])"
   ]
  },
  {
   "cell_type": "code",
   "execution_count": 174,
   "id": "c08887c0",
   "metadata": {},
   "outputs": [
    {
     "data": {
      "text/plain": [
       "8243"
      ]
     },
     "execution_count": 174,
     "metadata": {},
     "output_type": "execute_result"
    }
   ],
   "source": [
    "len(cv.get_feature_names())"
   ]
  },
  {
   "cell_type": "code",
   "execution_count": 175,
   "id": "63df025d",
   "metadata": {},
   "outputs": [
    {
     "data": {
      "text/plain": [
       "(5641, 8243)"
      ]
     },
     "execution_count": 175,
     "metadata": {},
     "output_type": "execute_result"
    }
   ],
   "source": [
    "X.shape"
   ]
  },
  {
   "cell_type": "code",
   "execution_count": 122,
   "id": "a4cecef8",
   "metadata": {},
   "outputs": [
    {
     "data": {
      "text/plain": [
       "'Hillary Clinton and Bernie Sanders Meet as Their Battle Ends - The New York Times'"
      ]
     },
     "execution_count": 122,
     "metadata": {},
     "output_type": "execute_result"
    }
   ],
   "source": [
    "paragraph=df['title'][:1].values[0]\n",
    "paragraph"
   ]
  },
  {
   "cell_type": "code",
   "execution_count": 123,
   "id": "5d86d119",
   "metadata": {},
   "outputs": [
    {
     "data": {
      "text/plain": [
       "'hillary clinton and bernie sanders meet as their battle ends the new york times'"
      ]
     },
     "execution_count": 123,
     "metadata": {},
     "output_type": "execute_result"
    }
   ],
   "source": [
    "ps = PorterStemmer()\n",
    "text = re.sub(r'\\[[0-9]*\\]',' ',paragraph).lower()\n",
    "text = re.sub(r'\\d',' ',text)\n",
    "text = re.sub('[^a-zA-Z]', ' ', text)\n",
    "text = re.sub(r'\\s+',' ',text)\n",
    "text"
   ]
  },
  {
   "cell_type": "code",
   "execution_count": 124,
   "id": "4afe0b8d",
   "metadata": {},
   "outputs": [
    {
     "data": {
      "text/plain": [
       "'hillari clinton berni sander meet battl end new york time'"
      ]
     },
     "execution_count": 124,
     "metadata": {},
     "output_type": "execute_result"
    }
   ],
   "source": [
    "sentences = nltk.sent_tokenize(text)\n",
    "corpus = []\n",
    "for i in range(len(sentences)):\n",
    "    review = sentences[i].split() #converting to list of words\n",
    "    review = [ps.stem(word) for word in review if not word in set(stopwords.words('english'))]\n",
    "    review = ' '.join(review)\n",
    "    corpus.append(review)\n",
    "' '.join(corpus)"
   ]
  },
  {
   "cell_type": "markdown",
   "id": "b6a10157",
   "metadata": {},
   "source": [
    "# Data Transformation function"
   ]
  },
  {
   "cell_type": "code",
   "execution_count": 3,
   "id": "0f0ddc30",
   "metadata": {},
   "outputs": [],
   "source": [
    "def Transformations(featureDF, target):\n",
    "    print(\">>feature shape before cleaning: \",featureDF.shape)\n",
    "    print(\">>target shape before cleaning: \",target.shape)\n",
    "    featureDF = featureDF.drop(['id', 'text', 'author'], axis = 1) # drop unwanted columns\n",
    "    featureDF = featureDF[featureDF['title'].notnull()] # eliminate null values in title column\n",
    "    # Duplicate elimination\n",
    "    featureDF.drop_duplicates(inplace=True)\n",
    "    # Update y matrix based X\n",
    "    ## since we've removed some data from X, we need to pass on these updations to y as well, as y doesn't know some of its corresponding X's have been deleted.\n",
    "    target = target[featureDF.index]\n",
    "    print(\">>feature shape after cleaning: \",featureDF.shape)\n",
    "    print(\">>target shape after cleaning: \",target.shape)\n",
    "    \n",
    "    ps = PorterStemmer()\n",
    "    def text_transform(paragraph):\n",
    "        text = re.sub(r'\\[[0-9]*\\]',' ',paragraph).lower()\n",
    "        text = re.sub(r'\\d',' ',text)\n",
    "        text = re.sub('[^a-zA-Z]', ' ', text)\n",
    "        text = re.sub(r'\\s+',' ',text)\n",
    "        sentences = nltk.sent_tokenize(text)\n",
    "        corpus = []\n",
    "        for i in range(len(sentences)):\n",
    "            review = sentences[i].split() #converting to list of words\n",
    "            review = [ps.stem(word) for word in review if not word in set(stopwords.words('english'))]\n",
    "            review = ' '.join(review)\n",
    "            corpus.append(review)\n",
    "        return ' '.join(corpus)\n",
    "    \n",
    "    featureDF['title'] = featureDF['title'].map(lambda para: text_transform(para))\n",
    "    # Update y matrix based X\n",
    "    ## since we've removed some data from X, we need to pass on these updations to y as well, as y doesn't know some of its corresponding X's have been deleted.\n",
    "    target = target[featureDF.index]\n",
    "    print(\">>feature shape after preProcessing: \",featureDF.shape)\n",
    "    print(\">>target shape after preProcessing: \",target.shape)\n",
    "    \n",
    "    return featureDF, target"
   ]
  },
  {
   "cell_type": "code",
   "execution_count": 4,
   "id": "78d39a2b",
   "metadata": {},
   "outputs": [
    {
     "name": "stdout",
     "output_type": "stream",
     "text": [
      ">>feature shape before cleaning:  (5824, 4)\n",
      ">>target shape before cleaning:  (5824,)\n",
      ">>feature shape after cleaning:  (5641, 1)\n",
      ">>target shape after cleaning:  (5641,)\n",
      ">>feature shape after preProcessing:  (5641, 1)\n",
      ">>target shape after preProcessing:  (5641,)\n"
     ]
    }
   ],
   "source": [
    "\n",
    "X, y = Transformations(X, y)"
   ]
  },
  {
   "cell_type": "code",
   "execution_count": 5,
   "id": "735bd9f8",
   "metadata": {},
   "outputs": [
    {
     "data": {
      "text/html": [
       "<div>\n",
       "<style scoped>\n",
       "    .dataframe tbody tr th:only-of-type {\n",
       "        vertical-align: middle;\n",
       "    }\n",
       "\n",
       "    .dataframe tbody tr th {\n",
       "        vertical-align: top;\n",
       "    }\n",
       "\n",
       "    .dataframe thead th {\n",
       "        text-align: right;\n",
       "    }\n",
       "</style>\n",
       "<table border=\"1\" class=\"dataframe\">\n",
       "  <thead>\n",
       "    <tr style=\"text-align: right;\">\n",
       "      <th></th>\n",
       "      <th>title</th>\n",
       "    </tr>\n",
       "  </thead>\n",
       "  <tbody>\n",
       "    <tr>\n",
       "      <th>4995</th>\n",
       "      <td>hillari clinton berni sander meet battl end new york time</td>\n",
       "    </tr>\n",
       "    <tr>\n",
       "      <th>8280</th>\n",
       "      <td>donald trump hillari clinton edward snowden thursday even brief new york time</td>\n",
       "    </tr>\n",
       "    <tr>\n",
       "      <th>12778</th>\n",
       "      <td>liber get pass time media ignor leftist comment pedophilia breitbart</td>\n",
       "    </tr>\n",
       "    <tr>\n",
       "      <th>12612</th>\n",
       "      <td>trump support jail tri rig elect commit voter fraud</td>\n",
       "    </tr>\n",
       "    <tr>\n",
       "      <th>11342</th>\n",
       "      <td>air forc vet first american convict tri join islam state sentenc year</td>\n",
       "    </tr>\n",
       "    <tr>\n",
       "      <th>...</th>\n",
       "      <td>...</td>\n",
       "    </tr>\n",
       "    <tr>\n",
       "      <th>16569</th>\n",
       "      <td>clinton aid profit firm illeg rais million nonprofit clinton foundat</td>\n",
       "    </tr>\n",
       "    <tr>\n",
       "      <th>6777</th>\n",
       "      <td>trump ghostwrit explain beat debat new york time</td>\n",
       "    </tr>\n",
       "    <tr>\n",
       "      <th>2475</th>\n",
       "      <td>todd trump still asterisk breitbart</td>\n",
       "    </tr>\n",
       "    <tr>\n",
       "      <th>11061</th>\n",
       "      <td>gaiaport interweb gaia energet strengthen</td>\n",
       "    </tr>\n",
       "    <tr>\n",
       "      <th>3757</th>\n",
       "      <td>miss russia russia india report</td>\n",
       "    </tr>\n",
       "  </tbody>\n",
       "</table>\n",
       "<p>5641 rows × 1 columns</p>\n",
       "</div>"
      ],
      "text/plain": [
       "                                                                               title\n",
       "4995                       hillari clinton berni sander meet battl end new york time\n",
       "8280   donald trump hillari clinton edward snowden thursday even brief new york time\n",
       "12778           liber get pass time media ignor leftist comment pedophilia breitbart\n",
       "12612                            trump support jail tri rig elect commit voter fraud\n",
       "11342          air forc vet first american convict tri join islam state sentenc year\n",
       "...                                                                              ...\n",
       "16569           clinton aid profit firm illeg rais million nonprofit clinton foundat\n",
       "6777                                trump ghostwrit explain beat debat new york time\n",
       "2475                                             todd trump still asterisk breitbart\n",
       "11061                                      gaiaport interweb gaia energet strengthen\n",
       "3757                                                 miss russia russia india report\n",
       "\n",
       "[5641 rows x 1 columns]"
      ]
     },
     "execution_count": 5,
     "metadata": {},
     "output_type": "execute_result"
    }
   ],
   "source": [
    "X"
   ]
  },
  {
   "cell_type": "code",
   "execution_count": null,
   "id": "bb07b10f",
   "metadata": {},
   "outputs": [],
   "source": []
  }
 ],
 "metadata": {
  "kernelspec": {
   "display_name": "Python 3",
   "language": "python",
   "name": "python3"
  },
  "language_info": {
   "codemirror_mode": {
    "name": "ipython",
    "version": 3
   },
   "file_extension": ".py",
   "mimetype": "text/x-python",
   "name": "python",
   "nbconvert_exporter": "python",
   "pygments_lexer": "ipython3",
   "version": "3.8.8"
  }
 },
 "nbformat": 4,
 "nbformat_minor": 5
}
