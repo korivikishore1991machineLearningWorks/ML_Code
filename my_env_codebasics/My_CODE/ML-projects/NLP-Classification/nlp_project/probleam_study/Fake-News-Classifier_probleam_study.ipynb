{
 "cells": [
  {
   "cell_type": "code",
   "execution_count": 24,
   "id": "2a52d3b4",
   "metadata": {},
   "outputs": [],
   "source": [
    "# Importing required framework libraries for ploting\n",
    "import pandas as pd\n",
    "import numpy as np\n",
    "import seaborn as sns\n",
    "import matplotlib.pyplot as plt\n",
    "%matplotlib inline\n",
    "import scipy.stats as stats #for qq plots\n",
    "\n",
    "# to visualise al the columns in the dataframe\n",
    "pd.pandas.set_option('display.max_columns', None)\n",
    "\n",
    "#Train-Test split\n",
    "from sklearn.model_selection import train_test_split\n",
    "\n",
    "#Pickel to save the features\n",
    "import pickle"
   ]
  },
  {
   "cell_type": "code",
   "execution_count": 25,
   "id": "3d9a87d4",
   "metadata": {},
   "outputs": [
    {
     "name": "stdout",
     "output_type": "stream",
     "text": [
      ">>Shape of Original Data:  (20800, 5)\n"
     ]
    },
    {
     "data": {
      "text/html": [
       "<div>\n",
       "<style scoped>\n",
       "    .dataframe tbody tr th:only-of-type {\n",
       "        vertical-align: middle;\n",
       "    }\n",
       "\n",
       "    .dataframe tbody tr th {\n",
       "        vertical-align: top;\n",
       "    }\n",
       "\n",
       "    .dataframe thead th {\n",
       "        text-align: right;\n",
       "    }\n",
       "</style>\n",
       "<table border=\"1\" class=\"dataframe\">\n",
       "  <thead>\n",
       "    <tr style=\"text-align: right;\">\n",
       "      <th></th>\n",
       "      <th>id</th>\n",
       "      <th>title</th>\n",
       "      <th>author</th>\n",
       "      <th>text</th>\n",
       "      <th>label</th>\n",
       "    </tr>\n",
       "  </thead>\n",
       "  <tbody>\n",
       "    <tr>\n",
       "      <th>0</th>\n",
       "      <td>0</td>\n",
       "      <td>House Dem Aide: We Didn’t Even See Comey’s Let...</td>\n",
       "      <td>Darrell Lucus</td>\n",
       "      <td>House Dem Aide: We Didn’t Even See Comey’s Let...</td>\n",
       "      <td>1</td>\n",
       "    </tr>\n",
       "    <tr>\n",
       "      <th>1</th>\n",
       "      <td>1</td>\n",
       "      <td>FLYNN: Hillary Clinton, Big Woman on Campus - ...</td>\n",
       "      <td>Daniel J. Flynn</td>\n",
       "      <td>Ever get the feeling your life circles the rou...</td>\n",
       "      <td>0</td>\n",
       "    </tr>\n",
       "    <tr>\n",
       "      <th>2</th>\n",
       "      <td>2</td>\n",
       "      <td>Why the Truth Might Get You Fired</td>\n",
       "      <td>Consortiumnews.com</td>\n",
       "      <td>Why the Truth Might Get You Fired October 29, ...</td>\n",
       "      <td>1</td>\n",
       "    </tr>\n",
       "    <tr>\n",
       "      <th>3</th>\n",
       "      <td>3</td>\n",
       "      <td>15 Civilians Killed In Single US Airstrike Hav...</td>\n",
       "      <td>Jessica Purkiss</td>\n",
       "      <td>Videos 15 Civilians Killed In Single US Airstr...</td>\n",
       "      <td>1</td>\n",
       "    </tr>\n",
       "    <tr>\n",
       "      <th>4</th>\n",
       "      <td>4</td>\n",
       "      <td>Iranian woman jailed for fictional unpublished...</td>\n",
       "      <td>Howard Portnoy</td>\n",
       "      <td>Print \\nAn Iranian woman has been sentenced to...</td>\n",
       "      <td>1</td>\n",
       "    </tr>\n",
       "  </tbody>\n",
       "</table>\n",
       "</div>"
      ],
      "text/plain": [
       "   id                                              title              author  \\\n",
       "0   0  House Dem Aide: We Didn’t Even See Comey’s Let...       Darrell Lucus   \n",
       "1   1  FLYNN: Hillary Clinton, Big Woman on Campus - ...     Daniel J. Flynn   \n",
       "2   2                  Why the Truth Might Get You Fired  Consortiumnews.com   \n",
       "3   3  15 Civilians Killed In Single US Airstrike Hav...     Jessica Purkiss   \n",
       "4   4  Iranian woman jailed for fictional unpublished...      Howard Portnoy   \n",
       "\n",
       "                                                text  label  \n",
       "0  House Dem Aide: We Didn’t Even See Comey’s Let...      1  \n",
       "1  Ever get the feeling your life circles the rou...      0  \n",
       "2  Why the Truth Might Get You Fired October 29, ...      1  \n",
       "3  Videos 15 Civilians Killed In Single US Airstr...      1  \n",
       "4  Print \\nAn Iranian woman has been sentenced to...      1  "
      ]
     },
     "execution_count": 25,
     "metadata": {},
     "output_type": "execute_result"
    }
   ],
   "source": [
    "# Read the Data\n",
    "df = pd.read_csv('..\\\\..\\\\data\\\\fakeNews.csv')\n",
    "print(\">>Shape of Original Data: \",df.shape)\n",
    "df.head(5)"
   ]
  },
  {
   "cell_type": "code",
   "execution_count": 26,
   "id": "785c0a58",
   "metadata": {},
   "outputs": [
    {
     "data": {
      "text/plain": [
       "(20800, 5)"
      ]
     },
     "execution_count": 26,
     "metadata": {},
     "output_type": "execute_result"
    }
   ],
   "source": [
    "# to eliminate null labled values and text\n",
    "df = df[df['label'].notnull()] #1 means positive 0 means negative\n",
    "# also restrict the unique values in the label column to the wanted type like [0,1] or [0,1,2]\n",
    "df.shape"
   ]
  },
  {
   "cell_type": "code",
   "execution_count": 27,
   "id": "702cd62e",
   "metadata": {},
   "outputs": [
    {
     "data": {
      "text/plain": [
       "(7280, 5)"
      ]
     },
     "execution_count": 27,
     "metadata": {},
     "output_type": "execute_result"
    }
   ],
   "source": [
    "# to reduce size and reduce computation power\n",
    "df = df.sample(frac=0.35,random_state=200)\n",
    "df.shape"
   ]
  },
  {
   "cell_type": "code",
   "execution_count": 28,
   "id": "b6914240",
   "metadata": {},
   "outputs": [
    {
     "data": {
      "text/plain": [
       "id          0\n",
       "title     188\n",
       "author    657\n",
       "text        9\n",
       "label       0\n",
       "dtype: int64"
      ]
     },
     "execution_count": 28,
     "metadata": {},
     "output_type": "execute_result"
    }
   ],
   "source": [
    "df.isnull().sum()"
   ]
  },
  {
   "cell_type": "markdown",
   "id": "e8fde6fb",
   "metadata": {},
   "source": [
    "# Train Test split  \n",
    "use stratify and shuffel for preserving and proper distribution of data  "
   ]
  },
  {
   "cell_type": "code",
   "execution_count": 29,
   "id": "895f4133",
   "metadata": {},
   "outputs": [],
   "source": [
    "# Train Test split of Data for generalised error with stratify and shuffel to maintain the distribution quality\n",
    "X, X_test, y, y_test = train_test_split(df.drop('label', axis=1), df['label'],\n",
    "                                        random_state=0,  test_size=0.2,\n",
    "                                        shuffle=True)"
   ]
  },
  {
   "cell_type": "code",
   "execution_count": 30,
   "id": "d83aa373",
   "metadata": {},
   "outputs": [
    {
     "name": "stdout",
     "output_type": "stream",
     "text": [
      "(5824, 4)\n",
      "(5824,)\n",
      "(1456, 4)\n",
      "(1456,)\n"
     ]
    }
   ],
   "source": [
    "# End of Session Datacheck\n",
    "print(X.shape)\n",
    "print(y.shape)\n",
    "print(X_test.shape)\n",
    "print(y_test.shape)"
   ]
  },
  {
   "cell_type": "code",
   "execution_count": 31,
   "id": "f72384f5",
   "metadata": {},
   "outputs": [
    {
     "name": "stdout",
     "output_type": "stream",
     "text": [
      "Null values in the Training feature: \n"
     ]
    },
    {
     "data": {
      "text/plain": [
       "id          0\n",
       "title     146\n",
       "author    525\n",
       "text        7\n",
       "dtype: int64"
      ]
     },
     "metadata": {},
     "output_type": "display_data"
    },
    {
     "name": "stdout",
     "output_type": "stream",
     "text": [
      "Null values in the Test feature: \n"
     ]
    },
    {
     "data": {
      "text/plain": [
       "id          0\n",
       "title      42\n",
       "author    132\n",
       "text        2\n",
       "dtype: int64"
      ]
     },
     "metadata": {},
     "output_type": "display_data"
    },
    {
     "name": "stdout",
     "output_type": "stream",
     "text": [
      "Null values in the Training feature: \n"
     ]
    },
    {
     "data": {
      "text/plain": [
       "0"
      ]
     },
     "metadata": {},
     "output_type": "display_data"
    },
    {
     "name": "stdout",
     "output_type": "stream",
     "text": [
      "Null values in the Test feature: \n"
     ]
    },
    {
     "data": {
      "text/plain": [
       "0"
      ]
     },
     "metadata": {},
     "output_type": "display_data"
    }
   ],
   "source": [
    "\n",
    "#Check for null values in the Train and Test Data\n",
    "print(\"Null values in the Training feature: \")\n",
    "display(pd.DataFrame(X).isnull().sum())\n",
    "print(\"Null values in the Test feature: \")\n",
    "display(pd.DataFrame(X_test).isnull().sum())\n",
    "\n",
    "#Check for null values in the Target\n",
    "print(\"Null values in the Training feature: \")\n",
    "display(y.isnull().sum())\n",
    "print(\"Null values in the Test feature: \")\n",
    "display(y_test.isnull().sum())"
   ]
  },
  {
   "cell_type": "code",
   "execution_count": 32,
   "id": "40e0eea4",
   "metadata": {},
   "outputs": [
    {
     "name": "stdout",
     "output_type": "stream",
     "text": [
      ">>Number of Unique values in the Training feature Data:  2\n",
      ">>Number of Unique values in the Testing feature Data:  2\n"
     ]
    }
   ],
   "source": [
    "# Check the Preprocessed column values in the training and testing feature DataSet\n",
    "print(\">>Number of Unique values in the Training feature Data: \",y.nunique())\n",
    "#print(\"Unique values in the Training feature Data: \",y.unique())\n",
    "print(\">>Number of Unique values in the Testing feature Data: \",y_test.nunique())\n",
    "#print(\"Unique values in the Testing feature Data: \",y_test.unique())"
   ]
  },
  {
   "cell_type": "code",
   "execution_count": 33,
   "id": "7e2f0a46",
   "metadata": {},
   "outputs": [
    {
     "name": "stdout",
     "output_type": "stream",
     "text": [
      ">>Training Lable datatype:  int64\n",
      "Unique values in Training Lable [0 1]\n",
      ">>Traing Lable datatype:  int64\n",
      "Unique values in testing Lable [1 0]\n"
     ]
    }
   ],
   "source": [
    "print(\">>Training Lable datatype: \",y.dtype)\n",
    "print(\"Unique values in Training Lable\",y.unique())\n",
    "print(\">>Traing Lable datatype: \",y_test.dtype)\n",
    "print(\"Unique values in testing Lable\",y_test.unique())"
   ]
  },
  {
   "cell_type": "markdown",
   "id": "a1160cbc",
   "metadata": {},
   "source": [
    "# Study of columns"
   ]
  },
  {
   "cell_type": "code",
   "execution_count": 34,
   "id": "87b36d68",
   "metadata": {},
   "outputs": [
    {
     "data": {
      "text/html": [
       "<div>\n",
       "<style scoped>\n",
       "    .dataframe tbody tr th:only-of-type {\n",
       "        vertical-align: middle;\n",
       "    }\n",
       "\n",
       "    .dataframe tbody tr th {\n",
       "        vertical-align: top;\n",
       "    }\n",
       "\n",
       "    .dataframe thead th {\n",
       "        text-align: right;\n",
       "    }\n",
       "</style>\n",
       "<table border=\"1\" class=\"dataframe\">\n",
       "  <thead>\n",
       "    <tr style=\"text-align: right;\">\n",
       "      <th></th>\n",
       "      <th>id</th>\n",
       "    </tr>\n",
       "  </thead>\n",
       "  <tbody>\n",
       "    <tr>\n",
       "      <th>count</th>\n",
       "      <td>5824.000000</td>\n",
       "    </tr>\n",
       "    <tr>\n",
       "      <th>mean</th>\n",
       "      <td>10460.837740</td>\n",
       "    </tr>\n",
       "    <tr>\n",
       "      <th>std</th>\n",
       "      <td>5985.871108</td>\n",
       "    </tr>\n",
       "    <tr>\n",
       "      <th>min</th>\n",
       "      <td>6.000000</td>\n",
       "    </tr>\n",
       "    <tr>\n",
       "      <th>25%</th>\n",
       "      <td>5289.500000</td>\n",
       "    </tr>\n",
       "    <tr>\n",
       "      <th>50%</th>\n",
       "      <td>10469.500000</td>\n",
       "    </tr>\n",
       "    <tr>\n",
       "      <th>75%</th>\n",
       "      <td>15669.500000</td>\n",
       "    </tr>\n",
       "    <tr>\n",
       "      <th>max</th>\n",
       "      <td>20798.000000</td>\n",
       "    </tr>\n",
       "  </tbody>\n",
       "</table>\n",
       "</div>"
      ],
      "text/plain": [
       "                 id\n",
       "count   5824.000000\n",
       "mean   10460.837740\n",
       "std     5985.871108\n",
       "min        6.000000\n",
       "25%     5289.500000\n",
       "50%    10469.500000\n",
       "75%    15669.500000\n",
       "max    20798.000000"
      ]
     },
     "execution_count": 34,
     "metadata": {},
     "output_type": "execute_result"
    }
   ],
   "source": [
    "X.describe()"
   ]
  },
  {
   "cell_type": "code",
   "execution_count": 35,
   "id": "77ed5707",
   "metadata": {},
   "outputs": [
    {
     "data": {
      "text/plain": [
       "count    5824.000000\n",
       "mean        0.488839\n",
       "std         0.499918\n",
       "min         0.000000\n",
       "25%         0.000000\n",
       "50%         0.000000\n",
       "75%         1.000000\n",
       "max         1.000000\n",
       "Name: label, dtype: float64"
      ]
     },
     "execution_count": 35,
     "metadata": {},
     "output_type": "execute_result"
    }
   ],
   "source": [
    "y.describe()"
   ]
  },
  {
   "cell_type": "markdown",
   "id": "3e5a66ae",
   "metadata": {},
   "source": [
    "# Saving the features Using Pickel"
   ]
  },
  {
   "cell_type": "code",
   "execution_count": 36,
   "id": "f26ade6d",
   "metadata": {},
   "outputs": [],
   "source": [
    "trainFeatures_list = [X, y]\n",
    "testFeatures_list = [X_test, y_test]\n",
    "\n",
    "import pathlib\n",
    "path_to_write_output=str(pathlib.Path.cwd()) #Path of current working Directory\n",
    "with open(path_to_write_output + '\\\\trainFeatures_list.pkl', 'wb') as handle:\n",
    "    pickle.dump(trainFeatures_list, handle)\n",
    "    \n",
    "with open(path_to_write_output + '\\\\testFeatures_list.pkl', 'wb') as handle:\n",
    "    pickle.dump(testFeatures_list, handle)"
   ]
  },
  {
   "cell_type": "markdown",
   "id": "6e5f88fc",
   "metadata": {},
   "source": [
    "# Study Outcome  \n",
    "No need to lable encode the target column  \n",
    "drop null Text rows  \n",
    "drop duplicates to avoid overfiting  \n",
    "drop id, author, title to avoid execessive computation  \n",
    "Preprocess the Text column for only gathering alphabets, convertion to lower case, eliminate stopwords  "
   ]
  },
  {
   "cell_type": "code",
   "execution_count": null,
   "id": "a37abd0b",
   "metadata": {},
   "outputs": [],
   "source": []
  }
 ],
 "metadata": {
  "kernelspec": {
   "display_name": "Python 3",
   "language": "python",
   "name": "python3"
  },
  "language_info": {
   "codemirror_mode": {
    "name": "ipython",
    "version": 3
   },
   "file_extension": ".py",
   "mimetype": "text/x-python",
   "name": "python",
   "nbconvert_exporter": "python",
   "pygments_lexer": "ipython3",
   "version": "3.8.8"
  }
 },
 "nbformat": 4,
 "nbformat_minor": 5
}
