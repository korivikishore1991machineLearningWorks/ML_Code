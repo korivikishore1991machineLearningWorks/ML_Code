{
 "cells": [
  {
   "cell_type": "code",
   "execution_count": 43,
   "id": "1443e19e",
   "metadata": {},
   "outputs": [],
   "source": [
    "import re # regular expression processing\n",
    "import nltk # nltk for conversion of raw Texts\n",
    "# nltk.download() #for frist time installation of nltk\n",
    "from nltk.stem import PorterStemmer\n",
    "from nltk.stem import WordNetLemmatizer\n",
    "from nltk.corpus import stopwords\n",
    "from sklearn.feature_extraction.text import CountVectorizer #for bag of words"
   ]
  },
  {
   "cell_type": "code",
   "execution_count": 44,
   "id": "963dfe49",
   "metadata": {},
   "outputs": [],
   "source": [
    "paragraph = \"\"\"One 1 two 2 three 3 four 4 five 5. Six 6 Seven 7 Eight 8 Nine 9 Ten 10. \n",
    "One 1 two 2 three 3 four 4 five 5. Six 6 Seven 7 Eight 8 Nine 9 Ten 10. One 1 two 2\"\"\""
   ]
  },
  {
   "cell_type": "code",
   "execution_count": 45,
   "id": "94986b00",
   "metadata": {},
   "outputs": [],
   "source": [
    "paragraph_test = \"One 1 two 2 three 3 Tenth\""
   ]
  },
  {
   "cell_type": "code",
   "execution_count": 46,
   "id": "e95d87ff",
   "metadata": {},
   "outputs": [],
   "source": [
    "ps = PorterStemmer()\n",
    "sentences = nltk.sent_tokenize(paragraph)\n",
    "corpus = []\n",
    "for i in range(len(sentences)):\n",
    "    review = re.sub('[^a-zA-Z0-9]', ' ', sentences[i])\n",
    "    review = review.lower() #converting to lower case\n",
    "    review = review.split() #converting to list of words\n",
    "    words = nltk.word_tokenize(sentences[i])\n",
    "    review = [ps.stem(word) for word in review if not word in set(stopwords.words('english'))]\n",
    "    review = ' '.join(review)\n",
    "    sentences[i] = ' '.join(words) \n",
    "    corpus.append(review)"
   ]
  },
  {
   "cell_type": "code",
   "execution_count": 47,
   "id": "a72bf4b5",
   "metadata": {},
   "outputs": [
    {
     "data": {
      "text/plain": [
       "['one 1 two 2 three 3 four 4 five 5',\n",
       " 'six 6 seven 7 eight 8 nine 9 ten 10',\n",
       " 'one 1 two 2 three 3 four 4 five 5',\n",
       " 'six 6 seven 7 eight 8 nine 9 ten 10',\n",
       " 'one 1 two 2']"
      ]
     },
     "execution_count": 47,
     "metadata": {},
     "output_type": "execute_result"
    }
   ],
   "source": [
    "corpus"
   ]
  },
  {
   "cell_type": "code",
   "execution_count": 48,
   "id": "928e4039",
   "metadata": {},
   "outputs": [
    {
     "data": {
      "text/plain": [
       "['One 1 two 2 three 3 four 4 five 5 .',\n",
       " 'Six 6 Seven 7 Eight 8 Nine 9 Ten 10 .',\n",
       " 'One 1 two 2 three 3 four 4 five 5 .',\n",
       " 'Six 6 Seven 7 Eight 8 Nine 9 Ten 10 .',\n",
       " 'One 1 two 2']"
      ]
     },
     "execution_count": 48,
     "metadata": {},
     "output_type": "execute_result"
    }
   ],
   "source": [
    "sentences"
   ]
  },
  {
   "cell_type": "code",
   "execution_count": 49,
   "id": "a2365b3d",
   "metadata": {},
   "outputs": [],
   "source": [
    "# Creating the Bag of Words model\n",
    "cv = CountVectorizer(max_features=2, ngram_range=(1,3))\n",
    "cv.fit(corpus)\n",
    "X = cv.transform(corpus)"
   ]
  },
  {
   "cell_type": "code",
   "execution_count": 50,
   "id": "0c77f58a",
   "metadata": {},
   "outputs": [
    {
     "data": {
      "text/plain": [
       "['one', 'two']"
      ]
     },
     "execution_count": 50,
     "metadata": {},
     "output_type": "execute_result"
    }
   ],
   "source": [
    "cv.get_feature_names()"
   ]
  },
  {
   "cell_type": "code",
   "execution_count": 51,
   "id": "2a3ed1b1",
   "metadata": {},
   "outputs": [
    {
     "data": {
      "text/plain": [
       "array([[1, 1],\n",
       "       [0, 0],\n",
       "       [1, 1],\n",
       "       [0, 0],\n",
       "       [1, 1]], dtype=int64)"
      ]
     },
     "execution_count": 51,
     "metadata": {},
     "output_type": "execute_result"
    }
   ],
   "source": [
    "X.toarray()"
   ]
  },
  {
   "cell_type": "code",
   "execution_count": null,
   "id": "afb23a05",
   "metadata": {},
   "outputs": [],
   "source": []
  },
  {
   "cell_type": "code",
   "execution_count": null,
   "id": "8d958b8f",
   "metadata": {},
   "outputs": [],
   "source": []
  },
  {
   "cell_type": "markdown",
   "id": "a9f32a0b",
   "metadata": {},
   "source": [
    "# Test transform"
   ]
  },
  {
   "cell_type": "code",
   "execution_count": 52,
   "id": "e2744e43",
   "metadata": {},
   "outputs": [],
   "source": [
    "ps = PorterStemmer()\n",
    "sentences = nltk.sent_tokenize(paragraph_test)\n",
    "corpus = []\n",
    "for i in range(len(sentences)):\n",
    "    review = re.sub('[^a-zA-Z1-9]', ' ', sentences[i])\n",
    "    review = review.lower() #converting to lower case\n",
    "    review = review.split() #converting to list of words\n",
    "    words = nltk.word_tokenize(sentences[i])\n",
    "    review = [ps.stem(word) for word in review if not word in set(stopwords.words('english'))]\n",
    "    review = ' '.join(review)\n",
    "    sentences[i] = ' '.join(words) \n",
    "    corpus.append(review)"
   ]
  },
  {
   "cell_type": "code",
   "execution_count": 53,
   "id": "548e33ac",
   "metadata": {},
   "outputs": [
    {
     "data": {
      "text/plain": [
       "['one 1 two 2 three 3 tenth']"
      ]
     },
     "execution_count": 53,
     "metadata": {},
     "output_type": "execute_result"
    }
   ],
   "source": [
    "corpus"
   ]
  },
  {
   "cell_type": "code",
   "execution_count": 54,
   "id": "1c00fe28",
   "metadata": {},
   "outputs": [
    {
     "data": {
      "text/plain": [
       "['One 1 two 2 three 3 Tenth']"
      ]
     },
     "execution_count": 54,
     "metadata": {},
     "output_type": "execute_result"
    }
   ],
   "source": [
    "sentences"
   ]
  },
  {
   "cell_type": "code",
   "execution_count": 55,
   "id": "e523c213",
   "metadata": {},
   "outputs": [
    {
     "data": {
      "text/plain": [
       "array([[1, 1]], dtype=int64)"
      ]
     },
     "execution_count": 55,
     "metadata": {},
     "output_type": "execute_result"
    }
   ],
   "source": [
    "cv.transform(corpus).toarray()"
   ]
  },
  {
   "cell_type": "code",
   "execution_count": 56,
   "id": "f1ac35e3",
   "metadata": {},
   "outputs": [
    {
     "data": {
      "text/plain": [
       "['one', 'two']"
      ]
     },
     "execution_count": 56,
     "metadata": {},
     "output_type": "execute_result"
    }
   ],
   "source": [
    "cv.get_feature_names()"
   ]
  },
  {
   "cell_type": "code",
   "execution_count": null,
   "id": "6a449bca",
   "metadata": {},
   "outputs": [],
   "source": []
  }
 ],
 "metadata": {
  "kernelspec": {
   "display_name": "Python 3",
   "language": "python",
   "name": "python3"
  },
  "language_info": {
   "codemirror_mode": {
    "name": "ipython",
    "version": 3
   },
   "file_extension": ".py",
   "mimetype": "text/x-python",
   "name": "python",
   "nbconvert_exporter": "python",
   "pygments_lexer": "ipython3",
   "version": "3.8.8"
  }
 },
 "nbformat": 4,
 "nbformat_minor": 5
}
