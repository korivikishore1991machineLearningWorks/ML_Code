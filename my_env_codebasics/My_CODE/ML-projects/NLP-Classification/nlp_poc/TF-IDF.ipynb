{
 "cells": [
  {
   "cell_type": "code",
   "execution_count": 8,
   "id": "81d14712",
   "metadata": {},
   "outputs": [],
   "source": [
    "import re # regular expression processing\n",
    "import nltk # nltk for conversion of raw Texts\n",
    "from nltk.corpus import stopwords\n",
    "from nltk.stem.porter import PorterStemmer\n",
    "from nltk.stem import WordNetLemmatizer\n",
    "from sklearn.feature_extraction.text import TfidfVectorizer #TF-IDF library"
   ]
  },
  {
   "cell_type": "code",
   "execution_count": 9,
   "id": "2660f3f0",
   "metadata": {},
   "outputs": [],
   "source": [
    "paragraph_train = \"\"\"One 1 two 2 three 3 four 4 five 5. Six 6 Seven 7 Eight 8 Nine 9 Ten 10. \n",
    "One 1 two 2 three 3 four 4 five 5. Six 6 Seven 7 Eight 8 Nine 9 Ten 10.\"\"\""
   ]
  },
  {
   "cell_type": "code",
   "execution_count": 10,
   "id": "418f4d5a",
   "metadata": {},
   "outputs": [],
   "source": [
    "ps = PorterStemmer()\n",
    "sentences = nltk.sent_tokenize(paragraph_train)\n",
    "corpus = []\n",
    "for i in range(len(sentences)):\n",
    "    review = re.sub('[^a-zA-Z0-9]', ' ', sentences[i])\n",
    "    review = review.lower() #converting to lower case\n",
    "    review = review.split() #converting to list of words\n",
    "    words = nltk.word_tokenize(sentences[i])\n",
    "    review = [ps.stem(word) for word in review if not word in set(stopwords.words('english'))]\n",
    "    review = map(str, review)\n",
    "    review = ' '.join(review)\n",
    "    sentences[i] = ' '.join(words) \n",
    "    corpus.append(review)"
   ]
  },
  {
   "cell_type": "code",
   "execution_count": 11,
   "id": "22b46d51",
   "metadata": {},
   "outputs": [
    {
     "data": {
      "text/plain": [
       "['One 1 two 2 three 3 four 4 five 5 .',\n",
       " 'Six 6 Seven 7 Eight 8 Nine 9 Ten 10 .',\n",
       " 'One 1 two 2 three 3 four 4 five 5 .',\n",
       " 'Six 6 Seven 7 Eight 8 Nine 9 Ten 10 .']"
      ]
     },
     "execution_count": 11,
     "metadata": {},
     "output_type": "execute_result"
    }
   ],
   "source": [
    "sentences"
   ]
  },
  {
   "cell_type": "code",
   "execution_count": 12,
   "id": "b4132f6c",
   "metadata": {},
   "outputs": [
    {
     "data": {
      "text/plain": [
       "['one 1 two 2 three 3 four 4 five 5',\n",
       " 'six 6 seven 7 eight 8 nine 9 ten 10',\n",
       " 'one 1 two 2 three 3 four 4 five 5',\n",
       " 'six 6 seven 7 eight 8 nine 9 ten 10']"
      ]
     },
     "execution_count": 12,
     "metadata": {},
     "output_type": "execute_result"
    }
   ],
   "source": [
    "corpus"
   ]
  },
  {
   "cell_type": "markdown",
   "id": "bbb5380b",
   "metadata": {},
   "source": [
    "# TF-IDF creation for training Data"
   ]
  },
  {
   "cell_type": "code",
   "execution_count": 13,
   "id": "051cab29",
   "metadata": {},
   "outputs": [],
   "source": [
    "cv = TfidfVectorizer()\n",
    "X = cv.fit_transform(corpus)"
   ]
  },
  {
   "cell_type": "code",
   "execution_count": 14,
   "id": "276918f4",
   "metadata": {},
   "outputs": [
    {
     "data": {
      "text/plain": [
       "['10',\n",
       " 'eight',\n",
       " 'five',\n",
       " 'four',\n",
       " 'nine',\n",
       " 'one',\n",
       " 'seven',\n",
       " 'six',\n",
       " 'ten',\n",
       " 'three',\n",
       " 'two']"
      ]
     },
     "execution_count": 14,
     "metadata": {},
     "output_type": "execute_result"
    }
   ],
   "source": [
    "cv.get_feature_names()"
   ]
  },
  {
   "cell_type": "code",
   "execution_count": 15,
   "id": "26c4ef60",
   "metadata": {},
   "outputs": [
    {
     "data": {
      "text/plain": [
       "array([[0.        , 0.        , 0.4472136 , 0.4472136 , 0.        ,\n",
       "        0.4472136 , 0.        , 0.        , 0.        , 0.4472136 ,\n",
       "        0.4472136 ],\n",
       "       [0.40824829, 0.40824829, 0.        , 0.        , 0.40824829,\n",
       "        0.        , 0.40824829, 0.40824829, 0.40824829, 0.        ,\n",
       "        0.        ],\n",
       "       [0.        , 0.        , 0.4472136 , 0.4472136 , 0.        ,\n",
       "        0.4472136 , 0.        , 0.        , 0.        , 0.4472136 ,\n",
       "        0.4472136 ],\n",
       "       [0.40824829, 0.40824829, 0.        , 0.        , 0.40824829,\n",
       "        0.        , 0.40824829, 0.40824829, 0.40824829, 0.        ,\n",
       "        0.        ]])"
      ]
     },
     "execution_count": 15,
     "metadata": {},
     "output_type": "execute_result"
    }
   ],
   "source": [
    "X.toarray()"
   ]
  },
  {
   "cell_type": "markdown",
   "id": "217d0cd5",
   "metadata": {},
   "source": [
    "# TF-IDF creation for Testing Data"
   ]
  },
  {
   "cell_type": "code",
   "execution_count": 16,
   "id": "cd91aba6",
   "metadata": {},
   "outputs": [],
   "source": [
    "paragraph_test = \"One 1 two 2 three 3 Tenth\""
   ]
  },
  {
   "cell_type": "code",
   "execution_count": 17,
   "id": "8af6be69",
   "metadata": {},
   "outputs": [],
   "source": [
    "ps = PorterStemmer()\n",
    "sentences = nltk.sent_tokenize(paragraph_test)\n",
    "corpus = []\n",
    "for i in range(len(sentences)):\n",
    "    review = re.sub('[^a-zA-Z1-9]', ' ', sentences[i])\n",
    "    review = review.lower() #converting to lower case\n",
    "    review = review.split() #converting to list of words\n",
    "    words = nltk.word_tokenize(sentences[i])\n",
    "    review = [ps.stem(word) for word in review if not word in set(stopwords.words('english'))]\n",
    "    review = ' '.join(review)\n",
    "    sentences[i] = ' '.join(words) \n",
    "    corpus.append(review)"
   ]
  },
  {
   "cell_type": "code",
   "execution_count": 18,
   "id": "22f4c037",
   "metadata": {},
   "outputs": [
    {
     "data": {
      "text/plain": [
       "['one 1 two 2 three 3 tenth']"
      ]
     },
     "execution_count": 18,
     "metadata": {},
     "output_type": "execute_result"
    }
   ],
   "source": [
    "corpus"
   ]
  },
  {
   "cell_type": "code",
   "execution_count": 19,
   "id": "03f2c5be",
   "metadata": {},
   "outputs": [
    {
     "data": {
      "text/plain": [
       "['One 1 two 2 three 3 Tenth']"
      ]
     },
     "execution_count": 19,
     "metadata": {},
     "output_type": "execute_result"
    }
   ],
   "source": [
    "sentences"
   ]
  },
  {
   "cell_type": "code",
   "execution_count": 20,
   "id": "04e0fa3e",
   "metadata": {},
   "outputs": [],
   "source": [
    "X_test = cv.transform(corpus)"
   ]
  },
  {
   "cell_type": "code",
   "execution_count": 21,
   "id": "8f89a296",
   "metadata": {},
   "outputs": [
    {
     "data": {
      "text/plain": [
       "array([[0.        , 0.        , 0.        , 0.        , 0.        ,\n",
       "        0.57735027, 0.        , 0.        , 0.        , 0.57735027,\n",
       "        0.57735027]])"
      ]
     },
     "execution_count": 21,
     "metadata": {},
     "output_type": "execute_result"
    }
   ],
   "source": [
    "X_test.toarray()"
   ]
  },
  {
   "cell_type": "code",
   "execution_count": 22,
   "id": "9da151f2",
   "metadata": {},
   "outputs": [
    {
     "data": {
      "text/plain": [
       "['10',\n",
       " 'eight',\n",
       " 'five',\n",
       " 'four',\n",
       " 'nine',\n",
       " 'one',\n",
       " 'seven',\n",
       " 'six',\n",
       " 'ten',\n",
       " 'three',\n",
       " 'two']"
      ]
     },
     "execution_count": 22,
     "metadata": {},
     "output_type": "execute_result"
    }
   ],
   "source": [
    "cv.get_feature_names()"
   ]
  },
  {
   "cell_type": "code",
   "execution_count": null,
   "id": "ffa4aab2",
   "metadata": {},
   "outputs": [],
   "source": []
  }
 ],
 "metadata": {
  "kernelspec": {
   "display_name": "Python 3",
   "language": "python",
   "name": "python3"
  },
  "language_info": {
   "codemirror_mode": {
    "name": "ipython",
    "version": 3
   },
   "file_extension": ".py",
   "mimetype": "text/x-python",
   "name": "python",
   "nbconvert_exporter": "python",
   "pygments_lexer": "ipython3",
   "version": "3.8.8"
  }
 },
 "nbformat": 4,
 "nbformat_minor": 5
}
