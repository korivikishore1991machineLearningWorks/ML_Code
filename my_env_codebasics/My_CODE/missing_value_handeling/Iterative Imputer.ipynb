{
 "cells": [
  {
   "cell_type": "code",
   "execution_count": 9,
   "id": "4aa96e8a",
   "metadata": {},
   "outputs": [],
   "source": [
    "import pandas as pd\n",
    "import numpy as np\n",
    "from sklearn.linear_model import LinearRegression\n",
    "from sklearn.model_selection import train_test_split"
   ]
  },
  {
   "cell_type": "code",
   "execution_count": 18,
   "id": "ed052572",
   "metadata": {},
   "outputs": [
    {
     "data": {
      "text/plain": [
       "'0.24.2'"
      ]
     },
     "execution_count": 18,
     "metadata": {},
     "output_type": "execute_result"
    }
   ],
   "source": [
    "# Check sklearn version\n",
    "import sklearn ## iterative imputer is in experimental stage only till sklearn 0.23, for version <0.24 use from sklearn.experimental import enable_iterative_imputer and then import IterativeImputer\n",
    "sklearn.__version__"
   ]
  },
  {
   "cell_type": "code",
   "execution_count": 19,
   "id": "ae016f15",
   "metadata": {},
   "outputs": [],
   "source": [
    "from sklearn.impute import IterativeImputer"
   ]
  },
  {
   "cell_type": "code",
   "execution_count": 21,
   "id": "d0ff2a18",
   "metadata": {},
   "outputs": [
    {
     "data": {
      "text/html": [
       "<div>\n",
       "<style scoped>\n",
       "    .dataframe tbody tr th:only-of-type {\n",
       "        vertical-align: middle;\n",
       "    }\n",
       "\n",
       "    .dataframe tbody tr th {\n",
       "        vertical-align: top;\n",
       "    }\n",
       "\n",
       "    .dataframe thead th {\n",
       "        text-align: right;\n",
       "    }\n",
       "</style>\n",
       "<table border=\"1\" class=\"dataframe\">\n",
       "  <thead>\n",
       "    <tr style=\"text-align: right;\">\n",
       "      <th></th>\n",
       "      <th>age</th>\n",
       "      <th>experience</th>\n",
       "      <th>salary</th>\n",
       "      <th>purchased</th>\n",
       "    </tr>\n",
       "  </thead>\n",
       "  <tbody>\n",
       "    <tr>\n",
       "      <th>0</th>\n",
       "      <td>25.0</td>\n",
       "      <td>NaN</td>\n",
       "      <td>50.0</td>\n",
       "      <td>0</td>\n",
       "    </tr>\n",
       "    <tr>\n",
       "      <th>1</th>\n",
       "      <td>27.0</td>\n",
       "      <td>3.0</td>\n",
       "      <td>NaN</td>\n",
       "      <td>1</td>\n",
       "    </tr>\n",
       "    <tr>\n",
       "      <th>2</th>\n",
       "      <td>29.0</td>\n",
       "      <td>5.0</td>\n",
       "      <td>110.0</td>\n",
       "      <td>1</td>\n",
       "    </tr>\n",
       "    <tr>\n",
       "      <th>3</th>\n",
       "      <td>31.0</td>\n",
       "      <td>7.0</td>\n",
       "      <td>140.0</td>\n",
       "      <td>0</td>\n",
       "    </tr>\n",
       "    <tr>\n",
       "      <th>4</th>\n",
       "      <td>33.0</td>\n",
       "      <td>9.0</td>\n",
       "      <td>170.0</td>\n",
       "      <td>1</td>\n",
       "    </tr>\n",
       "    <tr>\n",
       "      <th>5</th>\n",
       "      <td>NaN</td>\n",
       "      <td>11.0</td>\n",
       "      <td>200.0</td>\n",
       "      <td>0</td>\n",
       "    </tr>\n",
       "  </tbody>\n",
       "</table>\n",
       "</div>"
      ],
      "text/plain": [
       "    age  experience  salary  purchased\n",
       "0  25.0         NaN    50.0          0\n",
       "1  27.0         3.0     NaN          1\n",
       "2  29.0         5.0   110.0          1\n",
       "3  31.0         7.0   140.0          0\n",
       "4  33.0         9.0   170.0          1\n",
       "5   NaN        11.0   200.0          0"
      ]
     },
     "execution_count": 21,
     "metadata": {},
     "output_type": "execute_result"
    }
   ],
   "source": [
    "# data creation\n",
    "df = pd.DataFrame({\n",
    "    'age': [25,27,29,31,33,np.nan],\n",
    "    'experience': [np.nan, 3,5,7,9,11],\n",
    "    'salary': [50, np.nan, 110,140,170,200],\n",
    "    'purchased' : [0,1,1,0,1,0]\n",
    "})\n",
    "df"
   ]
  },
  {
   "cell_type": "code",
   "execution_count": 23,
   "id": "683b7794",
   "metadata": {},
   "outputs": [
    {
     "name": "stderr",
     "output_type": "stream",
     "text": [
      "C:\\Users\\koriv\\AppData\\Local\\Temp/ipykernel_12944/3301514974.py:2: FutureWarning: In a future version of pandas all arguments of DataFrame.drop except for the argument 'labels' will be keyword-only\n",
      "  X = df.drop('purchased', 1)\n"
     ]
    }
   ],
   "source": [
    "# Drop unwanted columns\n",
    "X = df.drop('purchased', 1)\n",
    "y = df['purchased']"
   ]
  },
  {
   "cell_type": "code",
   "execution_count": 24,
   "id": "2ce41bd8",
   "metadata": {},
   "outputs": [
    {
     "data": {
      "text/html": [
       "<div>\n",
       "<style scoped>\n",
       "    .dataframe tbody tr th:only-of-type {\n",
       "        vertical-align: middle;\n",
       "    }\n",
       "\n",
       "    .dataframe tbody tr th {\n",
       "        vertical-align: top;\n",
       "    }\n",
       "\n",
       "    .dataframe thead th {\n",
       "        text-align: right;\n",
       "    }\n",
       "</style>\n",
       "<table border=\"1\" class=\"dataframe\">\n",
       "  <thead>\n",
       "    <tr style=\"text-align: right;\">\n",
       "      <th></th>\n",
       "      <th>age</th>\n",
       "      <th>experience</th>\n",
       "      <th>salary</th>\n",
       "    </tr>\n",
       "  </thead>\n",
       "  <tbody>\n",
       "    <tr>\n",
       "      <th>age</th>\n",
       "      <td>1.0</td>\n",
       "      <td>1.0</td>\n",
       "      <td>1.0</td>\n",
       "    </tr>\n",
       "    <tr>\n",
       "      <th>experience</th>\n",
       "      <td>1.0</td>\n",
       "      <td>1.0</td>\n",
       "      <td>1.0</td>\n",
       "    </tr>\n",
       "    <tr>\n",
       "      <th>salary</th>\n",
       "      <td>1.0</td>\n",
       "      <td>1.0</td>\n",
       "      <td>1.0</td>\n",
       "    </tr>\n",
       "  </tbody>\n",
       "</table>\n",
       "</div>"
      ],
      "text/plain": [
       "            age  experience  salary\n",
       "age         1.0         1.0     1.0\n",
       "experience  1.0         1.0     1.0\n",
       "salary      1.0         1.0     1.0"
      ]
     },
     "execution_count": 24,
     "metadata": {},
     "output_type": "execute_result"
    }
   ],
   "source": [
    "# Check for correlations amongest the features\n",
    "X.corr()"
   ]
  },
  {
   "cell_type": "code",
   "execution_count": 25,
   "id": "737aa7f3",
   "metadata": {},
   "outputs": [],
   "source": [
    "lr = LinearRegression()\n",
    "# I'm using Linear Regression because all the features are highly correlated with each other\n",
    "# In most real life datasets, they will be not, and the need will arise to use other regressors\n",
    "\n",
    "imp = IterativeImputer(estimator=lr, verbose=2, max_iter=30, tol=1e-10, imputation_order='roman')\n",
    "# play around with the max_iter and tol parameters to get a better feel of how it is working"
   ]
  },
  {
   "cell_type": "code",
   "execution_count": 27,
   "id": "1c920312",
   "metadata": {},
   "outputs": [
    {
     "data": {
      "text/plain": [
       "2e-08"
      ]
     },
     "execution_count": 27,
     "metadata": {},
     "output_type": "execute_result"
    }
   ],
   "source": [
    "# to find \"scaled tolerance\", multiply the tolerance with the max of the absolute values\n",
    "# in the current dataset the tolerance is 1e-10 and max abosolute value from the dataset is 200, so scaled tolerance will be below value\n",
    "1e-10 * 200"
   ]
  },
  {
   "cell_type": "code",
   "execution_count": 28,
   "id": "b76fd1a8",
   "metadata": {},
   "outputs": [
    {
     "name": "stdout",
     "output_type": "stream",
     "text": [
      "[IterativeImputer] Completing matrix with shape (6, 3)\n",
      "[IterativeImputer] Ending imputation round 1/30, elapsed time 0.02\n",
      "[IterativeImputer] Change: 61.22518987714511, scaled tolerance: 2e-08 \n",
      "[IterativeImputer] Ending imputation round 2/30, elapsed time 0.02\n",
      "[IterativeImputer] Change: 7.963767891095614, scaled tolerance: 2e-08 \n",
      "[IterativeImputer] Ending imputation round 3/30, elapsed time 0.03\n",
      "[IterativeImputer] Change: 0.7509179143103637, scaled tolerance: 2e-08 \n",
      "[IterativeImputer] Ending imputation round 4/30, elapsed time 0.03\n",
      "[IterativeImputer] Change: 0.01311646776997577, scaled tolerance: 2e-08 \n",
      "[IterativeImputer] Ending imputation round 5/30, elapsed time 0.04\n",
      "[IterativeImputer] Change: 0.0008142526488228441, scaled tolerance: 2e-08 \n",
      "[IterativeImputer] Ending imputation round 6/30, elapsed time 0.04\n",
      "[IterativeImputer] Change: 3.9720598635994975e-05, scaled tolerance: 2e-08 \n",
      "[IterativeImputer] Ending imputation round 7/30, elapsed time 0.05\n",
      "[IterativeImputer] Change: 2.1412899258166362e-06, scaled tolerance: 2e-08 \n",
      "[IterativeImputer] Ending imputation round 8/30, elapsed time 0.06\n",
      "[IterativeImputer] Change: 1.1151935552788927e-07, scaled tolerance: 2e-08 \n",
      "[IterativeImputer] Ending imputation round 9/30, elapsed time 0.06\n",
      "[IterativeImputer] Change: 5.882782261323882e-09, scaled tolerance: 2e-08 \n",
      "[IterativeImputer] Early stopping criterion reached.\n"
     ]
    },
    {
     "data": {
      "text/plain": [
       "array([[ 25.,   1.,  50.],\n",
       "       [ 27.,   3.,  80.],\n",
       "       [ 29.,   5., 110.],\n",
       "       [ 31.,   7., 140.],\n",
       "       [ 33.,   9., 170.],\n",
       "       [ 35.,  11., 200.]])"
      ]
     },
     "execution_count": 28,
     "metadata": {},
     "output_type": "execute_result"
    }
   ],
   "source": [
    "# Transform the dataset to fill the missing values\n",
    "imp.fit_transform(X)"
   ]
  },
  {
   "cell_type": "markdown",
   "id": "3aea8ef3",
   "metadata": {},
   "source": [
    "# Using n_nearest_features parameter in the iterative Imputater\n",
    "use n_nearest_features : int, default=None\n"
   ]
  },
  {
   "cell_type": "code",
   "execution_count": 32,
   "id": "ec0b2e04",
   "metadata": {},
   "outputs": [
    {
     "name": "stdout",
     "output_type": "stream",
     "text": [
      "corr_values:  [0.9, 0.5, 0.8, 0.4, 0.1]\n",
      "sum of corr_values 2.7\n",
      "correlation coeefcient for feature1:  0.3333333333333333\n"
     ]
    }
   ],
   "source": [
    "# imagine we have a dataset with 6 features, one of which is age.\n",
    "# Now we want to predict the NaNs in age\n",
    "# so we find the absolute correlation coefficient between age and all other features, as given below\n",
    "corr_values = [0.9, 0.5, 0.8, 0.4, 0.1]\n",
    "print(\"corr_values: \",corr_values)\n",
    "print(\"sum of corr_values\",np.sum(corr_values))\n",
    "# So corelation coeeficient for feature will be\n",
    "print(\"correlation coeefcient for feature1: \", 0.9/2.7)"
   ]
  },
  {
   "cell_type": "code",
   "execution_count": 34,
   "id": "971c1e75",
   "metadata": {},
   "outputs": [
    {
     "name": "stdout",
     "output_type": "stream",
     "text": [
      "Correlation coeeficinets for the features:  [0.33333333 0.18518519 0.2962963  0.14814815 0.03703704]\n",
      "Sum of Correlation coeeficinets for the features:  1.0\n"
     ]
    },
    {
     "data": {
      "text/plain": [
       "array([3, 1])"
      ]
     },
     "execution_count": 34,
     "metadata": {},
     "output_type": "execute_result"
    }
   ],
   "source": [
    "# we'll normalize the absolute correlation coefficients to have a sum of one\n",
    "from sklearn.preprocessing import normalize\n",
    "probs = normalize([corr_values], norm='l1')\n",
    "probs = probs.ravel()\n",
    "print(\"Correlation coeeficinets for the features: \",probs)\n",
    "print(\"Sum of Correlation coeeficinets for the features: \",probs.sum())\n",
    "# now we'll pick the number of neighbors we want (2 in this case) and set\n",
    "# the weight/probabilites parameter as the 'probs' we calculated above\n",
    "# so that numpy assigns the proportional weight to each feature according\n",
    "# to the correlation of that feature with the target feature (age in this case)\n",
    "np.random.choice([1,2,3,4,5], 2, replace=False, p=probs)"
   ]
  },
  {
   "cell_type": "markdown",
   "id": "1552cb0d",
   "metadata": {},
   "source": [
    "# Working of  Iterative Imputer in the case of training and testing sets\n"
   ]
  },
  {
   "cell_type": "code",
   "execution_count": 35,
   "id": "cf99b06f",
   "metadata": {},
   "outputs": [
    {
     "name": "stderr",
     "output_type": "stream",
     "text": [
      "C:\\Users\\koriv\\AppData\\Local\\Temp/ipykernel_12944/1786050202.py:8: FutureWarning: In a future version of pandas all arguments of DataFrame.drop except for the argument 'labels' will be keyword-only\n",
      "  X = df.drop('purchased', 1)\n"
     ]
    }
   ],
   "source": [
    "# Data, feature and target creation\n",
    "df = pd.DataFrame({\n",
    "    'age': [25,27,29,31,33,np.nan,37,39,41,np.nan,45],\n",
    "    'experience': [np.nan, 3,5,7,9,11,13,16,np.nan,19,21],\n",
    "    'salary': [50, np.nan, 110,140,170,200,230,260,np.nan,320,350],\n",
    "    'purchased' : [0,1,1,0,1,0,0,1,1,0,0]\n",
    "})\n",
    "X = df.drop('purchased', 1)\n",
    "y = df['purchased']"
   ]
  },
  {
   "cell_type": "code",
   "execution_count": 37,
   "id": "b181486e",
   "metadata": {},
   "outputs": [
    {
     "data": {
      "text/html": [
       "<div>\n",
       "<style scoped>\n",
       "    .dataframe tbody tr th:only-of-type {\n",
       "        vertical-align: middle;\n",
       "    }\n",
       "\n",
       "    .dataframe tbody tr th {\n",
       "        vertical-align: top;\n",
       "    }\n",
       "\n",
       "    .dataframe thead th {\n",
       "        text-align: right;\n",
       "    }\n",
       "</style>\n",
       "<table border=\"1\" class=\"dataframe\">\n",
       "  <thead>\n",
       "    <tr style=\"text-align: right;\">\n",
       "      <th></th>\n",
       "      <th>age</th>\n",
       "      <th>experience</th>\n",
       "      <th>salary</th>\n",
       "    </tr>\n",
       "  </thead>\n",
       "  <tbody>\n",
       "    <tr>\n",
       "      <th>7</th>\n",
       "      <td>39.0</td>\n",
       "      <td>16.0</td>\n",
       "      <td>260.0</td>\n",
       "    </tr>\n",
       "    <tr>\n",
       "      <th>1</th>\n",
       "      <td>27.0</td>\n",
       "      <td>3.0</td>\n",
       "      <td>NaN</td>\n",
       "    </tr>\n",
       "    <tr>\n",
       "      <th>9</th>\n",
       "      <td>NaN</td>\n",
       "      <td>19.0</td>\n",
       "      <td>320.0</td>\n",
       "    </tr>\n",
       "    <tr>\n",
       "      <th>3</th>\n",
       "      <td>31.0</td>\n",
       "      <td>7.0</td>\n",
       "      <td>140.0</td>\n",
       "    </tr>\n",
       "    <tr>\n",
       "      <th>8</th>\n",
       "      <td>41.0</td>\n",
       "      <td>NaN</td>\n",
       "      <td>NaN</td>\n",
       "    </tr>\n",
       "    <tr>\n",
       "      <th>4</th>\n",
       "      <td>33.0</td>\n",
       "      <td>9.0</td>\n",
       "      <td>170.0</td>\n",
       "    </tr>\n",
       "    <tr>\n",
       "      <th>2</th>\n",
       "      <td>29.0</td>\n",
       "      <td>5.0</td>\n",
       "      <td>110.0</td>\n",
       "    </tr>\n",
       "    <tr>\n",
       "      <th>0</th>\n",
       "      <td>25.0</td>\n",
       "      <td>NaN</td>\n",
       "      <td>50.0</td>\n",
       "    </tr>\n",
       "  </tbody>\n",
       "</table>\n",
       "</div>"
      ],
      "text/plain": [
       "    age  experience  salary\n",
       "7  39.0        16.0   260.0\n",
       "1  27.0         3.0     NaN\n",
       "9   NaN        19.0   320.0\n",
       "3  31.0         7.0   140.0\n",
       "8  41.0         NaN     NaN\n",
       "4  33.0         9.0   170.0\n",
       "2  29.0         5.0   110.0\n",
       "0  25.0         NaN    50.0"
      ]
     },
     "execution_count": 37,
     "metadata": {},
     "output_type": "execute_result"
    }
   ],
   "source": [
    "# Spliting of train and test data\n",
    "X_train, X_test, y_train, y_test = train_test_split(X, y, test_size=0.2, shuffle=True)\n",
    "X_train"
   ]
  },
  {
   "cell_type": "code",
   "execution_count": 44,
   "id": "8f0d0607",
   "metadata": {},
   "outputs": [
    {
     "name": "stdout",
     "output_type": "stream",
     "text": [
      "[IterativeImputer] Completing matrix with shape (8, 3)\n",
      "[IterativeImputer] Ending imputation round 1/1, elapsed time 0.00\n",
      "[IterativeImputer] Change: 96.64863952063612, scaled tolerance: 3.2e-08 \n",
      "Transformed training feature matrix: \n",
      " [[ 39.          16.         260.        ]\n",
      " [ 27.           3.          78.35136048]\n",
      " [ 46.3489256   19.         320.        ]\n",
      " [ 31.           7.         140.        ]\n",
      " [ 41.          15.52952456 264.85940454]\n",
      " [ 33.           9.         170.        ]\n",
      " [ 29.           5.         110.        ]\n",
      " [ 25.           1.7842604   50.        ]]\n",
      "X_train.mean: \n",
      " age            32.142857\n",
      "experience      9.833333\n",
      "salary        175.000000\n",
      "dtype: float64\n"
     ]
    },
    {
     "name": "stderr",
     "output_type": "stream",
     "text": [
      "c:\\users\\koriv\\appdata\\local\\programs\\python\\python39\\lib\\site-packages\\sklearn\\impute\\_iterative.py:685: ConvergenceWarning: [IterativeImputer] Early stopping criterion not reached.\n",
      "  warnings.warn(\"[IterativeImputer] Early stopping criterion not\"\n"
     ]
    }
   ],
   "source": [
    "# fiting iterative imputer for recreation of missing values\n",
    "lr = LinearRegression()\n",
    "imp = IterativeImputer(estimator=lr, tol=1e-10, max_iter=1, verbose=2, imputation_order='roman') #by default is mean\n",
    "print(\"Transformed training feature matrix: \\n\",imp.fit_transform(X_train))\n",
    "# cross check filled values with the mean values\n",
    "print(\"X_train.mean: \\n\",X_train.mean())"
   ]
  },
  {
   "cell_type": "code",
   "execution_count": 50,
   "id": "9ef19b2b",
   "metadata": {},
   "outputs": [
    {
     "name": "stdout",
     "output_type": "stream",
     "text": [
      "X_test: \n",
      "      age  experience  salary\n",
      "6   37.0        13.0   230.0\n",
      "5    NaN        11.0   200.0\n",
      "10  45.0        21.0   350.0\n",
      "[IterativeImputer] Completing matrix with shape (3, 3)\n",
      "[IterativeImputer] Ending imputation round 1/1, elapsed time 0.00\n"
     ]
    },
    {
     "data": {
      "text/plain": [
       "array([[ 37.       ,  13.       , 230.       ],\n",
       "       [ 35.8400104,  11.       , 200.       ],\n",
       "       [ 45.       ,  21.       , 350.       ]])"
      ]
     },
     "execution_count": 50,
     "metadata": {},
     "output_type": "execute_result"
    }
   ],
   "source": [
    "# Check any missing values in the X test\n",
    "print(\"X_test: \\n\",X_test)\n",
    "# Check for the imputation_sequence_ steps\n",
    "imp.imputation_sequence_\n",
    "# Trasform the test data from the object created with training data\n",
    "imp.transform(X_test)"
   ]
  },
  {
   "cell_type": "code",
   "execution_count": null,
   "id": "679f939d",
   "metadata": {},
   "outputs": [],
   "source": []
  }
 ],
 "metadata": {
  "kernelspec": {
   "display_name": "Python 3 (ipykernel)",
   "language": "python",
   "name": "python3"
  },
  "language_info": {
   "codemirror_mode": {
    "name": "ipython",
    "version": 3
   },
   "file_extension": ".py",
   "mimetype": "text/x-python",
   "name": "python",
   "nbconvert_exporter": "python",
   "pygments_lexer": "ipython3",
   "version": "3.9.6"
  }
 },
 "nbformat": 4,
 "nbformat_minor": 5
}
