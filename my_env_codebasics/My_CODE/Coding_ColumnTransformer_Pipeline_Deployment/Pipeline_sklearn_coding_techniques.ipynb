{
 "cells": [
  {
   "cell_type": "code",
   "execution_count": 1,
   "id": "59851f53",
   "metadata": {},
   "outputs": [],
   "source": [
    "import pandas as pd\n",
    "import numpy as np\n",
    "\n",
    "from sklearn.model_selection import train_test_split\n",
    "from sklearn.preprocessing import RobustScaler, OneHotEncoder, StandardScaler, MinMaxScaler\n",
    "from sklearn.pipeline import Pipeline\n",
    "from sklearn.compose import ColumnTransformer\n",
    "from sklearn.tree import DecisionTreeClassifier"
   ]
  },
  {
   "cell_type": "code",
   "execution_count": 3,
   "id": "db7a7ff7",
   "metadata": {},
   "outputs": [
    {
     "data": {
      "text/html": [
       "<div>\n",
       "<style scoped>\n",
       "    .dataframe tbody tr th:only-of-type {\n",
       "        vertical-align: middle;\n",
       "    }\n",
       "\n",
       "    .dataframe tbody tr th {\n",
       "        vertical-align: top;\n",
       "    }\n",
       "\n",
       "    .dataframe thead th {\n",
       "        text-align: right;\n",
       "    }\n",
       "</style>\n",
       "<table border=\"1\" class=\"dataframe\">\n",
       "  <thead>\n",
       "    <tr style=\"text-align: right;\">\n",
       "      <th></th>\n",
       "      <th>age</th>\n",
       "      <th>workclass</th>\n",
       "      <th>fnlwgt</th>\n",
       "      <th>education</th>\n",
       "      <th>education-num</th>\n",
       "      <th>marital-status</th>\n",
       "      <th>occupation</th>\n",
       "      <th>relationship</th>\n",
       "      <th>race</th>\n",
       "      <th>sex</th>\n",
       "      <th>capital-gain</th>\n",
       "      <th>capital-loss</th>\n",
       "      <th>hours-per-week</th>\n",
       "      <th>native-country</th>\n",
       "      <th>income</th>\n",
       "    </tr>\n",
       "  </thead>\n",
       "  <tbody>\n",
       "    <tr>\n",
       "      <th>0</th>\n",
       "      <td>39</td>\n",
       "      <td>State-gov</td>\n",
       "      <td>77516</td>\n",
       "      <td>Bachelors</td>\n",
       "      <td>13</td>\n",
       "      <td>Never-married</td>\n",
       "      <td>Adm-clerical</td>\n",
       "      <td>Not-in-family</td>\n",
       "      <td>White</td>\n",
       "      <td>Male</td>\n",
       "      <td>2174</td>\n",
       "      <td>0</td>\n",
       "      <td>40</td>\n",
       "      <td>United-States</td>\n",
       "      <td>&lt;=50K</td>\n",
       "    </tr>\n",
       "    <tr>\n",
       "      <th>1</th>\n",
       "      <td>50</td>\n",
       "      <td>Self-emp-not-inc</td>\n",
       "      <td>83311</td>\n",
       "      <td>Bachelors</td>\n",
       "      <td>13</td>\n",
       "      <td>Married-civ-spouse</td>\n",
       "      <td>Exec-managerial</td>\n",
       "      <td>Husband</td>\n",
       "      <td>White</td>\n",
       "      <td>Male</td>\n",
       "      <td>0</td>\n",
       "      <td>0</td>\n",
       "      <td>13</td>\n",
       "      <td>United-States</td>\n",
       "      <td>&lt;=50K</td>\n",
       "    </tr>\n",
       "    <tr>\n",
       "      <th>2</th>\n",
       "      <td>38</td>\n",
       "      <td>Private</td>\n",
       "      <td>215646</td>\n",
       "      <td>HS-grad</td>\n",
       "      <td>9</td>\n",
       "      <td>Divorced</td>\n",
       "      <td>Handlers-cleaners</td>\n",
       "      <td>Not-in-family</td>\n",
       "      <td>White</td>\n",
       "      <td>Male</td>\n",
       "      <td>0</td>\n",
       "      <td>0</td>\n",
       "      <td>40</td>\n",
       "      <td>United-States</td>\n",
       "      <td>&lt;=50K</td>\n",
       "    </tr>\n",
       "    <tr>\n",
       "      <th>3</th>\n",
       "      <td>53</td>\n",
       "      <td>Private</td>\n",
       "      <td>234721</td>\n",
       "      <td>11th</td>\n",
       "      <td>7</td>\n",
       "      <td>Married-civ-spouse</td>\n",
       "      <td>Handlers-cleaners</td>\n",
       "      <td>Husband</td>\n",
       "      <td>Black</td>\n",
       "      <td>Male</td>\n",
       "      <td>0</td>\n",
       "      <td>0</td>\n",
       "      <td>40</td>\n",
       "      <td>United-States</td>\n",
       "      <td>&lt;=50K</td>\n",
       "    </tr>\n",
       "    <tr>\n",
       "      <th>4</th>\n",
       "      <td>28</td>\n",
       "      <td>Private</td>\n",
       "      <td>338409</td>\n",
       "      <td>Bachelors</td>\n",
       "      <td>13</td>\n",
       "      <td>Married-civ-spouse</td>\n",
       "      <td>Prof-specialty</td>\n",
       "      <td>Wife</td>\n",
       "      <td>Black</td>\n",
       "      <td>Female</td>\n",
       "      <td>0</td>\n",
       "      <td>0</td>\n",
       "      <td>40</td>\n",
       "      <td>Cuba</td>\n",
       "      <td>&lt;=50K</td>\n",
       "    </tr>\n",
       "  </tbody>\n",
       "</table>\n",
       "</div>"
      ],
      "text/plain": [
       "   age          workclass   fnlwgt   education   education-num  \\\n",
       "0   39          State-gov    77516   Bachelors              13   \n",
       "1   50   Self-emp-not-inc    83311   Bachelors              13   \n",
       "2   38            Private   215646     HS-grad               9   \n",
       "3   53            Private   234721        11th               7   \n",
       "4   28            Private   338409   Bachelors              13   \n",
       "\n",
       "        marital-status          occupation    relationship    race      sex  \\\n",
       "0        Never-married        Adm-clerical   Not-in-family   White     Male   \n",
       "1   Married-civ-spouse     Exec-managerial         Husband   White     Male   \n",
       "2             Divorced   Handlers-cleaners   Not-in-family   White     Male   \n",
       "3   Married-civ-spouse   Handlers-cleaners         Husband   Black     Male   \n",
       "4   Married-civ-spouse      Prof-specialty            Wife   Black   Female   \n",
       "\n",
       "    capital-gain   capital-loss   hours-per-week  native-country  income  \n",
       "0           2174              0               40   United-States   <=50K  \n",
       "1              0              0               13   United-States   <=50K  \n",
       "2              0              0               40   United-States   <=50K  \n",
       "3              0              0               40   United-States   <=50K  \n",
       "4              0              0               40            Cuba   <=50K  "
      ]
     },
     "execution_count": 3,
     "metadata": {},
     "output_type": "execute_result"
    }
   ],
   "source": [
    "df = pd.read_csv('C:\\\\Users\\\\koriv\\\\Desktop\\\\MachineLearning_DataScience\\\\Hands_On_Machine_Learning\\\\Coding_ColumnTransformer_Pipeline_Deployment\\\\income_evaluation.csv', na_values=' ?')\n",
    "df.head()"
   ]
  },
  {
   "cell_type": "code",
   "execution_count": 4,
   "id": "2b3377cf",
   "metadata": {},
   "outputs": [
    {
     "data": {
      "text/plain": [
       "age                   0\n",
       " workclass         1836\n",
       " fnlwgt               0\n",
       " education            0\n",
       " education-num        0\n",
       " marital-status       0\n",
       " occupation        1843\n",
       " relationship         0\n",
       " race                 0\n",
       " sex                  0\n",
       " capital-gain         0\n",
       " capital-loss         0\n",
       " hours-per-week       0\n",
       " native-country     583\n",
       " income               0\n",
       "dtype: int64"
      ]
     },
     "execution_count": 4,
     "metadata": {},
     "output_type": "execute_result"
    }
   ],
   "source": [
    "df.isna().sum()"
   ]
  },
  {
   "cell_type": "code",
   "execution_count": 5,
   "id": "93cd61d1",
   "metadata": {},
   "outputs": [
    {
     "data": {
      "text/plain": [
       "(32561, 15)"
      ]
     },
     "execution_count": 5,
     "metadata": {},
     "output_type": "execute_result"
    }
   ],
   "source": [
    "df.shape"
   ]
  },
  {
   "cell_type": "code",
   "execution_count": 6,
   "id": "d90122e8",
   "metadata": {},
   "outputs": [
    {
     "data": {
      "text/plain": [
       "(30162, 15)"
      ]
     },
     "execution_count": 6,
     "metadata": {},
     "output_type": "execute_result"
    }
   ],
   "source": [
    "df.dropna(inplace=True)\n",
    "df.shape"
   ]
  },
  {
   "cell_type": "code",
   "execution_count": 7,
   "id": "f3f7c918",
   "metadata": {},
   "outputs": [
    {
     "data": {
      "text/plain": [
       "age                0\n",
       " workclass         0\n",
       " fnlwgt            0\n",
       " education         0\n",
       " education-num     0\n",
       " marital-status    0\n",
       " occupation        0\n",
       " relationship      0\n",
       " race              0\n",
       " sex               0\n",
       " capital-gain      0\n",
       " capital-loss      0\n",
       " hours-per-week    0\n",
       " native-country    0\n",
       " income            0\n",
       "dtype: int64"
      ]
     },
     "execution_count": 7,
     "metadata": {},
     "output_type": "execute_result"
    }
   ],
   "source": [
    "df.isna().sum()"
   ]
  },
  {
   "cell_type": "code",
   "execution_count": 8,
   "id": "98f5e925",
   "metadata": {},
   "outputs": [
    {
     "data": {
      "text/plain": [
       "Index(['age', 'workclass', 'fnlwgt', 'education', 'education-num',\n",
       "       'marital-status', 'occupation', 'relationship', 'race', 'sex',\n",
       "       'capital-gain', 'capital-loss', 'hours-per-week', 'native-country',\n",
       "       'income'],\n",
       "      dtype='object')"
      ]
     },
     "execution_count": 8,
     "metadata": {},
     "output_type": "execute_result"
    }
   ],
   "source": [
    "df.columns = df.columns.str.strip()\n",
    "df.columns"
   ]
  },
  {
   "cell_type": "code",
   "execution_count": 9,
   "id": "3732c75b",
   "metadata": {},
   "outputs": [],
   "source": [
    "X_train, X_test, y_train, y_test = train_test_split(df.drop('income', axis=1), df.income,\n",
    "                                                   test_size=0.2, random_state=0)"
   ]
  },
  {
   "cell_type": "code",
   "execution_count": 10,
   "id": "0efb4b88",
   "metadata": {},
   "outputs": [],
   "source": [
    "ct = ColumnTransformer([\n",
    "    ('step1', RobustScaler(), ['age', 'fnlwgt', 'hours-per-week']),\n",
    "    ('step2', StandardScaler(), ['capital-gain', 'capital-loss', 'education-num']),\n",
    "    ('step3', OneHotEncoder(sparse=False, handle_unknown='ignore'), ['workclass', \n",
    "                                                                     'marital-status', 'occupation',\n",
    "                                                                     'relationship', 'race', \n",
    "                                                                     'sex', 'native-country'])\n",
    "], remainder='drop')"
   ]
  },
  {
   "cell_type": "code",
   "execution_count": null,
   "id": "497d1bd7",
   "metadata": {},
   "outputs": [],
   "source": []
  },
  {
   "cell_type": "markdown",
   "id": "350dcecb",
   "metadata": {},
   "source": [
    "# pipeline use case 1 - with an 'estimator' as final step"
   ]
  },
  {
   "cell_type": "code",
   "execution_count": 11,
   "id": "1ad9c2f1",
   "metadata": {},
   "outputs": [],
   "source": [
    "p = Pipeline([\n",
    "    ('coltf_step', ct),\n",
    "    ('model', DecisionTreeClassifier()),\n",
    "])"
   ]
  },
  {
   "cell_type": "code",
   "execution_count": 12,
   "id": "2f538fc9",
   "metadata": {},
   "outputs": [
    {
     "data": {
      "text/plain": [
       "Pipeline(steps=[('coltf_step',\n",
       "                 ColumnTransformer(transformers=[('step1', RobustScaler(),\n",
       "                                                  ['age', 'fnlwgt',\n",
       "                                                   'hours-per-week']),\n",
       "                                                 ('step2', StandardScaler(),\n",
       "                                                  ['capital-gain',\n",
       "                                                   'capital-loss',\n",
       "                                                   'education-num']),\n",
       "                                                 ('step3',\n",
       "                                                  OneHotEncoder(handle_unknown='ignore',\n",
       "                                                                sparse=False),\n",
       "                                                  ['workclass',\n",
       "                                                   'marital-status',\n",
       "                                                   'occupation', 'relationship',\n",
       "                                                   'race', 'sex',\n",
       "                                                   'native-country'])])),\n",
       "                ('model', DecisionTreeClassifier())])"
      ]
     },
     "execution_count": 12,
     "metadata": {},
     "output_type": "execute_result"
    }
   ],
   "source": [
    "\n",
    "p.fit(X_train, y_train)"
   ]
  },
  {
   "cell_type": "code",
   "execution_count": 13,
   "id": "2421e0f6",
   "metadata": {},
   "outputs": [
    {
     "data": {
      "text/plain": [
       "array([' <=50K', ' <=50K', ' <=50K', ..., ' >50K', ' <=50K', ' <=50K'],\n",
       "      dtype=object)"
      ]
     },
     "execution_count": 13,
     "metadata": {},
     "output_type": "execute_result"
    }
   ],
   "source": [
    "p.predict(X_test)\n"
   ]
  },
  {
   "cell_type": "code",
   "execution_count": 14,
   "id": "b218b396",
   "metadata": {},
   "outputs": [
    {
     "data": {
      "text/plain": [
       "0.8059008785015747"
      ]
     },
     "execution_count": 14,
     "metadata": {},
     "output_type": "execute_result"
    }
   ],
   "source": [
    "p.score(X_test, y_test)\n"
   ]
  },
  {
   "cell_type": "code",
   "execution_count": 15,
   "id": "a177c213",
   "metadata": {},
   "outputs": [
    {
     "data": {
      "text/plain": [
       "{'coltf_step': ColumnTransformer(transformers=[('step1', RobustScaler(),\n",
       "                                  ['age', 'fnlwgt', 'hours-per-week']),\n",
       "                                 ('step2', StandardScaler(),\n",
       "                                  ['capital-gain', 'capital-loss',\n",
       "                                   'education-num']),\n",
       "                                 ('step3',\n",
       "                                  OneHotEncoder(handle_unknown='ignore',\n",
       "                                                sparse=False),\n",
       "                                  ['workclass', 'marital-status', 'occupation',\n",
       "                                   'relationship', 'race', 'sex',\n",
       "                                   'native-country'])]),\n",
       " 'model': DecisionTreeClassifier()}"
      ]
     },
     "execution_count": 15,
     "metadata": {},
     "output_type": "execute_result"
    }
   ],
   "source": [
    "p.named_steps"
   ]
  },
  {
   "cell_type": "code",
   "execution_count": 16,
   "id": "d02565a3",
   "metadata": {},
   "outputs": [
    {
     "data": {
      "text/plain": [
       "[('step1', RobustScaler(), ['age', 'fnlwgt', 'hours-per-week']),\n",
       " ('step2',\n",
       "  StandardScaler(),\n",
       "  ['capital-gain', 'capital-loss', 'education-num']),\n",
       " ('step3',\n",
       "  OneHotEncoder(handle_unknown='ignore', sparse=False),\n",
       "  ['workclass',\n",
       "   'marital-status',\n",
       "   'occupation',\n",
       "   'relationship',\n",
       "   'race',\n",
       "   'sex',\n",
       "   'native-country']),\n",
       " ('remainder', 'drop', [3])]"
      ]
     },
     "execution_count": 16,
     "metadata": {},
     "output_type": "execute_result"
    }
   ],
   "source": [
    "p.named_steps['coltf_step'].transformers_\n"
   ]
  },
  {
   "cell_type": "code",
   "execution_count": 17,
   "id": "cf1a0a97",
   "metadata": {},
   "outputs": [
    {
     "data": {
      "text/plain": [
       "array(['x0_ Federal-gov', 'x0_ Local-gov', 'x0_ Private',\n",
       "       'x0_ Self-emp-inc', 'x0_ Self-emp-not-inc', 'x0_ State-gov',\n",
       "       'x0_ Without-pay', 'x1_ Divorced', 'x1_ Married-AF-spouse',\n",
       "       'x1_ Married-civ-spouse', 'x1_ Married-spouse-absent',\n",
       "       'x1_ Never-married', 'x1_ Separated', 'x1_ Widowed',\n",
       "       'x2_ Adm-clerical', 'x2_ Armed-Forces', 'x2_ Craft-repair',\n",
       "       'x2_ Exec-managerial', 'x2_ Farming-fishing',\n",
       "       'x2_ Handlers-cleaners', 'x2_ Machine-op-inspct',\n",
       "       'x2_ Other-service', 'x2_ Priv-house-serv', 'x2_ Prof-specialty',\n",
       "       'x2_ Protective-serv', 'x2_ Sales', 'x2_ Tech-support',\n",
       "       'x2_ Transport-moving', 'x3_ Husband', 'x3_ Not-in-family',\n",
       "       'x3_ Other-relative', 'x3_ Own-child', 'x3_ Unmarried', 'x3_ Wife',\n",
       "       'x4_ Amer-Indian-Eskimo', 'x4_ Asian-Pac-Islander', 'x4_ Black',\n",
       "       'x4_ Other', 'x4_ White', 'x5_ Female', 'x5_ Male', 'x6_ Cambodia',\n",
       "       'x6_ Canada', 'x6_ China', 'x6_ Columbia', 'x6_ Cuba',\n",
       "       'x6_ Dominican-Republic', 'x6_ Ecuador', 'x6_ El-Salvador',\n",
       "       'x6_ England', 'x6_ France', 'x6_ Germany', 'x6_ Greece',\n",
       "       'x6_ Guatemala', 'x6_ Haiti', 'x6_ Holand-Netherlands',\n",
       "       'x6_ Honduras', 'x6_ Hong', 'x6_ Hungary', 'x6_ India', 'x6_ Iran',\n",
       "       'x6_ Ireland', 'x6_ Italy', 'x6_ Jamaica', 'x6_ Japan', 'x6_ Laos',\n",
       "       'x6_ Mexico', 'x6_ Nicaragua', 'x6_ Outlying-US(Guam-USVI-etc)',\n",
       "       'x6_ Peru', 'x6_ Philippines', 'x6_ Poland', 'x6_ Portugal',\n",
       "       'x6_ Puerto-Rico', 'x6_ Scotland', 'x6_ South', 'x6_ Taiwan',\n",
       "       'x6_ Thailand', 'x6_ Trinadad&Tobago', 'x6_ United-States',\n",
       "       'x6_ Vietnam', 'x6_ Yugoslavia'], dtype=object)"
      ]
     },
     "execution_count": 17,
     "metadata": {},
     "output_type": "execute_result"
    }
   ],
   "source": [
    "p.named_steps['coltf_step'].transformers_[2][1].get_feature_names()\n"
   ]
  },
  {
   "cell_type": "code",
   "execution_count": 1,
   "id": "042636d0",
   "metadata": {},
   "outputs": [],
   "source": [
    "# Operation available in a Pipeline depends on the final step available. \n",
    "# If final step is model then methods like fit and predict will be avialble.\n",
    "# If final step is scaler then methods like fit and transform will be available."
   ]
  },
  {
   "cell_type": "code",
   "execution_count": null,
   "id": "7c96e7ba",
   "metadata": {},
   "outputs": [],
   "source": []
  }
 ],
 "metadata": {
  "kernelspec": {
   "display_name": "Python 3 (ipykernel)",
   "language": "python",
   "name": "python3"
  },
  "language_info": {
   "codemirror_mode": {
    "name": "ipython",
    "version": 3
   },
   "file_extension": ".py",
   "mimetype": "text/x-python",
   "name": "python",
   "nbconvert_exporter": "python",
   "pygments_lexer": "ipython3",
   "version": "3.9.6"
  }
 },
 "nbformat": 4,
 "nbformat_minor": 5
}
