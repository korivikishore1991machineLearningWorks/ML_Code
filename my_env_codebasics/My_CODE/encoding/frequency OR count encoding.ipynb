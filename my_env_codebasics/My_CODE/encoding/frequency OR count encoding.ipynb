{
 "cells": [
  {
   "cell_type": "markdown",
   "id": "d0062bb3",
   "metadata": {},
   "source": [
    "# High Cardinality\n",
    "Another way to refer to variables that have a multitude of categories, is to call them variables with high cardinality.  \n",
    "If we have categorical variables containing many multiple labels or high cardinality,then by using one hot encoding, we will expand the feature space dramatically.  \n",
    "One approach that is heavily used in Kaggle competitions, is to replace each label of the categorical variable by the count, this is the amount of times each label appears in the dataset. Or the frequency, this is the percentage of observations within that category. The 2 are equivalent.  "
   ]
  },
  {
   "cell_type": "code",
   "execution_count": 1,
   "id": "b7b978aa",
   "metadata": {},
   "outputs": [],
   "source": [
    "import pandas as pd\n",
    "from sklearn.model_selection import train_test_split"
   ]
  },
  {
   "cell_type": "code",
   "execution_count": 2,
   "id": "8d2d5612",
   "metadata": {},
   "outputs": [],
   "source": [
    "data = pd.read_csv('C:\\\\Users\\\\koriv\\\\Desktop\\\\MachineLearning_DataScience\\\\Hands_On_Machine_Learning\\\\Count Frequency Encoding\\\\train.csv', usecols=['MSZoning','Street','LotShape','Utilities','LandSlope','SalePrice'])"
   ]
  },
  {
   "cell_type": "code",
   "execution_count": 4,
   "id": "94fd4167",
   "metadata": {},
   "outputs": [
    {
     "data": {
      "text/html": [
       "<div>\n",
       "<style scoped>\n",
       "    .dataframe tbody tr th:only-of-type {\n",
       "        vertical-align: middle;\n",
       "    }\n",
       "\n",
       "    .dataframe tbody tr th {\n",
       "        vertical-align: top;\n",
       "    }\n",
       "\n",
       "    .dataframe thead th {\n",
       "        text-align: right;\n",
       "    }\n",
       "</style>\n",
       "<table border=\"1\" class=\"dataframe\">\n",
       "  <thead>\n",
       "    <tr style=\"text-align: right;\">\n",
       "      <th></th>\n",
       "      <th>MSZoning</th>\n",
       "      <th>Street</th>\n",
       "      <th>LotShape</th>\n",
       "      <th>Utilities</th>\n",
       "      <th>LandSlope</th>\n",
       "      <th>SalePrice</th>\n",
       "    </tr>\n",
       "  </thead>\n",
       "  <tbody>\n",
       "    <tr>\n",
       "      <th>0</th>\n",
       "      <td>RL</td>\n",
       "      <td>Pave</td>\n",
       "      <td>Reg</td>\n",
       "      <td>AllPub</td>\n",
       "      <td>Gtl</td>\n",
       "      <td>208500</td>\n",
       "    </tr>\n",
       "    <tr>\n",
       "      <th>1</th>\n",
       "      <td>RL</td>\n",
       "      <td>Pave</td>\n",
       "      <td>Reg</td>\n",
       "      <td>AllPub</td>\n",
       "      <td>Gtl</td>\n",
       "      <td>181500</td>\n",
       "    </tr>\n",
       "    <tr>\n",
       "      <th>2</th>\n",
       "      <td>RL</td>\n",
       "      <td>Pave</td>\n",
       "      <td>IR1</td>\n",
       "      <td>AllPub</td>\n",
       "      <td>Gtl</td>\n",
       "      <td>223500</td>\n",
       "    </tr>\n",
       "    <tr>\n",
       "      <th>3</th>\n",
       "      <td>RL</td>\n",
       "      <td>Pave</td>\n",
       "      <td>IR1</td>\n",
       "      <td>AllPub</td>\n",
       "      <td>Gtl</td>\n",
       "      <td>140000</td>\n",
       "    </tr>\n",
       "    <tr>\n",
       "      <th>4</th>\n",
       "      <td>RL</td>\n",
       "      <td>Pave</td>\n",
       "      <td>IR1</td>\n",
       "      <td>AllPub</td>\n",
       "      <td>Gtl</td>\n",
       "      <td>250000</td>\n",
       "    </tr>\n",
       "  </tbody>\n",
       "</table>\n",
       "</div>"
      ],
      "text/plain": [
       "  MSZoning Street LotShape Utilities LandSlope  SalePrice\n",
       "0       RL   Pave      Reg    AllPub       Gtl     208500\n",
       "1       RL   Pave      Reg    AllPub       Gtl     181500\n",
       "2       RL   Pave      IR1    AllPub       Gtl     223500\n",
       "3       RL   Pave      IR1    AllPub       Gtl     140000\n",
       "4       RL   Pave      IR1    AllPub       Gtl     250000"
      ]
     },
     "execution_count": 4,
     "metadata": {},
     "output_type": "execute_result"
    }
   ],
   "source": [
    "data.head()"
   ]
  },
  {
   "cell_type": "code",
   "execution_count": 5,
   "id": "43b5b43b",
   "metadata": {},
   "outputs": [
    {
     "data": {
      "text/plain": [
       "MSZoning     0.0\n",
       "Street       0.0\n",
       "LotShape     0.0\n",
       "Utilities    0.0\n",
       "LandSlope    0.0\n",
       "SalePrice    0.0\n",
       "dtype: float64"
      ]
     },
     "execution_count": 5,
     "metadata": {},
     "output_type": "execute_result"
    }
   ],
   "source": [
    "data.isnull().mean()"
   ]
  },
  {
   "cell_type": "code",
   "execution_count": 6,
   "id": "6e4b7c2e",
   "metadata": {},
   "outputs": [],
   "source": [
    "# SPliting the data into Train and Test Data\n",
    "X_train,X_test,y_train,y_test = train_test_split(data[['MSZoning','Street','LotShape','Utilities','LandSlope']], \n",
    "                                                 data['SalePrice'], test_size =.3, random_state =111)"
   ]
  },
  {
   "cell_type": "code",
   "execution_count": 11,
   "id": "a4e46f00",
   "metadata": {},
   "outputs": [
    {
     "name": "stdout",
     "output_type": "stream",
     "text": [
      "(1022, 5)\n",
      "(438, 5)\n",
      "(1022,)\n",
      "(438,)\n"
     ]
    }
   ],
   "source": [
    "print(X_train.shape)\n",
    "print(X_test.shape)\n",
    "print(y_train.shape)\n",
    "print(y_test.shape)"
   ]
  },
  {
   "cell_type": "code",
   "execution_count": 16,
   "id": "c6aacdab",
   "metadata": {},
   "outputs": [
    {
     "data": {
      "text/plain": [
       "array(['RL', 'RM', 'RH', 'FV', 'C (all)'], dtype=object)"
      ]
     },
     "execution_count": 16,
     "metadata": {},
     "output_type": "execute_result"
    }
   ],
   "source": [
    "# Check for Uniques lables available\n",
    "X_train['MSZoning'].unique()"
   ]
  },
  {
   "cell_type": "code",
   "execution_count": 17,
   "id": "ccab7b58",
   "metadata": {},
   "outputs": [
    {
     "data": {
      "text/plain": [
       "{'RL': 814, 'RM': 141, 'FV': 48, 'RH': 12, 'C (all)': 7}"
      ]
     },
     "execution_count": 17,
     "metadata": {},
     "output_type": "execute_result"
    }
   ],
   "source": [
    "# Create a Dictory of Counts for the Unique lables available\n",
    "Ms = X_train['MSZoning'].value_counts().to_dict()\n",
    "Ms"
   ]
  },
  {
   "cell_type": "code",
   "execution_count": 19,
   "id": "d15273e6",
   "metadata": {},
   "outputs": [
    {
     "data": {
      "text/plain": [
       "{'MSZoning': {'RL': 0.7964774951076321,\n",
       "  'RM': 0.1379647749510763,\n",
       "  'FV': 0.046966731898238745,\n",
       "  'RH': 0.011741682974559686,\n",
       "  'C (all)': 0.00684931506849315},\n",
       " 'Street': {'Pave': 0.99706457925636, 'Grvl': 0.0029354207436399216},\n",
       " 'LotShape': {'Reg': 0.6223091976516634,\n",
       "  'IR1': 0.34637964774951074,\n",
       "  'IR2': 0.023483365949119372,\n",
       "  'IR3': 0.007827788649706457},\n",
       " 'Utilities': {'AllPub': 0.9990215264187867, 'NoSeWa': 0.0009784735812133072},\n",
       " 'LandSlope': {'Gtl': 0.9549902152641878,\n",
       "  'Mod': 0.03718199608610567,\n",
       "  'Sev': 0.007827788649706457}}"
      ]
     },
     "execution_count": 19,
     "metadata": {},
     "output_type": "execute_result"
    }
   ],
   "source": [
    "# Create a Dictory of Counts for the Unique lables available for all nominal Columns\n",
    "cat_vars = ['MSZoning','Street','LotShape','Utilities','LandSlope']\n",
    "encoder_dictionary ={}\n",
    "for var in cat_vars:\n",
    "    encoder_dictionary[var] = (X_train[var].value_counts()/len(X_train)).to_dict()\n",
    "encoder_dictionary"
   ]
  },
  {
   "cell_type": "code",
   "execution_count": 20,
   "id": "f129e227",
   "metadata": {},
   "outputs": [
    {
     "name": "stdout",
     "output_type": "stream",
     "text": [
      "Shape of X_train:  (1022, 5)\n"
     ]
    },
    {
     "data": {
      "text/html": [
       "<div>\n",
       "<style scoped>\n",
       "    .dataframe tbody tr th:only-of-type {\n",
       "        vertical-align: middle;\n",
       "    }\n",
       "\n",
       "    .dataframe tbody tr th {\n",
       "        vertical-align: top;\n",
       "    }\n",
       "\n",
       "    .dataframe thead th {\n",
       "        text-align: right;\n",
       "    }\n",
       "</style>\n",
       "<table border=\"1\" class=\"dataframe\">\n",
       "  <thead>\n",
       "    <tr style=\"text-align: right;\">\n",
       "      <th></th>\n",
       "      <th>MSZoning</th>\n",
       "      <th>Street</th>\n",
       "      <th>LotShape</th>\n",
       "      <th>Utilities</th>\n",
       "      <th>LandSlope</th>\n",
       "    </tr>\n",
       "  </thead>\n",
       "  <tbody>\n",
       "    <tr>\n",
       "      <th>529</th>\n",
       "      <td>0.796477</td>\n",
       "      <td>0.997065</td>\n",
       "      <td>0.346380</td>\n",
       "      <td>0.999022</td>\n",
       "      <td>0.95499</td>\n",
       "    </tr>\n",
       "    <tr>\n",
       "      <th>207</th>\n",
       "      <td>0.796477</td>\n",
       "      <td>0.997065</td>\n",
       "      <td>0.346380</td>\n",
       "      <td>0.999022</td>\n",
       "      <td>0.95499</td>\n",
       "    </tr>\n",
       "    <tr>\n",
       "      <th>498</th>\n",
       "      <td>0.796477</td>\n",
       "      <td>0.997065</td>\n",
       "      <td>0.622309</td>\n",
       "      <td>0.999022</td>\n",
       "      <td>0.95499</td>\n",
       "    </tr>\n",
       "    <tr>\n",
       "      <th>191</th>\n",
       "      <td>0.796477</td>\n",
       "      <td>0.997065</td>\n",
       "      <td>0.346380</td>\n",
       "      <td>0.999022</td>\n",
       "      <td>0.95499</td>\n",
       "    </tr>\n",
       "    <tr>\n",
       "      <th>1402</th>\n",
       "      <td>0.796477</td>\n",
       "      <td>0.997065</td>\n",
       "      <td>0.622309</td>\n",
       "      <td>0.999022</td>\n",
       "      <td>0.95499</td>\n",
       "    </tr>\n",
       "  </tbody>\n",
       "</table>\n",
       "</div>"
      ],
      "text/plain": [
       "      MSZoning    Street  LotShape  Utilities  LandSlope\n",
       "529   0.796477  0.997065  0.346380   0.999022    0.95499\n",
       "207   0.796477  0.997065  0.346380   0.999022    0.95499\n",
       "498   0.796477  0.997065  0.622309   0.999022    0.95499\n",
       "191   0.796477  0.997065  0.346380   0.999022    0.95499\n",
       "1402  0.796477  0.997065  0.622309   0.999022    0.95499"
      ]
     },
     "execution_count": 20,
     "metadata": {},
     "output_type": "execute_result"
    }
   ],
   "source": [
    "for var in cat_vars:\n",
    "    X_train[var] = X_train[var].map(encoder_dictionary[var])\n",
    "print(\"Shape of X_train: \",X_train.shape)\n",
    "X_train.head()"
   ]
  },
  {
   "cell_type": "markdown",
   "id": "730033d1",
   "metadata": {},
   "source": [
    "There are some advantages and disadvantages that we will discuss now  \n",
    "\n",
    "Advantages  \n",
    "1 It is very simple to implement  \n",
    "2 Does not increase the feature dimensional space  \n",
    "Disadvantages  \n",
    "1 If some of the labels have the same count, then they will be replaced with the same count and they will loose some valuable information.  \n",
    "2 Adds somewhat arbitrary numbers, and therefore weights to the different labels, that may not be related to their predictive power  "
   ]
  },
  {
   "cell_type": "code",
   "execution_count": null,
   "id": "ff32b935",
   "metadata": {},
   "outputs": [],
   "source": []
  }
 ],
 "metadata": {
  "kernelspec": {
   "display_name": "Python 3 (ipykernel)",
   "language": "python",
   "name": "python3"
  },
  "language_info": {
   "codemirror_mode": {
    "name": "ipython",
    "version": 3
   },
   "file_extension": ".py",
   "mimetype": "text/x-python",
   "name": "python",
   "nbconvert_exporter": "python",
   "pygments_lexer": "ipython3",
   "version": "3.9.6"
  }
 },
 "nbformat": 4,
 "nbformat_minor": 5
}
